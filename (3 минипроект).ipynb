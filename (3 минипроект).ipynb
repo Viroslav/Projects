{
 "cells": [
  {
   "cell_type": "code",
   "execution_count": 1,
   "id": "12c4f0ab",
   "metadata": {},
   "outputs": [],
   "source": [
    "import pandas as pd"
   ]
  },
  {
   "cell_type": "code",
   "execution_count": 2,
   "id": "e9973e24",
   "metadata": {},
   "outputs": [
    {
     "data": {
      "text/html": [
       "<div>\n",
       "<style scoped>\n",
       "    .dataframe tbody tr th:only-of-type {\n",
       "        vertical-align: middle;\n",
       "    }\n",
       "\n",
       "    .dataframe tbody tr th {\n",
       "        vertical-align: top;\n",
       "    }\n",
       "\n",
       "    .dataframe thead th {\n",
       "        text-align: right;\n",
       "    }\n",
       "</style>\n",
       "<table border=\"1\" class=\"dataframe\">\n",
       "  <thead>\n",
       "    <tr style=\"text-align: right;\">\n",
       "      <th></th>\n",
       "      <th>client</th>\n",
       "      <th>premium</th>\n",
       "      <th>age</th>\n",
       "    </tr>\n",
       "  </thead>\n",
       "  <tbody>\n",
       "    <tr>\n",
       "      <th>0</th>\n",
       "      <td>46346</td>\n",
       "      <td>False</td>\n",
       "      <td>58</td>\n",
       "    </tr>\n",
       "    <tr>\n",
       "      <th>1</th>\n",
       "      <td>4391</td>\n",
       "      <td>False</td>\n",
       "      <td>55</td>\n",
       "    </tr>\n",
       "    <tr>\n",
       "      <th>2</th>\n",
       "      <td>27372</td>\n",
       "      <td>False</td>\n",
       "      <td>64</td>\n",
       "    </tr>\n",
       "    <tr>\n",
       "      <th>3</th>\n",
       "      <td>11989</td>\n",
       "      <td>False</td>\n",
       "      <td>44</td>\n",
       "    </tr>\n",
       "    <tr>\n",
       "      <th>4</th>\n",
       "      <td>60664</td>\n",
       "      <td>False</td>\n",
       "      <td>49</td>\n",
       "    </tr>\n",
       "    <tr>\n",
       "      <th>...</th>\n",
       "      <td>...</td>\n",
       "      <td>...</td>\n",
       "      <td>...</td>\n",
       "    </tr>\n",
       "    <tr>\n",
       "      <th>2949</th>\n",
       "      <td>19411</td>\n",
       "      <td>False</td>\n",
       "      <td>29</td>\n",
       "    </tr>\n",
       "    <tr>\n",
       "      <th>2950</th>\n",
       "      <td>61579</td>\n",
       "      <td>False</td>\n",
       "      <td>50</td>\n",
       "    </tr>\n",
       "    <tr>\n",
       "      <th>2951</th>\n",
       "      <td>61221</td>\n",
       "      <td>True</td>\n",
       "      <td>64</td>\n",
       "    </tr>\n",
       "    <tr>\n",
       "      <th>2952</th>\n",
       "      <td>29863</td>\n",
       "      <td>False</td>\n",
       "      <td>46</td>\n",
       "    </tr>\n",
       "    <tr>\n",
       "      <th>2953</th>\n",
       "      <td>78499</td>\n",
       "      <td>False</td>\n",
       "      <td>36</td>\n",
       "    </tr>\n",
       "  </tbody>\n",
       "</table>\n",
       "<p>2954 rows × 3 columns</p>\n",
       "</div>"
      ],
      "text/plain": [
       "      client  premium  age\n",
       "0      46346    False   58\n",
       "1       4391    False   55\n",
       "2      27372    False   64\n",
       "3      11989    False   44\n",
       "4      60664    False   49\n",
       "...      ...      ...  ...\n",
       "2949   19411    False   29\n",
       "2950   61579    False   50\n",
       "2951   61221     True   64\n",
       "2952   29863    False   46\n",
       "2953   78499    False   36\n",
       "\n",
       "[2954 rows x 3 columns]"
      ]
     },
     "execution_count": 2,
     "metadata": {},
     "output_type": "execute_result"
    }
   ],
   "source": [
    "user_data = pd.read_csv(\"C://123/usr/Karpov/Data_Analytics/3/Задания/Минипроект/user_data.csv\")\n",
    "user_data"
   ]
  },
  {
   "cell_type": "code",
   "execution_count": 3,
   "id": "2e870729",
   "metadata": {},
   "outputs": [
    {
     "data": {
      "text/html": [
       "<div>\n",
       "<style scoped>\n",
       "    .dataframe tbody tr th:only-of-type {\n",
       "        vertical-align: middle;\n",
       "    }\n",
       "\n",
       "    .dataframe tbody tr th {\n",
       "        vertical-align: top;\n",
       "    }\n",
       "\n",
       "    .dataframe thead th {\n",
       "        text-align: right;\n",
       "    }\n",
       "</style>\n",
       "<table border=\"1\" class=\"dataframe\">\n",
       "  <thead>\n",
       "    <tr style=\"text-align: right;\">\n",
       "      <th></th>\n",
       "      <th>client</th>\n",
       "      <th>success</th>\n",
       "      <th>platform</th>\n",
       "      <th>time</th>\n",
       "    </tr>\n",
       "  </thead>\n",
       "  <tbody>\n",
       "    <tr>\n",
       "      <th>0</th>\n",
       "      <td>40177</td>\n",
       "      <td>True</td>\n",
       "      <td>phone</td>\n",
       "      <td>1585412212</td>\n",
       "    </tr>\n",
       "    <tr>\n",
       "      <th>1</th>\n",
       "      <td>61468</td>\n",
       "      <td>True</td>\n",
       "      <td>phone</td>\n",
       "      <td>1585425658</td>\n",
       "    </tr>\n",
       "    <tr>\n",
       "      <th>2</th>\n",
       "      <td>35604</td>\n",
       "      <td>False</td>\n",
       "      <td>phone</td>\n",
       "      <td>1585459894</td>\n",
       "    </tr>\n",
       "    <tr>\n",
       "      <th>3</th>\n",
       "      <td>9961</td>\n",
       "      <td>True</td>\n",
       "      <td>phone</td>\n",
       "      <td>1585400189</td>\n",
       "    </tr>\n",
       "    <tr>\n",
       "      <th>4</th>\n",
       "      <td>10931</td>\n",
       "      <td>True</td>\n",
       "      <td>computer</td>\n",
       "      <td>1585468629</td>\n",
       "    </tr>\n",
       "    <tr>\n",
       "      <th>...</th>\n",
       "      <td>...</td>\n",
       "      <td>...</td>\n",
       "      <td>...</td>\n",
       "      <td>...</td>\n",
       "    </tr>\n",
       "    <tr>\n",
       "      <th>4495</th>\n",
       "      <td>64496</td>\n",
       "      <td>False</td>\n",
       "      <td>computer</td>\n",
       "      <td>1585459072</td>\n",
       "    </tr>\n",
       "    <tr>\n",
       "      <th>4496</th>\n",
       "      <td>73299</td>\n",
       "      <td>True</td>\n",
       "      <td>phone</td>\n",
       "      <td>1585458370</td>\n",
       "    </tr>\n",
       "    <tr>\n",
       "      <th>4497</th>\n",
       "      <td>8967</td>\n",
       "      <td>True</td>\n",
       "      <td>phone</td>\n",
       "      <td>1585465121</td>\n",
       "    </tr>\n",
       "    <tr>\n",
       "      <th>4498</th>\n",
       "      <td>52880</td>\n",
       "      <td>False</td>\n",
       "      <td>phone</td>\n",
       "      <td>1585455362</td>\n",
       "    </tr>\n",
       "    <tr>\n",
       "      <th>4499</th>\n",
       "      <td>40921</td>\n",
       "      <td>True</td>\n",
       "      <td>phone</td>\n",
       "      <td>1585437692</td>\n",
       "    </tr>\n",
       "  </tbody>\n",
       "</table>\n",
       "<p>4500 rows × 4 columns</p>\n",
       "</div>"
      ],
      "text/plain": [
       "      client  success  platform        time\n",
       "0      40177     True     phone  1585412212\n",
       "1      61468     True     phone  1585425658\n",
       "2      35604    False     phone  1585459894\n",
       "3       9961     True     phone  1585400189\n",
       "4      10931     True  computer  1585468629\n",
       "...      ...      ...       ...         ...\n",
       "4495   64496    False  computer  1585459072\n",
       "4496   73299     True     phone  1585458370\n",
       "4497    8967     True     phone  1585465121\n",
       "4498   52880    False     phone  1585455362\n",
       "4499   40921     True     phone  1585437692\n",
       "\n",
       "[4500 rows x 4 columns]"
      ]
     },
     "execution_count": 3,
     "metadata": {},
     "output_type": "execute_result"
    }
   ],
   "source": [
    "logs = pd.read_csv(\"C://123/usr/Karpov/Data_Analytics/3/Задания/Минипроект/logs.csv\")\n",
    "logs"
   ]
  },
  {
   "cell_type": "code",
   "execution_count": 4,
   "id": "f5be08fe",
   "metadata": {},
   "outputs": [
    {
     "data": {
      "text/plain": [
       "client     0\n",
       "premium    0\n",
       "age        0\n",
       "dtype: int64"
      ]
     },
     "execution_count": 4,
     "metadata": {},
     "output_type": "execute_result"
    }
   ],
   "source": [
    "user_data.isna().sum()"
   ]
  },
  {
   "cell_type": "code",
   "execution_count": 5,
   "id": "dbb658fc",
   "metadata": {},
   "outputs": [
    {
     "data": {
      "text/plain": [
       "client      0\n",
       "success     0\n",
       "platform    0\n",
       "time        0\n",
       "dtype: int64"
      ]
     },
     "execution_count": 5,
     "metadata": {},
     "output_type": "execute_result"
    }
   ],
   "source": [
    "logs.isna().sum()"
   ]
  },
  {
   "cell_type": "code",
   "execution_count": 6,
   "id": "cca74071",
   "metadata": {},
   "outputs": [
    {
     "data": {
      "text/html": [
       "<div>\n",
       "<style scoped>\n",
       "    .dataframe tbody tr th:only-of-type {\n",
       "        vertical-align: middle;\n",
       "    }\n",
       "\n",
       "    .dataframe tbody tr th {\n",
       "        vertical-align: top;\n",
       "    }\n",
       "\n",
       "    .dataframe thead th {\n",
       "        text-align: right;\n",
       "    }\n",
       "</style>\n",
       "<table border=\"1\" class=\"dataframe\">\n",
       "  <thead>\n",
       "    <tr style=\"text-align: right;\">\n",
       "      <th></th>\n",
       "      <th>client</th>\n",
       "      <th>age</th>\n",
       "    </tr>\n",
       "  </thead>\n",
       "  <tbody>\n",
       "    <tr>\n",
       "      <th>count</th>\n",
       "      <td>2954.000000</td>\n",
       "      <td>2954.000000</td>\n",
       "    </tr>\n",
       "    <tr>\n",
       "      <th>mean</th>\n",
       "      <td>50767.886594</td>\n",
       "      <td>44.196005</td>\n",
       "    </tr>\n",
       "    <tr>\n",
       "      <th>std</th>\n",
       "      <td>28800.505847</td>\n",
       "      <td>14.248336</td>\n",
       "    </tr>\n",
       "    <tr>\n",
       "      <th>min</th>\n",
       "      <td>40.000000</td>\n",
       "      <td>20.000000</td>\n",
       "    </tr>\n",
       "    <tr>\n",
       "      <th>25%</th>\n",
       "      <td>25639.500000</td>\n",
       "      <td>32.000000</td>\n",
       "    </tr>\n",
       "    <tr>\n",
       "      <th>50%</th>\n",
       "      <td>51569.500000</td>\n",
       "      <td>44.000000</td>\n",
       "    </tr>\n",
       "    <tr>\n",
       "      <th>75%</th>\n",
       "      <td>75963.250000</td>\n",
       "      <td>56.000000</td>\n",
       "    </tr>\n",
       "    <tr>\n",
       "      <th>max</th>\n",
       "      <td>99973.000000</td>\n",
       "      <td>69.000000</td>\n",
       "    </tr>\n",
       "  </tbody>\n",
       "</table>\n",
       "</div>"
      ],
      "text/plain": [
       "             client          age\n",
       "count   2954.000000  2954.000000\n",
       "mean   50767.886594    44.196005\n",
       "std    28800.505847    14.248336\n",
       "min       40.000000    20.000000\n",
       "25%    25639.500000    32.000000\n",
       "50%    51569.500000    44.000000\n",
       "75%    75963.250000    56.000000\n",
       "max    99973.000000    69.000000"
      ]
     },
     "execution_count": 6,
     "metadata": {},
     "output_type": "execute_result"
    }
   ],
   "source": [
    "user_data.describe()"
   ]
  },
  {
   "cell_type": "code",
   "execution_count": 7,
   "id": "47a63cca",
   "metadata": {},
   "outputs": [
    {
     "data": {
      "text/html": [
       "<div>\n",
       "<style scoped>\n",
       "    .dataframe tbody tr th:only-of-type {\n",
       "        vertical-align: middle;\n",
       "    }\n",
       "\n",
       "    .dataframe tbody tr th {\n",
       "        vertical-align: top;\n",
       "    }\n",
       "\n",
       "    .dataframe thead th {\n",
       "        text-align: right;\n",
       "    }\n",
       "</style>\n",
       "<table border=\"1\" class=\"dataframe\">\n",
       "  <thead>\n",
       "    <tr style=\"text-align: right;\">\n",
       "      <th></th>\n",
       "      <th>client</th>\n",
       "      <th>time</th>\n",
       "    </tr>\n",
       "  </thead>\n",
       "  <tbody>\n",
       "    <tr>\n",
       "      <th>count</th>\n",
       "      <td>4500.000000</td>\n",
       "      <td>4.500000e+03</td>\n",
       "    </tr>\n",
       "    <tr>\n",
       "      <th>mean</th>\n",
       "      <td>50998.758000</td>\n",
       "      <td>1.585440e+09</td>\n",
       "    </tr>\n",
       "    <tr>\n",
       "      <th>std</th>\n",
       "      <td>28374.472495</td>\n",
       "      <td>2.314866e+04</td>\n",
       "    </tr>\n",
       "    <tr>\n",
       "      <th>min</th>\n",
       "      <td>40.000000</td>\n",
       "      <td>1.585400e+09</td>\n",
       "    </tr>\n",
       "    <tr>\n",
       "      <th>25%</th>\n",
       "      <td>27056.500000</td>\n",
       "      <td>1.585420e+09</td>\n",
       "    </tr>\n",
       "    <tr>\n",
       "      <th>50%</th>\n",
       "      <td>52659.000000</td>\n",
       "      <td>1.585440e+09</td>\n",
       "    </tr>\n",
       "    <tr>\n",
       "      <th>75%</th>\n",
       "      <td>76001.250000</td>\n",
       "      <td>1.585461e+09</td>\n",
       "    </tr>\n",
       "    <tr>\n",
       "      <th>max</th>\n",
       "      <td>99993.000000</td>\n",
       "      <td>1.585480e+09</td>\n",
       "    </tr>\n",
       "  </tbody>\n",
       "</table>\n",
       "</div>"
      ],
      "text/plain": [
       "             client          time\n",
       "count   4500.000000  4.500000e+03\n",
       "mean   50998.758000  1.585440e+09\n",
       "std    28374.472495  2.314866e+04\n",
       "min       40.000000  1.585400e+09\n",
       "25%    27056.500000  1.585420e+09\n",
       "50%    52659.000000  1.585440e+09\n",
       "75%    76001.250000  1.585461e+09\n",
       "max    99993.000000  1.585480e+09"
      ]
     },
     "execution_count": 7,
     "metadata": {},
     "output_type": "execute_result"
    }
   ],
   "source": [
    "logs.describe()"
   ]
  },
  {
   "cell_type": "code",
   "execution_count": 8,
   "id": "4c8b60db",
   "metadata": {},
   "outputs": [
    {
     "data": {
      "text/html": [
       "<div>\n",
       "<style scoped>\n",
       "    .dataframe tbody tr th:only-of-type {\n",
       "        vertical-align: middle;\n",
       "    }\n",
       "\n",
       "    .dataframe tbody tr th {\n",
       "        vertical-align: top;\n",
       "    }\n",
       "\n",
       "    .dataframe thead th {\n",
       "        text-align: right;\n",
       "    }\n",
       "</style>\n",
       "<table border=\"1\" class=\"dataframe\">\n",
       "  <thead>\n",
       "    <tr style=\"text-align: right;\">\n",
       "      <th></th>\n",
       "      <th>client</th>\n",
       "      <th>premium</th>\n",
       "      <th>age</th>\n",
       "      <th>success</th>\n",
       "      <th>platform</th>\n",
       "      <th>time</th>\n",
       "    </tr>\n",
       "  </thead>\n",
       "  <tbody>\n",
       "    <tr>\n",
       "      <th>0</th>\n",
       "      <td>46346</td>\n",
       "      <td>False</td>\n",
       "      <td>58.0</td>\n",
       "      <td>True</td>\n",
       "      <td>phone</td>\n",
       "      <td>1585452839</td>\n",
       "    </tr>\n",
       "    <tr>\n",
       "      <th>1</th>\n",
       "      <td>4391</td>\n",
       "      <td>False</td>\n",
       "      <td>55.0</td>\n",
       "      <td>False</td>\n",
       "      <td>phone</td>\n",
       "      <td>1585409861</td>\n",
       "    </tr>\n",
       "    <tr>\n",
       "      <th>2</th>\n",
       "      <td>27372</td>\n",
       "      <td>False</td>\n",
       "      <td>64.0</td>\n",
       "      <td>False</td>\n",
       "      <td>phone</td>\n",
       "      <td>1585446018</td>\n",
       "    </tr>\n",
       "    <tr>\n",
       "      <th>3</th>\n",
       "      <td>11989</td>\n",
       "      <td>False</td>\n",
       "      <td>44.0</td>\n",
       "      <td>True</td>\n",
       "      <td>computer</td>\n",
       "      <td>1585403698</td>\n",
       "    </tr>\n",
       "    <tr>\n",
       "      <th>4</th>\n",
       "      <td>60664</td>\n",
       "      <td>False</td>\n",
       "      <td>49.0</td>\n",
       "      <td>True</td>\n",
       "      <td>phone</td>\n",
       "      <td>1585406918</td>\n",
       "    </tr>\n",
       "    <tr>\n",
       "      <th>...</th>\n",
       "      <td>...</td>\n",
       "      <td>...</td>\n",
       "      <td>...</td>\n",
       "      <td>...</td>\n",
       "      <td>...</td>\n",
       "      <td>...</td>\n",
       "    </tr>\n",
       "    <tr>\n",
       "      <th>4495</th>\n",
       "      <td>50</td>\n",
       "      <td>NaN</td>\n",
       "      <td>NaN</td>\n",
       "      <td>True</td>\n",
       "      <td>tablet</td>\n",
       "      <td>1585412688</td>\n",
       "    </tr>\n",
       "    <tr>\n",
       "      <th>4496</th>\n",
       "      <td>68031</td>\n",
       "      <td>NaN</td>\n",
       "      <td>NaN</td>\n",
       "      <td>True</td>\n",
       "      <td>computer</td>\n",
       "      <td>1585464203</td>\n",
       "    </tr>\n",
       "    <tr>\n",
       "      <th>4497</th>\n",
       "      <td>39878</td>\n",
       "      <td>NaN</td>\n",
       "      <td>NaN</td>\n",
       "      <td>False</td>\n",
       "      <td>phone</td>\n",
       "      <td>1585412838</td>\n",
       "    </tr>\n",
       "    <tr>\n",
       "      <th>4498</th>\n",
       "      <td>73299</td>\n",
       "      <td>NaN</td>\n",
       "      <td>NaN</td>\n",
       "      <td>True</td>\n",
       "      <td>phone</td>\n",
       "      <td>1585458370</td>\n",
       "    </tr>\n",
       "    <tr>\n",
       "      <th>4499</th>\n",
       "      <td>52880</td>\n",
       "      <td>NaN</td>\n",
       "      <td>NaN</td>\n",
       "      <td>False</td>\n",
       "      <td>phone</td>\n",
       "      <td>1585455362</td>\n",
       "    </tr>\n",
       "  </tbody>\n",
       "</table>\n",
       "<p>4500 rows × 6 columns</p>\n",
       "</div>"
      ],
      "text/plain": [
       "      client premium   age  success  platform        time\n",
       "0      46346   False  58.0     True     phone  1585452839\n",
       "1       4391   False  55.0    False     phone  1585409861\n",
       "2      27372   False  64.0    False     phone  1585446018\n",
       "3      11989   False  44.0     True  computer  1585403698\n",
       "4      60664   False  49.0     True     phone  1585406918\n",
       "...      ...     ...   ...      ...       ...         ...\n",
       "4495      50     NaN   NaN     True    tablet  1585412688\n",
       "4496   68031     NaN   NaN     True  computer  1585464203\n",
       "4497   39878     NaN   NaN    False     phone  1585412838\n",
       "4498   73299     NaN   NaN     True     phone  1585458370\n",
       "4499   52880     NaN   NaN    False     phone  1585455362\n",
       "\n",
       "[4500 rows x 6 columns]"
      ]
     },
     "execution_count": 8,
     "metadata": {},
     "output_type": "execute_result"
    }
   ],
   "source": [
    "full_data = user_data.merge(logs, how='outer', on='client')\n",
    "full_data"
   ]
  },
  {
   "cell_type": "code",
   "execution_count": 9,
   "id": "8a199e2e",
   "metadata": {},
   "outputs": [
    {
     "data": {
      "text/plain": [
       "client      4011\n",
       "premium        2\n",
       "age           50\n",
       "success        2\n",
       "platform       3\n",
       "time        4376\n",
       "dtype: int64"
      ]
     },
     "execution_count": 9,
     "metadata": {},
     "output_type": "execute_result"
    }
   ],
   "source": [
    "full_data.nunique()"
   ]
  },
  {
   "cell_type": "code",
   "execution_count": 10,
   "id": "256a06f8",
   "metadata": {},
   "outputs": [
    {
     "data": {
      "text/html": [
       "<div>\n",
       "<style scoped>\n",
       "    .dataframe tbody tr th:only-of-type {\n",
       "        vertical-align: middle;\n",
       "    }\n",
       "\n",
       "    .dataframe tbody tr th {\n",
       "        vertical-align: top;\n",
       "    }\n",
       "\n",
       "    .dataframe thead th {\n",
       "        text-align: right;\n",
       "    }\n",
       "</style>\n",
       "<table border=\"1\" class=\"dataframe\">\n",
       "  <thead>\n",
       "    <tr style=\"text-align: right;\">\n",
       "      <th></th>\n",
       "      <th>client</th>\n",
       "      <th>platform</th>\n",
       "    </tr>\n",
       "  </thead>\n",
       "  <tbody>\n",
       "    <tr>\n",
       "      <th>332</th>\n",
       "      <td>12179</td>\n",
       "      <td>41</td>\n",
       "    </tr>\n",
       "    <tr>\n",
       "      <th>1758</th>\n",
       "      <td>61468</td>\n",
       "      <td>41</td>\n",
       "    </tr>\n",
       "    <tr>\n",
       "      <th>1487</th>\n",
       "      <td>52870</td>\n",
       "      <td>41</td>\n",
       "    </tr>\n",
       "    <tr>\n",
       "      <th>1759</th>\n",
       "      <td>61473</td>\n",
       "      <td>41</td>\n",
       "    </tr>\n",
       "    <tr>\n",
       "      <th>2626</th>\n",
       "      <td>92584</td>\n",
       "      <td>41</td>\n",
       "    </tr>\n",
       "    <tr>\n",
       "      <th>...</th>\n",
       "      <td>...</td>\n",
       "      <td>...</td>\n",
       "    </tr>\n",
       "    <tr>\n",
       "      <th>956</th>\n",
       "      <td>34121</td>\n",
       "      <td>1</td>\n",
       "    </tr>\n",
       "    <tr>\n",
       "      <th>957</th>\n",
       "      <td>34191</td>\n",
       "      <td>1</td>\n",
       "    </tr>\n",
       "    <tr>\n",
       "      <th>958</th>\n",
       "      <td>34198</td>\n",
       "      <td>1</td>\n",
       "    </tr>\n",
       "    <tr>\n",
       "      <th>959</th>\n",
       "      <td>34277</td>\n",
       "      <td>1</td>\n",
       "    </tr>\n",
       "    <tr>\n",
       "      <th>2844</th>\n",
       "      <td>99993</td>\n",
       "      <td>1</td>\n",
       "    </tr>\n",
       "  </tbody>\n",
       "</table>\n",
       "<p>2845 rows × 2 columns</p>\n",
       "</div>"
      ],
      "text/plain": [
       "      client  platform\n",
       "332    12179        41\n",
       "1758   61468        41\n",
       "1487   52870        41\n",
       "1759   61473        41\n",
       "2626   92584        41\n",
       "...      ...       ...\n",
       "956    34121         1\n",
       "957    34191         1\n",
       "958    34198         1\n",
       "959    34277         1\n",
       "2844   99993         1\n",
       "\n",
       "[2845 rows x 2 columns]"
      ]
     },
     "execution_count": 10,
     "metadata": {},
     "output_type": "execute_result"
    }
   ],
   "source": [
    "full_data.query('success == True') \\\n",
    "         .groupby('client', as_index = False) \\\n",
    "         .agg({'platform':\"count\"}) \\\n",
    "         .sort_values(by=['platform'], ascending = False)"
   ]
  },
  {
   "cell_type": "code",
   "execution_count": 11,
   "id": "2d1564bf",
   "metadata": {},
   "outputs": [],
   "source": [
    "maximum_success = full_data.query('success == True') \\\n",
    "         .groupby('client', as_index = False) \\\n",
    "         .agg({'platform':\"count\"}) \\\n",
    "         .sort_values(by=['platform'], ascending = False).platform.max()"
   ]
  },
  {
   "cell_type": "code",
   "execution_count": 12,
   "id": "0dcb2de4",
   "metadata": {},
   "outputs": [
    {
     "data": {
      "text/plain": [
       "41"
      ]
     },
     "execution_count": 12,
     "metadata": {},
     "output_type": "execute_result"
    }
   ],
   "source": [
    "maximum_success"
   ]
  },
  {
   "cell_type": "code",
   "execution_count": 13,
   "id": "2eea8654",
   "metadata": {},
   "outputs": [
    {
     "data": {
      "text/html": [
       "<div>\n",
       "<style scoped>\n",
       "    .dataframe tbody tr th:only-of-type {\n",
       "        vertical-align: middle;\n",
       "    }\n",
       "\n",
       "    .dataframe tbody tr th {\n",
       "        vertical-align: top;\n",
       "    }\n",
       "\n",
       "    .dataframe thead th {\n",
       "        text-align: right;\n",
       "    }\n",
       "</style>\n",
       "<table border=\"1\" class=\"dataframe\">\n",
       "  <thead>\n",
       "    <tr style=\"text-align: right;\">\n",
       "      <th></th>\n",
       "      <th>client</th>\n",
       "      <th>platform</th>\n",
       "    </tr>\n",
       "  </thead>\n",
       "  <tbody>\n",
       "    <tr>\n",
       "      <th>332</th>\n",
       "      <td>12179</td>\n",
       "      <td>41</td>\n",
       "    </tr>\n",
       "    <tr>\n",
       "      <th>1758</th>\n",
       "      <td>61468</td>\n",
       "      <td>41</td>\n",
       "    </tr>\n",
       "    <tr>\n",
       "      <th>1487</th>\n",
       "      <td>52870</td>\n",
       "      <td>41</td>\n",
       "    </tr>\n",
       "    <tr>\n",
       "      <th>1759</th>\n",
       "      <td>61473</td>\n",
       "      <td>41</td>\n",
       "    </tr>\n",
       "    <tr>\n",
       "      <th>2626</th>\n",
       "      <td>92584</td>\n",
       "      <td>41</td>\n",
       "    </tr>\n",
       "    <tr>\n",
       "      <th>...</th>\n",
       "      <td>...</td>\n",
       "      <td>...</td>\n",
       "    </tr>\n",
       "    <tr>\n",
       "      <th>956</th>\n",
       "      <td>34121</td>\n",
       "      <td>1</td>\n",
       "    </tr>\n",
       "    <tr>\n",
       "      <th>957</th>\n",
       "      <td>34191</td>\n",
       "      <td>1</td>\n",
       "    </tr>\n",
       "    <tr>\n",
       "      <th>958</th>\n",
       "      <td>34198</td>\n",
       "      <td>1</td>\n",
       "    </tr>\n",
       "    <tr>\n",
       "      <th>959</th>\n",
       "      <td>34277</td>\n",
       "      <td>1</td>\n",
       "    </tr>\n",
       "    <tr>\n",
       "      <th>2844</th>\n",
       "      <td>99993</td>\n",
       "      <td>1</td>\n",
       "    </tr>\n",
       "  </tbody>\n",
       "</table>\n",
       "<p>2845 rows × 2 columns</p>\n",
       "</div>"
      ],
      "text/plain": [
       "      client  platform\n",
       "332    12179        41\n",
       "1758   61468        41\n",
       "1487   52870        41\n",
       "1759   61473        41\n",
       "2626   92584        41\n",
       "...      ...       ...\n",
       "956    34121         1\n",
       "957    34191         1\n",
       "958    34198         1\n",
       "959    34277         1\n",
       "2844   99993         1\n",
       "\n",
       "[2845 rows x 2 columns]"
      ]
     },
     "execution_count": 13,
     "metadata": {},
     "output_type": "execute_result"
    }
   ],
   "source": [
    "max_suc = full_data.query('success == True') \\\n",
    "         .groupby('client', as_index = False) \\\n",
    "         .agg({'platform':\"count\"}) \\\n",
    "         .sort_values(by=['platform'], ascending = False)\n",
    "max_suc"
   ]
  },
  {
   "cell_type": "code",
   "execution_count": 14,
   "id": "20f3bfca",
   "metadata": {},
   "outputs": [
    {
     "data": {
      "text/html": [
       "<div>\n",
       "<style scoped>\n",
       "    .dataframe tbody tr th:only-of-type {\n",
       "        vertical-align: middle;\n",
       "    }\n",
       "\n",
       "    .dataframe tbody tr th {\n",
       "        vertical-align: top;\n",
       "    }\n",
       "\n",
       "    .dataframe thead th {\n",
       "        text-align: right;\n",
       "    }\n",
       "</style>\n",
       "<table border=\"1\" class=\"dataframe\">\n",
       "  <thead>\n",
       "    <tr style=\"text-align: right;\">\n",
       "      <th></th>\n",
       "      <th>client</th>\n",
       "      <th>platform</th>\n",
       "    </tr>\n",
       "  </thead>\n",
       "  <tbody>\n",
       "    <tr>\n",
       "      <th>332</th>\n",
       "      <td>12179</td>\n",
       "      <td>41</td>\n",
       "    </tr>\n",
       "    <tr>\n",
       "      <th>1758</th>\n",
       "      <td>61468</td>\n",
       "      <td>41</td>\n",
       "    </tr>\n",
       "    <tr>\n",
       "      <th>1487</th>\n",
       "      <td>52870</td>\n",
       "      <td>41</td>\n",
       "    </tr>\n",
       "    <tr>\n",
       "      <th>1759</th>\n",
       "      <td>61473</td>\n",
       "      <td>41</td>\n",
       "    </tr>\n",
       "    <tr>\n",
       "      <th>2626</th>\n",
       "      <td>92584</td>\n",
       "      <td>41</td>\n",
       "    </tr>\n",
       "    <tr>\n",
       "      <th>2345</th>\n",
       "      <td>82563</td>\n",
       "      <td>41</td>\n",
       "    </tr>\n",
       "    <tr>\n",
       "      <th>2231</th>\n",
       "      <td>78349</td>\n",
       "      <td>41</td>\n",
       "    </tr>\n",
       "    <tr>\n",
       "      <th>1020</th>\n",
       "      <td>36165</td>\n",
       "      <td>41</td>\n",
       "    </tr>\n",
       "    <tr>\n",
       "      <th>810</th>\n",
       "      <td>28719</td>\n",
       "      <td>41</td>\n",
       "    </tr>\n",
       "  </tbody>\n",
       "</table>\n",
       "</div>"
      ],
      "text/plain": [
       "      client  platform\n",
       "332    12179        41\n",
       "1758   61468        41\n",
       "1487   52870        41\n",
       "1759   61473        41\n",
       "2626   92584        41\n",
       "2345   82563        41\n",
       "2231   78349        41\n",
       "1020   36165        41\n",
       "810    28719        41"
      ]
     },
     "execution_count": 14,
     "metadata": {},
     "output_type": "execute_result"
    }
   ],
   "source": [
    "max_suc.query('platform == @maximum_success')  # Экранируем переменную"
   ]
  },
  {
   "cell_type": "code",
   "execution_count": 15,
   "id": "94f6b8e3",
   "metadata": {},
   "outputs": [],
   "source": [
    "suc_clients = max_suc.query('platform == @maximum_success').sort_values(by=['client']).client.tolist()"
   ]
  },
  {
   "cell_type": "code",
   "execution_count": 16,
   "id": "bcf9702c",
   "metadata": {},
   "outputs": [
    {
     "data": {
      "text/plain": [
       "[12179, 28719, 36165, 52870, 61468, 61473, 78349, 82563, 92584]"
      ]
     },
     "execution_count": 16,
     "metadata": {},
     "output_type": "execute_result"
    }
   ],
   "source": [
    "suc_clients"
   ]
  },
  {
   "cell_type": "code",
   "execution_count": 17,
   "id": "0924d961",
   "metadata": {},
   "outputs": [
    {
     "data": {
      "text/plain": [
       "'12179, 28719, 36165, 52870, 61468, 61473, 78349, 82563, 92584'"
      ]
     },
     "execution_count": 17,
     "metadata": {},
     "output_type": "execute_result"
    }
   ],
   "source": [
    "', '.join([str(client) for client in suc_clients])"
   ]
  },
  {
   "cell_type": "code",
   "execution_count": 18,
   "id": "99b499e9",
   "metadata": {},
   "outputs": [],
   "source": [
    "q = ', '.join([str(client) for client in suc_clients])"
   ]
  },
  {
   "cell_type": "code",
   "execution_count": 19,
   "id": "3ac2a593",
   "metadata": {},
   "outputs": [
    {
     "data": {
      "text/plain": [
       "'12179, 28719, 36165, 52870, 61468, 61473, 78349, 82563, 92584'"
      ]
     },
     "execution_count": 19,
     "metadata": {},
     "output_type": "execute_result"
    }
   ],
   "source": [
    "q"
   ]
  },
  {
   "cell_type": "code",
   "execution_count": 20,
   "id": "d33b0b9f",
   "metadata": {},
   "outputs": [
    {
     "data": {
      "text/html": [
       "<div>\n",
       "<style scoped>\n",
       "    .dataframe tbody tr th:only-of-type {\n",
       "        vertical-align: middle;\n",
       "    }\n",
       "\n",
       "    .dataframe tbody tr th {\n",
       "        vertical-align: top;\n",
       "    }\n",
       "\n",
       "    .dataframe thead th {\n",
       "        text-align: right;\n",
       "    }\n",
       "</style>\n",
       "<table border=\"1\" class=\"dataframe\">\n",
       "  <thead>\n",
       "    <tr style=\"text-align: right;\">\n",
       "      <th></th>\n",
       "      <th>client</th>\n",
       "      <th>platform</th>\n",
       "    </tr>\n",
       "  </thead>\n",
       "  <tbody>\n",
       "    <tr>\n",
       "      <th>332</th>\n",
       "      <td>12179</td>\n",
       "      <td>41</td>\n",
       "    </tr>\n",
       "    <tr>\n",
       "      <th>1758</th>\n",
       "      <td>61468</td>\n",
       "      <td>41</td>\n",
       "    </tr>\n",
       "    <tr>\n",
       "      <th>1487</th>\n",
       "      <td>52870</td>\n",
       "      <td>41</td>\n",
       "    </tr>\n",
       "    <tr>\n",
       "      <th>1759</th>\n",
       "      <td>61473</td>\n",
       "      <td>41</td>\n",
       "    </tr>\n",
       "    <tr>\n",
       "      <th>2626</th>\n",
       "      <td>92584</td>\n",
       "      <td>41</td>\n",
       "    </tr>\n",
       "    <tr>\n",
       "      <th>...</th>\n",
       "      <td>...</td>\n",
       "      <td>...</td>\n",
       "    </tr>\n",
       "    <tr>\n",
       "      <th>956</th>\n",
       "      <td>34121</td>\n",
       "      <td>1</td>\n",
       "    </tr>\n",
       "    <tr>\n",
       "      <th>957</th>\n",
       "      <td>34191</td>\n",
       "      <td>1</td>\n",
       "    </tr>\n",
       "    <tr>\n",
       "      <th>958</th>\n",
       "      <td>34198</td>\n",
       "      <td>1</td>\n",
       "    </tr>\n",
       "    <tr>\n",
       "      <th>959</th>\n",
       "      <td>34277</td>\n",
       "      <td>1</td>\n",
       "    </tr>\n",
       "    <tr>\n",
       "      <th>2844</th>\n",
       "      <td>99993</td>\n",
       "      <td>1</td>\n",
       "    </tr>\n",
       "  </tbody>\n",
       "</table>\n",
       "<p>2845 rows × 2 columns</p>\n",
       "</div>"
      ],
      "text/plain": [
       "      client  platform\n",
       "332    12179        41\n",
       "1758   61468        41\n",
       "1487   52870        41\n",
       "1759   61473        41\n",
       "2626   92584        41\n",
       "...      ...       ...\n",
       "956    34121         1\n",
       "957    34191         1\n",
       "958    34198         1\n",
       "959    34277         1\n",
       "2844   99993         1\n",
       "\n",
       "[2845 rows x 2 columns]"
      ]
     },
     "execution_count": 20,
     "metadata": {},
     "output_type": "execute_result"
    }
   ],
   "source": [
    "max_suc2 = full_data \\\n",
    "         .groupby('client', as_index = False) \\\n",
    "         .agg({'success':\"sum\"}) \\\n",
    "         .rename(columns={'success':\"success_number\"}) \\\n",
    "         .sort_values(by=['success_number'], ascending = False)\n",
    "max_suc"
   ]
  },
  {
   "cell_type": "markdown",
   "id": "18da1695",
   "metadata": {},
   "source": [
    "С какой платформы осуществляется наибольшее количество успешных операций?\n"
   ]
  },
  {
   "cell_type": "code",
   "execution_count": 21,
   "id": "7a06d4dc",
   "metadata": {},
   "outputs": [
    {
     "data": {
      "text/html": [
       "<div>\n",
       "<style scoped>\n",
       "    .dataframe tbody tr th:only-of-type {\n",
       "        vertical-align: middle;\n",
       "    }\n",
       "\n",
       "    .dataframe tbody tr th {\n",
       "        vertical-align: top;\n",
       "    }\n",
       "\n",
       "    .dataframe thead th {\n",
       "        text-align: right;\n",
       "    }\n",
       "</style>\n",
       "<table border=\"1\" class=\"dataframe\">\n",
       "  <thead>\n",
       "    <tr style=\"text-align: right;\">\n",
       "      <th></th>\n",
       "      <th>client</th>\n",
       "      <th>age</th>\n",
       "      <th>success</th>\n",
       "      <th>time</th>\n",
       "    </tr>\n",
       "    <tr>\n",
       "      <th>platform</th>\n",
       "      <th></th>\n",
       "      <th></th>\n",
       "      <th></th>\n",
       "      <th></th>\n",
       "    </tr>\n",
       "  </thead>\n",
       "  <tbody>\n",
       "    <tr>\n",
       "      <th>computer</th>\n",
       "      <td>76262075</td>\n",
       "      <td>50402.0</td>\n",
       "      <td>1090</td>\n",
       "      <td>2386087494404</td>\n",
       "    </tr>\n",
       "    <tr>\n",
       "      <th>phone</th>\n",
       "      <td>141202125</td>\n",
       "      <td>93460.0</td>\n",
       "      <td>2019</td>\n",
       "      <td>4364718383638</td>\n",
       "    </tr>\n",
       "    <tr>\n",
       "      <th>tablet</th>\n",
       "      <td>12030211</td>\n",
       "      <td>8219.0</td>\n",
       "      <td>180</td>\n",
       "      <td>383675988151</td>\n",
       "    </tr>\n",
       "  </tbody>\n",
       "</table>\n",
       "</div>"
      ],
      "text/plain": [
       "             client      age  success           time\n",
       "platform                                            \n",
       "computer   76262075  50402.0     1090  2386087494404\n",
       "phone     141202125  93460.0     2019  4364718383638\n",
       "tablet     12030211   8219.0      180   383675988151"
      ]
     },
     "execution_count": 21,
     "metadata": {},
     "output_type": "execute_result"
    }
   ],
   "source": [
    "full_data.groupby('platform').sum()"
   ]
  },
  {
   "cell_type": "markdown",
   "id": "3574fd9e",
   "metadata": {},
   "source": [
    "Какую платформу предпочитают премиумные клиенты?\n"
   ]
  },
  {
   "cell_type": "code",
   "execution_count": 22,
   "id": "5fc66724",
   "metadata": {},
   "outputs": [
    {
     "data": {
      "text/html": [
       "<div>\n",
       "<style scoped>\n",
       "    .dataframe tbody tr th:only-of-type {\n",
       "        vertical-align: middle;\n",
       "    }\n",
       "\n",
       "    .dataframe tbody tr th {\n",
       "        vertical-align: top;\n",
       "    }\n",
       "\n",
       "    .dataframe thead th {\n",
       "        text-align: right;\n",
       "    }\n",
       "</style>\n",
       "<table border=\"1\" class=\"dataframe\">\n",
       "  <thead>\n",
       "    <tr style=\"text-align: right;\">\n",
       "      <th></th>\n",
       "      <th>client</th>\n",
       "      <th>age</th>\n",
       "      <th>success</th>\n",
       "      <th>time</th>\n",
       "    </tr>\n",
       "    <tr>\n",
       "      <th>platform</th>\n",
       "      <th></th>\n",
       "      <th></th>\n",
       "      <th></th>\n",
       "      <th></th>\n",
       "    </tr>\n",
       "  </thead>\n",
       "  <tbody>\n",
       "    <tr>\n",
       "      <th>computer</th>\n",
       "      <td>7675512</td>\n",
       "      <td>6778.0</td>\n",
       "      <td>108</td>\n",
       "      <td>237815994203</td>\n",
       "    </tr>\n",
       "    <tr>\n",
       "      <th>phone</th>\n",
       "      <td>12336014</td>\n",
       "      <td>10949.0</td>\n",
       "      <td>177</td>\n",
       "      <td>390018434144</td>\n",
       "    </tr>\n",
       "    <tr>\n",
       "      <th>tablet</th>\n",
       "      <td>1103533</td>\n",
       "      <td>977.0</td>\n",
       "      <td>18</td>\n",
       "      <td>38050497388</td>\n",
       "    </tr>\n",
       "  </tbody>\n",
       "</table>\n",
       "</div>"
      ],
      "text/plain": [
       "            client      age  success          time\n",
       "platform                                          \n",
       "computer   7675512   6778.0      108  237815994203\n",
       "phone     12336014  10949.0      177  390018434144\n",
       "tablet     1103533    977.0       18   38050497388"
      ]
     },
     "execution_count": 22,
     "metadata": {},
     "output_type": "execute_result"
    }
   ],
   "source": [
    "full_data.query(\"premium == True\").groupby('platform').sum()"
   ]
  },
  {
   "cell_type": "code",
   "execution_count": 23,
   "id": "5a49b4bf",
   "metadata": {},
   "outputs": [
    {
     "data": {
      "text/plain": [
       "phone       246\n",
       "computer    150\n",
       "tablet       24\n",
       "Name: platform, dtype: int64"
      ]
     },
     "execution_count": 23,
     "metadata": {},
     "output_type": "execute_result"
    }
   ],
   "source": [
    "full_data.query('premium == True').platform.value_counts()"
   ]
  },
  {
   "cell_type": "markdown",
   "id": "ad556713",
   "metadata": {},
   "source": [
    "Визуализируйте распределение возраста клиентов в зависимости от типа клиента (премиум или нет)\n"
   ]
  },
  {
   "cell_type": "code",
   "execution_count": 24,
   "id": "ce580448",
   "metadata": {},
   "outputs": [],
   "source": [
    "import seaborn as sns"
   ]
  },
  {
   "cell_type": "code",
   "execution_count": 25,
   "id": "d166eac0",
   "metadata": {},
   "outputs": [
    {
     "name": "stderr",
     "output_type": "stream",
     "text": [
      "C:\\Users\\Nikolay\\AppData\\Local\\Programs\\Python\\Python310\\lib\\site-packages\\seaborn\\distributions.py:2619: FutureWarning: `distplot` is a deprecated function and will be removed in a future version. Please adapt your code to use either `displot` (a figure-level function with similar flexibility) or `histplot` (an axes-level function for histograms).\n",
      "  warnings.warn(msg, FutureWarning)\n"
     ]
    },
    {
     "data": {
      "text/plain": [
       "<AxesSubplot:xlabel='age', ylabel='Density'>"
      ]
     },
     "execution_count": 25,
     "metadata": {},
     "output_type": "execute_result"
    },
    {
     "data": {
      "image/png": "[encoded data removed]",
      "text/plain": [
       "<Figure size 432x288 with 1 Axes>"
      ]
     },
     "metadata": {
      "needs_background": "light"
     },
     "output_type": "display_data"
    }
   ],
   "source": [
    "sns.distplot(full_data.age)"
   ]
  },
  {
   "cell_type": "code",
   "execution_count": 26,
   "id": "e9881473",
   "metadata": {},
   "outputs": [
    {
     "name": "stderr",
     "output_type": "stream",
     "text": [
      "C:\\Users\\Nikolay\\AppData\\Local\\Programs\\Python\\Python310\\lib\\site-packages\\seaborn\\distributions.py:2619: FutureWarning: `distplot` is a deprecated function and will be removed in a future version. Please adapt your code to use either `displot` (a figure-level function with similar flexibility) or `histplot` (an axes-level function for histograms).\n",
      "  warnings.warn(msg, FutureWarning)\n",
      "C:\\Users\\Nikolay\\AppData\\Local\\Programs\\Python\\Python310\\lib\\site-packages\\seaborn\\distributions.py:2619: FutureWarning: `distplot` is a deprecated function and will be removed in a future version. Please adapt your code to use either `displot` (a figure-level function with similar flexibility) or `histplot` (an axes-level function for histograms).\n",
      "  warnings.warn(msg, FutureWarning)\n"
     ]
    },
    {
     "data": {
      "text/plain": [
       "<AxesSubplot:xlabel='age', ylabel='Density'>"
      ]
     },
     "execution_count": 26,
     "metadata": {},
     "output_type": "execute_result"
    },
    {
     "data": {
      "image/png": "[encoded data removed]",
      "text/plain": [
       "<Figure size 432x288 with 1 Axes>"
      ]
     },
     "metadata": {
      "needs_background": "light"
     },
     "output_type": "display_data"
    }
   ],
   "source": [
    "sns.distplot(full_data.query('premium == True').age)\n",
    "sns.distplot(full_data.query('premium == False').age)"
   ]
  },
  {
   "cell_type": "code",
   "execution_count": 27,
   "id": "41e6a8b0",
   "metadata": {},
   "outputs": [],
   "source": [
    "import matplotlib.pyplot as plt"
   ]
  },
  {
   "cell_type": "code",
   "execution_count": 34,
   "id": "e7295868",
   "metadata": {},
   "outputs": [
    {
     "name": "stderr",
     "output_type": "stream",
     "text": [
      "C:\\Users\\Nikolay\\AppData\\Local\\Programs\\Python\\Python310\\lib\\site-packages\\seaborn\\distributions.py:2619: FutureWarning: `distplot` is a deprecated function and will be removed in a future version. Please adapt your code to use either `displot` (a figure-level function with similar flexibility) or `histplot` (an axes-level function for histograms).\n",
      "  warnings.warn(msg, FutureWarning)\n",
      "C:\\Users\\Nikolay\\AppData\\Local\\Programs\\Python\\Python310\\lib\\site-packages\\seaborn\\distributions.py:2619: FutureWarning: `distplot` is a deprecated function and will be removed in a future version. Please adapt your code to use either `displot` (a figure-level function with similar flexibility) or `histplot` (an axes-level function for histograms).\n",
      "  warnings.warn(msg, FutureWarning)\n"
     ]
    },
    {
     "data": {
      "text/plain": [
       "<AxesSubplot:xlabel='age', ylabel='Density'>"
      ]
     },
     "execution_count": 34,
     "metadata": {},
     "output_type": "execute_result"
    },
    {
     "data": {
      "image/png": "[encoded data removed]",
      "text/plain": [
       "<Figure size 432x288 with 2 Axes>"
      ]
     },
     "metadata": {
      "needs_background": "light"
     },
     "output_type": "display_data"
    }
   ],
   "source": [
    "fig, ax = plt.subplots(nrows=2, ncols=1)  # subplot для 2х графиков\n",
    "\n",
    "sns.distplot(full_data.query('premium == False').age, ax = ax[0], color = 'green')   # ax[0] \n",
    "sns.distplot(full_data.query('premium == True').age, ax = ax[1], color = 'purple')"
   ]
  },
  {
   "cell_type": "markdown",
   "id": "6389160d",
   "metadata": {},
   "source": [
    "Постройте график распределения числа успешных операций\n",
    "<br>x – число успешных операций\n",
    "<br>y – число клиентов, совершивших такое количество успешных операций\n"
   ]
  },
  {
   "cell_type": "code",
   "execution_count": 58,
   "id": "e7204c84",
   "metadata": {},
   "outputs": [
    {
     "data": {
      "text/html": [
       "<div>\n",
       "<style scoped>\n",
       "    .dataframe tbody tr th:only-of-type {\n",
       "        vertical-align: middle;\n",
       "    }\n",
       "\n",
       "    .dataframe tbody tr th {\n",
       "        vertical-align: top;\n",
       "    }\n",
       "\n",
       "    .dataframe thead th {\n",
       "        text-align: right;\n",
       "    }\n",
       "</style>\n",
       "<table border=\"1\" class=\"dataframe\">\n",
       "  <thead>\n",
       "    <tr style=\"text-align: right;\">\n",
       "      <th></th>\n",
       "      <th>success</th>\n",
       "    </tr>\n",
       "    <tr>\n",
       "      <th>client</th>\n",
       "      <th></th>\n",
       "    </tr>\n",
       "  </thead>\n",
       "  <tbody>\n",
       "    <tr>\n",
       "      <th>40</th>\n",
       "      <td>1</td>\n",
       "    </tr>\n",
       "    <tr>\n",
       "      <th>50</th>\n",
       "      <td>1</td>\n",
       "    </tr>\n",
       "    <tr>\n",
       "      <th>75</th>\n",
       "      <td>1</td>\n",
       "    </tr>\n",
       "    <tr>\n",
       "      <th>81</th>\n",
       "      <td>1</td>\n",
       "    </tr>\n",
       "    <tr>\n",
       "      <th>132</th>\n",
       "      <td>1</td>\n",
       "    </tr>\n",
       "    <tr>\n",
       "      <th>...</th>\n",
       "      <td>...</td>\n",
       "    </tr>\n",
       "    <tr>\n",
       "      <th>99927</th>\n",
       "      <td>1</td>\n",
       "    </tr>\n",
       "    <tr>\n",
       "      <th>99931</th>\n",
       "      <td>1</td>\n",
       "    </tr>\n",
       "    <tr>\n",
       "      <th>99952</th>\n",
       "      <td>0</td>\n",
       "    </tr>\n",
       "    <tr>\n",
       "      <th>99973</th>\n",
       "      <td>1</td>\n",
       "    </tr>\n",
       "    <tr>\n",
       "      <th>99993</th>\n",
       "      <td>1</td>\n",
       "    </tr>\n",
       "  </tbody>\n",
       "</table>\n",
       "<p>4011 rows × 1 columns</p>\n",
       "</div>"
      ],
      "text/plain": [
       "        success\n",
       "client         \n",
       "40            1\n",
       "50            1\n",
       "75            1\n",
       "81            1\n",
       "132           1\n",
       "...         ...\n",
       "99927         1\n",
       "99931         1\n",
       "99952         0\n",
       "99973         1\n",
       "99993         1\n",
       "\n",
       "[4011 rows x 1 columns]"
      ]
     },
     "execution_count": 58,
     "metadata": {},
     "output_type": "execute_result"
    }
   ],
   "source": [
    "full_data.groupby('client', as_index = True) \\\n",
    "        .agg({'success':'sum'})"
   ]
  },
  {
   "cell_type": "code",
   "execution_count": 64,
   "id": "98ddef27",
   "metadata": {},
   "outputs": [],
   "source": [
    "df_for_plot = full_data.groupby('client', as_index = True) \\\n",
    "        .agg({'success':'sum'})"
   ]
  },
  {
   "cell_type": "code",
   "execution_count": 65,
   "id": "b5fa40b5",
   "metadata": {},
   "outputs": [
    {
     "name": "stderr",
     "output_type": "stream",
     "text": [
      "C:\\Users\\Nikolay\\AppData\\Local\\Programs\\Python\\Python310\\lib\\site-packages\\seaborn\\distributions.py:2619: FutureWarning: `distplot` is a deprecated function and will be removed in a future version. Please adapt your code to use either `displot` (a figure-level function with similar flexibility) or `histplot` (an axes-level function for histograms).\n",
      "  warnings.warn(msg, FutureWarning)\n"
     ]
    },
    {
     "data": {
      "text/plain": [
       "<AxesSubplot:ylabel='Density'>"
      ]
     },
     "execution_count": 65,
     "metadata": {},
     "output_type": "execute_result"
    },
    {
     "data": {
      "image/png": "[encoded data removed]",
      "text/plain": [
       "<Figure size 432x288 with 1 Axes>"
      ]
     },
     "metadata": {
      "needs_background": "light"
     },
     "output_type": "display_data"
    }
   ],
   "source": [
    "sns.distplot(df_for_plot)"
   ]
  },
  {
   "cell_type": "code",
   "execution_count": 66,
   "id": "c1b5c3c3",
   "metadata": {},
   "outputs": [
    {
     "data": {
      "text/plain": [
       "1     2791\n",
       "0     1166\n",
       "2       43\n",
       "41       9\n",
       "40       1\n",
       "3        1\n",
       "Name: success, dtype: int64"
      ]
     },
     "execution_count": 66,
     "metadata": {},
     "output_type": "execute_result"
    }
   ],
   "source": [
    "df_for_plot.success.value_counts()"
   ]
  },
  {
   "cell_type": "markdown",
   "id": "990c50c3",
   "metadata": {},
   "source": [
    "⭐️Задание со звёздочкой!⭐️\n",
    "\n",
    "Визуализируйте число успешных операций, сделанных на платформе computer, в зависимости от возраста, используя sns.countplot. По оси x – возраст, по оси y – число успешных операций. Если размер графика получается небольшим, можно добавить plt.figure(figsize=(12, 8)) в начало соответствующей ячейки. "
   ]
  },
  {
   "cell_type": "code",
   "execution_count": 95,
   "id": "5340f4b7",
   "metadata": {},
   "outputs": [
    {
     "data": {
      "text/html": [
       "<div>\n",
       "<style scoped>\n",
       "    .dataframe tbody tr th:only-of-type {\n",
       "        vertical-align: middle;\n",
       "    }\n",
       "\n",
       "    .dataframe tbody tr th {\n",
       "        vertical-align: top;\n",
       "    }\n",
       "\n",
       "    .dataframe thead th {\n",
       "        text-align: right;\n",
       "    }\n",
       "</style>\n",
       "<table border=\"1\" class=\"dataframe\">\n",
       "  <thead>\n",
       "    <tr style=\"text-align: right;\">\n",
       "      <th></th>\n",
       "      <th>age</th>\n",
       "      <th>success</th>\n",
       "    </tr>\n",
       "  </thead>\n",
       "  <tbody>\n",
       "    <tr>\n",
       "      <th>0</th>\n",
       "      <td>20.0</td>\n",
       "      <td>19</td>\n",
       "    </tr>\n",
       "    <tr>\n",
       "      <th>1</th>\n",
       "      <td>21.0</td>\n",
       "      <td>20</td>\n",
       "    </tr>\n",
       "    <tr>\n",
       "      <th>2</th>\n",
       "      <td>22.0</td>\n",
       "      <td>12</td>\n",
       "    </tr>\n",
       "    <tr>\n",
       "      <th>3</th>\n",
       "      <td>23.0</td>\n",
       "      <td>17</td>\n",
       "    </tr>\n",
       "    <tr>\n",
       "      <th>4</th>\n",
       "      <td>24.0</td>\n",
       "      <td>28</td>\n",
       "    </tr>\n",
       "    <tr>\n",
       "      <th>5</th>\n",
       "      <td>25.0</td>\n",
       "      <td>38</td>\n",
       "    </tr>\n",
       "    <tr>\n",
       "      <th>6</th>\n",
       "      <td>26.0</td>\n",
       "      <td>22</td>\n",
       "    </tr>\n",
       "    <tr>\n",
       "      <th>7</th>\n",
       "      <td>27.0</td>\n",
       "      <td>23</td>\n",
       "    </tr>\n",
       "    <tr>\n",
       "      <th>8</th>\n",
       "      <td>28.0</td>\n",
       "      <td>54</td>\n",
       "    </tr>\n",
       "    <tr>\n",
       "      <th>9</th>\n",
       "      <td>29.0</td>\n",
       "      <td>25</td>\n",
       "    </tr>\n",
       "    <tr>\n",
       "      <th>10</th>\n",
       "      <td>30.0</td>\n",
       "      <td>15</td>\n",
       "    </tr>\n",
       "    <tr>\n",
       "      <th>11</th>\n",
       "      <td>31.0</td>\n",
       "      <td>21</td>\n",
       "    </tr>\n",
       "    <tr>\n",
       "      <th>12</th>\n",
       "      <td>32.0</td>\n",
       "      <td>31</td>\n",
       "    </tr>\n",
       "    <tr>\n",
       "      <th>13</th>\n",
       "      <td>33.0</td>\n",
       "      <td>26</td>\n",
       "    </tr>\n",
       "    <tr>\n",
       "      <th>14</th>\n",
       "      <td>34.0</td>\n",
       "      <td>16</td>\n",
       "    </tr>\n",
       "    <tr>\n",
       "      <th>15</th>\n",
       "      <td>35.0</td>\n",
       "      <td>26</td>\n",
       "    </tr>\n",
       "    <tr>\n",
       "      <th>16</th>\n",
       "      <td>36.0</td>\n",
       "      <td>20</td>\n",
       "    </tr>\n",
       "    <tr>\n",
       "      <th>17</th>\n",
       "      <td>37.0</td>\n",
       "      <td>20</td>\n",
       "    </tr>\n",
       "    <tr>\n",
       "      <th>18</th>\n",
       "      <td>38.0</td>\n",
       "      <td>20</td>\n",
       "    </tr>\n",
       "    <tr>\n",
       "      <th>19</th>\n",
       "      <td>39.0</td>\n",
       "      <td>16</td>\n",
       "    </tr>\n",
       "    <tr>\n",
       "      <th>20</th>\n",
       "      <td>40.0</td>\n",
       "      <td>27</td>\n",
       "    </tr>\n",
       "    <tr>\n",
       "      <th>21</th>\n",
       "      <td>41.0</td>\n",
       "      <td>16</td>\n",
       "    </tr>\n",
       "    <tr>\n",
       "      <th>22</th>\n",
       "      <td>42.0</td>\n",
       "      <td>20</td>\n",
       "    </tr>\n",
       "    <tr>\n",
       "      <th>23</th>\n",
       "      <td>43.0</td>\n",
       "      <td>26</td>\n",
       "    </tr>\n",
       "    <tr>\n",
       "      <th>24</th>\n",
       "      <td>44.0</td>\n",
       "      <td>24</td>\n",
       "    </tr>\n",
       "    <tr>\n",
       "      <th>25</th>\n",
       "      <td>45.0</td>\n",
       "      <td>20</td>\n",
       "    </tr>\n",
       "    <tr>\n",
       "      <th>26</th>\n",
       "      <td>46.0</td>\n",
       "      <td>26</td>\n",
       "    </tr>\n",
       "    <tr>\n",
       "      <th>27</th>\n",
       "      <td>47.0</td>\n",
       "      <td>18</td>\n",
       "    </tr>\n",
       "    <tr>\n",
       "      <th>28</th>\n",
       "      <td>48.0</td>\n",
       "      <td>22</td>\n",
       "    </tr>\n",
       "    <tr>\n",
       "      <th>29</th>\n",
       "      <td>49.0</td>\n",
       "      <td>41</td>\n",
       "    </tr>\n",
       "    <tr>\n",
       "      <th>30</th>\n",
       "      <td>50.0</td>\n",
       "      <td>19</td>\n",
       "    </tr>\n",
       "    <tr>\n",
       "      <th>31</th>\n",
       "      <td>51.0</td>\n",
       "      <td>17</td>\n",
       "    </tr>\n",
       "    <tr>\n",
       "      <th>32</th>\n",
       "      <td>52.0</td>\n",
       "      <td>30</td>\n",
       "    </tr>\n",
       "    <tr>\n",
       "      <th>33</th>\n",
       "      <td>53.0</td>\n",
       "      <td>11</td>\n",
       "    </tr>\n",
       "    <tr>\n",
       "      <th>34</th>\n",
       "      <td>54.0</td>\n",
       "      <td>28</td>\n",
       "    </tr>\n",
       "    <tr>\n",
       "      <th>35</th>\n",
       "      <td>55.0</td>\n",
       "      <td>16</td>\n",
       "    </tr>\n",
       "    <tr>\n",
       "      <th>36</th>\n",
       "      <td>56.0</td>\n",
       "      <td>8</td>\n",
       "    </tr>\n",
       "    <tr>\n",
       "      <th>37</th>\n",
       "      <td>57.0</td>\n",
       "      <td>18</td>\n",
       "    </tr>\n",
       "    <tr>\n",
       "      <th>38</th>\n",
       "      <td>58.0</td>\n",
       "      <td>22</td>\n",
       "    </tr>\n",
       "    <tr>\n",
       "      <th>39</th>\n",
       "      <td>59.0</td>\n",
       "      <td>26</td>\n",
       "    </tr>\n",
       "    <tr>\n",
       "      <th>40</th>\n",
       "      <td>60.0</td>\n",
       "      <td>22</td>\n",
       "    </tr>\n",
       "    <tr>\n",
       "      <th>41</th>\n",
       "      <td>61.0</td>\n",
       "      <td>28</td>\n",
       "    </tr>\n",
       "    <tr>\n",
       "      <th>42</th>\n",
       "      <td>62.0</td>\n",
       "      <td>21</td>\n",
       "    </tr>\n",
       "    <tr>\n",
       "      <th>43</th>\n",
       "      <td>63.0</td>\n",
       "      <td>20</td>\n",
       "    </tr>\n",
       "    <tr>\n",
       "      <th>44</th>\n",
       "      <td>64.0</td>\n",
       "      <td>18</td>\n",
       "    </tr>\n",
       "    <tr>\n",
       "      <th>45</th>\n",
       "      <td>65.0</td>\n",
       "      <td>29</td>\n",
       "    </tr>\n",
       "    <tr>\n",
       "      <th>46</th>\n",
       "      <td>66.0</td>\n",
       "      <td>19</td>\n",
       "    </tr>\n",
       "    <tr>\n",
       "      <th>47</th>\n",
       "      <td>67.0</td>\n",
       "      <td>25</td>\n",
       "    </tr>\n",
       "    <tr>\n",
       "      <th>48</th>\n",
       "      <td>68.0</td>\n",
       "      <td>29</td>\n",
       "    </tr>\n",
       "    <tr>\n",
       "      <th>49</th>\n",
       "      <td>69.0</td>\n",
       "      <td>25</td>\n",
       "    </tr>\n",
       "  </tbody>\n",
       "</table>\n",
       "</div>"
      ],
      "text/plain": [
       "     age  success\n",
       "0   20.0       19\n",
       "1   21.0       20\n",
       "2   22.0       12\n",
       "3   23.0       17\n",
       "4   24.0       28\n",
       "5   25.0       38\n",
       "6   26.0       22\n",
       "7   27.0       23\n",
       "8   28.0       54\n",
       "9   29.0       25\n",
       "10  30.0       15\n",
       "11  31.0       21\n",
       "12  32.0       31\n",
       "13  33.0       26\n",
       "14  34.0       16\n",
       "15  35.0       26\n",
       "16  36.0       20\n",
       "17  37.0       20\n",
       "18  38.0       20\n",
       "19  39.0       16\n",
       "20  40.0       27\n",
       "21  41.0       16\n",
       "22  42.0       20\n",
       "23  43.0       26\n",
       "24  44.0       24\n",
       "25  45.0       20\n",
       "26  46.0       26\n",
       "27  47.0       18\n",
       "28  48.0       22\n",
       "29  49.0       41\n",
       "30  50.0       19\n",
       "31  51.0       17\n",
       "32  52.0       30\n",
       "33  53.0       11\n",
       "34  54.0       28\n",
       "35  55.0       16\n",
       "36  56.0        8\n",
       "37  57.0       18\n",
       "38  58.0       22\n",
       "39  59.0       26\n",
       "40  60.0       22\n",
       "41  61.0       28\n",
       "42  62.0       21\n",
       "43  63.0       20\n",
       "44  64.0       18\n",
       "45  65.0       29\n",
       "46  66.0       19\n",
       "47  67.0       25\n",
       "48  68.0       29\n",
       "49  69.0       25"
      ]
     },
     "execution_count": 95,
     "metadata": {},
     "output_type": "execute_result"
    }
   ],
   "source": [
    "full_data.query('platform == \"computer\"').groupby('age', as_index=False).agg({'success':\"count\"})"
   ]
  },
  {
   "cell_type": "code",
   "execution_count": 96,
   "id": "385f1203",
   "metadata": {},
   "outputs": [],
   "source": [
    "df_for_plot = full_data.query('platform == \"computer\"').groupby('age', as_index=False).agg({'success':\"count\"})"
   ]
  },
  {
   "cell_type": "code",
   "execution_count": 107,
   "id": "cea555fd",
   "metadata": {},
   "outputs": [
    {
     "data": {
      "text/plain": [
       "<AxesSubplot:xlabel='age', ylabel='success'>"
      ]
     },
     "execution_count": 107,
     "metadata": {},
     "output_type": "execute_result"
    },
    {
     "data": {
      "image/png": "[encoded data removed]",
      "text/plain": [
       "<Figure size 1440x720 with 1 Axes>"
      ]
     },
     "metadata": {
      "needs_background": "light"
     },
     "output_type": "display_data"
    }
   ],
   "source": [
    "plt.figure(figsize=(20,10))\n",
    "sns.barplot(x=df_for_plot.age, y = df_for_plot.success)"
   ]
  },
  {
   "cell_type": "code",
   "execution_count": 108,
   "id": "0c426a96",
   "metadata": {},
   "outputs": [
    {
     "data": {
      "text/html": [
       "<div>\n",
       "<style scoped>\n",
       "    .dataframe tbody tr th:only-of-type {\n",
       "        vertical-align: middle;\n",
       "    }\n",
       "\n",
       "    .dataframe tbody tr th {\n",
       "        vertical-align: top;\n",
       "    }\n",
       "\n",
       "    .dataframe thead th {\n",
       "        text-align: right;\n",
       "    }\n",
       "</style>\n",
       "<table border=\"1\" class=\"dataframe\">\n",
       "  <thead>\n",
       "    <tr style=\"text-align: right;\">\n",
       "      <th></th>\n",
       "      <th>client</th>\n",
       "      <th>premium</th>\n",
       "      <th>age</th>\n",
       "      <th>success</th>\n",
       "      <th>platform</th>\n",
       "      <th>time</th>\n",
       "    </tr>\n",
       "  </thead>\n",
       "  <tbody>\n",
       "    <tr>\n",
       "      <th>3</th>\n",
       "      <td>11989</td>\n",
       "      <td>False</td>\n",
       "      <td>44.0</td>\n",
       "      <td>True</td>\n",
       "      <td>computer</td>\n",
       "      <td>1585403698</td>\n",
       "    </tr>\n",
       "    <tr>\n",
       "      <th>12</th>\n",
       "      <td>32406</td>\n",
       "      <td>False</td>\n",
       "      <td>24.0</td>\n",
       "      <td>True</td>\n",
       "      <td>computer</td>\n",
       "      <td>1585479382</td>\n",
       "    </tr>\n",
       "    <tr>\n",
       "      <th>14</th>\n",
       "      <td>62404</td>\n",
       "      <td>False</td>\n",
       "      <td>40.0</td>\n",
       "      <td>True</td>\n",
       "      <td>computer</td>\n",
       "      <td>1585430097</td>\n",
       "    </tr>\n",
       "    <tr>\n",
       "      <th>20</th>\n",
       "      <td>68848</td>\n",
       "      <td>False</td>\n",
       "      <td>35.0</td>\n",
       "      <td>True</td>\n",
       "      <td>computer</td>\n",
       "      <td>1585440553</td>\n",
       "    </tr>\n",
       "    <tr>\n",
       "      <th>26</th>\n",
       "      <td>49675</td>\n",
       "      <td>False</td>\n",
       "      <td>48.0</td>\n",
       "      <td>True</td>\n",
       "      <td>computer</td>\n",
       "      <td>1585402108</td>\n",
       "    </tr>\n",
       "    <tr>\n",
       "      <th>...</th>\n",
       "      <td>...</td>\n",
       "      <td>...</td>\n",
       "      <td>...</td>\n",
       "      <td>...</td>\n",
       "      <td>...</td>\n",
       "      <td>...</td>\n",
       "    </tr>\n",
       "    <tr>\n",
       "      <th>4482</th>\n",
       "      <td>33732</td>\n",
       "      <td>NaN</td>\n",
       "      <td>NaN</td>\n",
       "      <td>True</td>\n",
       "      <td>computer</td>\n",
       "      <td>1585458839</td>\n",
       "    </tr>\n",
       "    <tr>\n",
       "      <th>4483</th>\n",
       "      <td>20398</td>\n",
       "      <td>NaN</td>\n",
       "      <td>NaN</td>\n",
       "      <td>True</td>\n",
       "      <td>computer</td>\n",
       "      <td>1585459318</td>\n",
       "    </tr>\n",
       "    <tr>\n",
       "      <th>4489</th>\n",
       "      <td>13373</td>\n",
       "      <td>NaN</td>\n",
       "      <td>NaN</td>\n",
       "      <td>True</td>\n",
       "      <td>computer</td>\n",
       "      <td>1585433117</td>\n",
       "    </tr>\n",
       "    <tr>\n",
       "      <th>4493</th>\n",
       "      <td>95135</td>\n",
       "      <td>NaN</td>\n",
       "      <td>NaN</td>\n",
       "      <td>True</td>\n",
       "      <td>computer</td>\n",
       "      <td>1585456336</td>\n",
       "    </tr>\n",
       "    <tr>\n",
       "      <th>4496</th>\n",
       "      <td>68031</td>\n",
       "      <td>NaN</td>\n",
       "      <td>NaN</td>\n",
       "      <td>True</td>\n",
       "      <td>computer</td>\n",
       "      <td>1585464203</td>\n",
       "    </tr>\n",
       "  </tbody>\n",
       "</table>\n",
       "<p>1090 rows × 6 columns</p>\n",
       "</div>"
      ],
      "text/plain": [
       "      client premium   age  success  platform        time\n",
       "3      11989   False  44.0     True  computer  1585403698\n",
       "12     32406   False  24.0     True  computer  1585479382\n",
       "14     62404   False  40.0     True  computer  1585430097\n",
       "20     68848   False  35.0     True  computer  1585440553\n",
       "26     49675   False  48.0     True  computer  1585402108\n",
       "...      ...     ...   ...      ...       ...         ...\n",
       "4482   33732     NaN   NaN     True  computer  1585458839\n",
       "4483   20398     NaN   NaN     True  computer  1585459318\n",
       "4489   13373     NaN   NaN     True  computer  1585433117\n",
       "4493   95135     NaN   NaN     True  computer  1585456336\n",
       "4496   68031     NaN   NaN     True  computer  1585464203\n",
       "\n",
       "[1090 rows x 6 columns]"
      ]
     },
     "execution_count": 108,
     "metadata": {},
     "output_type": "execute_result"
    }
   ],
   "source": [
    "full_data.query('platform == \"computer\" and success == True')"
   ]
  },
  {
   "cell_type": "code",
   "execution_count": 111,
   "id": "0cdc0f70",
   "metadata": {},
   "outputs": [],
   "source": [
    "df_for_count = full_data.query('platform == \"computer\" and success == True')"
   ]
  },
  {
   "cell_type": "code",
   "execution_count": 115,
   "id": "852643bf",
   "metadata": {},
   "outputs": [
    {
     "name": "stderr",
     "output_type": "stream",
     "text": [
      "C:\\Users\\Nikolay\\AppData\\Local\\Programs\\Python\\Python310\\lib\\site-packages\\seaborn\\_decorators.py:36: FutureWarning: Pass the following variable as a keyword arg: x. From version 0.12, the only valid positional argument will be `data`, and passing other arguments without an explicit keyword will result in an error or misinterpretation.\n",
      "  warnings.warn(\n"
     ]
    },
    {
     "data": {
      "text/plain": [
       "<AxesSubplot:xlabel='age', ylabel='count'>"
      ]
     },
     "execution_count": 115,
     "metadata": {},
     "output_type": "execute_result"
    },
    {
     "data": {
      "image/png": "[encoded data removed]",
      "text/plain": [
       "<Figure size 1584x792 with 1 Axes>"
      ]
     },
     "metadata": {
      "needs_background": "light"
     },
     "output_type": "display_data"
    }
   ],
   "source": [
    "plt.figure(figsize=(22,11))\n",
    "sns.countplot(df_for_count.age)"
   ]
  },
  {
   "cell_type": "code",
   "execution_count": null,
   "id": "5ea52982",
   "metadata": {},
   "outputs": [],
   "source": []
  }
 ],
 "metadata": {
  "kernelspec": {
   "display_name": "Python 3 (ipykernel)",
   "language": "python",
   "name": "python3"
  },
  "language_info": {
   "codemirror_mode": {
    "name": "ipython",
    "version": 3
   },
   "file_extension": ".py",
   "mimetype": "text/x-python",
   "name": "python",
   "nbconvert_exporter": "python",
   "pygments_lexer": "ipython3",
   "version": "3.10.4"
  }
 },
 "nbformat": 4,
 "nbformat_minor": 5
}
