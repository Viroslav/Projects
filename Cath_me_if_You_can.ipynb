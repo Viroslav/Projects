{
  "nbformat": 4,
  "nbformat_minor": 0,
  "metadata": {
    "colab": {
      "provenance": [],
      "collapsed_sections": [],
      "authorship_tag": "ABX9TyPQU4YQgxmTlCM5u7qr70Vh",
      "include_colab_link": true
    },
    "kernelspec": {
      "name": "python3",
      "display_name": "Python 3"
    },
    "language_info": {
      "name": "python"
    }
  },
  "cells": [
    {
      "cell_type": "markdown",
      "metadata": {
        "id": "view-in-github",
        "colab_type": "text"
      },
      "source": [
        "<a href=\"https://colab.research.google.com/github/Viroslav/Projects/blob/main/Cath_me_if_You_can.ipynb\" target=\"_parent\"><img src=\"https://colab.research.google.com/assets/colab-badge.svg\" alt=\"Open In Colab\"/></a>"
      ]
    },
    {
      "cell_type": "code",
      "execution_count": null,
      "metadata": {
        "id": "eLSK24HQxaAA"
      },
      "outputs": [],
      "source": [
        "import pickle\n",
        "\n",
        "import numpy as np\n",
        "import pandas as pd\n",
        "from scipy.sparse import csr_matrix, hstack\n",
        "from sklearn.linear_model import LogisticRegression\n",
        "from sklearn.metrics import roc_auc_score\n",
        "from sklearn.preprocessing import StandardScaler\n",
        "from tqdm import tqdm_notebook\n",
        "\n",
        "%matplotlib inline\n",
        "import seaborn as sns\n",
        "from matplotlib import pyplot as plt"
      ]
    },
    {
      "cell_type": "markdown",
      "source": [
        "В обучающей выборке содержатся следующие признаки:\n",
        "\n",
        "- site1 – индекс первого посещенного сайта в сессии\n",
        "- time1 – время посещения первого сайта в сессии\n",
        "- ...\n",
        "- site10 – индекс 10-го посещенного сайта в сессии\n",
        "- time10 – время посещения 10-го сайта в сессии\n",
        "- target – целевая переменная, 1 для сессий Элис, 0 для сессий других пользователей\n",
        "\n",
        "Сессии пользователей выделены таким образом, что они не могут быть длиннее получаса или 10 сайтов. То есть сессия считается оконченной либо когда пользователь посетил 10 сайтов подряд либо когда сессия заняла по времени более 30 минут.\n",
        "\n",
        "В таблице встречаются пропущенные значения, это значит, что сессия состоит менее, чем из 10 сайтов. Заменим пропущенные значения нулями и приведем признаки к целому типу. Также загрузим словарь сайтов и посмотрим, как он выглядит:"
      ],
      "metadata": {
        "id": "943qX40-zKIR"
      }
    },
    {
      "cell_type": "code",
      "source": [
        "# загрузим обучающую и тестовую выборки\n",
        "train_df = pd.read_csv(\"/content/train_sessions.csv\", index_col=\"session_id\")\n",
        "test_df = pd.read_csv(\"/content/test_sessions.csv\", index_col=\"session_id\")\n",
        "\n",
        "# приведем колонки time1, ..., time10 к временному формату\n",
        "times = [\"time%s\" % i for i in range(1, 11)]\n",
        "train_df[times] = train_df[times].apply(pd.to_datetime)\n",
        "test_df[times] = test_df[times].apply(pd.to_datetime)\n",
        "\n",
        "# отсортируем данные по времени\n",
        "train_df = train_df.sort_values(by=\"time1\")\n",
        "\n",
        "# посмотрим на заголовок обучающей выборки\n",
        "train_df.head()"
      ],
      "metadata": {
        "colab": {
          "base_uri": "https://localhost:8080/",
          "height": 504
        },
        "id": "90Y-_TjaxjuX",
        "outputId": "dcbe91c5-a108-4ddb-b4b4-4bef507fc522"
      },
      "execution_count": null,
      "outputs": [
        {
          "output_type": "execute_result",
          "data": {
            "text/plain": [
              "            site1               time1  site2               time2  site3  \\\n",
              "session_id                                                                \n",
              "21669          56 2013-01-12 08:05:57   55.0 2013-01-12 08:05:57    NaN   \n",
              "54843          56 2013-01-12 08:37:23   55.0 2013-01-12 08:37:23   56.0   \n",
              "77292         946 2013-01-12 08:50:13  946.0 2013-01-12 08:50:14  951.0   \n",
              "114021        945 2013-01-12 08:50:17  948.0 2013-01-12 08:50:17  949.0   \n",
              "146670        947 2013-01-12 08:50:20  950.0 2013-01-12 08:50:20  948.0   \n",
              "\n",
              "                         time3  site4               time4  site5  \\\n",
              "session_id                                                         \n",
              "21669                      NaT    NaN                 NaT    NaN   \n",
              "54843      2013-01-12 09:07:07   55.0 2013-01-12 09:07:09    NaN   \n",
              "77292      2013-01-12 08:50:15  946.0 2013-01-12 08:50:15  946.0   \n",
              "114021     2013-01-12 08:50:18  948.0 2013-01-12 08:50:18  945.0   \n",
              "146670     2013-01-12 08:50:20  947.0 2013-01-12 08:50:21  950.0   \n",
              "\n",
              "                         time5  ...               time6  site7  \\\n",
              "session_id                      ...                              \n",
              "21669                      NaT  ...                 NaT    NaN   \n",
              "54843                      NaT  ...                 NaT    NaN   \n",
              "77292      2013-01-12 08:50:16  ... 2013-01-12 08:50:16  948.0   \n",
              "114021     2013-01-12 08:50:18  ... 2013-01-12 08:50:18  947.0   \n",
              "146670     2013-01-12 08:50:21  ... 2013-01-12 08:50:21  946.0   \n",
              "\n",
              "                         time7  site8               time8  site9  \\\n",
              "session_id                                                         \n",
              "21669                      NaT    NaN                 NaT    NaN   \n",
              "54843                      NaT    NaN                 NaT    NaN   \n",
              "77292      2013-01-12 08:50:16  784.0 2013-01-12 08:50:16  949.0   \n",
              "114021     2013-01-12 08:50:19  945.0 2013-01-12 08:50:19  946.0   \n",
              "146670     2013-01-12 08:50:21  951.0 2013-01-12 08:50:22  946.0   \n",
              "\n",
              "                         time9 site10              time10 target  \n",
              "session_id                                                        \n",
              "21669                      NaT    NaN                 NaT      0  \n",
              "54843                      NaT    NaN                 NaT      0  \n",
              "77292      2013-01-12 08:50:17  946.0 2013-01-12 08:50:17      0  \n",
              "114021     2013-01-12 08:50:19  946.0 2013-01-12 08:50:20      0  \n",
              "146670     2013-01-12 08:50:22  947.0 2013-01-12 08:50:22      0  \n",
              "\n",
              "[5 rows x 21 columns]"
            ],
            "text/html": [
              "\n",
              "  <div id=\"df-803b09f4-4bfd-41ef-980b-252a7adaa518\">\n",
              "    <div class=\"colab-df-container\">\n",
              "      <div>\n",
              "<style scoped>\n",
              "    .dataframe tbody tr th:only-of-type {\n",
              "        vertical-align: middle;\n",
              "    }\n",
              "\n",
              "    .dataframe tbody tr th {\n",
              "        vertical-align: top;\n",
              "    }\n",
              "\n",
              "    .dataframe thead th {\n",
              "        text-align: right;\n",
              "    }\n",
              "</style>\n",
              "<table border=\"1\" class=\"dataframe\">\n",
              "  <thead>\n",
              "    <tr style=\"text-align: right;\">\n",
              "      <th></th>\n",
              "      <th>site1</th>\n",
              "      <th>time1</th>\n",
              "      <th>site2</th>\n",
              "      <th>time2</th>\n",
              "      <th>site3</th>\n",
              "      <th>time3</th>\n",
              "      <th>site4</th>\n",
              "      <th>time4</th>\n",
              "      <th>site5</th>\n",
              "      <th>time5</th>\n",
              "      <th>...</th>\n",
              "      <th>time6</th>\n",
              "      <th>site7</th>\n",
              "      <th>time7</th>\n",
              "      <th>site8</th>\n",
              "      <th>time8</th>\n",
              "      <th>site9</th>\n",
              "      <th>time9</th>\n",
              "      <th>site10</th>\n",
              "      <th>time10</th>\n",
              "      <th>target</th>\n",
              "    </tr>\n",
              "    <tr>\n",
              "      <th>session_id</th>\n",
              "      <th></th>\n",
              "      <th></th>\n",
              "      <th></th>\n",
              "      <th></th>\n",
              "      <th></th>\n",
              "      <th></th>\n",
              "      <th></th>\n",
              "      <th></th>\n",
              "      <th></th>\n",
              "      <th></th>\n",
              "      <th></th>\n",
              "      <th></th>\n",
              "      <th></th>\n",
              "      <th></th>\n",
              "      <th></th>\n",
              "      <th></th>\n",
              "      <th></th>\n",
              "      <th></th>\n",
              "      <th></th>\n",
              "      <th></th>\n",
              "      <th></th>\n",
              "    </tr>\n",
              "  </thead>\n",
              "  <tbody>\n",
              "    <tr>\n",
              "      <th>21669</th>\n",
              "      <td>56</td>\n",
              "      <td>2013-01-12 08:05:57</td>\n",
              "      <td>55.0</td>\n",
              "      <td>2013-01-12 08:05:57</td>\n",
              "      <td>NaN</td>\n",
              "      <td>NaT</td>\n",
              "      <td>NaN</td>\n",
              "      <td>NaT</td>\n",
              "      <td>NaN</td>\n",
              "      <td>NaT</td>\n",
              "      <td>...</td>\n",
              "      <td>NaT</td>\n",
              "      <td>NaN</td>\n",
              "      <td>NaT</td>\n",
              "      <td>NaN</td>\n",
              "      <td>NaT</td>\n",
              "      <td>NaN</td>\n",
              "      <td>NaT</td>\n",
              "      <td>NaN</td>\n",
              "      <td>NaT</td>\n",
              "      <td>0</td>\n",
              "    </tr>\n",
              "    <tr>\n",
              "      <th>54843</th>\n",
              "      <td>56</td>\n",
              "      <td>2013-01-12 08:37:23</td>\n",
              "      <td>55.0</td>\n",
              "      <td>2013-01-12 08:37:23</td>\n",
              "      <td>56.0</td>\n",
              "      <td>2013-01-12 09:07:07</td>\n",
              "      <td>55.0</td>\n",
              "      <td>2013-01-12 09:07:09</td>\n",
              "      <td>NaN</td>\n",
              "      <td>NaT</td>\n",
              "      <td>...</td>\n",
              "      <td>NaT</td>\n",
              "      <td>NaN</td>\n",
              "      <td>NaT</td>\n",
              "      <td>NaN</td>\n",
              "      <td>NaT</td>\n",
              "      <td>NaN</td>\n",
              "      <td>NaT</td>\n",
              "      <td>NaN</td>\n",
              "      <td>NaT</td>\n",
              "      <td>0</td>\n",
              "    </tr>\n",
              "    <tr>\n",
              "      <th>77292</th>\n",
              "      <td>946</td>\n",
              "      <td>2013-01-12 08:50:13</td>\n",
              "      <td>946.0</td>\n",
              "      <td>2013-01-12 08:50:14</td>\n",
              "      <td>951.0</td>\n",
              "      <td>2013-01-12 08:50:15</td>\n",
              "      <td>946.0</td>\n",
              "      <td>2013-01-12 08:50:15</td>\n",
              "      <td>946.0</td>\n",
              "      <td>2013-01-12 08:50:16</td>\n",
              "      <td>...</td>\n",
              "      <td>2013-01-12 08:50:16</td>\n",
              "      <td>948.0</td>\n",
              "      <td>2013-01-12 08:50:16</td>\n",
              "      <td>784.0</td>\n",
              "      <td>2013-01-12 08:50:16</td>\n",
              "      <td>949.0</td>\n",
              "      <td>2013-01-12 08:50:17</td>\n",
              "      <td>946.0</td>\n",
              "      <td>2013-01-12 08:50:17</td>\n",
              "      <td>0</td>\n",
              "    </tr>\n",
              "    <tr>\n",
              "      <th>114021</th>\n",
              "      <td>945</td>\n",
              "      <td>2013-01-12 08:50:17</td>\n",
              "      <td>948.0</td>\n",
              "      <td>2013-01-12 08:50:17</td>\n",
              "      <td>949.0</td>\n",
              "      <td>2013-01-12 08:50:18</td>\n",
              "      <td>948.0</td>\n",
              "      <td>2013-01-12 08:50:18</td>\n",
              "      <td>945.0</td>\n",
              "      <td>2013-01-12 08:50:18</td>\n",
              "      <td>...</td>\n",
              "      <td>2013-01-12 08:50:18</td>\n",
              "      <td>947.0</td>\n",
              "      <td>2013-01-12 08:50:19</td>\n",
              "      <td>945.0</td>\n",
              "      <td>2013-01-12 08:50:19</td>\n",
              "      <td>946.0</td>\n",
              "      <td>2013-01-12 08:50:19</td>\n",
              "      <td>946.0</td>\n",
              "      <td>2013-01-12 08:50:20</td>\n",
              "      <td>0</td>\n",
              "    </tr>\n",
              "    <tr>\n",
              "      <th>146670</th>\n",
              "      <td>947</td>\n",
              "      <td>2013-01-12 08:50:20</td>\n",
              "      <td>950.0</td>\n",
              "      <td>2013-01-12 08:50:20</td>\n",
              "      <td>948.0</td>\n",
              "      <td>2013-01-12 08:50:20</td>\n",
              "      <td>947.0</td>\n",
              "      <td>2013-01-12 08:50:21</td>\n",
              "      <td>950.0</td>\n",
              "      <td>2013-01-12 08:50:21</td>\n",
              "      <td>...</td>\n",
              "      <td>2013-01-12 08:50:21</td>\n",
              "      <td>946.0</td>\n",
              "      <td>2013-01-12 08:50:21</td>\n",
              "      <td>951.0</td>\n",
              "      <td>2013-01-12 08:50:22</td>\n",
              "      <td>946.0</td>\n",
              "      <td>2013-01-12 08:50:22</td>\n",
              "      <td>947.0</td>\n",
              "      <td>2013-01-12 08:50:22</td>\n",
              "      <td>0</td>\n",
              "    </tr>\n",
              "  </tbody>\n",
              "</table>\n",
              "<p>5 rows × 21 columns</p>\n",
              "</div>\n",
              "      <button class=\"colab-df-convert\" onclick=\"convertToInteractive('df-803b09f4-4bfd-41ef-980b-252a7adaa518')\"\n",
              "              title=\"Convert this dataframe to an interactive table.\"\n",
              "              style=\"display:none;\">\n",
              "        \n",
              "  <svg xmlns=\"http://www.w3.org/2000/svg\" height=\"24px\"viewBox=\"0 0 24 24\"\n",
              "       width=\"24px\">\n",
              "    <path d=\"M0 0h24v24H0V0z\" fill=\"none\"/>\n",
              "    <path d=\"M18.56 5.44l.94 2.06.94-2.06 2.06-.94-2.06-.94-.94-2.06-.94 2.06-2.06.94zm-11 1L8.5 8.5l.94-2.06 2.06-.94-2.06-.94L8.5 2.5l-.94 2.06-2.06.94zm10 10l.94 2.06.94-2.06 2.06-.94-2.06-.94-.94-2.06-.94 2.06-2.06.94z\"/><path d=\"M17.41 7.96l-1.37-1.37c-.4-.4-.92-.59-1.43-.59-.52 0-1.04.2-1.43.59L10.3 9.45l-7.72 7.72c-.78.78-.78 2.05 0 2.83L4 21.41c.39.39.9.59 1.41.59.51 0 1.02-.2 1.41-.59l7.78-7.78 2.81-2.81c.8-.78.8-2.07 0-2.86zM5.41 20L4 18.59l7.72-7.72 1.47 1.35L5.41 20z\"/>\n",
              "  </svg>\n",
              "      </button>\n",
              "      \n",
              "  <style>\n",
              "    .colab-df-container {\n",
              "      display:flex;\n",
              "      flex-wrap:wrap;\n",
              "      gap: 12px;\n",
              "    }\n",
              "\n",
              "    .colab-df-convert {\n",
              "      background-color: #E8F0FE;\n",
              "      border: none;\n",
              "      border-radius: 50%;\n",
              "      cursor: pointer;\n",
              "      display: none;\n",
              "      fill: #1967D2;\n",
              "      height: 32px;\n",
              "      padding: 0 0 0 0;\n",
              "      width: 32px;\n",
              "    }\n",
              "\n",
              "    .colab-df-convert:hover {\n",
              "      background-color: #E2EBFA;\n",
              "      box-shadow: 0px 1px 2px rgba(60, 64, 67, 0.3), 0px 1px 3px 1px rgba(60, 64, 67, 0.15);\n",
              "      fill: #174EA6;\n",
              "    }\n",
              "\n",
              "    [theme=dark] .colab-df-convert {\n",
              "      background-color: #3B4455;\n",
              "      fill: #D2E3FC;\n",
              "    }\n",
              "\n",
              "    [theme=dark] .colab-df-convert:hover {\n",
              "      background-color: #434B5C;\n",
              "      box-shadow: 0px 1px 3px 1px rgba(0, 0, 0, 0.15);\n",
              "      filter: drop-shadow(0px 1px 2px rgba(0, 0, 0, 0.3));\n",
              "      fill: #FFFFFF;\n",
              "    }\n",
              "  </style>\n",
              "\n",
              "      <script>\n",
              "        const buttonEl =\n",
              "          document.querySelector('#df-803b09f4-4bfd-41ef-980b-252a7adaa518 button.colab-df-convert');\n",
              "        buttonEl.style.display =\n",
              "          google.colab.kernel.accessAllowed ? 'block' : 'none';\n",
              "\n",
              "        async function convertToInteractive(key) {\n",
              "          const element = document.querySelector('#df-803b09f4-4bfd-41ef-980b-252a7adaa518');\n",
              "          const dataTable =\n",
              "            await google.colab.kernel.invokeFunction('convertToInteractive',\n",
              "                                                     [key], {});\n",
              "          if (!dataTable) return;\n",
              "\n",
              "          const docLinkHtml = 'Like what you see? Visit the ' +\n",
              "            '<a target=\"_blank\" href=https://colab.research.google.com/notebooks/data_table.ipynb>data table notebook</a>'\n",
              "            + ' to learn more about interactive tables.';\n",
              "          element.innerHTML = '';\n",
              "          dataTable['output_type'] = 'display_data';\n",
              "          await google.colab.output.renderOutput(dataTable, element);\n",
              "          const docLink = document.createElement('div');\n",
              "          docLink.innerHTML = docLinkHtml;\n",
              "          element.appendChild(docLink);\n",
              "        }\n",
              "      </script>\n",
              "    </div>\n",
              "  </div>\n",
              "  "
            ]
          },
          "metadata": {},
          "execution_count": 2
        }
      ]
    },
    {
      "cell_type": "code",
      "source": [
        "test_df.head()"
      ],
      "metadata": {
        "colab": {
          "base_uri": "https://localhost:8080/",
          "height": 475
        },
        "id": "9s-T72U_jf4S",
        "outputId": "a12a7cdf-4303-4a85-dec5-5fb3e335ecdc"
      },
      "execution_count": null,
      "outputs": [
        {
          "output_type": "execute_result",
          "data": {
            "text/plain": [
              "            site1               time1   site2               time2  site3  \\\n",
              "session_id                                                                 \n",
              "1              29 2014-10-04 11:19:53    35.0 2014-10-04 11:19:53   22.0   \n",
              "2             782 2014-07-03 11:00:28   782.0 2014-07-03 11:00:53  782.0   \n",
              "3              55 2014-12-05 15:55:12    55.0 2014-12-05 15:55:13   55.0   \n",
              "4            1023 2014-11-04 10:03:19  1022.0 2014-11-04 10:03:19   50.0   \n",
              "5             301 2014-05-16 15:05:31   301.0 2014-05-16 15:05:32  301.0   \n",
              "\n",
              "                         time3  site4               time4  site5  \\\n",
              "session_id                                                         \n",
              "1          2014-10-04 11:19:54  321.0 2014-10-04 11:19:54   23.0   \n",
              "2          2014-07-03 11:00:58  782.0 2014-07-03 11:01:06  782.0   \n",
              "3          2014-12-05 15:55:14   55.0 2014-12-05 15:56:15   55.0   \n",
              "4          2014-11-04 10:03:20  222.0 2014-11-04 10:03:21  202.0   \n",
              "5          2014-05-16 15:05:33   66.0 2014-05-16 15:05:39   67.0   \n",
              "\n",
              "                         time5   site6               time6   site7  \\\n",
              "session_id                                                           \n",
              "1          2014-10-04 11:19:54  2211.0 2014-10-04 11:19:54  6730.0   \n",
              "2          2014-07-03 11:01:09   782.0 2014-07-03 11:01:10   782.0   \n",
              "3          2014-12-05 15:56:16    55.0 2014-12-05 15:56:17    55.0   \n",
              "4          2014-11-04 10:03:21  3374.0 2014-11-04 10:03:22    50.0   \n",
              "5          2014-05-16 15:05:40    69.0 2014-05-16 15:05:40    70.0   \n",
              "\n",
              "                         time7  site8               time8    site9  \\\n",
              "session_id                                                           \n",
              "1          2014-10-04 11:19:54   21.0 2014-10-04 11:19:54  44582.0   \n",
              "2          2014-07-03 11:01:23  782.0 2014-07-03 11:01:29    782.0   \n",
              "3          2014-12-05 15:56:18   55.0 2014-12-05 15:56:19   1445.0   \n",
              "4          2014-11-04 10:03:22   48.0 2014-11-04 10:03:22     48.0   \n",
              "5          2014-05-16 15:05:40   68.0 2014-05-16 15:05:40     71.0   \n",
              "\n",
              "                         time9   site10              time10  \n",
              "session_id                                                   \n",
              "1          2014-10-04 11:20:00  15336.0 2014-10-04 11:20:00  \n",
              "2          2014-07-03 11:01:30    782.0 2014-07-03 11:01:53  \n",
              "3          2014-12-05 15:56:33   1445.0 2014-12-05 15:56:36  \n",
              "4          2014-11-04 10:03:23   3374.0 2014-11-04 10:03:23  \n",
              "5          2014-05-16 15:05:40    167.0 2014-05-16 15:05:44  "
            ],
            "text/html": [
              "\n",
              "  <div id=\"df-1e6c9545-4236-43d4-90fb-8d91dd2e4e9a\">\n",
              "    <div class=\"colab-df-container\">\n",
              "      <div>\n",
              "<style scoped>\n",
              "    .dataframe tbody tr th:only-of-type {\n",
              "        vertical-align: middle;\n",
              "    }\n",
              "\n",
              "    .dataframe tbody tr th {\n",
              "        vertical-align: top;\n",
              "    }\n",
              "\n",
              "    .dataframe thead th {\n",
              "        text-align: right;\n",
              "    }\n",
              "</style>\n",
              "<table border=\"1\" class=\"dataframe\">\n",
              "  <thead>\n",
              "    <tr style=\"text-align: right;\">\n",
              "      <th></th>\n",
              "      <th>site1</th>\n",
              "      <th>time1</th>\n",
              "      <th>site2</th>\n",
              "      <th>time2</th>\n",
              "      <th>site3</th>\n",
              "      <th>time3</th>\n",
              "      <th>site4</th>\n",
              "      <th>time4</th>\n",
              "      <th>site5</th>\n",
              "      <th>time5</th>\n",
              "      <th>site6</th>\n",
              "      <th>time6</th>\n",
              "      <th>site7</th>\n",
              "      <th>time7</th>\n",
              "      <th>site8</th>\n",
              "      <th>time8</th>\n",
              "      <th>site9</th>\n",
              "      <th>time9</th>\n",
              "      <th>site10</th>\n",
              "      <th>time10</th>\n",
              "    </tr>\n",
              "    <tr>\n",
              "      <th>session_id</th>\n",
              "      <th></th>\n",
              "      <th></th>\n",
              "      <th></th>\n",
              "      <th></th>\n",
              "      <th></th>\n",
              "      <th></th>\n",
              "      <th></th>\n",
              "      <th></th>\n",
              "      <th></th>\n",
              "      <th></th>\n",
              "      <th></th>\n",
              "      <th></th>\n",
              "      <th></th>\n",
              "      <th></th>\n",
              "      <th></th>\n",
              "      <th></th>\n",
              "      <th></th>\n",
              "      <th></th>\n",
              "      <th></th>\n",
              "      <th></th>\n",
              "    </tr>\n",
              "  </thead>\n",
              "  <tbody>\n",
              "    <tr>\n",
              "      <th>1</th>\n",
              "      <td>29</td>\n",
              "      <td>2014-10-04 11:19:53</td>\n",
              "      <td>35.0</td>\n",
              "      <td>2014-10-04 11:19:53</td>\n",
              "      <td>22.0</td>\n",
              "      <td>2014-10-04 11:19:54</td>\n",
              "      <td>321.0</td>\n",
              "      <td>2014-10-04 11:19:54</td>\n",
              "      <td>23.0</td>\n",
              "      <td>2014-10-04 11:19:54</td>\n",
              "      <td>2211.0</td>\n",
              "      <td>2014-10-04 11:19:54</td>\n",
              "      <td>6730.0</td>\n",
              "      <td>2014-10-04 11:19:54</td>\n",
              "      <td>21.0</td>\n",
              "      <td>2014-10-04 11:19:54</td>\n",
              "      <td>44582.0</td>\n",
              "      <td>2014-10-04 11:20:00</td>\n",
              "      <td>15336.0</td>\n",
              "      <td>2014-10-04 11:20:00</td>\n",
              "    </tr>\n",
              "    <tr>\n",
              "      <th>2</th>\n",
              "      <td>782</td>\n",
              "      <td>2014-07-03 11:00:28</td>\n",
              "      <td>782.0</td>\n",
              "      <td>2014-07-03 11:00:53</td>\n",
              "      <td>782.0</td>\n",
              "      <td>2014-07-03 11:00:58</td>\n",
              "      <td>782.0</td>\n",
              "      <td>2014-07-03 11:01:06</td>\n",
              "      <td>782.0</td>\n",
              "      <td>2014-07-03 11:01:09</td>\n",
              "      <td>782.0</td>\n",
              "      <td>2014-07-03 11:01:10</td>\n",
              "      <td>782.0</td>\n",
              "      <td>2014-07-03 11:01:23</td>\n",
              "      <td>782.0</td>\n",
              "      <td>2014-07-03 11:01:29</td>\n",
              "      <td>782.0</td>\n",
              "      <td>2014-07-03 11:01:30</td>\n",
              "      <td>782.0</td>\n",
              "      <td>2014-07-03 11:01:53</td>\n",
              "    </tr>\n",
              "    <tr>\n",
              "      <th>3</th>\n",
              "      <td>55</td>\n",
              "      <td>2014-12-05 15:55:12</td>\n",
              "      <td>55.0</td>\n",
              "      <td>2014-12-05 15:55:13</td>\n",
              "      <td>55.0</td>\n",
              "      <td>2014-12-05 15:55:14</td>\n",
              "      <td>55.0</td>\n",
              "      <td>2014-12-05 15:56:15</td>\n",
              "      <td>55.0</td>\n",
              "      <td>2014-12-05 15:56:16</td>\n",
              "      <td>55.0</td>\n",
              "      <td>2014-12-05 15:56:17</td>\n",
              "      <td>55.0</td>\n",
              "      <td>2014-12-05 15:56:18</td>\n",
              "      <td>55.0</td>\n",
              "      <td>2014-12-05 15:56:19</td>\n",
              "      <td>1445.0</td>\n",
              "      <td>2014-12-05 15:56:33</td>\n",
              "      <td>1445.0</td>\n",
              "      <td>2014-12-05 15:56:36</td>\n",
              "    </tr>\n",
              "    <tr>\n",
              "      <th>4</th>\n",
              "      <td>1023</td>\n",
              "      <td>2014-11-04 10:03:19</td>\n",
              "      <td>1022.0</td>\n",
              "      <td>2014-11-04 10:03:19</td>\n",
              "      <td>50.0</td>\n",
              "      <td>2014-11-04 10:03:20</td>\n",
              "      <td>222.0</td>\n",
              "      <td>2014-11-04 10:03:21</td>\n",
              "      <td>202.0</td>\n",
              "      <td>2014-11-04 10:03:21</td>\n",
              "      <td>3374.0</td>\n",
              "      <td>2014-11-04 10:03:22</td>\n",
              "      <td>50.0</td>\n",
              "      <td>2014-11-04 10:03:22</td>\n",
              "      <td>48.0</td>\n",
              "      <td>2014-11-04 10:03:22</td>\n",
              "      <td>48.0</td>\n",
              "      <td>2014-11-04 10:03:23</td>\n",
              "      <td>3374.0</td>\n",
              "      <td>2014-11-04 10:03:23</td>\n",
              "    </tr>\n",
              "    <tr>\n",
              "      <th>5</th>\n",
              "      <td>301</td>\n",
              "      <td>2014-05-16 15:05:31</td>\n",
              "      <td>301.0</td>\n",
              "      <td>2014-05-16 15:05:32</td>\n",
              "      <td>301.0</td>\n",
              "      <td>2014-05-16 15:05:33</td>\n",
              "      <td>66.0</td>\n",
              "      <td>2014-05-16 15:05:39</td>\n",
              "      <td>67.0</td>\n",
              "      <td>2014-05-16 15:05:40</td>\n",
              "      <td>69.0</td>\n",
              "      <td>2014-05-16 15:05:40</td>\n",
              "      <td>70.0</td>\n",
              "      <td>2014-05-16 15:05:40</td>\n",
              "      <td>68.0</td>\n",
              "      <td>2014-05-16 15:05:40</td>\n",
              "      <td>71.0</td>\n",
              "      <td>2014-05-16 15:05:40</td>\n",
              "      <td>167.0</td>\n",
              "      <td>2014-05-16 15:05:44</td>\n",
              "    </tr>\n",
              "  </tbody>\n",
              "</table>\n",
              "</div>\n",
              "      <button class=\"colab-df-convert\" onclick=\"convertToInteractive('df-1e6c9545-4236-43d4-90fb-8d91dd2e4e9a')\"\n",
              "              title=\"Convert this dataframe to an interactive table.\"\n",
              "              style=\"display:none;\">\n",
              "        \n",
              "  <svg xmlns=\"http://www.w3.org/2000/svg\" height=\"24px\"viewBox=\"0 0 24 24\"\n",
              "       width=\"24px\">\n",
              "    <path d=\"M0 0h24v24H0V0z\" fill=\"none\"/>\n",
              "    <path d=\"M18.56 5.44l.94 2.06.94-2.06 2.06-.94-2.06-.94-.94-2.06-.94 2.06-2.06.94zm-11 1L8.5 8.5l.94-2.06 2.06-.94-2.06-.94L8.5 2.5l-.94 2.06-2.06.94zm10 10l.94 2.06.94-2.06 2.06-.94-2.06-.94-.94-2.06-.94 2.06-2.06.94z\"/><path d=\"M17.41 7.96l-1.37-1.37c-.4-.4-.92-.59-1.43-.59-.52 0-1.04.2-1.43.59L10.3 9.45l-7.72 7.72c-.78.78-.78 2.05 0 2.83L4 21.41c.39.39.9.59 1.41.59.51 0 1.02-.2 1.41-.59l7.78-7.78 2.81-2.81c.8-.78.8-2.07 0-2.86zM5.41 20L4 18.59l7.72-7.72 1.47 1.35L5.41 20z\"/>\n",
              "  </svg>\n",
              "      </button>\n",
              "      \n",
              "  <style>\n",
              "    .colab-df-container {\n",
              "      display:flex;\n",
              "      flex-wrap:wrap;\n",
              "      gap: 12px;\n",
              "    }\n",
              "\n",
              "    .colab-df-convert {\n",
              "      background-color: #E8F0FE;\n",
              "      border: none;\n",
              "      border-radius: 50%;\n",
              "      cursor: pointer;\n",
              "      display: none;\n",
              "      fill: #1967D2;\n",
              "      height: 32px;\n",
              "      padding: 0 0 0 0;\n",
              "      width: 32px;\n",
              "    }\n",
              "\n",
              "    .colab-df-convert:hover {\n",
              "      background-color: #E2EBFA;\n",
              "      box-shadow: 0px 1px 2px rgba(60, 64, 67, 0.3), 0px 1px 3px 1px rgba(60, 64, 67, 0.15);\n",
              "      fill: #174EA6;\n",
              "    }\n",
              "\n",
              "    [theme=dark] .colab-df-convert {\n",
              "      background-color: #3B4455;\n",
              "      fill: #D2E3FC;\n",
              "    }\n",
              "\n",
              "    [theme=dark] .colab-df-convert:hover {\n",
              "      background-color: #434B5C;\n",
              "      box-shadow: 0px 1px 3px 1px rgba(0, 0, 0, 0.15);\n",
              "      filter: drop-shadow(0px 1px 2px rgba(0, 0, 0, 0.3));\n",
              "      fill: #FFFFFF;\n",
              "    }\n",
              "  </style>\n",
              "\n",
              "      <script>\n",
              "        const buttonEl =\n",
              "          document.querySelector('#df-1e6c9545-4236-43d4-90fb-8d91dd2e4e9a button.colab-df-convert');\n",
              "        buttonEl.style.display =\n",
              "          google.colab.kernel.accessAllowed ? 'block' : 'none';\n",
              "\n",
              "        async function convertToInteractive(key) {\n",
              "          const element = document.querySelector('#df-1e6c9545-4236-43d4-90fb-8d91dd2e4e9a');\n",
              "          const dataTable =\n",
              "            await google.colab.kernel.invokeFunction('convertToInteractive',\n",
              "                                                     [key], {});\n",
              "          if (!dataTable) return;\n",
              "\n",
              "          const docLinkHtml = 'Like what you see? Visit the ' +\n",
              "            '<a target=\"_blank\" href=https://colab.research.google.com/notebooks/data_table.ipynb>data table notebook</a>'\n",
              "            + ' to learn more about interactive tables.';\n",
              "          element.innerHTML = '';\n",
              "          dataTable['output_type'] = 'display_data';\n",
              "          await google.colab.output.renderOutput(dataTable, element);\n",
              "          const docLink = document.createElement('div');\n",
              "          docLink.innerHTML = docLinkHtml;\n",
              "          element.appendChild(docLink);\n",
              "        }\n",
              "      </script>\n",
              "    </div>\n",
              "  </div>\n",
              "  "
            ]
          },
          "metadata": {},
          "execution_count": 3
        }
      ]
    },
    {
      "cell_type": "code",
      "source": [
        "train_df.dtypes"
      ],
      "metadata": {
        "colab": {
          "base_uri": "https://localhost:8080/"
        },
        "id": "G9jhCvg7cucK",
        "outputId": "3f350bba-abd8-4403-e796-3479223df0ce"
      },
      "execution_count": null,
      "outputs": [
        {
          "output_type": "execute_result",
          "data": {
            "text/plain": [
              "site1              int64\n",
              "time1     datetime64[ns]\n",
              "site2            float64\n",
              "time2     datetime64[ns]\n",
              "site3            float64\n",
              "time3     datetime64[ns]\n",
              "site4            float64\n",
              "time4     datetime64[ns]\n",
              "site5            float64\n",
              "time5     datetime64[ns]\n",
              "site6            float64\n",
              "time6     datetime64[ns]\n",
              "site7            float64\n",
              "time7     datetime64[ns]\n",
              "site8            float64\n",
              "time8     datetime64[ns]\n",
              "site9            float64\n",
              "time9     datetime64[ns]\n",
              "site10           float64\n",
              "time10    datetime64[ns]\n",
              "target             int64\n",
              "dtype: object"
            ]
          },
          "metadata": {},
          "execution_count": 4
        }
      ]
    },
    {
      "cell_type": "code",
      "source": [
        "# приведем колонки site1, ..., site10 к целочисленному формату и заменим пропуски нулями\n",
        "sites = [\"site%s\" % i for i in range(1, 11)]\n",
        "train_df[sites] = train_df[sites].fillna(0).astype(\"int\")\n",
        "test_df[sites] = test_df[sites].fillna(0).astype(\"int\")\n",
        "\n",
        "# загрузим словарик сайтов\n",
        "with open(r\"/content/site_dic.pkl\", \"rb\") as input_file:\n",
        "    site_dict = pickle.load(input_file)\n",
        "\n",
        "# датафрейм словарика сайтов\n",
        "sites_dict_df = pd.DataFrame(\n",
        "    list(site_dict.keys()), index=list(site_dict.values()), columns=[\"site\"]\n",
        ")\n",
        "print(u\"всего сайтов:\", sites_dict_df.shape[0])\n",
        "sites_dict_df.head()"
      ],
      "metadata": {
        "colab": {
          "base_uri": "https://localhost:8080/",
          "height": 224
        },
        "id": "wd-NKUzbzlfY",
        "outputId": "08f012d5-4518-4eeb-9677-a2ef76a8c375"
      },
      "execution_count": null,
      "outputs": [
        {
          "output_type": "stream",
          "name": "stdout",
          "text": [
            "всего сайтов: 48371\n"
          ]
        },
        {
          "output_type": "execute_result",
          "data": {
            "text/plain": [
              "                                     site\n",
              "25075              www.abmecatronique.com\n",
              "13997                     groups.live.com\n",
              "42436  majeureliguefootball.wordpress.com\n",
              "30911           cdt46.media.tourinsoft.eu\n",
              "8104                  www.hdwallpapers.eu"
            ],
            "text/html": [
              "\n",
              "  <div id=\"df-4d763381-d4ca-4ddf-9dc6-2266a68639dc\">\n",
              "    <div class=\"colab-df-container\">\n",
              "      <div>\n",
              "<style scoped>\n",
              "    .dataframe tbody tr th:only-of-type {\n",
              "        vertical-align: middle;\n",
              "    }\n",
              "\n",
              "    .dataframe tbody tr th {\n",
              "        vertical-align: top;\n",
              "    }\n",
              "\n",
              "    .dataframe thead th {\n",
              "        text-align: right;\n",
              "    }\n",
              "</style>\n",
              "<table border=\"1\" class=\"dataframe\">\n",
              "  <thead>\n",
              "    <tr style=\"text-align: right;\">\n",
              "      <th></th>\n",
              "      <th>site</th>\n",
              "    </tr>\n",
              "  </thead>\n",
              "  <tbody>\n",
              "    <tr>\n",
              "      <th>25075</th>\n",
              "      <td>www.abmecatronique.com</td>\n",
              "    </tr>\n",
              "    <tr>\n",
              "      <th>13997</th>\n",
              "      <td>groups.live.com</td>\n",
              "    </tr>\n",
              "    <tr>\n",
              "      <th>42436</th>\n",
              "      <td>majeureliguefootball.wordpress.com</td>\n",
              "    </tr>\n",
              "    <tr>\n",
              "      <th>30911</th>\n",
              "      <td>cdt46.media.tourinsoft.eu</td>\n",
              "    </tr>\n",
              "    <tr>\n",
              "      <th>8104</th>\n",
              "      <td>www.hdwallpapers.eu</td>\n",
              "    </tr>\n",
              "  </tbody>\n",
              "</table>\n",
              "</div>\n",
              "      <button class=\"colab-df-convert\" onclick=\"convertToInteractive('df-4d763381-d4ca-4ddf-9dc6-2266a68639dc')\"\n",
              "              title=\"Convert this dataframe to an interactive table.\"\n",
              "              style=\"display:none;\">\n",
              "        \n",
              "  <svg xmlns=\"http://www.w3.org/2000/svg\" height=\"24px\"viewBox=\"0 0 24 24\"\n",
              "       width=\"24px\">\n",
              "    <path d=\"M0 0h24v24H0V0z\" fill=\"none\"/>\n",
              "    <path d=\"M18.56 5.44l.94 2.06.94-2.06 2.06-.94-2.06-.94-.94-2.06-.94 2.06-2.06.94zm-11 1L8.5 8.5l.94-2.06 2.06-.94-2.06-.94L8.5 2.5l-.94 2.06-2.06.94zm10 10l.94 2.06.94-2.06 2.06-.94-2.06-.94-.94-2.06-.94 2.06-2.06.94z\"/><path d=\"M17.41 7.96l-1.37-1.37c-.4-.4-.92-.59-1.43-.59-.52 0-1.04.2-1.43.59L10.3 9.45l-7.72 7.72c-.78.78-.78 2.05 0 2.83L4 21.41c.39.39.9.59 1.41.59.51 0 1.02-.2 1.41-.59l7.78-7.78 2.81-2.81c.8-.78.8-2.07 0-2.86zM5.41 20L4 18.59l7.72-7.72 1.47 1.35L5.41 20z\"/>\n",
              "  </svg>\n",
              "      </button>\n",
              "      \n",
              "  <style>\n",
              "    .colab-df-container {\n",
              "      display:flex;\n",
              "      flex-wrap:wrap;\n",
              "      gap: 12px;\n",
              "    }\n",
              "\n",
              "    .colab-df-convert {\n",
              "      background-color: #E8F0FE;\n",
              "      border: none;\n",
              "      border-radius: 50%;\n",
              "      cursor: pointer;\n",
              "      display: none;\n",
              "      fill: #1967D2;\n",
              "      height: 32px;\n",
              "      padding: 0 0 0 0;\n",
              "      width: 32px;\n",
              "    }\n",
              "\n",
              "    .colab-df-convert:hover {\n",
              "      background-color: #E2EBFA;\n",
              "      box-shadow: 0px 1px 2px rgba(60, 64, 67, 0.3), 0px 1px 3px 1px rgba(60, 64, 67, 0.15);\n",
              "      fill: #174EA6;\n",
              "    }\n",
              "\n",
              "    [theme=dark] .colab-df-convert {\n",
              "      background-color: #3B4455;\n",
              "      fill: #D2E3FC;\n",
              "    }\n",
              "\n",
              "    [theme=dark] .colab-df-convert:hover {\n",
              "      background-color: #434B5C;\n",
              "      box-shadow: 0px 1px 3px 1px rgba(0, 0, 0, 0.15);\n",
              "      filter: drop-shadow(0px 1px 2px rgba(0, 0, 0, 0.3));\n",
              "      fill: #FFFFFF;\n",
              "    }\n",
              "  </style>\n",
              "\n",
              "      <script>\n",
              "        const buttonEl =\n",
              "          document.querySelector('#df-4d763381-d4ca-4ddf-9dc6-2266a68639dc button.colab-df-convert');\n",
              "        buttonEl.style.display =\n",
              "          google.colab.kernel.accessAllowed ? 'block' : 'none';\n",
              "\n",
              "        async function convertToInteractive(key) {\n",
              "          const element = document.querySelector('#df-4d763381-d4ca-4ddf-9dc6-2266a68639dc');\n",
              "          const dataTable =\n",
              "            await google.colab.kernel.invokeFunction('convertToInteractive',\n",
              "                                                     [key], {});\n",
              "          if (!dataTable) return;\n",
              "\n",
              "          const docLinkHtml = 'Like what you see? Visit the ' +\n",
              "            '<a target=\"_blank\" href=https://colab.research.google.com/notebooks/data_table.ipynb>data table notebook</a>'\n",
              "            + ' to learn more about interactive tables.';\n",
              "          element.innerHTML = '';\n",
              "          dataTable['output_type'] = 'display_data';\n",
              "          await google.colab.output.renderOutput(dataTable, element);\n",
              "          const docLink = document.createElement('div');\n",
              "          docLink.innerHTML = docLinkHtml;\n",
              "          element.appendChild(docLink);\n",
              "        }\n",
              "      </script>\n",
              "    </div>\n",
              "  </div>\n",
              "  "
            ]
          },
          "metadata": {},
          "execution_count": 5
        }
      ]
    },
    {
      "cell_type": "code",
      "source": [
        "train_df.dtypes"
      ],
      "metadata": {
        "colab": {
          "base_uri": "https://localhost:8080/"
        },
        "id": "lYdHwufEc0da",
        "outputId": "c65e456c-33c5-41b3-df8d-c4f48fbb184c"
      },
      "execution_count": null,
      "outputs": [
        {
          "output_type": "execute_result",
          "data": {
            "text/plain": [
              "site1              int64\n",
              "time1     datetime64[ns]\n",
              "site2              int64\n",
              "time2     datetime64[ns]\n",
              "site3              int64\n",
              "time3     datetime64[ns]\n",
              "site4              int64\n",
              "time4     datetime64[ns]\n",
              "site5              int64\n",
              "time5     datetime64[ns]\n",
              "site6              int64\n",
              "time6     datetime64[ns]\n",
              "site7              int64\n",
              "time7     datetime64[ns]\n",
              "site8              int64\n",
              "time8     datetime64[ns]\n",
              "site9              int64\n",
              "time9     datetime64[ns]\n",
              "site10             int64\n",
              "time10    datetime64[ns]\n",
              "target             int64\n",
              "dtype: object"
            ]
          },
          "metadata": {},
          "execution_count": 6
        }
      ]
    },
    {
      "cell_type": "code",
      "source": [
        "sites = [\"site{}\".format(i) for i in range(1, 11)]\n",
        "sites"
      ],
      "metadata": {
        "colab": {
          "base_uri": "https://localhost:8080/"
        },
        "id": "PxlI1r861eYZ",
        "outputId": "8656f2f3-20e7-41f6-eecc-a6efc9cac3c9"
      },
      "execution_count": null,
      "outputs": [
        {
          "output_type": "execute_result",
          "data": {
            "text/plain": [
              "['site1',\n",
              " 'site2',\n",
              " 'site3',\n",
              " 'site4',\n",
              " 'site5',\n",
              " 'site6',\n",
              " 'site7',\n",
              " 'site8',\n",
              " 'site9',\n",
              " 'site10']"
            ]
          },
          "metadata": {},
          "execution_count": 7
        }
      ]
    },
    {
      "cell_type": "code",
      "source": [
        "sites = [\"site%s\" % i for i in range(1, 11)]\n",
        "sites"
      ],
      "metadata": {
        "colab": {
          "base_uri": "https://localhost:8080/"
        },
        "id": "NsSGrI1KaD6y",
        "outputId": "81ab2268-12b4-4b69-9b03-c45e9bcfdc5f"
      },
      "execution_count": null,
      "outputs": [
        {
          "output_type": "execute_result",
          "data": {
            "text/plain": [
              "['site1',\n",
              " 'site2',\n",
              " 'site3',\n",
              " 'site4',\n",
              " 'site5',\n",
              " 'site6',\n",
              " 'site7',\n",
              " 'site8',\n",
              " 'site9',\n",
              " 'site10']"
            ]
          },
          "metadata": {},
          "execution_count": 8
        }
      ]
    },
    {
      "cell_type": "markdown",
      "source": [
        "Выделим целевую переменную и объединим выборки, чтобы вместе привести их к разреженному формату."
      ],
      "metadata": {
        "id": "ScuBBm1Y1EBh"
      }
    },
    {
      "cell_type": "code",
      "source": [
        "# наша целевая переменная\n",
        "y_train = train_df[\"target\"]\n",
        "\n",
        "# объединенная таблица исходных данных\n",
        "full_df = pd.concat([train_df.drop(\"target\", axis=1), test_df])\n",
        "\n",
        "# индекс, по которому будем отделять обучающую выборку от тестовой\n",
        "idx_split = train_df.shape[0]"
      ],
      "metadata": {
        "id": "XETITPpJ08GC"
      },
      "execution_count": null,
      "outputs": []
    },
    {
      "cell_type": "code",
      "source": [
        "idx_split"
      ],
      "metadata": {
        "colab": {
          "base_uri": "https://localhost:8080/"
        },
        "id": "rE5xZ7kjaPzD",
        "outputId": "84b9e147-700b-444d-bf00-4520f585a2c1"
      },
      "execution_count": null,
      "outputs": [
        {
          "output_type": "execute_result",
          "data": {
            "text/plain": [
              "253561"
            ]
          },
          "metadata": {},
          "execution_count": 10
        }
      ]
    },
    {
      "cell_type": "code",
      "source": [
        "full_df.head()"
      ],
      "metadata": {
        "colab": {
          "base_uri": "https://localhost:8080/",
          "height": 475
        },
        "id": "ohyHXqhxaqm7",
        "outputId": "98d51284-769d-4f4f-b72a-7199313c6058"
      },
      "execution_count": null,
      "outputs": [
        {
          "output_type": "execute_result",
          "data": {
            "text/plain": [
              "            site1               time1  site2               time2  site3  \\\n",
              "session_id                                                                \n",
              "21669          56 2013-01-12 08:05:57     55 2013-01-12 08:05:57      0   \n",
              "54843          56 2013-01-12 08:37:23     55 2013-01-12 08:37:23     56   \n",
              "77292         946 2013-01-12 08:50:13    946 2013-01-12 08:50:14    951   \n",
              "114021        945 2013-01-12 08:50:17    948 2013-01-12 08:50:17    949   \n",
              "146670        947 2013-01-12 08:50:20    950 2013-01-12 08:50:20    948   \n",
              "\n",
              "                         time3  site4               time4  site5  \\\n",
              "session_id                                                         \n",
              "21669                      NaT      0                 NaT      0   \n",
              "54843      2013-01-12 09:07:07     55 2013-01-12 09:07:09      0   \n",
              "77292      2013-01-12 08:50:15    946 2013-01-12 08:50:15    946   \n",
              "114021     2013-01-12 08:50:18    948 2013-01-12 08:50:18    945   \n",
              "146670     2013-01-12 08:50:20    947 2013-01-12 08:50:21    950   \n",
              "\n",
              "                         time5  site6               time6  site7  \\\n",
              "session_id                                                         \n",
              "21669                      NaT      0                 NaT      0   \n",
              "54843                      NaT      0                 NaT      0   \n",
              "77292      2013-01-12 08:50:16    945 2013-01-12 08:50:16    948   \n",
              "114021     2013-01-12 08:50:18    946 2013-01-12 08:50:18    947   \n",
              "146670     2013-01-12 08:50:21    952 2013-01-12 08:50:21    946   \n",
              "\n",
              "                         time7  site8               time8  site9  \\\n",
              "session_id                                                         \n",
              "21669                      NaT      0                 NaT      0   \n",
              "54843                      NaT      0                 NaT      0   \n",
              "77292      2013-01-12 08:50:16    784 2013-01-12 08:50:16    949   \n",
              "114021     2013-01-12 08:50:19    945 2013-01-12 08:50:19    946   \n",
              "146670     2013-01-12 08:50:21    951 2013-01-12 08:50:22    946   \n",
              "\n",
              "                         time9  site10              time10  \n",
              "session_id                                                  \n",
              "21669                      NaT       0                 NaT  \n",
              "54843                      NaT       0                 NaT  \n",
              "77292      2013-01-12 08:50:17     946 2013-01-12 08:50:17  \n",
              "114021     2013-01-12 08:50:19     946 2013-01-12 08:50:20  \n",
              "146670     2013-01-12 08:50:22     947 2013-01-12 08:50:22  "
            ],
            "text/html": [
              "\n",
              "  <div id=\"df-71d0c1bf-2801-4832-bf26-641c8b7df1b2\">\n",
              "    <div class=\"colab-df-container\">\n",
              "      <div>\n",
              "<style scoped>\n",
              "    .dataframe tbody tr th:only-of-type {\n",
              "        vertical-align: middle;\n",
              "    }\n",
              "\n",
              "    .dataframe tbody tr th {\n",
              "        vertical-align: top;\n",
              "    }\n",
              "\n",
              "    .dataframe thead th {\n",
              "        text-align: right;\n",
              "    }\n",
              "</style>\n",
              "<table border=\"1\" class=\"dataframe\">\n",
              "  <thead>\n",
              "    <tr style=\"text-align: right;\">\n",
              "      <th></th>\n",
              "      <th>site1</th>\n",
              "      <th>time1</th>\n",
              "      <th>site2</th>\n",
              "      <th>time2</th>\n",
              "      <th>site3</th>\n",
              "      <th>time3</th>\n",
              "      <th>site4</th>\n",
              "      <th>time4</th>\n",
              "      <th>site5</th>\n",
              "      <th>time5</th>\n",
              "      <th>site6</th>\n",
              "      <th>time6</th>\n",
              "      <th>site7</th>\n",
              "      <th>time7</th>\n",
              "      <th>site8</th>\n",
              "      <th>time8</th>\n",
              "      <th>site9</th>\n",
              "      <th>time9</th>\n",
              "      <th>site10</th>\n",
              "      <th>time10</th>\n",
              "    </tr>\n",
              "    <tr>\n",
              "      <th>session_id</th>\n",
              "      <th></th>\n",
              "      <th></th>\n",
              "      <th></th>\n",
              "      <th></th>\n",
              "      <th></th>\n",
              "      <th></th>\n",
              "      <th></th>\n",
              "      <th></th>\n",
              "      <th></th>\n",
              "      <th></th>\n",
              "      <th></th>\n",
              "      <th></th>\n",
              "      <th></th>\n",
              "      <th></th>\n",
              "      <th></th>\n",
              "      <th></th>\n",
              "      <th></th>\n",
              "      <th></th>\n",
              "      <th></th>\n",
              "      <th></th>\n",
              "    </tr>\n",
              "  </thead>\n",
              "  <tbody>\n",
              "    <tr>\n",
              "      <th>21669</th>\n",
              "      <td>56</td>\n",
              "      <td>2013-01-12 08:05:57</td>\n",
              "      <td>55</td>\n",
              "      <td>2013-01-12 08:05:57</td>\n",
              "      <td>0</td>\n",
              "      <td>NaT</td>\n",
              "      <td>0</td>\n",
              "      <td>NaT</td>\n",
              "      <td>0</td>\n",
              "      <td>NaT</td>\n",
              "      <td>0</td>\n",
              "      <td>NaT</td>\n",
              "      <td>0</td>\n",
              "      <td>NaT</td>\n",
              "      <td>0</td>\n",
              "      <td>NaT</td>\n",
              "      <td>0</td>\n",
              "      <td>NaT</td>\n",
              "      <td>0</td>\n",
              "      <td>NaT</td>\n",
              "    </tr>\n",
              "    <tr>\n",
              "      <th>54843</th>\n",
              "      <td>56</td>\n",
              "      <td>2013-01-12 08:37:23</td>\n",
              "      <td>55</td>\n",
              "      <td>2013-01-12 08:37:23</td>\n",
              "      <td>56</td>\n",
              "      <td>2013-01-12 09:07:07</td>\n",
              "      <td>55</td>\n",
              "      <td>2013-01-12 09:07:09</td>\n",
              "      <td>0</td>\n",
              "      <td>NaT</td>\n",
              "      <td>0</td>\n",
              "      <td>NaT</td>\n",
              "      <td>0</td>\n",
              "      <td>NaT</td>\n",
              "      <td>0</td>\n",
              "      <td>NaT</td>\n",
              "      <td>0</td>\n",
              "      <td>NaT</td>\n",
              "      <td>0</td>\n",
              "      <td>NaT</td>\n",
              "    </tr>\n",
              "    <tr>\n",
              "      <th>77292</th>\n",
              "      <td>946</td>\n",
              "      <td>2013-01-12 08:50:13</td>\n",
              "      <td>946</td>\n",
              "      <td>2013-01-12 08:50:14</td>\n",
              "      <td>951</td>\n",
              "      <td>2013-01-12 08:50:15</td>\n",
              "      <td>946</td>\n",
              "      <td>2013-01-12 08:50:15</td>\n",
              "      <td>946</td>\n",
              "      <td>2013-01-12 08:50:16</td>\n",
              "      <td>945</td>\n",
              "      <td>2013-01-12 08:50:16</td>\n",
              "      <td>948</td>\n",
              "      <td>2013-01-12 08:50:16</td>\n",
              "      <td>784</td>\n",
              "      <td>2013-01-12 08:50:16</td>\n",
              "      <td>949</td>\n",
              "      <td>2013-01-12 08:50:17</td>\n",
              "      <td>946</td>\n",
              "      <td>2013-01-12 08:50:17</td>\n",
              "    </tr>\n",
              "    <tr>\n",
              "      <th>114021</th>\n",
              "      <td>945</td>\n",
              "      <td>2013-01-12 08:50:17</td>\n",
              "      <td>948</td>\n",
              "      <td>2013-01-12 08:50:17</td>\n",
              "      <td>949</td>\n",
              "      <td>2013-01-12 08:50:18</td>\n",
              "      <td>948</td>\n",
              "      <td>2013-01-12 08:50:18</td>\n",
              "      <td>945</td>\n",
              "      <td>2013-01-12 08:50:18</td>\n",
              "      <td>946</td>\n",
              "      <td>2013-01-12 08:50:18</td>\n",
              "      <td>947</td>\n",
              "      <td>2013-01-12 08:50:19</td>\n",
              "      <td>945</td>\n",
              "      <td>2013-01-12 08:50:19</td>\n",
              "      <td>946</td>\n",
              "      <td>2013-01-12 08:50:19</td>\n",
              "      <td>946</td>\n",
              "      <td>2013-01-12 08:50:20</td>\n",
              "    </tr>\n",
              "    <tr>\n",
              "      <th>146670</th>\n",
              "      <td>947</td>\n",
              "      <td>2013-01-12 08:50:20</td>\n",
              "      <td>950</td>\n",
              "      <td>2013-01-12 08:50:20</td>\n",
              "      <td>948</td>\n",
              "      <td>2013-01-12 08:50:20</td>\n",
              "      <td>947</td>\n",
              "      <td>2013-01-12 08:50:21</td>\n",
              "      <td>950</td>\n",
              "      <td>2013-01-12 08:50:21</td>\n",
              "      <td>952</td>\n",
              "      <td>2013-01-12 08:50:21</td>\n",
              "      <td>946</td>\n",
              "      <td>2013-01-12 08:50:21</td>\n",
              "      <td>951</td>\n",
              "      <td>2013-01-12 08:50:22</td>\n",
              "      <td>946</td>\n",
              "      <td>2013-01-12 08:50:22</td>\n",
              "      <td>947</td>\n",
              "      <td>2013-01-12 08:50:22</td>\n",
              "    </tr>\n",
              "  </tbody>\n",
              "</table>\n",
              "</div>\n",
              "      <button class=\"colab-df-convert\" onclick=\"convertToInteractive('df-71d0c1bf-2801-4832-bf26-641c8b7df1b2')\"\n",
              "              title=\"Convert this dataframe to an interactive table.\"\n",
              "              style=\"display:none;\">\n",
              "        \n",
              "  <svg xmlns=\"http://www.w3.org/2000/svg\" height=\"24px\"viewBox=\"0 0 24 24\"\n",
              "       width=\"24px\">\n",
              "    <path d=\"M0 0h24v24H0V0z\" fill=\"none\"/>\n",
              "    <path d=\"M18.56 5.44l.94 2.06.94-2.06 2.06-.94-2.06-.94-.94-2.06-.94 2.06-2.06.94zm-11 1L8.5 8.5l.94-2.06 2.06-.94-2.06-.94L8.5 2.5l-.94 2.06-2.06.94zm10 10l.94 2.06.94-2.06 2.06-.94-2.06-.94-.94-2.06-.94 2.06-2.06.94z\"/><path d=\"M17.41 7.96l-1.37-1.37c-.4-.4-.92-.59-1.43-.59-.52 0-1.04.2-1.43.59L10.3 9.45l-7.72 7.72c-.78.78-.78 2.05 0 2.83L4 21.41c.39.39.9.59 1.41.59.51 0 1.02-.2 1.41-.59l7.78-7.78 2.81-2.81c.8-.78.8-2.07 0-2.86zM5.41 20L4 18.59l7.72-7.72 1.47 1.35L5.41 20z\"/>\n",
              "  </svg>\n",
              "      </button>\n",
              "      \n",
              "  <style>\n",
              "    .colab-df-container {\n",
              "      display:flex;\n",
              "      flex-wrap:wrap;\n",
              "      gap: 12px;\n",
              "    }\n",
              "\n",
              "    .colab-df-convert {\n",
              "      background-color: #E8F0FE;\n",
              "      border: none;\n",
              "      border-radius: 50%;\n",
              "      cursor: pointer;\n",
              "      display: none;\n",
              "      fill: #1967D2;\n",
              "      height: 32px;\n",
              "      padding: 0 0 0 0;\n",
              "      width: 32px;\n",
              "    }\n",
              "\n",
              "    .colab-df-convert:hover {\n",
              "      background-color: #E2EBFA;\n",
              "      box-shadow: 0px 1px 2px rgba(60, 64, 67, 0.3), 0px 1px 3px 1px rgba(60, 64, 67, 0.15);\n",
              "      fill: #174EA6;\n",
              "    }\n",
              "\n",
              "    [theme=dark] .colab-df-convert {\n",
              "      background-color: #3B4455;\n",
              "      fill: #D2E3FC;\n",
              "    }\n",
              "\n",
              "    [theme=dark] .colab-df-convert:hover {\n",
              "      background-color: #434B5C;\n",
              "      box-shadow: 0px 1px 3px 1px rgba(0, 0, 0, 0.15);\n",
              "      filter: drop-shadow(0px 1px 2px rgba(0, 0, 0, 0.3));\n",
              "      fill: #FFFFFF;\n",
              "    }\n",
              "  </style>\n",
              "\n",
              "      <script>\n",
              "        const buttonEl =\n",
              "          document.querySelector('#df-71d0c1bf-2801-4832-bf26-641c8b7df1b2 button.colab-df-convert');\n",
              "        buttonEl.style.display =\n",
              "          google.colab.kernel.accessAllowed ? 'block' : 'none';\n",
              "\n",
              "        async function convertToInteractive(key) {\n",
              "          const element = document.querySelector('#df-71d0c1bf-2801-4832-bf26-641c8b7df1b2');\n",
              "          const dataTable =\n",
              "            await google.colab.kernel.invokeFunction('convertToInteractive',\n",
              "                                                     [key], {});\n",
              "          if (!dataTable) return;\n",
              "\n",
              "          const docLinkHtml = 'Like what you see? Visit the ' +\n",
              "            '<a target=\"_blank\" href=https://colab.research.google.com/notebooks/data_table.ipynb>data table notebook</a>'\n",
              "            + ' to learn more about interactive tables.';\n",
              "          element.innerHTML = '';\n",
              "          dataTable['output_type'] = 'display_data';\n",
              "          await google.colab.output.renderOutput(dataTable, element);\n",
              "          const docLink = document.createElement('div');\n",
              "          docLink.innerHTML = docLinkHtml;\n",
              "          element.appendChild(docLink);\n",
              "        }\n",
              "      </script>\n",
              "    </div>\n",
              "  </div>\n",
              "  "
            ]
          },
          "metadata": {},
          "execution_count": 11
        }
      ]
    },
    {
      "cell_type": "markdown",
      "source": [
        "Для самой первой модели будем использовать только посещенные сайты в сессии (но не будем обращать внимание на временные признаки). \n",
        "<br>За таким выбором данных для модели стоит такая идея: у Элис есть свои излюбленные сайты, и чем чаще вы видим эти сайты в сессии, тем выше вероятность, что это сессия Элис и наоборот.\n",
        "\n",
        "Подготовим данные, из всей таблицы выберем только признаки site1, site2, ... , site10. Напомним, что пропущенные значения заменены нулем. Вот как выглядят первые строки таблицы:\n"
      ],
      "metadata": {
        "id": "31T0WQ3pa_5K"
      }
    },
    {
      "cell_type": "code",
      "source": [
        "# табличка с индексами посещенных сайтов в сессии\n",
        "full_sites = full_df[sites]\n",
        "full_sites.head()"
      ],
      "metadata": {
        "colab": {
          "base_uri": "https://localhost:8080/",
          "height": 237
        },
        "id": "blkV63Qs08g5",
        "outputId": "a9d3d975-ff6c-45fd-d1a9-27e6ee7ff93f"
      },
      "execution_count": null,
      "outputs": [
        {
          "output_type": "execute_result",
          "data": {
            "text/plain": [
              "            site1  site2  site3  site4  site5  site6  site7  site8  site9  \\\n",
              "session_id                                                                  \n",
              "21669          56     55      0      0      0      0      0      0      0   \n",
              "54843          56     55     56     55      0      0      0      0      0   \n",
              "77292         946    946    951    946    946    945    948    784    949   \n",
              "114021        945    948    949    948    945    946    947    945    946   \n",
              "146670        947    950    948    947    950    952    946    951    946   \n",
              "\n",
              "            site10  \n",
              "session_id          \n",
              "21669            0  \n",
              "54843            0  \n",
              "77292          946  \n",
              "114021         946  \n",
              "146670         947  "
            ],
            "text/html": [
              "\n",
              "  <div id=\"df-3bded51f-58d1-4eec-820b-4ac2da66fdb1\">\n",
              "    <div class=\"colab-df-container\">\n",
              "      <div>\n",
              "<style scoped>\n",
              "    .dataframe tbody tr th:only-of-type {\n",
              "        vertical-align: middle;\n",
              "    }\n",
              "\n",
              "    .dataframe tbody tr th {\n",
              "        vertical-align: top;\n",
              "    }\n",
              "\n",
              "    .dataframe thead th {\n",
              "        text-align: right;\n",
              "    }\n",
              "</style>\n",
              "<table border=\"1\" class=\"dataframe\">\n",
              "  <thead>\n",
              "    <tr style=\"text-align: right;\">\n",
              "      <th></th>\n",
              "      <th>site1</th>\n",
              "      <th>site2</th>\n",
              "      <th>site3</th>\n",
              "      <th>site4</th>\n",
              "      <th>site5</th>\n",
              "      <th>site6</th>\n",
              "      <th>site7</th>\n",
              "      <th>site8</th>\n",
              "      <th>site9</th>\n",
              "      <th>site10</th>\n",
              "    </tr>\n",
              "    <tr>\n",
              "      <th>session_id</th>\n",
              "      <th></th>\n",
              "      <th></th>\n",
              "      <th></th>\n",
              "      <th></th>\n",
              "      <th></th>\n",
              "      <th></th>\n",
              "      <th></th>\n",
              "      <th></th>\n",
              "      <th></th>\n",
              "      <th></th>\n",
              "    </tr>\n",
              "  </thead>\n",
              "  <tbody>\n",
              "    <tr>\n",
              "      <th>21669</th>\n",
              "      <td>56</td>\n",
              "      <td>55</td>\n",
              "      <td>0</td>\n",
              "      <td>0</td>\n",
              "      <td>0</td>\n",
              "      <td>0</td>\n",
              "      <td>0</td>\n",
              "      <td>0</td>\n",
              "      <td>0</td>\n",
              "      <td>0</td>\n",
              "    </tr>\n",
              "    <tr>\n",
              "      <th>54843</th>\n",
              "      <td>56</td>\n",
              "      <td>55</td>\n",
              "      <td>56</td>\n",
              "      <td>55</td>\n",
              "      <td>0</td>\n",
              "      <td>0</td>\n",
              "      <td>0</td>\n",
              "      <td>0</td>\n",
              "      <td>0</td>\n",
              "      <td>0</td>\n",
              "    </tr>\n",
              "    <tr>\n",
              "      <th>77292</th>\n",
              "      <td>946</td>\n",
              "      <td>946</td>\n",
              "      <td>951</td>\n",
              "      <td>946</td>\n",
              "      <td>946</td>\n",
              "      <td>945</td>\n",
              "      <td>948</td>\n",
              "      <td>784</td>\n",
              "      <td>949</td>\n",
              "      <td>946</td>\n",
              "    </tr>\n",
              "    <tr>\n",
              "      <th>114021</th>\n",
              "      <td>945</td>\n",
              "      <td>948</td>\n",
              "      <td>949</td>\n",
              "      <td>948</td>\n",
              "      <td>945</td>\n",
              "      <td>946</td>\n",
              "      <td>947</td>\n",
              "      <td>945</td>\n",
              "      <td>946</td>\n",
              "      <td>946</td>\n",
              "    </tr>\n",
              "    <tr>\n",
              "      <th>146670</th>\n",
              "      <td>947</td>\n",
              "      <td>950</td>\n",
              "      <td>948</td>\n",
              "      <td>947</td>\n",
              "      <td>950</td>\n",
              "      <td>952</td>\n",
              "      <td>946</td>\n",
              "      <td>951</td>\n",
              "      <td>946</td>\n",
              "      <td>947</td>\n",
              "    </tr>\n",
              "  </tbody>\n",
              "</table>\n",
              "</div>\n",
              "      <button class=\"colab-df-convert\" onclick=\"convertToInteractive('df-3bded51f-58d1-4eec-820b-4ac2da66fdb1')\"\n",
              "              title=\"Convert this dataframe to an interactive table.\"\n",
              "              style=\"display:none;\">\n",
              "        \n",
              "  <svg xmlns=\"http://www.w3.org/2000/svg\" height=\"24px\"viewBox=\"0 0 24 24\"\n",
              "       width=\"24px\">\n",
              "    <path d=\"M0 0h24v24H0V0z\" fill=\"none\"/>\n",
              "    <path d=\"M18.56 5.44l.94 2.06.94-2.06 2.06-.94-2.06-.94-.94-2.06-.94 2.06-2.06.94zm-11 1L8.5 8.5l.94-2.06 2.06-.94-2.06-.94L8.5 2.5l-.94 2.06-2.06.94zm10 10l.94 2.06.94-2.06 2.06-.94-2.06-.94-.94-2.06-.94 2.06-2.06.94z\"/><path d=\"M17.41 7.96l-1.37-1.37c-.4-.4-.92-.59-1.43-.59-.52 0-1.04.2-1.43.59L10.3 9.45l-7.72 7.72c-.78.78-.78 2.05 0 2.83L4 21.41c.39.39.9.59 1.41.59.51 0 1.02-.2 1.41-.59l7.78-7.78 2.81-2.81c.8-.78.8-2.07 0-2.86zM5.41 20L4 18.59l7.72-7.72 1.47 1.35L5.41 20z\"/>\n",
              "  </svg>\n",
              "      </button>\n",
              "      \n",
              "  <style>\n",
              "    .colab-df-container {\n",
              "      display:flex;\n",
              "      flex-wrap:wrap;\n",
              "      gap: 12px;\n",
              "    }\n",
              "\n",
              "    .colab-df-convert {\n",
              "      background-color: #E8F0FE;\n",
              "      border: none;\n",
              "      border-radius: 50%;\n",
              "      cursor: pointer;\n",
              "      display: none;\n",
              "      fill: #1967D2;\n",
              "      height: 32px;\n",
              "      padding: 0 0 0 0;\n",
              "      width: 32px;\n",
              "    }\n",
              "\n",
              "    .colab-df-convert:hover {\n",
              "      background-color: #E2EBFA;\n",
              "      box-shadow: 0px 1px 2px rgba(60, 64, 67, 0.3), 0px 1px 3px 1px rgba(60, 64, 67, 0.15);\n",
              "      fill: #174EA6;\n",
              "    }\n",
              "\n",
              "    [theme=dark] .colab-df-convert {\n",
              "      background-color: #3B4455;\n",
              "      fill: #D2E3FC;\n",
              "    }\n",
              "\n",
              "    [theme=dark] .colab-df-convert:hover {\n",
              "      background-color: #434B5C;\n",
              "      box-shadow: 0px 1px 3px 1px rgba(0, 0, 0, 0.15);\n",
              "      filter: drop-shadow(0px 1px 2px rgba(0, 0, 0, 0.3));\n",
              "      fill: #FFFFFF;\n",
              "    }\n",
              "  </style>\n",
              "\n",
              "      <script>\n",
              "        const buttonEl =\n",
              "          document.querySelector('#df-3bded51f-58d1-4eec-820b-4ac2da66fdb1 button.colab-df-convert');\n",
              "        buttonEl.style.display =\n",
              "          google.colab.kernel.accessAllowed ? 'block' : 'none';\n",
              "\n",
              "        async function convertToInteractive(key) {\n",
              "          const element = document.querySelector('#df-3bded51f-58d1-4eec-820b-4ac2da66fdb1');\n",
              "          const dataTable =\n",
              "            await google.colab.kernel.invokeFunction('convertToInteractive',\n",
              "                                                     [key], {});\n",
              "          if (!dataTable) return;\n",
              "\n",
              "          const docLinkHtml = 'Like what you see? Visit the ' +\n",
              "            '<a target=\"_blank\" href=https://colab.research.google.com/notebooks/data_table.ipynb>data table notebook</a>'\n",
              "            + ' to learn more about interactive tables.';\n",
              "          element.innerHTML = '';\n",
              "          dataTable['output_type'] = 'display_data';\n",
              "          await google.colab.output.renderOutput(dataTable, element);\n",
              "          const docLink = document.createElement('div');\n",
              "          docLink.innerHTML = docLinkHtml;\n",
              "          element.appendChild(docLink);\n",
              "        }\n",
              "      </script>\n",
              "    </div>\n",
              "  </div>\n",
              "  "
            ]
          },
          "metadata": {},
          "execution_count": 12
        }
      ]
    },
    {
      "cell_type": "markdown",
      "source": [
        "Сессии представляют собой последовательность индексов сайтов и данные в таком виде неудобны для линейных методов. В соответствии с нашей гипотезой (у Элис есть излюбленные сайты) надо преобразовать эту таблицу таким образом, чтобы каждому возможному сайту соответствовал свой отдельный признак (колонка), а его значение равнялось бы количеству посещений этого сайта в сессии. Это делается в две строчки:"
      ],
      "metadata": {
        "id": "O4cq_UVhbIsb"
      }
    },
    {
      "cell_type": "code",
      "source": [
        "from scipy.sparse import csr_matrix\n",
        "csr_matrix?"
      ],
      "metadata": {
        "id": "fubvpK3J08jw"
      },
      "execution_count": null,
      "outputs": []
    },
    {
      "cell_type": "code",
      "source": [
        "# последовательность с индексами\n",
        "sites_flatten = full_sites.values.flatten()\n",
        "sites_flatten, sites_flatten.shape"
      ],
      "metadata": {
        "colab": {
          "base_uri": "https://localhost:8080/"
        },
        "id": "rtvDxS4608my",
        "outputId": "20674179-b657-493a-f1d7-af8c739dce69"
      },
      "execution_count": null,
      "outputs": [
        {
          "output_type": "execute_result",
          "data": {
            "text/plain": [
              "(array([  56,   55,    0, ..., 1098, 1098, 1098]), (3363580,))"
            ]
          },
          "metadata": {},
          "execution_count": 14
        }
      ]
    },
    {
      "cell_type": "code",
      "source": [
        "# искомая матрица\n",
        "full_sites_sparse = csr_matrix(\n",
        "    (\n",
        "        [1] * sites_flatten.shape[0],\n",
        "        sites_flatten,\n",
        "        range(0, sites_flatten.shape[0] + 10, 10),\n",
        "    )\n",
        ")[:, 1:]\n",
        "full_sites_sparse.shape, full_sites_sparse"
      ],
      "metadata": {
        "colab": {
          "base_uri": "https://localhost:8080/"
        },
        "id": "KEWNlYKvdUdC",
        "outputId": "b114c870-5acd-4296-95ed-eaac57dadd27"
      },
      "execution_count": null,
      "outputs": [
        {
          "output_type": "execute_result",
          "data": {
            "text/plain": [
              "((336358, 48371), <336358x48371 sparse matrix of type '<class 'numpy.int64'>'\n",
              " \twith 3195430 stored elements in Compressed Sparse Row format>)"
            ]
          },
          "metadata": {},
          "execution_count": 15
        }
      ]
    },
    {
      "cell_type": "code",
      "source": [
        "X_train_sparse = full_sites_sparse[:idx_split]\n",
        "X_test_sparse = full_sites_sparse[idx_split:]"
      ],
      "metadata": {
        "id": "wMGRAPZfj3Vj"
      },
      "execution_count": null,
      "outputs": []
    },
    {
      "cell_type": "code",
      "source": [
        "X_train_sparse.shape, y_train.shape"
      ],
      "metadata": {
        "colab": {
          "base_uri": "https://localhost:8080/"
        },
        "id": "Udb-Vr_wqe8D",
        "outputId": "fa777c8c-707b-4d06-e3bc-45756187206f"
      },
      "execution_count": null,
      "outputs": [
        {
          "output_type": "execute_result",
          "data": {
            "text/plain": [
              "((253561, 48371), (253561,))"
            ]
          },
          "metadata": {},
          "execution_count": 17
        }
      ]
    },
    {
      "cell_type": "markdown",
      "source": [
        "Еще один плюс использования разреженных матриц в том, что для них имеются специальные реализации как матричных операций, так и алгоритмов машинного обучения, что подчас позволяет ощутимо ускорить операции за счет особенностей структуры данных. Это касается и логистической регрессии. Вот теперь у нас все готово для построения нашей первой модели.\n",
        "<br>\n",
        "<br> Разреженные матрицы - допустим сайт для 2 сессии и список сайтов для неё же 2:[57, 56, 205, ....]"
      ],
      "metadata": {
        "id": "7afaAgE2bRry"
      }
    },
    {
      "cell_type": "markdown",
      "source": [
        "#2. Построение первой модели\n",
        "##Итак, у нас есть алгоритм и данные для него, построим нашу первую модель, воспользовавшись релизацией логистической регрессии из пакета sklearn с параметрами по умолчанию. Первые 90% данных будем использовать для обучения (обучающая выборка отсортирована по времени), а оставшиеся 10% для проверки качества (validation)."
      ],
      "metadata": {
        "id": "2VDEQv8lbTnS"
      }
    },
    {
      "cell_type": "markdown",
      "source": [
        "Напишите простую функцию, которая будет возвращать качество модели на отложенной выборке, и обучите наш первый классификатор."
      ],
      "metadata": {
        "id": "7kjCP0zYbZsS"
      }
    },
    {
      "cell_type": "code",
      "source": [
        "%%time \n",
        "logit = LogisticRegression(n_jobs = -1, random_state = 17)\n",
        "logit.fit(X_train_sparse, y_train)"
      ],
      "metadata": {
        "colab": {
          "base_uri": "https://localhost:8080/"
        },
        "id": "mKuczbd7sXVU",
        "outputId": "f1f83aab-7bd3-4145-8ab9-2bb5bce070df"
      },
      "execution_count": null,
      "outputs": [
        {
          "output_type": "stream",
          "name": "stdout",
          "text": [
            "CPU times: user 136 ms, sys: 55.7 ms, total: 192 ms\n",
            "Wall time: 4.75 s\n"
          ]
        },
        {
          "output_type": "execute_result",
          "data": {
            "text/plain": [
              "LogisticRegression(n_jobs=-1, random_state=17)"
            ]
          },
          "metadata": {},
          "execution_count": 18
        }
      ]
    },
    {
      "cell_type": "code",
      "source": [
        "logit, logit.predict(X_train_sparse[0]) # так получается именно предсказание 0 или 1, чтобы получить именно вероятность,нужно использовать proba"
      ],
      "metadata": {
        "colab": {
          "base_uri": "https://localhost:8080/"
        },
        "id": "T8bIDy1rs548",
        "outputId": "622940c7-b91d-44d5-cf6f-200196a68f53"
      },
      "execution_count": null,
      "outputs": [
        {
          "output_type": "execute_result",
          "data": {
            "text/plain": [
              "(LogisticRegression(n_jobs=-1, random_state=17), array([0]))"
            ]
          },
          "metadata": {},
          "execution_count": 19
        }
      ]
    },
    {
      "cell_type": "code",
      "source": [
        "logit.predict_proba(X_test_sparse[0, :])  # вер-ть класса 0, вер-ть класса - 1"
      ],
      "metadata": {
        "colab": {
          "base_uri": "https://localhost:8080/"
        },
        "id": "QnRnP-VJtN9z",
        "outputId": "371b3988-0691-4230-8937-341458ae1c2d"
      },
      "execution_count": null,
      "outputs": [
        {
          "output_type": "execute_result",
          "data": {
            "text/plain": [
              "array([[0.99778024, 0.00221976]])"
            ]
          },
          "metadata": {},
          "execution_count": 20
        }
      ]
    },
    {
      "cell_type": "code",
      "source": [
        "logit.predict_proba(X_test_sparse[:15, :])[:, 1]  # выберем второй столбец - вер-ть класса - 1"
      ],
      "metadata": {
        "colab": {
          "base_uri": "https://localhost:8080/"
        },
        "id": "1SKx3HJvtpZb",
        "outputId": "63456cc0-b91a-4bf5-8107-611de6707116"
      },
      "execution_count": null,
      "outputs": [
        {
          "output_type": "execute_result",
          "data": {
            "text/plain": [
              "array([2.21976363e-03, 2.51896229e-09, 6.16027591e-09, 1.32268970e-08,\n",
              "       2.72906695e-05, 1.51180478e-04, 4.42378701e-04, 1.01245078e-04,\n",
              "       7.77456105e-04, 1.04950780e-01, 2.37984922e-05, 9.55242625e-05,\n",
              "       2.86739456e-04, 3.58988651e-01, 3.47106166e-05])"
            ]
          },
          "metadata": {},
          "execution_count": 21
        }
      ]
    },
    {
      "cell_type": "code",
      "source": [
        "def get_auc_lr_valid(X, y, max_iter = 100, C=1.0, ratio=0.9, seed=17):\n",
        "    \"\"\"\n",
        "    X, y – выборка\n",
        "    ratio – в каком отношении поделить выборку\n",
        "    C, seed – коэф-т регуляризации и random_state \n",
        "              логистической регрессии\n",
        "    \"\"\"\n",
        "    X_train, X_valid, y_train, y_valid = X[:int(X.shape[0] * ratio), :], \\\n",
        "                                         X[int(X.shape[0] * (1- ratio)):, :], \\\n",
        "                                         y[:int(y.shape[0] * ratio)], \\\n",
        "                                         y[int(y.shape[0] * (1- ratio)):]\n",
        "                                  \n",
        "    from sklearn.linear_model import LogisticRegression\n",
        "    from sklearn.metrics import roc_auc_score\n",
        "    clf = LogisticRegression(C = C, random_state = seed, verbose = 1, \\\n",
        "                             max_iter = max_iter, n_jobs = -1).fit(X_train, y_train)\n",
        "    return f\"roc_auc_score: {roc_auc_score(y_valid, clf.predict(X_valid))}\""
      ],
      "metadata": {
        "id": "FyZJtds408po"
      },
      "execution_count": null,
      "outputs": []
    },
    {
      "cell_type": "code",
      "source": [
        "%%time\n",
        "get_auc_lr_valid(X_train_sparse, y_train, max_iter = 400)  # не верно работает, так как мы используем сразу классы 0, 1, надо брать вер-ти классов"
      ],
      "metadata": {
        "colab": {
          "base_uri": "https://localhost:8080/",
          "height": 109
        },
        "id": "1HseeKeCbeii",
        "outputId": "394f531e-f862-4a52-97e8-93f068230a29"
      },
      "execution_count": null,
      "outputs": [
        {
          "output_type": "stream",
          "name": "stderr",
          "text": [
            "[Parallel(n_jobs=-1)]: Using backend LokyBackend with 2 concurrent workers.\n"
          ]
        },
        {
          "output_type": "stream",
          "name": "stdout",
          "text": [
            "CPU times: user 188 ms, sys: 29.9 ms, total: 217 ms\n",
            "Wall time: 9.3 s\n"
          ]
        },
        {
          "output_type": "stream",
          "name": "stderr",
          "text": [
            "[Parallel(n_jobs=-1)]: Done   1 out of   1 | elapsed:    9.1s finished\n"
          ]
        },
        {
          "output_type": "execute_result",
          "data": {
            "text/plain": [
              "'roc_auc_score: 0.6217343469590473'"
            ],
            "application/vnd.google.colaboratory.intrinsic+json": {
              "type": "string"
            }
          },
          "metadata": {},
          "execution_count": 23
        }
      ]
    },
    {
      "cell_type": "code",
      "source": [
        "def get_auc_lr_valid_proba(X, y, max_iter = 100, C=1.0, ratio=0.9, seed=17):\n",
        "    \"\"\"\n",
        "    X, y – выборка\n",
        "    ratio – в каком отношении поделить выборку\n",
        "    C, seed – коэф-т регуляризации и random_state \n",
        "              логистической регрессии\n",
        "    \"\"\"\n",
        "    X_train, X_valid, y_train, y_valid = X[:int(X.shape[0] * ratio), :], \\\n",
        "                                         X[int(X.shape[0] * (1- ratio)):, :], \\\n",
        "                                         y[:int(y.shape[0] * ratio)], \\\n",
        "                                         y[int(y.shape[0] * (1- ratio)):]\n",
        "                                  \n",
        "    from sklearn.linear_model import LogisticRegression\n",
        "    from sklearn.metrics import roc_auc_score\n",
        "    clf = LogisticRegression(C = C, random_state = seed, verbose = 1, \\\n",
        "                             max_iter = max_iter, n_jobs = -1).fit(X_train, y_train)\n",
        "    return f\"roc_auc_score: {roc_auc_score(y_valid, clf.predict_proba(X_valid)[:, 1])}\""
      ],
      "metadata": {
        "id": "y_nDvhl108si"
      },
      "execution_count": null,
      "outputs": []
    },
    {
      "cell_type": "code",
      "source": [
        "%%time\n",
        "get_auc_lr_valid_proba(X_train_sparse, y_train, max_iter = 100)"
      ],
      "metadata": {
        "colab": {
          "base_uri": "https://localhost:8080/",
          "height": 109
        },
        "id": "74Dq4U0Ft5uR",
        "outputId": "1c18ddd4-3b9d-4f01-8dbf-dcee1ec27d22"
      },
      "execution_count": null,
      "outputs": [
        {
          "output_type": "stream",
          "name": "stderr",
          "text": [
            "[Parallel(n_jobs=-1)]: Using backend LokyBackend with 2 concurrent workers.\n",
            "[Parallel(n_jobs=-1)]: Done   1 out of   1 | elapsed:    3.4s finished\n"
          ]
        },
        {
          "output_type": "stream",
          "name": "stdout",
          "text": [
            "CPU times: user 189 ms, sys: 19.1 ms, total: 208 ms\n",
            "Wall time: 4.09 s\n"
          ]
        },
        {
          "output_type": "execute_result",
          "data": {
            "text/plain": [
              "'roc_auc_score: 0.9695370508853196'"
            ],
            "application/vnd.google.colaboratory.intrinsic+json": {
              "type": "string"
            }
          },
          "metadata": {},
          "execution_count": 25
        }
      ]
    },
    {
      "cell_type": "markdown",
      "source": [
        "Будем считать эту модель нашей первой отправной точкой (baseline). Для построения модели для прогноза на тестовой выборке необходимо обучить модель заново уже на всей обучающей выборке (пока наша модель обучалась лишь на части данных), что повысит ее обобщающую способность:"
      ],
      "metadata": {
        "id": "AFLAFH6rvGBs"
      }
    },
    {
      "cell_type": "code",
      "source": [
        "# функция для записи прогнозов в файл\n",
        "def write_to_submission_file(\n",
        "    predicted_labels, out_file, target=\"target\", index_label=\"session_id\"\n",
        "):\n",
        "    predicted_df = pd.DataFrame(\n",
        "        predicted_labels,\n",
        "        index=np.arange(1, predicted_labels.shape[0] + 1),\n",
        "        columns=[target],\n",
        "    )\n",
        "    predicted_df.to_csv(out_file, index_label=index_label)"
      ],
      "metadata": {
        "id": "oR7xltCVt7Nz"
      },
      "execution_count": null,
      "outputs": []
    },
    {
      "cell_type": "markdown",
      "source": [
        "Обучите модель на всей выборке, сделайте прогноз для тестовой выборки и сделайте посылку в соревновании."
      ],
      "metadata": {
        "id": "43w2ZVFOvOzM"
      }
    },
    {
      "cell_type": "code",
      "source": [
        "%%time \n",
        "logit = LogisticRegression(n_jobs = -1, random_state = 17, max_iter = 300)\n",
        "logit.fit(X_train_sparse, y_train)"
      ],
      "metadata": {
        "colab": {
          "base_uri": "https://localhost:8080/"
        },
        "id": "rATXXyUrvFSM",
        "outputId": "93e24c50-d39e-45f2-f9a3-ec722850d1fe"
      },
      "execution_count": null,
      "outputs": [
        {
          "output_type": "stream",
          "name": "stdout",
          "text": [
            "CPU times: user 97.7 ms, sys: 22.6 ms, total: 120 ms\n",
            "Wall time: 10.1 s\n"
          ]
        },
        {
          "output_type": "execute_result",
          "data": {
            "text/plain": [
              "LogisticRegression(max_iter=300, n_jobs=-1, random_state=17)"
            ]
          },
          "metadata": {},
          "execution_count": 27
        }
      ]
    },
    {
      "cell_type": "code",
      "source": [
        "%%time\n",
        "test_pred = logit.predict_proba(X_test_sparse)[:, 1]\n",
        "test_pred"
      ],
      "metadata": {
        "colab": {
          "base_uri": "https://localhost:8080/"
        },
        "id": "7eyV_ofFvFVD",
        "outputId": "c4c55a34-7b8e-45cf-bc6b-2eab733aec74"
      },
      "execution_count": null,
      "outputs": [
        {
          "output_type": "stream",
          "name": "stdout",
          "text": [
            "CPU times: user 9.48 ms, sys: 1.06 ms, total: 10.5 ms\n",
            "Wall time: 10.5 ms\n"
          ]
        },
        {
          "output_type": "execute_result",
          "data": {
            "text/plain": [
              "array([2.06724754e-03, 4.31148330e-09, 1.85794103e-08, ...,\n",
              "       8.49272853e-03, 4.05954280e-04, 1.88037424e-05])"
            ]
          },
          "metadata": {},
          "execution_count": 28
        }
      ]
    },
    {
      "cell_type": "code",
      "source": [
        "write_to_submission_file(test_pred, '/content/submission.csv')"
      ],
      "metadata": {
        "id": "ZLmcFKQTvFXr"
      },
      "execution_count": null,
      "outputs": []
    },
    {
      "cell_type": "code",
      "source": [
        "pd.Series(test_pred, index = range(1, test_pred.shape[0] +1), name='target') \\\n",
        "    .to_csv('/content/submission.csv', header=True, index_label ='session_id')  # можно ещё так)"
      ],
      "metadata": {
        "id": "a39HpJvKvFaU"
      },
      "execution_count": null,
      "outputs": []
    },
    {
      "cell_type": "code",
      "source": [
        "!head submission.csv"
      ],
      "metadata": {
        "colab": {
          "base_uri": "https://localhost:8080/"
        },
        "id": "juca9yNQvFcr",
        "outputId": "7a4ff587-8ec1-45b3-c6b2-4e5ff8dc264b"
      },
      "execution_count": null,
      "outputs": [
        {
          "output_type": "stream",
          "name": "stdout",
          "text": [
            "session_id,target\n",
            "1,0.0020672475403929803\n",
            "2,4.311483300769458e-09\n",
            "3,1.8579410321570902e-08\n",
            "4,2.10533554297997e-08\n",
            "5,3.013301076658296e-05\n",
            "6,0.00018010607878885242\n",
            "7,0.00042410463740370725\n",
            "8,0.0001112528534025052\n",
            "9,0.0007223311750303574\n"
          ]
        }
      ]
    },
    {
      "cell_type": "markdown",
      "source": [
        "#3. Улучшение модели, построение новых признаков\n",
        "##Создайте такой признак, который будет представлять собой число вида ГГГГММ от той даты, когда проходила сессия, например 201407 -- 2014 год и 7 месяц. Таким образом, мы будем учитывать помесячный линейный тренд за весь период предоставленных данных."
      ],
      "metadata": {
        "id": "EP65-4Ydxr-b"
      }
    },
    {
      "cell_type": "code",
      "source": [
        "train_df.head()"
      ],
      "metadata": {
        "colab": {
          "base_uri": "https://localhost:8080/",
          "height": 504
        },
        "id": "Zhkr5N2svFfM",
        "outputId": "e4101b4b-9aeb-42bb-aafe-64d211ef78cb"
      },
      "execution_count": null,
      "outputs": [
        {
          "output_type": "execute_result",
          "data": {
            "text/plain": [
              "            site1               time1  site2               time2  site3  \\\n",
              "session_id                                                                \n",
              "21669          56 2013-01-12 08:05:57     55 2013-01-12 08:05:57      0   \n",
              "54843          56 2013-01-12 08:37:23     55 2013-01-12 08:37:23     56   \n",
              "77292         946 2013-01-12 08:50:13    946 2013-01-12 08:50:14    951   \n",
              "114021        945 2013-01-12 08:50:17    948 2013-01-12 08:50:17    949   \n",
              "146670        947 2013-01-12 08:50:20    950 2013-01-12 08:50:20    948   \n",
              "\n",
              "                         time3  site4               time4  site5  \\\n",
              "session_id                                                         \n",
              "21669                      NaT      0                 NaT      0   \n",
              "54843      2013-01-12 09:07:07     55 2013-01-12 09:07:09      0   \n",
              "77292      2013-01-12 08:50:15    946 2013-01-12 08:50:15    946   \n",
              "114021     2013-01-12 08:50:18    948 2013-01-12 08:50:18    945   \n",
              "146670     2013-01-12 08:50:20    947 2013-01-12 08:50:21    950   \n",
              "\n",
              "                         time5  ...               time6 site7  \\\n",
              "session_id                      ...                             \n",
              "21669                      NaT  ...                 NaT     0   \n",
              "54843                      NaT  ...                 NaT     0   \n",
              "77292      2013-01-12 08:50:16  ... 2013-01-12 08:50:16   948   \n",
              "114021     2013-01-12 08:50:18  ... 2013-01-12 08:50:18   947   \n",
              "146670     2013-01-12 08:50:21  ... 2013-01-12 08:50:21   946   \n",
              "\n",
              "                         time7 site8               time8 site9  \\\n",
              "session_id                                                       \n",
              "21669                      NaT     0                 NaT     0   \n",
              "54843                      NaT     0                 NaT     0   \n",
              "77292      2013-01-12 08:50:16   784 2013-01-12 08:50:16   949   \n",
              "114021     2013-01-12 08:50:19   945 2013-01-12 08:50:19   946   \n",
              "146670     2013-01-12 08:50:21   951 2013-01-12 08:50:22   946   \n",
              "\n",
              "                         time9 site10              time10 target  \n",
              "session_id                                                        \n",
              "21669                      NaT      0                 NaT      0  \n",
              "54843                      NaT      0                 NaT      0  \n",
              "77292      2013-01-12 08:50:17    946 2013-01-12 08:50:17      0  \n",
              "114021     2013-01-12 08:50:19    946 2013-01-12 08:50:20      0  \n",
              "146670     2013-01-12 08:50:22    947 2013-01-12 08:50:22      0  \n",
              "\n",
              "[5 rows x 21 columns]"
            ],
            "text/html": [
              "\n",
              "  <div id=\"df-3cc2dca5-8569-4bac-950d-bba23ed1a971\">\n",
              "    <div class=\"colab-df-container\">\n",
              "      <div>\n",
              "<style scoped>\n",
              "    .dataframe tbody tr th:only-of-type {\n",
              "        vertical-align: middle;\n",
              "    }\n",
              "\n",
              "    .dataframe tbody tr th {\n",
              "        vertical-align: top;\n",
              "    }\n",
              "\n",
              "    .dataframe thead th {\n",
              "        text-align: right;\n",
              "    }\n",
              "</style>\n",
              "<table border=\"1\" class=\"dataframe\">\n",
              "  <thead>\n",
              "    <tr style=\"text-align: right;\">\n",
              "      <th></th>\n",
              "      <th>site1</th>\n",
              "      <th>time1</th>\n",
              "      <th>site2</th>\n",
              "      <th>time2</th>\n",
              "      <th>site3</th>\n",
              "      <th>time3</th>\n",
              "      <th>site4</th>\n",
              "      <th>time4</th>\n",
              "      <th>site5</th>\n",
              "      <th>time5</th>\n",
              "      <th>...</th>\n",
              "      <th>time6</th>\n",
              "      <th>site7</th>\n",
              "      <th>time7</th>\n",
              "      <th>site8</th>\n",
              "      <th>time8</th>\n",
              "      <th>site9</th>\n",
              "      <th>time9</th>\n",
              "      <th>site10</th>\n",
              "      <th>time10</th>\n",
              "      <th>target</th>\n",
              "    </tr>\n",
              "    <tr>\n",
              "      <th>session_id</th>\n",
              "      <th></th>\n",
              "      <th></th>\n",
              "      <th></th>\n",
              "      <th></th>\n",
              "      <th></th>\n",
              "      <th></th>\n",
              "      <th></th>\n",
              "      <th></th>\n",
              "      <th></th>\n",
              "      <th></th>\n",
              "      <th></th>\n",
              "      <th></th>\n",
              "      <th></th>\n",
              "      <th></th>\n",
              "      <th></th>\n",
              "      <th></th>\n",
              "      <th></th>\n",
              "      <th></th>\n",
              "      <th></th>\n",
              "      <th></th>\n",
              "      <th></th>\n",
              "    </tr>\n",
              "  </thead>\n",
              "  <tbody>\n",
              "    <tr>\n",
              "      <th>21669</th>\n",
              "      <td>56</td>\n",
              "      <td>2013-01-12 08:05:57</td>\n",
              "      <td>55</td>\n",
              "      <td>2013-01-12 08:05:57</td>\n",
              "      <td>0</td>\n",
              "      <td>NaT</td>\n",
              "      <td>0</td>\n",
              "      <td>NaT</td>\n",
              "      <td>0</td>\n",
              "      <td>NaT</td>\n",
              "      <td>...</td>\n",
              "      <td>NaT</td>\n",
              "      <td>0</td>\n",
              "      <td>NaT</td>\n",
              "      <td>0</td>\n",
              "      <td>NaT</td>\n",
              "      <td>0</td>\n",
              "      <td>NaT</td>\n",
              "      <td>0</td>\n",
              "      <td>NaT</td>\n",
              "      <td>0</td>\n",
              "    </tr>\n",
              "    <tr>\n",
              "      <th>54843</th>\n",
              "      <td>56</td>\n",
              "      <td>2013-01-12 08:37:23</td>\n",
              "      <td>55</td>\n",
              "      <td>2013-01-12 08:37:23</td>\n",
              "      <td>56</td>\n",
              "      <td>2013-01-12 09:07:07</td>\n",
              "      <td>55</td>\n",
              "      <td>2013-01-12 09:07:09</td>\n",
              "      <td>0</td>\n",
              "      <td>NaT</td>\n",
              "      <td>...</td>\n",
              "      <td>NaT</td>\n",
              "      <td>0</td>\n",
              "      <td>NaT</td>\n",
              "      <td>0</td>\n",
              "      <td>NaT</td>\n",
              "      <td>0</td>\n",
              "      <td>NaT</td>\n",
              "      <td>0</td>\n",
              "      <td>NaT</td>\n",
              "      <td>0</td>\n",
              "    </tr>\n",
              "    <tr>\n",
              "      <th>77292</th>\n",
              "      <td>946</td>\n",
              "      <td>2013-01-12 08:50:13</td>\n",
              "      <td>946</td>\n",
              "      <td>2013-01-12 08:50:14</td>\n",
              "      <td>951</td>\n",
              "      <td>2013-01-12 08:50:15</td>\n",
              "      <td>946</td>\n",
              "      <td>2013-01-12 08:50:15</td>\n",
              "      <td>946</td>\n",
              "      <td>2013-01-12 08:50:16</td>\n",
              "      <td>...</td>\n",
              "      <td>2013-01-12 08:50:16</td>\n",
              "      <td>948</td>\n",
              "      <td>2013-01-12 08:50:16</td>\n",
              "      <td>784</td>\n",
              "      <td>2013-01-12 08:50:16</td>\n",
              "      <td>949</td>\n",
              "      <td>2013-01-12 08:50:17</td>\n",
              "      <td>946</td>\n",
              "      <td>2013-01-12 08:50:17</td>\n",
              "      <td>0</td>\n",
              "    </tr>\n",
              "    <tr>\n",
              "      <th>114021</th>\n",
              "      <td>945</td>\n",
              "      <td>2013-01-12 08:50:17</td>\n",
              "      <td>948</td>\n",
              "      <td>2013-01-12 08:50:17</td>\n",
              "      <td>949</td>\n",
              "      <td>2013-01-12 08:50:18</td>\n",
              "      <td>948</td>\n",
              "      <td>2013-01-12 08:50:18</td>\n",
              "      <td>945</td>\n",
              "      <td>2013-01-12 08:50:18</td>\n",
              "      <td>...</td>\n",
              "      <td>2013-01-12 08:50:18</td>\n",
              "      <td>947</td>\n",
              "      <td>2013-01-12 08:50:19</td>\n",
              "      <td>945</td>\n",
              "      <td>2013-01-12 08:50:19</td>\n",
              "      <td>946</td>\n",
              "      <td>2013-01-12 08:50:19</td>\n",
              "      <td>946</td>\n",
              "      <td>2013-01-12 08:50:20</td>\n",
              "      <td>0</td>\n",
              "    </tr>\n",
              "    <tr>\n",
              "      <th>146670</th>\n",
              "      <td>947</td>\n",
              "      <td>2013-01-12 08:50:20</td>\n",
              "      <td>950</td>\n",
              "      <td>2013-01-12 08:50:20</td>\n",
              "      <td>948</td>\n",
              "      <td>2013-01-12 08:50:20</td>\n",
              "      <td>947</td>\n",
              "      <td>2013-01-12 08:50:21</td>\n",
              "      <td>950</td>\n",
              "      <td>2013-01-12 08:50:21</td>\n",
              "      <td>...</td>\n",
              "      <td>2013-01-12 08:50:21</td>\n",
              "      <td>946</td>\n",
              "      <td>2013-01-12 08:50:21</td>\n",
              "      <td>951</td>\n",
              "      <td>2013-01-12 08:50:22</td>\n",
              "      <td>946</td>\n",
              "      <td>2013-01-12 08:50:22</td>\n",
              "      <td>947</td>\n",
              "      <td>2013-01-12 08:50:22</td>\n",
              "      <td>0</td>\n",
              "    </tr>\n",
              "  </tbody>\n",
              "</table>\n",
              "<p>5 rows × 21 columns</p>\n",
              "</div>\n",
              "      <button class=\"colab-df-convert\" onclick=\"convertToInteractive('df-3cc2dca5-8569-4bac-950d-bba23ed1a971')\"\n",
              "              title=\"Convert this dataframe to an interactive table.\"\n",
              "              style=\"display:none;\">\n",
              "        \n",
              "  <svg xmlns=\"http://www.w3.org/2000/svg\" height=\"24px\"viewBox=\"0 0 24 24\"\n",
              "       width=\"24px\">\n",
              "    <path d=\"M0 0h24v24H0V0z\" fill=\"none\"/>\n",
              "    <path d=\"M18.56 5.44l.94 2.06.94-2.06 2.06-.94-2.06-.94-.94-2.06-.94 2.06-2.06.94zm-11 1L8.5 8.5l.94-2.06 2.06-.94-2.06-.94L8.5 2.5l-.94 2.06-2.06.94zm10 10l.94 2.06.94-2.06 2.06-.94-2.06-.94-.94-2.06-.94 2.06-2.06.94z\"/><path d=\"M17.41 7.96l-1.37-1.37c-.4-.4-.92-.59-1.43-.59-.52 0-1.04.2-1.43.59L10.3 9.45l-7.72 7.72c-.78.78-.78 2.05 0 2.83L4 21.41c.39.39.9.59 1.41.59.51 0 1.02-.2 1.41-.59l7.78-7.78 2.81-2.81c.8-.78.8-2.07 0-2.86zM5.41 20L4 18.59l7.72-7.72 1.47 1.35L5.41 20z\"/>\n",
              "  </svg>\n",
              "      </button>\n",
              "      \n",
              "  <style>\n",
              "    .colab-df-container {\n",
              "      display:flex;\n",
              "      flex-wrap:wrap;\n",
              "      gap: 12px;\n",
              "    }\n",
              "\n",
              "    .colab-df-convert {\n",
              "      background-color: #E8F0FE;\n",
              "      border: none;\n",
              "      border-radius: 50%;\n",
              "      cursor: pointer;\n",
              "      display: none;\n",
              "      fill: #1967D2;\n",
              "      height: 32px;\n",
              "      padding: 0 0 0 0;\n",
              "      width: 32px;\n",
              "    }\n",
              "\n",
              "    .colab-df-convert:hover {\n",
              "      background-color: #E2EBFA;\n",
              "      box-shadow: 0px 1px 2px rgba(60, 64, 67, 0.3), 0px 1px 3px 1px rgba(60, 64, 67, 0.15);\n",
              "      fill: #174EA6;\n",
              "    }\n",
              "\n",
              "    [theme=dark] .colab-df-convert {\n",
              "      background-color: #3B4455;\n",
              "      fill: #D2E3FC;\n",
              "    }\n",
              "\n",
              "    [theme=dark] .colab-df-convert:hover {\n",
              "      background-color: #434B5C;\n",
              "      box-shadow: 0px 1px 3px 1px rgba(0, 0, 0, 0.15);\n",
              "      filter: drop-shadow(0px 1px 2px rgba(0, 0, 0, 0.3));\n",
              "      fill: #FFFFFF;\n",
              "    }\n",
              "  </style>\n",
              "\n",
              "      <script>\n",
              "        const buttonEl =\n",
              "          document.querySelector('#df-3cc2dca5-8569-4bac-950d-bba23ed1a971 button.colab-df-convert');\n",
              "        buttonEl.style.display =\n",
              "          google.colab.kernel.accessAllowed ? 'block' : 'none';\n",
              "\n",
              "        async function convertToInteractive(key) {\n",
              "          const element = document.querySelector('#df-3cc2dca5-8569-4bac-950d-bba23ed1a971');\n",
              "          const dataTable =\n",
              "            await google.colab.kernel.invokeFunction('convertToInteractive',\n",
              "                                                     [key], {});\n",
              "          if (!dataTable) return;\n",
              "\n",
              "          const docLinkHtml = 'Like what you see? Visit the ' +\n",
              "            '<a target=\"_blank\" href=https://colab.research.google.com/notebooks/data_table.ipynb>data table notebook</a>'\n",
              "            + ' to learn more about interactive tables.';\n",
              "          element.innerHTML = '';\n",
              "          dataTable['output_type'] = 'display_data';\n",
              "          await google.colab.output.renderOutput(dataTable, element);\n",
              "          const docLink = document.createElement('div');\n",
              "          docLink.innerHTML = docLinkHtml;\n",
              "          element.appendChild(docLink);\n",
              "        }\n",
              "      </script>\n",
              "    </div>\n",
              "  </div>\n",
              "  "
            ]
          },
          "metadata": {},
          "execution_count": 32
        }
      ]
    },
    {
      "cell_type": "code",
      "source": [
        "times = [\"time{}\".format(i) for i in range(1,11)]\n",
        "times"
      ],
      "metadata": {
        "colab": {
          "base_uri": "https://localhost:8080/"
        },
        "id": "uWGywyJmxvTM",
        "outputId": "45bf6d67-633b-4a6d-e6c2-ad319a412cdf"
      },
      "execution_count": null,
      "outputs": [
        {
          "output_type": "execute_result",
          "data": {
            "text/plain": [
              "['time1',\n",
              " 'time2',\n",
              " 'time3',\n",
              " 'time4',\n",
              " 'time5',\n",
              " 'time6',\n",
              " 'time7',\n",
              " 'time8',\n",
              " 'time9',\n",
              " 'time10']"
            ]
          },
          "metadata": {},
          "execution_count": 33
        }
      ]
    },
    {
      "cell_type": "code",
      "source": [
        "train_df[times].head()"
      ],
      "metadata": {
        "colab": {
          "base_uri": "https://localhost:8080/",
          "height": 368
        },
        "id": "KTzR2BcNxvV7",
        "outputId": "903c9c0f-563a-4dc3-ffd4-b2277ab4f149"
      },
      "execution_count": null,
      "outputs": [
        {
          "output_type": "execute_result",
          "data": {
            "text/plain": [
              "                         time1               time2               time3  \\\n",
              "session_id                                                               \n",
              "21669      2013-01-12 08:05:57 2013-01-12 08:05:57                 NaT   \n",
              "54843      2013-01-12 08:37:23 2013-01-12 08:37:23 2013-01-12 09:07:07   \n",
              "77292      2013-01-12 08:50:13 2013-01-12 08:50:14 2013-01-12 08:50:15   \n",
              "114021     2013-01-12 08:50:17 2013-01-12 08:50:17 2013-01-12 08:50:18   \n",
              "146670     2013-01-12 08:50:20 2013-01-12 08:50:20 2013-01-12 08:50:20   \n",
              "\n",
              "                         time4               time5               time6  \\\n",
              "session_id                                                               \n",
              "21669                      NaT                 NaT                 NaT   \n",
              "54843      2013-01-12 09:07:09                 NaT                 NaT   \n",
              "77292      2013-01-12 08:50:15 2013-01-12 08:50:16 2013-01-12 08:50:16   \n",
              "114021     2013-01-12 08:50:18 2013-01-12 08:50:18 2013-01-12 08:50:18   \n",
              "146670     2013-01-12 08:50:21 2013-01-12 08:50:21 2013-01-12 08:50:21   \n",
              "\n",
              "                         time7               time8               time9  \\\n",
              "session_id                                                               \n",
              "21669                      NaT                 NaT                 NaT   \n",
              "54843                      NaT                 NaT                 NaT   \n",
              "77292      2013-01-12 08:50:16 2013-01-12 08:50:16 2013-01-12 08:50:17   \n",
              "114021     2013-01-12 08:50:19 2013-01-12 08:50:19 2013-01-12 08:50:19   \n",
              "146670     2013-01-12 08:50:21 2013-01-12 08:50:22 2013-01-12 08:50:22   \n",
              "\n",
              "                        time10  \n",
              "session_id                      \n",
              "21669                      NaT  \n",
              "54843                      NaT  \n",
              "77292      2013-01-12 08:50:17  \n",
              "114021     2013-01-12 08:50:20  \n",
              "146670     2013-01-12 08:50:22  "
            ],
            "text/html": [
              "\n",
              "  <div id=\"df-9f6024e5-331a-4651-b582-633e702cb1a7\">\n",
              "    <div class=\"colab-df-container\">\n",
              "      <div>\n",
              "<style scoped>\n",
              "    .dataframe tbody tr th:only-of-type {\n",
              "        vertical-align: middle;\n",
              "    }\n",
              "\n",
              "    .dataframe tbody tr th {\n",
              "        vertical-align: top;\n",
              "    }\n",
              "\n",
              "    .dataframe thead th {\n",
              "        text-align: right;\n",
              "    }\n",
              "</style>\n",
              "<table border=\"1\" class=\"dataframe\">\n",
              "  <thead>\n",
              "    <tr style=\"text-align: right;\">\n",
              "      <th></th>\n",
              "      <th>time1</th>\n",
              "      <th>time2</th>\n",
              "      <th>time3</th>\n",
              "      <th>time4</th>\n",
              "      <th>time5</th>\n",
              "      <th>time6</th>\n",
              "      <th>time7</th>\n",
              "      <th>time8</th>\n",
              "      <th>time9</th>\n",
              "      <th>time10</th>\n",
              "    </tr>\n",
              "    <tr>\n",
              "      <th>session_id</th>\n",
              "      <th></th>\n",
              "      <th></th>\n",
              "      <th></th>\n",
              "      <th></th>\n",
              "      <th></th>\n",
              "      <th></th>\n",
              "      <th></th>\n",
              "      <th></th>\n",
              "      <th></th>\n",
              "      <th></th>\n",
              "    </tr>\n",
              "  </thead>\n",
              "  <tbody>\n",
              "    <tr>\n",
              "      <th>21669</th>\n",
              "      <td>2013-01-12 08:05:57</td>\n",
              "      <td>2013-01-12 08:05:57</td>\n",
              "      <td>NaT</td>\n",
              "      <td>NaT</td>\n",
              "      <td>NaT</td>\n",
              "      <td>NaT</td>\n",
              "      <td>NaT</td>\n",
              "      <td>NaT</td>\n",
              "      <td>NaT</td>\n",
              "      <td>NaT</td>\n",
              "    </tr>\n",
              "    <tr>\n",
              "      <th>54843</th>\n",
              "      <td>2013-01-12 08:37:23</td>\n",
              "      <td>2013-01-12 08:37:23</td>\n",
              "      <td>2013-01-12 09:07:07</td>\n",
              "      <td>2013-01-12 09:07:09</td>\n",
              "      <td>NaT</td>\n",
              "      <td>NaT</td>\n",
              "      <td>NaT</td>\n",
              "      <td>NaT</td>\n",
              "      <td>NaT</td>\n",
              "      <td>NaT</td>\n",
              "    </tr>\n",
              "    <tr>\n",
              "      <th>77292</th>\n",
              "      <td>2013-01-12 08:50:13</td>\n",
              "      <td>2013-01-12 08:50:14</td>\n",
              "      <td>2013-01-12 08:50:15</td>\n",
              "      <td>2013-01-12 08:50:15</td>\n",
              "      <td>2013-01-12 08:50:16</td>\n",
              "      <td>2013-01-12 08:50:16</td>\n",
              "      <td>2013-01-12 08:50:16</td>\n",
              "      <td>2013-01-12 08:50:16</td>\n",
              "      <td>2013-01-12 08:50:17</td>\n",
              "      <td>2013-01-12 08:50:17</td>\n",
              "    </tr>\n",
              "    <tr>\n",
              "      <th>114021</th>\n",
              "      <td>2013-01-12 08:50:17</td>\n",
              "      <td>2013-01-12 08:50:17</td>\n",
              "      <td>2013-01-12 08:50:18</td>\n",
              "      <td>2013-01-12 08:50:18</td>\n",
              "      <td>2013-01-12 08:50:18</td>\n",
              "      <td>2013-01-12 08:50:18</td>\n",
              "      <td>2013-01-12 08:50:19</td>\n",
              "      <td>2013-01-12 08:50:19</td>\n",
              "      <td>2013-01-12 08:50:19</td>\n",
              "      <td>2013-01-12 08:50:20</td>\n",
              "    </tr>\n",
              "    <tr>\n",
              "      <th>146670</th>\n",
              "      <td>2013-01-12 08:50:20</td>\n",
              "      <td>2013-01-12 08:50:20</td>\n",
              "      <td>2013-01-12 08:50:20</td>\n",
              "      <td>2013-01-12 08:50:21</td>\n",
              "      <td>2013-01-12 08:50:21</td>\n",
              "      <td>2013-01-12 08:50:21</td>\n",
              "      <td>2013-01-12 08:50:21</td>\n",
              "      <td>2013-01-12 08:50:22</td>\n",
              "      <td>2013-01-12 08:50:22</td>\n",
              "      <td>2013-01-12 08:50:22</td>\n",
              "    </tr>\n",
              "  </tbody>\n",
              "</table>\n",
              "</div>\n",
              "      <button class=\"colab-df-convert\" onclick=\"convertToInteractive('df-9f6024e5-331a-4651-b582-633e702cb1a7')\"\n",
              "              title=\"Convert this dataframe to an interactive table.\"\n",
              "              style=\"display:none;\">\n",
              "        \n",
              "  <svg xmlns=\"http://www.w3.org/2000/svg\" height=\"24px\"viewBox=\"0 0 24 24\"\n",
              "       width=\"24px\">\n",
              "    <path d=\"M0 0h24v24H0V0z\" fill=\"none\"/>\n",
              "    <path d=\"M18.56 5.44l.94 2.06.94-2.06 2.06-.94-2.06-.94-.94-2.06-.94 2.06-2.06.94zm-11 1L8.5 8.5l.94-2.06 2.06-.94-2.06-.94L8.5 2.5l-.94 2.06-2.06.94zm10 10l.94 2.06.94-2.06 2.06-.94-2.06-.94-.94-2.06-.94 2.06-2.06.94z\"/><path d=\"M17.41 7.96l-1.37-1.37c-.4-.4-.92-.59-1.43-.59-.52 0-1.04.2-1.43.59L10.3 9.45l-7.72 7.72c-.78.78-.78 2.05 0 2.83L4 21.41c.39.39.9.59 1.41.59.51 0 1.02-.2 1.41-.59l7.78-7.78 2.81-2.81c.8-.78.8-2.07 0-2.86zM5.41 20L4 18.59l7.72-7.72 1.47 1.35L5.41 20z\"/>\n",
              "  </svg>\n",
              "      </button>\n",
              "      \n",
              "  <style>\n",
              "    .colab-df-container {\n",
              "      display:flex;\n",
              "      flex-wrap:wrap;\n",
              "      gap: 12px;\n",
              "    }\n",
              "\n",
              "    .colab-df-convert {\n",
              "      background-color: #E8F0FE;\n",
              "      border: none;\n",
              "      border-radius: 50%;\n",
              "      cursor: pointer;\n",
              "      display: none;\n",
              "      fill: #1967D2;\n",
              "      height: 32px;\n",
              "      padding: 0 0 0 0;\n",
              "      width: 32px;\n",
              "    }\n",
              "\n",
              "    .colab-df-convert:hover {\n",
              "      background-color: #E2EBFA;\n",
              "      box-shadow: 0px 1px 2px rgba(60, 64, 67, 0.3), 0px 1px 3px 1px rgba(60, 64, 67, 0.15);\n",
              "      fill: #174EA6;\n",
              "    }\n",
              "\n",
              "    [theme=dark] .colab-df-convert {\n",
              "      background-color: #3B4455;\n",
              "      fill: #D2E3FC;\n",
              "    }\n",
              "\n",
              "    [theme=dark] .colab-df-convert:hover {\n",
              "      background-color: #434B5C;\n",
              "      box-shadow: 0px 1px 3px 1px rgba(0, 0, 0, 0.15);\n",
              "      filter: drop-shadow(0px 1px 2px rgba(0, 0, 0, 0.3));\n",
              "      fill: #FFFFFF;\n",
              "    }\n",
              "  </style>\n",
              "\n",
              "      <script>\n",
              "        const buttonEl =\n",
              "          document.querySelector('#df-9f6024e5-331a-4651-b582-633e702cb1a7 button.colab-df-convert');\n",
              "        buttonEl.style.display =\n",
              "          google.colab.kernel.accessAllowed ? 'block' : 'none';\n",
              "\n",
              "        async function convertToInteractive(key) {\n",
              "          const element = document.querySelector('#df-9f6024e5-331a-4651-b582-633e702cb1a7');\n",
              "          const dataTable =\n",
              "            await google.colab.kernel.invokeFunction('convertToInteractive',\n",
              "                                                     [key], {});\n",
              "          if (!dataTable) return;\n",
              "\n",
              "          const docLinkHtml = 'Like what you see? Visit the ' +\n",
              "            '<a target=\"_blank\" href=https://colab.research.google.com/notebooks/data_table.ipynb>data table notebook</a>'\n",
              "            + ' to learn more about interactive tables.';\n",
              "          element.innerHTML = '';\n",
              "          dataTable['output_type'] = 'display_data';\n",
              "          await google.colab.output.renderOutput(dataTable, element);\n",
              "          const docLink = document.createElement('div');\n",
              "          docLink.innerHTML = docLinkHtml;\n",
              "          element.appendChild(docLink);\n",
              "        }\n",
              "      </script>\n",
              "    </div>\n",
              "  </div>\n",
              "  "
            ]
          },
          "metadata": {},
          "execution_count": 34
        }
      ]
    },
    {
      "cell_type": "code",
      "source": [
        "train_df['time1'].head()"
      ],
      "metadata": {
        "colab": {
          "base_uri": "https://localhost:8080/"
        },
        "id": "U7klwQuEy51B",
        "outputId": "241771f4-0296-44ad-b05d-870623f03bbf"
      },
      "execution_count": null,
      "outputs": [
        {
          "output_type": "execute_result",
          "data": {
            "text/plain": [
              "session_id\n",
              "21669    2013-01-12 08:05:57\n",
              "54843    2013-01-12 08:37:23\n",
              "77292    2013-01-12 08:50:13\n",
              "114021   2013-01-12 08:50:17\n",
              "146670   2013-01-12 08:50:20\n",
              "Name: time1, dtype: datetime64[ns]"
            ]
          },
          "metadata": {},
          "execution_count": 35
        }
      ]
    },
    {
      "cell_type": "code",
      "source": [
        "train_df['time1'].tail()"
      ],
      "metadata": {
        "colab": {
          "base_uri": "https://localhost:8080/"
        },
        "id": "jjypMh0G1t6d",
        "outputId": "24aeea9d-50cf-45fc-c36f-ea95b022a6f6"
      },
      "execution_count": null,
      "outputs": [
        {
          "output_type": "execute_result",
          "data": {
            "text/plain": [
              "session_id\n",
              "12224    2014-04-30 23:33:48\n",
              "164438   2014-04-30 23:34:15\n",
              "12221    2014-04-30 23:38:08\n",
              "156968   2014-04-30 23:38:36\n",
              "204762   2014-04-30 23:39:53\n",
              "Name: time1, dtype: datetime64[ns]"
            ]
          },
          "metadata": {},
          "execution_count": 36
        }
      ]
    },
    {
      "cell_type": "code",
      "source": [
        "train_df['time1'].apply(lambda ts: 100 * ts.year + ts.month).head()"
      ],
      "metadata": {
        "colab": {
          "base_uri": "https://localhost:8080/"
        },
        "id": "NVI2YLjJxvYc",
        "outputId": "6ec86fbf-4f17-43ee-d9df-a517289177ad"
      },
      "execution_count": null,
      "outputs": [
        {
          "output_type": "execute_result",
          "data": {
            "text/plain": [
              "session_id\n",
              "21669     201301\n",
              "54843     201301\n",
              "77292     201301\n",
              "114021    201301\n",
              "146670    201301\n",
              "Name: time1, dtype: int64"
            ]
          },
          "metadata": {},
          "execution_count": 37
        }
      ]
    },
    {
      "cell_type": "code",
      "source": [
        "new_feat_train = pd.DataFrame(index=train_df.index)\n",
        "new_feat_test = pd.DataFrame(index=test_df.index)"
      ],
      "metadata": {
        "id": "GxfaHgliy8vl"
      },
      "execution_count": null,
      "outputs": []
    },
    {
      "cell_type": "code",
      "source": [
        "new_feat_train.tail()"
      ],
      "metadata": {
        "colab": {
          "base_uri": "https://localhost:8080/",
          "height": 220
        },
        "id": "EGEWewM011GF",
        "outputId": "ea34a5e7-9834-431e-805b-06eb7af0d8fc"
      },
      "execution_count": null,
      "outputs": [
        {
          "output_type": "execute_result",
          "data": {
            "text/plain": [
              "Empty DataFrame\n",
              "Columns: []\n",
              "Index: [12224, 164438, 12221, 156968, 204762]"
            ],
            "text/html": [
              "\n",
              "  <div id=\"df-e1e76959-e496-4095-b36b-e1577c856a14\">\n",
              "    <div class=\"colab-df-container\">\n",
              "      <div>\n",
              "<style scoped>\n",
              "    .dataframe tbody tr th:only-of-type {\n",
              "        vertical-align: middle;\n",
              "    }\n",
              "\n",
              "    .dataframe tbody tr th {\n",
              "        vertical-align: top;\n",
              "    }\n",
              "\n",
              "    .dataframe thead th {\n",
              "        text-align: right;\n",
              "    }\n",
              "</style>\n",
              "<table border=\"1\" class=\"dataframe\">\n",
              "  <thead>\n",
              "    <tr style=\"text-align: right;\">\n",
              "      <th></th>\n",
              "    </tr>\n",
              "    <tr>\n",
              "      <th>session_id</th>\n",
              "    </tr>\n",
              "  </thead>\n",
              "  <tbody>\n",
              "    <tr>\n",
              "      <th>12224</th>\n",
              "    </tr>\n",
              "    <tr>\n",
              "      <th>164438</th>\n",
              "    </tr>\n",
              "    <tr>\n",
              "      <th>12221</th>\n",
              "    </tr>\n",
              "    <tr>\n",
              "      <th>156968</th>\n",
              "    </tr>\n",
              "    <tr>\n",
              "      <th>204762</th>\n",
              "    </tr>\n",
              "  </tbody>\n",
              "</table>\n",
              "</div>\n",
              "      <button class=\"colab-df-convert\" onclick=\"convertToInteractive('df-e1e76959-e496-4095-b36b-e1577c856a14')\"\n",
              "              title=\"Convert this dataframe to an interactive table.\"\n",
              "              style=\"display:none;\">\n",
              "        \n",
              "  <svg xmlns=\"http://www.w3.org/2000/svg\" height=\"24px\"viewBox=\"0 0 24 24\"\n",
              "       width=\"24px\">\n",
              "    <path d=\"M0 0h24v24H0V0z\" fill=\"none\"/>\n",
              "    <path d=\"M18.56 5.44l.94 2.06.94-2.06 2.06-.94-2.06-.94-.94-2.06-.94 2.06-2.06.94zm-11 1L8.5 8.5l.94-2.06 2.06-.94-2.06-.94L8.5 2.5l-.94 2.06-2.06.94zm10 10l.94 2.06.94-2.06 2.06-.94-2.06-.94-.94-2.06-.94 2.06-2.06.94z\"/><path d=\"M17.41 7.96l-1.37-1.37c-.4-.4-.92-.59-1.43-.59-.52 0-1.04.2-1.43.59L10.3 9.45l-7.72 7.72c-.78.78-.78 2.05 0 2.83L4 21.41c.39.39.9.59 1.41.59.51 0 1.02-.2 1.41-.59l7.78-7.78 2.81-2.81c.8-.78.8-2.07 0-2.86zM5.41 20L4 18.59l7.72-7.72 1.47 1.35L5.41 20z\"/>\n",
              "  </svg>\n",
              "      </button>\n",
              "      \n",
              "  <style>\n",
              "    .colab-df-container {\n",
              "      display:flex;\n",
              "      flex-wrap:wrap;\n",
              "      gap: 12px;\n",
              "    }\n",
              "\n",
              "    .colab-df-convert {\n",
              "      background-color: #E8F0FE;\n",
              "      border: none;\n",
              "      border-radius: 50%;\n",
              "      cursor: pointer;\n",
              "      display: none;\n",
              "      fill: #1967D2;\n",
              "      height: 32px;\n",
              "      padding: 0 0 0 0;\n",
              "      width: 32px;\n",
              "    }\n",
              "\n",
              "    .colab-df-convert:hover {\n",
              "      background-color: #E2EBFA;\n",
              "      box-shadow: 0px 1px 2px rgba(60, 64, 67, 0.3), 0px 1px 3px 1px rgba(60, 64, 67, 0.15);\n",
              "      fill: #174EA6;\n",
              "    }\n",
              "\n",
              "    [theme=dark] .colab-df-convert {\n",
              "      background-color: #3B4455;\n",
              "      fill: #D2E3FC;\n",
              "    }\n",
              "\n",
              "    [theme=dark] .colab-df-convert:hover {\n",
              "      background-color: #434B5C;\n",
              "      box-shadow: 0px 1px 3px 1px rgba(0, 0, 0, 0.15);\n",
              "      filter: drop-shadow(0px 1px 2px rgba(0, 0, 0, 0.3));\n",
              "      fill: #FFFFFF;\n",
              "    }\n",
              "  </style>\n",
              "\n",
              "      <script>\n",
              "        const buttonEl =\n",
              "          document.querySelector('#df-e1e76959-e496-4095-b36b-e1577c856a14 button.colab-df-convert');\n",
              "        buttonEl.style.display =\n",
              "          google.colab.kernel.accessAllowed ? 'block' : 'none';\n",
              "\n",
              "        async function convertToInteractive(key) {\n",
              "          const element = document.querySelector('#df-e1e76959-e496-4095-b36b-e1577c856a14');\n",
              "          const dataTable =\n",
              "            await google.colab.kernel.invokeFunction('convertToInteractive',\n",
              "                                                     [key], {});\n",
              "          if (!dataTable) return;\n",
              "\n",
              "          const docLinkHtml = 'Like what you see? Visit the ' +\n",
              "            '<a target=\"_blank\" href=https://colab.research.google.com/notebooks/data_table.ipynb>data table notebook</a>'\n",
              "            + ' to learn more about interactive tables.';\n",
              "          element.innerHTML = '';\n",
              "          dataTable['output_type'] = 'display_data';\n",
              "          await google.colab.output.renderOutput(dataTable, element);\n",
              "          const docLink = document.createElement('div');\n",
              "          docLink.innerHTML = docLinkHtml;\n",
              "          element.appendChild(docLink);\n",
              "        }\n",
              "      </script>\n",
              "    </div>\n",
              "  </div>\n",
              "  "
            ]
          },
          "metadata": {},
          "execution_count": 39
        }
      ]
    },
    {
      "cell_type": "code",
      "source": [
        "new_feat_train['year_month'] = train_df['time1'].apply(lambda ts: int(100 * ts.year + ts.month))\n",
        "new_feat_test['year_month'] = test_df['time1'].apply(lambda ts: int(100 * ts.year + ts.month))"
      ],
      "metadata": {
        "id": "Ezthjaecy8yX"
      },
      "execution_count": null,
      "outputs": []
    },
    {
      "cell_type": "code",
      "source": [
        "new_feat_train.tail()"
      ],
      "metadata": {
        "colab": {
          "base_uri": "https://localhost:8080/",
          "height": 237
        },
        "id": "ymQGtp3iy81F",
        "outputId": "112f1d00-1bd5-4c28-e34d-ab9da182ebb2"
      },
      "execution_count": null,
      "outputs": [
        {
          "output_type": "execute_result",
          "data": {
            "text/plain": [
              "            year_month\n",
              "session_id            \n",
              "12224           201404\n",
              "164438          201404\n",
              "12221           201404\n",
              "156968          201404\n",
              "204762          201404"
            ],
            "text/html": [
              "\n",
              "  <div id=\"df-97703a15-d33e-459e-bed1-27480ac6ef60\">\n",
              "    <div class=\"colab-df-container\">\n",
              "      <div>\n",
              "<style scoped>\n",
              "    .dataframe tbody tr th:only-of-type {\n",
              "        vertical-align: middle;\n",
              "    }\n",
              "\n",
              "    .dataframe tbody tr th {\n",
              "        vertical-align: top;\n",
              "    }\n",
              "\n",
              "    .dataframe thead th {\n",
              "        text-align: right;\n",
              "    }\n",
              "</style>\n",
              "<table border=\"1\" class=\"dataframe\">\n",
              "  <thead>\n",
              "    <tr style=\"text-align: right;\">\n",
              "      <th></th>\n",
              "      <th>year_month</th>\n",
              "    </tr>\n",
              "    <tr>\n",
              "      <th>session_id</th>\n",
              "      <th></th>\n",
              "    </tr>\n",
              "  </thead>\n",
              "  <tbody>\n",
              "    <tr>\n",
              "      <th>12224</th>\n",
              "      <td>201404</td>\n",
              "    </tr>\n",
              "    <tr>\n",
              "      <th>164438</th>\n",
              "      <td>201404</td>\n",
              "    </tr>\n",
              "    <tr>\n",
              "      <th>12221</th>\n",
              "      <td>201404</td>\n",
              "    </tr>\n",
              "    <tr>\n",
              "      <th>156968</th>\n",
              "      <td>201404</td>\n",
              "    </tr>\n",
              "    <tr>\n",
              "      <th>204762</th>\n",
              "      <td>201404</td>\n",
              "    </tr>\n",
              "  </tbody>\n",
              "</table>\n",
              "</div>\n",
              "      <button class=\"colab-df-convert\" onclick=\"convertToInteractive('df-97703a15-d33e-459e-bed1-27480ac6ef60')\"\n",
              "              title=\"Convert this dataframe to an interactive table.\"\n",
              "              style=\"display:none;\">\n",
              "        \n",
              "  <svg xmlns=\"http://www.w3.org/2000/svg\" height=\"24px\"viewBox=\"0 0 24 24\"\n",
              "       width=\"24px\">\n",
              "    <path d=\"M0 0h24v24H0V0z\" fill=\"none\"/>\n",
              "    <path d=\"M18.56 5.44l.94 2.06.94-2.06 2.06-.94-2.06-.94-.94-2.06-.94 2.06-2.06.94zm-11 1L8.5 8.5l.94-2.06 2.06-.94-2.06-.94L8.5 2.5l-.94 2.06-2.06.94zm10 10l.94 2.06.94-2.06 2.06-.94-2.06-.94-.94-2.06-.94 2.06-2.06.94z\"/><path d=\"M17.41 7.96l-1.37-1.37c-.4-.4-.92-.59-1.43-.59-.52 0-1.04.2-1.43.59L10.3 9.45l-7.72 7.72c-.78.78-.78 2.05 0 2.83L4 21.41c.39.39.9.59 1.41.59.51 0 1.02-.2 1.41-.59l7.78-7.78 2.81-2.81c.8-.78.8-2.07 0-2.86zM5.41 20L4 18.59l7.72-7.72 1.47 1.35L5.41 20z\"/>\n",
              "  </svg>\n",
              "      </button>\n",
              "      \n",
              "  <style>\n",
              "    .colab-df-container {\n",
              "      display:flex;\n",
              "      flex-wrap:wrap;\n",
              "      gap: 12px;\n",
              "    }\n",
              "\n",
              "    .colab-df-convert {\n",
              "      background-color: #E8F0FE;\n",
              "      border: none;\n",
              "      border-radius: 50%;\n",
              "      cursor: pointer;\n",
              "      display: none;\n",
              "      fill: #1967D2;\n",
              "      height: 32px;\n",
              "      padding: 0 0 0 0;\n",
              "      width: 32px;\n",
              "    }\n",
              "\n",
              "    .colab-df-convert:hover {\n",
              "      background-color: #E2EBFA;\n",
              "      box-shadow: 0px 1px 2px rgba(60, 64, 67, 0.3), 0px 1px 3px 1px rgba(60, 64, 67, 0.15);\n",
              "      fill: #174EA6;\n",
              "    }\n",
              "\n",
              "    [theme=dark] .colab-df-convert {\n",
              "      background-color: #3B4455;\n",
              "      fill: #D2E3FC;\n",
              "    }\n",
              "\n",
              "    [theme=dark] .colab-df-convert:hover {\n",
              "      background-color: #434B5C;\n",
              "      box-shadow: 0px 1px 3px 1px rgba(0, 0, 0, 0.15);\n",
              "      filter: drop-shadow(0px 1px 2px rgba(0, 0, 0, 0.3));\n",
              "      fill: #FFFFFF;\n",
              "    }\n",
              "  </style>\n",
              "\n",
              "      <script>\n",
              "        const buttonEl =\n",
              "          document.querySelector('#df-97703a15-d33e-459e-bed1-27480ac6ef60 button.colab-df-convert');\n",
              "        buttonEl.style.display =\n",
              "          google.colab.kernel.accessAllowed ? 'block' : 'none';\n",
              "\n",
              "        async function convertToInteractive(key) {\n",
              "          const element = document.querySelector('#df-97703a15-d33e-459e-bed1-27480ac6ef60');\n",
              "          const dataTable =\n",
              "            await google.colab.kernel.invokeFunction('convertToInteractive',\n",
              "                                                     [key], {});\n",
              "          if (!dataTable) return;\n",
              "\n",
              "          const docLinkHtml = 'Like what you see? Visit the ' +\n",
              "            '<a target=\"_blank\" href=https://colab.research.google.com/notebooks/data_table.ipynb>data table notebook</a>'\n",
              "            + ' to learn more about interactive tables.';\n",
              "          element.innerHTML = '';\n",
              "          dataTable['output_type'] = 'display_data';\n",
              "          await google.colab.output.renderOutput(dataTable, element);\n",
              "          const docLink = document.createElement('div');\n",
              "          docLink.innerHTML = docLinkHtml;\n",
              "          element.appendChild(docLink);\n",
              "        }\n",
              "      </script>\n",
              "    </div>\n",
              "  </div>\n",
              "  "
            ]
          },
          "metadata": {},
          "execution_count": 41
        }
      ]
    },
    {
      "cell_type": "code",
      "source": [
        "scaler = StandardScaler()\n",
        "scaler.fit(new_feat_train['year_month'].values.reshape(-1,1))\n",
        "new_feat_train['year_month_scaled'] = scaler.transform(new_feat_train['year_month'].values.reshape(-1,1))\n",
        "new_feat_test['year_month_scaled'] = scaler.transform(new_feat_test['year_month'].values.reshape(-1,1))"
      ],
      "metadata": {
        "id": "lFjAnWMqy83j"
      },
      "execution_count": null,
      "outputs": []
    },
    {
      "cell_type": "code",
      "source": [
        "new_feat_train.head()"
      ],
      "metadata": {
        "colab": {
          "base_uri": "https://localhost:8080/",
          "height": 237
        },
        "id": "vpbS25-Q1kcm",
        "outputId": "641db03d-cae1-494d-93f6-6a56a651933a"
      },
      "execution_count": null,
      "outputs": [
        {
          "output_type": "execute_result",
          "data": {
            "text/plain": [
              "            year_month  year_month_scaled\n",
              "session_id                               \n",
              "21669           201301          -1.744405\n",
              "54843           201301          -1.744405\n",
              "77292           201301          -1.744405\n",
              "114021          201301          -1.744405\n",
              "146670          201301          -1.744405"
            ],
            "text/html": [
              "\n",
              "  <div id=\"df-4bb0285a-2bc4-44d9-98f3-1270eb229738\">\n",
              "    <div class=\"colab-df-container\">\n",
              "      <div>\n",
              "<style scoped>\n",
              "    .dataframe tbody tr th:only-of-type {\n",
              "        vertical-align: middle;\n",
              "    }\n",
              "\n",
              "    .dataframe tbody tr th {\n",
              "        vertical-align: top;\n",
              "    }\n",
              "\n",
              "    .dataframe thead th {\n",
              "        text-align: right;\n",
              "    }\n",
              "</style>\n",
              "<table border=\"1\" class=\"dataframe\">\n",
              "  <thead>\n",
              "    <tr style=\"text-align: right;\">\n",
              "      <th></th>\n",
              "      <th>year_month</th>\n",
              "      <th>year_month_scaled</th>\n",
              "    </tr>\n",
              "    <tr>\n",
              "      <th>session_id</th>\n",
              "      <th></th>\n",
              "      <th></th>\n",
              "    </tr>\n",
              "  </thead>\n",
              "  <tbody>\n",
              "    <tr>\n",
              "      <th>21669</th>\n",
              "      <td>201301</td>\n",
              "      <td>-1.744405</td>\n",
              "    </tr>\n",
              "    <tr>\n",
              "      <th>54843</th>\n",
              "      <td>201301</td>\n",
              "      <td>-1.744405</td>\n",
              "    </tr>\n",
              "    <tr>\n",
              "      <th>77292</th>\n",
              "      <td>201301</td>\n",
              "      <td>-1.744405</td>\n",
              "    </tr>\n",
              "    <tr>\n",
              "      <th>114021</th>\n",
              "      <td>201301</td>\n",
              "      <td>-1.744405</td>\n",
              "    </tr>\n",
              "    <tr>\n",
              "      <th>146670</th>\n",
              "      <td>201301</td>\n",
              "      <td>-1.744405</td>\n",
              "    </tr>\n",
              "  </tbody>\n",
              "</table>\n",
              "</div>\n",
              "      <button class=\"colab-df-convert\" onclick=\"convertToInteractive('df-4bb0285a-2bc4-44d9-98f3-1270eb229738')\"\n",
              "              title=\"Convert this dataframe to an interactive table.\"\n",
              "              style=\"display:none;\">\n",
              "        \n",
              "  <svg xmlns=\"http://www.w3.org/2000/svg\" height=\"24px\"viewBox=\"0 0 24 24\"\n",
              "       width=\"24px\">\n",
              "    <path d=\"M0 0h24v24H0V0z\" fill=\"none\"/>\n",
              "    <path d=\"M18.56 5.44l.94 2.06.94-2.06 2.06-.94-2.06-.94-.94-2.06-.94 2.06-2.06.94zm-11 1L8.5 8.5l.94-2.06 2.06-.94-2.06-.94L8.5 2.5l-.94 2.06-2.06.94zm10 10l.94 2.06.94-2.06 2.06-.94-2.06-.94-.94-2.06-.94 2.06-2.06.94z\"/><path d=\"M17.41 7.96l-1.37-1.37c-.4-.4-.92-.59-1.43-.59-.52 0-1.04.2-1.43.59L10.3 9.45l-7.72 7.72c-.78.78-.78 2.05 0 2.83L4 21.41c.39.39.9.59 1.41.59.51 0 1.02-.2 1.41-.59l7.78-7.78 2.81-2.81c.8-.78.8-2.07 0-2.86zM5.41 20L4 18.59l7.72-7.72 1.47 1.35L5.41 20z\"/>\n",
              "  </svg>\n",
              "      </button>\n",
              "      \n",
              "  <style>\n",
              "    .colab-df-container {\n",
              "      display:flex;\n",
              "      flex-wrap:wrap;\n",
              "      gap: 12px;\n",
              "    }\n",
              "\n",
              "    .colab-df-convert {\n",
              "      background-color: #E8F0FE;\n",
              "      border: none;\n",
              "      border-radius: 50%;\n",
              "      cursor: pointer;\n",
              "      display: none;\n",
              "      fill: #1967D2;\n",
              "      height: 32px;\n",
              "      padding: 0 0 0 0;\n",
              "      width: 32px;\n",
              "    }\n",
              "\n",
              "    .colab-df-convert:hover {\n",
              "      background-color: #E2EBFA;\n",
              "      box-shadow: 0px 1px 2px rgba(60, 64, 67, 0.3), 0px 1px 3px 1px rgba(60, 64, 67, 0.15);\n",
              "      fill: #174EA6;\n",
              "    }\n",
              "\n",
              "    [theme=dark] .colab-df-convert {\n",
              "      background-color: #3B4455;\n",
              "      fill: #D2E3FC;\n",
              "    }\n",
              "\n",
              "    [theme=dark] .colab-df-convert:hover {\n",
              "      background-color: #434B5C;\n",
              "      box-shadow: 0px 1px 3px 1px rgba(0, 0, 0, 0.15);\n",
              "      filter: drop-shadow(0px 1px 2px rgba(0, 0, 0, 0.3));\n",
              "      fill: #FFFFFF;\n",
              "    }\n",
              "  </style>\n",
              "\n",
              "      <script>\n",
              "        const buttonEl =\n",
              "          document.querySelector('#df-4bb0285a-2bc4-44d9-98f3-1270eb229738 button.colab-df-convert');\n",
              "        buttonEl.style.display =\n",
              "          google.colab.kernel.accessAllowed ? 'block' : 'none';\n",
              "\n",
              "        async function convertToInteractive(key) {\n",
              "          const element = document.querySelector('#df-4bb0285a-2bc4-44d9-98f3-1270eb229738');\n",
              "          const dataTable =\n",
              "            await google.colab.kernel.invokeFunction('convertToInteractive',\n",
              "                                                     [key], {});\n",
              "          if (!dataTable) return;\n",
              "\n",
              "          const docLinkHtml = 'Like what you see? Visit the ' +\n",
              "            '<a target=\"_blank\" href=https://colab.research.google.com/notebooks/data_table.ipynb>data table notebook</a>'\n",
              "            + ' to learn more about interactive tables.';\n",
              "          element.innerHTML = '';\n",
              "          dataTable['output_type'] = 'display_data';\n",
              "          await google.colab.output.renderOutput(dataTable, element);\n",
              "          const docLink = document.createElement('div');\n",
              "          docLink.innerHTML = docLinkHtml;\n",
              "          element.appendChild(docLink);\n",
              "        }\n",
              "      </script>\n",
              "    </div>\n",
              "  </div>\n",
              "  "
            ]
          },
          "metadata": {},
          "execution_count": 43
        }
      ]
    },
    {
      "cell_type": "markdown",
      "source": [
        "Добавьте новый признак, предварительно отмасштабировав его с помощью StandardScaler, и снова посчитайте ROC AUC на отложенной выборке."
      ],
      "metadata": {
        "id": "eiQGmeYWxyHM"
      }
    },
    {
      "cell_type": "code",
      "source": [
        "X_train_sparse.shape, new_feat_train['year_month_scaled'].values.shape"
      ],
      "metadata": {
        "colab": {
          "base_uri": "https://localhost:8080/"
        },
        "id": "ygMFNuPV2y_2",
        "outputId": "005c06f5-a661-4b33-acbe-1f55b035cb4a"
      },
      "execution_count": null,
      "outputs": [
        {
          "output_type": "execute_result",
          "data": {
            "text/plain": [
              "((253561, 48371), (253561,))"
            ]
          },
          "metadata": {},
          "execution_count": 44
        }
      ]
    },
    {
      "cell_type": "code",
      "source": [
        "X_train_sparse.shape, new_feat_train['year_month_scaled'].values.reshape(-1, 1).shape \n",
        "# НУЖНО ПРЕДСТАВИТЬ ДЛЯ HSTACK в виде столбца, для этого reshape"
      ],
      "metadata": {
        "colab": {
          "base_uri": "https://localhost:8080/"
        },
        "id": "BRgvxDqZ25ql",
        "outputId": "8c2a87c1-187d-4cc7-a723-cd7be517ddce"
      },
      "execution_count": null,
      "outputs": [
        {
          "output_type": "execute_result",
          "data": {
            "text/plain": [
              "((253561, 48371), (253561, 1))"
            ]
          },
          "metadata": {},
          "execution_count": 45
        }
      ]
    },
    {
      "cell_type": "code",
      "source": [
        "X_train_sparse_new = hstack([X_train_sparse, new_feat_train['year_month_scaled'].values.reshape(-1, 1)])\n",
        "# так как у нас X_train_sparse - разреженная матрица, нужно объединять его с \n",
        "# помощью hstack --- по горизонтали их объединит\n",
        "X_test_sparse_new = hstack([X_test_sparse, new_feat_test['year_month_scaled'].values.reshape(-1, 1)])"
      ],
      "metadata": {
        "id": "fSQ_OE1MxvbI"
      },
      "execution_count": null,
      "outputs": []
    },
    {
      "cell_type": "code",
      "source": [
        "X_train_sparse_new.shape # размерность выросла на 1 48371->48372"
      ],
      "metadata": {
        "colab": {
          "base_uri": "https://localhost:8080/"
        },
        "id": "6YspquqQ3KN-",
        "outputId": "6f5b6ac8-08da-4049-d578-56a23224d1f0"
      },
      "execution_count": null,
      "outputs": [
        {
          "output_type": "execute_result",
          "data": {
            "text/plain": [
              "(253561, 48372)"
            ]
          },
          "metadata": {},
          "execution_count": 47
        }
      ]
    },
    {
      "cell_type": "code",
      "source": [
        "%%time\n",
        "get_auc_lr_valid_proba(X_train_sparse_new, y_train)"
      ],
      "metadata": {
        "colab": {
          "base_uri": "https://localhost:8080/",
          "height": 280
        },
        "id": "dpoSU5R4xvds",
        "outputId": "8c6539b0-cf72-4a11-ddb3-215f71d6805c"
      },
      "execution_count": null,
      "outputs": [
        {
          "output_type": "error",
          "ename": "TypeError",
          "evalue": "ignored",
          "traceback": [
            "\u001b[0;31m---------------------------------------------------------------------------\u001b[0m",
            "\u001b[0;31mTypeError\u001b[0m                                 Traceback (most recent call last)",
            "\u001b[0;32m<timed eval>\u001b[0m in \u001b[0;36m<module>\u001b[0;34m\u001b[0m\n",
            "\u001b[0;32m<ipython-input-24-2f43bd7eb507>\u001b[0m in \u001b[0;36mget_auc_lr_valid_proba\u001b[0;34m(X, y, max_iter, C, ratio, seed)\u001b[0m\n\u001b[1;32m      6\u001b[0m               \u001b[0mлогистической\u001b[0m \u001b[0mрегрессии\u001b[0m\u001b[0;34m\u001b[0m\u001b[0;34m\u001b[0m\u001b[0m\n\u001b[1;32m      7\u001b[0m     \"\"\"\n\u001b[0;32m----> 8\u001b[0;31m     \u001b[0mX_train\u001b[0m\u001b[0;34m,\u001b[0m \u001b[0mX_valid\u001b[0m\u001b[0;34m,\u001b[0m \u001b[0my_train\u001b[0m\u001b[0;34m,\u001b[0m \u001b[0my_valid\u001b[0m \u001b[0;34m=\u001b[0m \u001b[0mX\u001b[0m\u001b[0;34m[\u001b[0m\u001b[0;34m:\u001b[0m\u001b[0mint\u001b[0m\u001b[0;34m(\u001b[0m\u001b[0mX\u001b[0m\u001b[0;34m.\u001b[0m\u001b[0mshape\u001b[0m\u001b[0;34m[\u001b[0m\u001b[0;36m0\u001b[0m\u001b[0;34m]\u001b[0m \u001b[0;34m*\u001b[0m \u001b[0mratio\u001b[0m\u001b[0;34m)\u001b[0m\u001b[0;34m,\u001b[0m \u001b[0;34m:\u001b[0m\u001b[0;34m]\u001b[0m\u001b[0;34m,\u001b[0m\u001b[0;31m \u001b[0m\u001b[0;31m\\\u001b[0m\u001b[0;34m\u001b[0m\u001b[0;34m\u001b[0m\u001b[0m\n\u001b[0m\u001b[1;32m      9\u001b[0m                                          \u001b[0mX\u001b[0m\u001b[0;34m[\u001b[0m\u001b[0mint\u001b[0m\u001b[0;34m(\u001b[0m\u001b[0mX\u001b[0m\u001b[0;34m.\u001b[0m\u001b[0mshape\u001b[0m\u001b[0;34m[\u001b[0m\u001b[0;36m0\u001b[0m\u001b[0;34m]\u001b[0m \u001b[0;34m*\u001b[0m \u001b[0;34m(\u001b[0m\u001b[0;36m1\u001b[0m\u001b[0;34m-\u001b[0m \u001b[0mratio\u001b[0m\u001b[0;34m)\u001b[0m\u001b[0;34m)\u001b[0m\u001b[0;34m:\u001b[0m\u001b[0;34m,\u001b[0m \u001b[0;34m:\u001b[0m\u001b[0;34m]\u001b[0m\u001b[0;34m,\u001b[0m\u001b[0;31m \u001b[0m\u001b[0;31m\\\u001b[0m\u001b[0;34m\u001b[0m\u001b[0;34m\u001b[0m\u001b[0m\n\u001b[1;32m     10\u001b[0m                                          \u001b[0my\u001b[0m\u001b[0;34m[\u001b[0m\u001b[0;34m:\u001b[0m\u001b[0mint\u001b[0m\u001b[0;34m(\u001b[0m\u001b[0my\u001b[0m\u001b[0;34m.\u001b[0m\u001b[0mshape\u001b[0m\u001b[0;34m[\u001b[0m\u001b[0;36m0\u001b[0m\u001b[0;34m]\u001b[0m \u001b[0;34m*\u001b[0m \u001b[0mratio\u001b[0m\u001b[0;34m)\u001b[0m\u001b[0;34m]\u001b[0m\u001b[0;34m,\u001b[0m\u001b[0;31m \u001b[0m\u001b[0;31m\\\u001b[0m\u001b[0;34m\u001b[0m\u001b[0;34m\u001b[0m\u001b[0m\n",
            "\u001b[0;31mTypeError\u001b[0m: 'coo_matrix' object is not subscriptable"
          ]
        }
      ]
    },
    {
      "cell_type": "markdown",
      "source": [
        "необходимо ещё раз явно преобразовать к типу csr_matrix"
      ],
      "metadata": {
        "id": "MO-2N_gv3iZu"
      }
    },
    {
      "cell_type": "code",
      "source": [
        "X_train_sparse_new = csr_matrix(hstack([X_train_sparse, new_feat_train['year_month_scaled'].values.reshape(-1, 1)]))\n",
        "X_test_sparse_new = csr_matrix(hstack([X_test_sparse, new_feat_test['year_month_scaled'].values.reshape(-1, 1)]))"
      ],
      "metadata": {
        "id": "2aK5cKxExvhH"
      },
      "execution_count": null,
      "outputs": []
    },
    {
      "cell_type": "code",
      "source": [
        "X_train_sparse_new.shape"
      ],
      "metadata": {
        "colab": {
          "base_uri": "https://localhost:8080/"
        },
        "id": "HZvSGM9h3rU9",
        "outputId": "dc2caa8c-a7ad-442c-afcf-678cc0ff3b22"
      },
      "execution_count": null,
      "outputs": [
        {
          "output_type": "execute_result",
          "data": {
            "text/plain": [
              "(253561, 48372)"
            ]
          },
          "metadata": {},
          "execution_count": 50
        }
      ]
    },
    {
      "cell_type": "code",
      "source": [
        "%%time\n",
        "get_auc_lr_valid_proba(X_train_sparse_new, y_train)"
      ],
      "metadata": {
        "colab": {
          "base_uri": "https://localhost:8080/",
          "height": 109
        },
        "id": "BjT3R27ovFhr",
        "outputId": "f958d5c8-5c2d-49a5-92ee-7e66342611ec"
      },
      "execution_count": null,
      "outputs": [
        {
          "output_type": "stream",
          "name": "stderr",
          "text": [
            "[Parallel(n_jobs=-1)]: Using backend LokyBackend with 2 concurrent workers.\n",
            "[Parallel(n_jobs=-1)]: Done   1 out of   1 | elapsed:    3.4s finished\n"
          ]
        },
        {
          "output_type": "stream",
          "name": "stdout",
          "text": [
            "CPU times: user 188 ms, sys: 26.6 ms, total: 215 ms\n",
            "Wall time: 4.02 s\n"
          ]
        },
        {
          "output_type": "execute_result",
          "data": {
            "text/plain": [
              "'roc_auc_score: 0.9698391950477326'"
            ],
            "application/vnd.google.colaboratory.intrinsic+json": {
              "type": "string"
            }
          },
          "metadata": {},
          "execution_count": 51
        }
      ]
    },
    {
      "cell_type": "markdown",
      "source": [
        "**Добавьте два новых признака: start_hour и morning.**\n",
        "\n",
        "Признак start_hour – это час в который началась сессия (от 0 до 23), а бинарный признак morning равен 1, если сессия началась утром и 0, если сессия началась позже (будем считать, что утро это если start_hour равен 11 или меньше).\n",
        "<br>\n",
        "\n",
        "**Посчитйте ROC AUC на отложенной выборке для выборки с:**\n",
        "<br>-сайтами, start_month и start_hour\n",
        "<br>-сайтами, start_month и morning\n",
        "<br>-сайтами, start_month, start_hour и morning"
      ],
      "metadata": {
        "id": "M6ekYWsbx0q0"
      }
    },
    {
      "cell_type": "code",
      "source": [
        "new_feat_train = pd.DataFrame()\n",
        "new_feat_train['start_hour'] = train_df['time1'].apply(lambda ts: ts.hour)\n",
        "new_feat_test = pd.DataFrame()\n",
        "new_feat_test['start_hour'] = test_df['time1'].apply(lambda ts: ts.hour)"
      ],
      "metadata": {
        "id": "_LNqen3Dx09Z"
      },
      "execution_count": null,
      "outputs": []
    },
    {
      "cell_type": "code",
      "source": [
        "new_feat_train.head()"
      ],
      "metadata": {
        "colab": {
          "base_uri": "https://localhost:8080/",
          "height": 237
        },
        "id": "neQCHKtiw431",
        "outputId": "ea7454f8-a1b1-40b8-a38b-119f630b34ac"
      },
      "execution_count": null,
      "outputs": [
        {
          "output_type": "execute_result",
          "data": {
            "text/plain": [
              "            start_hour\n",
              "session_id            \n",
              "21669                8\n",
              "54843                8\n",
              "77292                8\n",
              "114021               8\n",
              "146670               8"
            ],
            "text/html": [
              "\n",
              "  <div id=\"df-95ba9e29-0116-495c-a093-8bea70c679a8\">\n",
              "    <div class=\"colab-df-container\">\n",
              "      <div>\n",
              "<style scoped>\n",
              "    .dataframe tbody tr th:only-of-type {\n",
              "        vertical-align: middle;\n",
              "    }\n",
              "\n",
              "    .dataframe tbody tr th {\n",
              "        vertical-align: top;\n",
              "    }\n",
              "\n",
              "    .dataframe thead th {\n",
              "        text-align: right;\n",
              "    }\n",
              "</style>\n",
              "<table border=\"1\" class=\"dataframe\">\n",
              "  <thead>\n",
              "    <tr style=\"text-align: right;\">\n",
              "      <th></th>\n",
              "      <th>start_hour</th>\n",
              "    </tr>\n",
              "    <tr>\n",
              "      <th>session_id</th>\n",
              "      <th></th>\n",
              "    </tr>\n",
              "  </thead>\n",
              "  <tbody>\n",
              "    <tr>\n",
              "      <th>21669</th>\n",
              "      <td>8</td>\n",
              "    </tr>\n",
              "    <tr>\n",
              "      <th>54843</th>\n",
              "      <td>8</td>\n",
              "    </tr>\n",
              "    <tr>\n",
              "      <th>77292</th>\n",
              "      <td>8</td>\n",
              "    </tr>\n",
              "    <tr>\n",
              "      <th>114021</th>\n",
              "      <td>8</td>\n",
              "    </tr>\n",
              "    <tr>\n",
              "      <th>146670</th>\n",
              "      <td>8</td>\n",
              "    </tr>\n",
              "  </tbody>\n",
              "</table>\n",
              "</div>\n",
              "      <button class=\"colab-df-convert\" onclick=\"convertToInteractive('df-95ba9e29-0116-495c-a093-8bea70c679a8')\"\n",
              "              title=\"Convert this dataframe to an interactive table.\"\n",
              "              style=\"display:none;\">\n",
              "        \n",
              "  <svg xmlns=\"http://www.w3.org/2000/svg\" height=\"24px\"viewBox=\"0 0 24 24\"\n",
              "       width=\"24px\">\n",
              "    <path d=\"M0 0h24v24H0V0z\" fill=\"none\"/>\n",
              "    <path d=\"M18.56 5.44l.94 2.06.94-2.06 2.06-.94-2.06-.94-.94-2.06-.94 2.06-2.06.94zm-11 1L8.5 8.5l.94-2.06 2.06-.94-2.06-.94L8.5 2.5l-.94 2.06-2.06.94zm10 10l.94 2.06.94-2.06 2.06-.94-2.06-.94-.94-2.06-.94 2.06-2.06.94z\"/><path d=\"M17.41 7.96l-1.37-1.37c-.4-.4-.92-.59-1.43-.59-.52 0-1.04.2-1.43.59L10.3 9.45l-7.72 7.72c-.78.78-.78 2.05 0 2.83L4 21.41c.39.39.9.59 1.41.59.51 0 1.02-.2 1.41-.59l7.78-7.78 2.81-2.81c.8-.78.8-2.07 0-2.86zM5.41 20L4 18.59l7.72-7.72 1.47 1.35L5.41 20z\"/>\n",
              "  </svg>\n",
              "      </button>\n",
              "      \n",
              "  <style>\n",
              "    .colab-df-container {\n",
              "      display:flex;\n",
              "      flex-wrap:wrap;\n",
              "      gap: 12px;\n",
              "    }\n",
              "\n",
              "    .colab-df-convert {\n",
              "      background-color: #E8F0FE;\n",
              "      border: none;\n",
              "      border-radius: 50%;\n",
              "      cursor: pointer;\n",
              "      display: none;\n",
              "      fill: #1967D2;\n",
              "      height: 32px;\n",
              "      padding: 0 0 0 0;\n",
              "      width: 32px;\n",
              "    }\n",
              "\n",
              "    .colab-df-convert:hover {\n",
              "      background-color: #E2EBFA;\n",
              "      box-shadow: 0px 1px 2px rgba(60, 64, 67, 0.3), 0px 1px 3px 1px rgba(60, 64, 67, 0.15);\n",
              "      fill: #174EA6;\n",
              "    }\n",
              "\n",
              "    [theme=dark] .colab-df-convert {\n",
              "      background-color: #3B4455;\n",
              "      fill: #D2E3FC;\n",
              "    }\n",
              "\n",
              "    [theme=dark] .colab-df-convert:hover {\n",
              "      background-color: #434B5C;\n",
              "      box-shadow: 0px 1px 3px 1px rgba(0, 0, 0, 0.15);\n",
              "      filter: drop-shadow(0px 1px 2px rgba(0, 0, 0, 0.3));\n",
              "      fill: #FFFFFF;\n",
              "    }\n",
              "  </style>\n",
              "\n",
              "      <script>\n",
              "        const buttonEl =\n",
              "          document.querySelector('#df-95ba9e29-0116-495c-a093-8bea70c679a8 button.colab-df-convert');\n",
              "        buttonEl.style.display =\n",
              "          google.colab.kernel.accessAllowed ? 'block' : 'none';\n",
              "\n",
              "        async function convertToInteractive(key) {\n",
              "          const element = document.querySelector('#df-95ba9e29-0116-495c-a093-8bea70c679a8');\n",
              "          const dataTable =\n",
              "            await google.colab.kernel.invokeFunction('convertToInteractive',\n",
              "                                                     [key], {});\n",
              "          if (!dataTable) return;\n",
              "\n",
              "          const docLinkHtml = 'Like what you see? Visit the ' +\n",
              "            '<a target=\"_blank\" href=https://colab.research.google.com/notebooks/data_table.ipynb>data table notebook</a>'\n",
              "            + ' to learn more about interactive tables.';\n",
              "          element.innerHTML = '';\n",
              "          dataTable['output_type'] = 'display_data';\n",
              "          await google.colab.output.renderOutput(dataTable, element);\n",
              "          const docLink = document.createElement('div');\n",
              "          docLink.innerHTML = docLinkHtml;\n",
              "          element.appendChild(docLink);\n",
              "        }\n",
              "      </script>\n",
              "    </div>\n",
              "  </div>\n",
              "  "
            ]
          },
          "metadata": {},
          "execution_count": 53
        }
      ]
    },
    {
      "cell_type": "code",
      "source": [
        "new_feat_train['morning'] = pd.Series([i for i in range(len(new_feat_train)+1)])\n",
        "new_feat_test['morning'] = pd.Series([i for i in range(len(new_feat_test)+1)])"
      ],
      "metadata": {
        "id": "OEMjCbamxmlt"
      },
      "execution_count": null,
      "outputs": []
    },
    {
      "cell_type": "code",
      "source": [
        "new_feat_train['morning'] = new_feat_train['start_hour'].apply(lambda x : 1 if (x <= 11) else 0)\n",
        "new_feat_test['morning'] = new_feat_test['start_hour'].apply(lambda x : 1 if (x <= 11) else 0)"
      ],
      "metadata": {
        "id": "0vXuLD0NxnAV"
      },
      "execution_count": null,
      "outputs": []
    },
    {
      "cell_type": "code",
      "source": [
        "new_feat_train.head()"
      ],
      "metadata": {
        "colab": {
          "base_uri": "https://localhost:8080/",
          "height": 237
        },
        "id": "fSZGJaKYxp9t",
        "outputId": "769d34a6-7384-4ea5-9e8e-28102f08ac42"
      },
      "execution_count": null,
      "outputs": [
        {
          "output_type": "execute_result",
          "data": {
            "text/plain": [
              "            start_hour  morning\n",
              "session_id                     \n",
              "21669                8        1\n",
              "54843                8        1\n",
              "77292                8        1\n",
              "114021               8        1\n",
              "146670               8        1"
            ],
            "text/html": [
              "\n",
              "  <div id=\"df-47a30f93-e308-4e86-a26d-36ddde915c93\">\n",
              "    <div class=\"colab-df-container\">\n",
              "      <div>\n",
              "<style scoped>\n",
              "    .dataframe tbody tr th:only-of-type {\n",
              "        vertical-align: middle;\n",
              "    }\n",
              "\n",
              "    .dataframe tbody tr th {\n",
              "        vertical-align: top;\n",
              "    }\n",
              "\n",
              "    .dataframe thead th {\n",
              "        text-align: right;\n",
              "    }\n",
              "</style>\n",
              "<table border=\"1\" class=\"dataframe\">\n",
              "  <thead>\n",
              "    <tr style=\"text-align: right;\">\n",
              "      <th></th>\n",
              "      <th>start_hour</th>\n",
              "      <th>morning</th>\n",
              "    </tr>\n",
              "    <tr>\n",
              "      <th>session_id</th>\n",
              "      <th></th>\n",
              "      <th></th>\n",
              "    </tr>\n",
              "  </thead>\n",
              "  <tbody>\n",
              "    <tr>\n",
              "      <th>21669</th>\n",
              "      <td>8</td>\n",
              "      <td>1</td>\n",
              "    </tr>\n",
              "    <tr>\n",
              "      <th>54843</th>\n",
              "      <td>8</td>\n",
              "      <td>1</td>\n",
              "    </tr>\n",
              "    <tr>\n",
              "      <th>77292</th>\n",
              "      <td>8</td>\n",
              "      <td>1</td>\n",
              "    </tr>\n",
              "    <tr>\n",
              "      <th>114021</th>\n",
              "      <td>8</td>\n",
              "      <td>1</td>\n",
              "    </tr>\n",
              "    <tr>\n",
              "      <th>146670</th>\n",
              "      <td>8</td>\n",
              "      <td>1</td>\n",
              "    </tr>\n",
              "  </tbody>\n",
              "</table>\n",
              "</div>\n",
              "      <button class=\"colab-df-convert\" onclick=\"convertToInteractive('df-47a30f93-e308-4e86-a26d-36ddde915c93')\"\n",
              "              title=\"Convert this dataframe to an interactive table.\"\n",
              "              style=\"display:none;\">\n",
              "        \n",
              "  <svg xmlns=\"http://www.w3.org/2000/svg\" height=\"24px\"viewBox=\"0 0 24 24\"\n",
              "       width=\"24px\">\n",
              "    <path d=\"M0 0h24v24H0V0z\" fill=\"none\"/>\n",
              "    <path d=\"M18.56 5.44l.94 2.06.94-2.06 2.06-.94-2.06-.94-.94-2.06-.94 2.06-2.06.94zm-11 1L8.5 8.5l.94-2.06 2.06-.94-2.06-.94L8.5 2.5l-.94 2.06-2.06.94zm10 10l.94 2.06.94-2.06 2.06-.94-2.06-.94-.94-2.06-.94 2.06-2.06.94z\"/><path d=\"M17.41 7.96l-1.37-1.37c-.4-.4-.92-.59-1.43-.59-.52 0-1.04.2-1.43.59L10.3 9.45l-7.72 7.72c-.78.78-.78 2.05 0 2.83L4 21.41c.39.39.9.59 1.41.59.51 0 1.02-.2 1.41-.59l7.78-7.78 2.81-2.81c.8-.78.8-2.07 0-2.86zM5.41 20L4 18.59l7.72-7.72 1.47 1.35L5.41 20z\"/>\n",
              "  </svg>\n",
              "      </button>\n",
              "      \n",
              "  <style>\n",
              "    .colab-df-container {\n",
              "      display:flex;\n",
              "      flex-wrap:wrap;\n",
              "      gap: 12px;\n",
              "    }\n",
              "\n",
              "    .colab-df-convert {\n",
              "      background-color: #E8F0FE;\n",
              "      border: none;\n",
              "      border-radius: 50%;\n",
              "      cursor: pointer;\n",
              "      display: none;\n",
              "      fill: #1967D2;\n",
              "      height: 32px;\n",
              "      padding: 0 0 0 0;\n",
              "      width: 32px;\n",
              "    }\n",
              "\n",
              "    .colab-df-convert:hover {\n",
              "      background-color: #E2EBFA;\n",
              "      box-shadow: 0px 1px 2px rgba(60, 64, 67, 0.3), 0px 1px 3px 1px rgba(60, 64, 67, 0.15);\n",
              "      fill: #174EA6;\n",
              "    }\n",
              "\n",
              "    [theme=dark] .colab-df-convert {\n",
              "      background-color: #3B4455;\n",
              "      fill: #D2E3FC;\n",
              "    }\n",
              "\n",
              "    [theme=dark] .colab-df-convert:hover {\n",
              "      background-color: #434B5C;\n",
              "      box-shadow: 0px 1px 3px 1px rgba(0, 0, 0, 0.15);\n",
              "      filter: drop-shadow(0px 1px 2px rgba(0, 0, 0, 0.3));\n",
              "      fill: #FFFFFF;\n",
              "    }\n",
              "  </style>\n",
              "\n",
              "      <script>\n",
              "        const buttonEl =\n",
              "          document.querySelector('#df-47a30f93-e308-4e86-a26d-36ddde915c93 button.colab-df-convert');\n",
              "        buttonEl.style.display =\n",
              "          google.colab.kernel.accessAllowed ? 'block' : 'none';\n",
              "\n",
              "        async function convertToInteractive(key) {\n",
              "          const element = document.querySelector('#df-47a30f93-e308-4e86-a26d-36ddde915c93');\n",
              "          const dataTable =\n",
              "            await google.colab.kernel.invokeFunction('convertToInteractive',\n",
              "                                                     [key], {});\n",
              "          if (!dataTable) return;\n",
              "\n",
              "          const docLinkHtml = 'Like what you see? Visit the ' +\n",
              "            '<a target=\"_blank\" href=https://colab.research.google.com/notebooks/data_table.ipynb>data table notebook</a>'\n",
              "            + ' to learn more about interactive tables.';\n",
              "          element.innerHTML = '';\n",
              "          dataTable['output_type'] = 'display_data';\n",
              "          await google.colab.output.renderOutput(dataTable, element);\n",
              "          const docLink = document.createElement('div');\n",
              "          docLink.innerHTML = docLinkHtml;\n",
              "          element.appendChild(docLink);\n",
              "        }\n",
              "      </script>\n",
              "    </div>\n",
              "  </div>\n",
              "  "
            ]
          },
          "metadata": {},
          "execution_count": 56
        }
      ]
    },
    {
      "cell_type": "code",
      "source": [
        "scaler = StandardScaler()\n",
        "scaler.fit(new_feat_train['start_hour'].values.reshape(-1,1))\n",
        "new_feat_train['start_hour'] = scaler.transform(new_feat_train['start_hour'].values.reshape(-1,1))\n",
        "new_feat_test['start_hour'] = scaler.transform(new_feat_test['start_hour'].values.reshape(-1,1))"
      ],
      "metadata": {
        "id": "Kh9bcHagwl6c"
      },
      "execution_count": null,
      "outputs": []
    },
    {
      "cell_type": "code",
      "source": [
        "scaler = StandardScaler()\n",
        "scaler.fit(new_feat_train['morning'].values.reshape(-1,1))\n",
        "new_feat_train['morning'] = scaler.transform(new_feat_train['morning'].values.reshape(-1,1))\n",
        "new_feat_test['morning'] = scaler.transform(new_feat_test['morning'].values.reshape(-1,1))"
      ],
      "metadata": {
        "id": "8dKaePe4xuoc"
      },
      "execution_count": null,
      "outputs": []
    },
    {
      "cell_type": "code",
      "source": [
        "new_feat_train.head()"
      ],
      "metadata": {
        "colab": {
          "base_uri": "https://localhost:8080/",
          "height": 237
        },
        "id": "fLSg4LszxurT",
        "outputId": "dca1edc5-7f11-4c75-fe9d-ae150bdfa32f"
      },
      "execution_count": null,
      "outputs": [
        {
          "output_type": "execute_result",
          "data": {
            "text/plain": [
              "            start_hour   morning\n",
              "session_id                      \n",
              "21669        -1.357366  1.039061\n",
              "54843        -1.357366  1.039061\n",
              "77292        -1.357366  1.039061\n",
              "114021       -1.357366  1.039061\n",
              "146670       -1.357366  1.039061"
            ],
            "text/html": [
              "\n",
              "  <div id=\"df-9c112769-5079-4be8-a472-d27fed2e8894\">\n",
              "    <div class=\"colab-df-container\">\n",
              "      <div>\n",
              "<style scoped>\n",
              "    .dataframe tbody tr th:only-of-type {\n",
              "        vertical-align: middle;\n",
              "    }\n",
              "\n",
              "    .dataframe tbody tr th {\n",
              "        vertical-align: top;\n",
              "    }\n",
              "\n",
              "    .dataframe thead th {\n",
              "        text-align: right;\n",
              "    }\n",
              "</style>\n",
              "<table border=\"1\" class=\"dataframe\">\n",
              "  <thead>\n",
              "    <tr style=\"text-align: right;\">\n",
              "      <th></th>\n",
              "      <th>start_hour</th>\n",
              "      <th>morning</th>\n",
              "    </tr>\n",
              "    <tr>\n",
              "      <th>session_id</th>\n",
              "      <th></th>\n",
              "      <th></th>\n",
              "    </tr>\n",
              "  </thead>\n",
              "  <tbody>\n",
              "    <tr>\n",
              "      <th>21669</th>\n",
              "      <td>-1.357366</td>\n",
              "      <td>1.039061</td>\n",
              "    </tr>\n",
              "    <tr>\n",
              "      <th>54843</th>\n",
              "      <td>-1.357366</td>\n",
              "      <td>1.039061</td>\n",
              "    </tr>\n",
              "    <tr>\n",
              "      <th>77292</th>\n",
              "      <td>-1.357366</td>\n",
              "      <td>1.039061</td>\n",
              "    </tr>\n",
              "    <tr>\n",
              "      <th>114021</th>\n",
              "      <td>-1.357366</td>\n",
              "      <td>1.039061</td>\n",
              "    </tr>\n",
              "    <tr>\n",
              "      <th>146670</th>\n",
              "      <td>-1.357366</td>\n",
              "      <td>1.039061</td>\n",
              "    </tr>\n",
              "  </tbody>\n",
              "</table>\n",
              "</div>\n",
              "      <button class=\"colab-df-convert\" onclick=\"convertToInteractive('df-9c112769-5079-4be8-a472-d27fed2e8894')\"\n",
              "              title=\"Convert this dataframe to an interactive table.\"\n",
              "              style=\"display:none;\">\n",
              "        \n",
              "  <svg xmlns=\"http://www.w3.org/2000/svg\" height=\"24px\"viewBox=\"0 0 24 24\"\n",
              "       width=\"24px\">\n",
              "    <path d=\"M0 0h24v24H0V0z\" fill=\"none\"/>\n",
              "    <path d=\"M18.56 5.44l.94 2.06.94-2.06 2.06-.94-2.06-.94-.94-2.06-.94 2.06-2.06.94zm-11 1L8.5 8.5l.94-2.06 2.06-.94-2.06-.94L8.5 2.5l-.94 2.06-2.06.94zm10 10l.94 2.06.94-2.06 2.06-.94-2.06-.94-.94-2.06-.94 2.06-2.06.94z\"/><path d=\"M17.41 7.96l-1.37-1.37c-.4-.4-.92-.59-1.43-.59-.52 0-1.04.2-1.43.59L10.3 9.45l-7.72 7.72c-.78.78-.78 2.05 0 2.83L4 21.41c.39.39.9.59 1.41.59.51 0 1.02-.2 1.41-.59l7.78-7.78 2.81-2.81c.8-.78.8-2.07 0-2.86zM5.41 20L4 18.59l7.72-7.72 1.47 1.35L5.41 20z\"/>\n",
              "  </svg>\n",
              "      </button>\n",
              "      \n",
              "  <style>\n",
              "    .colab-df-container {\n",
              "      display:flex;\n",
              "      flex-wrap:wrap;\n",
              "      gap: 12px;\n",
              "    }\n",
              "\n",
              "    .colab-df-convert {\n",
              "      background-color: #E8F0FE;\n",
              "      border: none;\n",
              "      border-radius: 50%;\n",
              "      cursor: pointer;\n",
              "      display: none;\n",
              "      fill: #1967D2;\n",
              "      height: 32px;\n",
              "      padding: 0 0 0 0;\n",
              "      width: 32px;\n",
              "    }\n",
              "\n",
              "    .colab-df-convert:hover {\n",
              "      background-color: #E2EBFA;\n",
              "      box-shadow: 0px 1px 2px rgba(60, 64, 67, 0.3), 0px 1px 3px 1px rgba(60, 64, 67, 0.15);\n",
              "      fill: #174EA6;\n",
              "    }\n",
              "\n",
              "    [theme=dark] .colab-df-convert {\n",
              "      background-color: #3B4455;\n",
              "      fill: #D2E3FC;\n",
              "    }\n",
              "\n",
              "    [theme=dark] .colab-df-convert:hover {\n",
              "      background-color: #434B5C;\n",
              "      box-shadow: 0px 1px 3px 1px rgba(0, 0, 0, 0.15);\n",
              "      filter: drop-shadow(0px 1px 2px rgba(0, 0, 0, 0.3));\n",
              "      fill: #FFFFFF;\n",
              "    }\n",
              "  </style>\n",
              "\n",
              "      <script>\n",
              "        const buttonEl =\n",
              "          document.querySelector('#df-9c112769-5079-4be8-a472-d27fed2e8894 button.colab-df-convert');\n",
              "        buttonEl.style.display =\n",
              "          google.colab.kernel.accessAllowed ? 'block' : 'none';\n",
              "\n",
              "        async function convertToInteractive(key) {\n",
              "          const element = document.querySelector('#df-9c112769-5079-4be8-a472-d27fed2e8894');\n",
              "          const dataTable =\n",
              "            await google.colab.kernel.invokeFunction('convertToInteractive',\n",
              "                                                     [key], {});\n",
              "          if (!dataTable) return;\n",
              "\n",
              "          const docLinkHtml = 'Like what you see? Visit the ' +\n",
              "            '<a target=\"_blank\" href=https://colab.research.google.com/notebooks/data_table.ipynb>data table notebook</a>'\n",
              "            + ' to learn more about interactive tables.';\n",
              "          element.innerHTML = '';\n",
              "          dataTable['output_type'] = 'display_data';\n",
              "          await google.colab.output.renderOutput(dataTable, element);\n",
              "          const docLink = document.createElement('div');\n",
              "          docLink.innerHTML = docLinkHtml;\n",
              "          element.appendChild(docLink);\n",
              "        }\n",
              "      </script>\n",
              "    </div>\n",
              "  </div>\n",
              "  "
            ]
          },
          "metadata": {},
          "execution_count": 59
        }
      ]
    },
    {
      "cell_type": "code",
      "source": [
        "new_feat_train.head(), new_feat_test.head()"
      ],
      "metadata": {
        "id": "lZ8bBoW2x3hE",
        "colab": {
          "base_uri": "https://localhost:8080/"
        },
        "outputId": "1514f56b-45a3-423a-b390-89c3ad690c01"
      },
      "execution_count": null,
      "outputs": [
        {
          "output_type": "execute_result",
          "data": {
            "text/plain": [
              "(            start_hour   morning\n",
              " session_id                      \n",
              " 21669        -1.357366  1.039061\n",
              " 54843        -1.357366  1.039061\n",
              " 77292        -1.357366  1.039061\n",
              " 114021       -1.357366  1.039061\n",
              " 146670       -1.357366  1.039061,             start_hour   morning\n",
              " session_id                      \n",
              " 1            -0.407823  1.039061\n",
              " 2            -0.407823  1.039061\n",
              " 3             0.858234 -0.962408\n",
              " 4            -0.724338  1.039061\n",
              " 5             0.858234 -0.962408)"
            ]
          },
          "metadata": {},
          "execution_count": 60
        }
      ]
    },
    {
      "cell_type": "code",
      "source": [
        "#sns.countplot(new_feat_train.start_hour);\n",
        "sns.countplot(new_feat_test.start_hour);"
      ],
      "metadata": {
        "id": "5Ge0-_4dx3jj",
        "colab": {
          "base_uri": "https://localhost:8080/",
          "height": 336
        },
        "outputId": "e676305e-3533-4f72-df78-f2205f6b83fd"
      },
      "execution_count": null,
      "outputs": [
        {
          "output_type": "stream",
          "name": "stderr",
          "text": [
            "/usr/local/lib/python3.7/dist-packages/seaborn/_decorators.py:43: FutureWarning: Pass the following variable as a keyword arg: x. From version 0.12, the only valid positional argument will be `data`, and passing other arguments without an explicit keyword will result in an error or misinterpretation.\n",
            "  FutureWarning\n"
          ]
        },
        {
          "output_type": "display_data",
          "data": {
            "text/plain": [
              "<Figure size 432x288 with 1 Axes>"
            ],
            "image/png": "[encoded data removed]"
          },
          "metadata": {
            "needs_background": "light"
          }
        }
      ]
    },
    {
      "cell_type": "code",
      "source": [
        "new_feat_test.head()"
      ],
      "metadata": {
        "colab": {
          "base_uri": "https://localhost:8080/",
          "height": 237
        },
        "id": "qys2LQdUwkW3",
        "outputId": "4518c5b7-0e8b-4b44-cb8d-52b3893a8497"
      },
      "execution_count": null,
      "outputs": [
        {
          "output_type": "execute_result",
          "data": {
            "text/plain": [
              "            start_hour   morning\n",
              "session_id                      \n",
              "1            -0.407823  1.039061\n",
              "2            -0.407823  1.039061\n",
              "3             0.858234 -0.962408\n",
              "4            -0.724338  1.039061\n",
              "5             0.858234 -0.962408"
            ],
            "text/html": [
              "\n",
              "  <div id=\"df-6a3e40e4-97ef-410f-a0b2-7dde5433039c\">\n",
              "    <div class=\"colab-df-container\">\n",
              "      <div>\n",
              "<style scoped>\n",
              "    .dataframe tbody tr th:only-of-type {\n",
              "        vertical-align: middle;\n",
              "    }\n",
              "\n",
              "    .dataframe tbody tr th {\n",
              "        vertical-align: top;\n",
              "    }\n",
              "\n",
              "    .dataframe thead th {\n",
              "        text-align: right;\n",
              "    }\n",
              "</style>\n",
              "<table border=\"1\" class=\"dataframe\">\n",
              "  <thead>\n",
              "    <tr style=\"text-align: right;\">\n",
              "      <th></th>\n",
              "      <th>start_hour</th>\n",
              "      <th>morning</th>\n",
              "    </tr>\n",
              "    <tr>\n",
              "      <th>session_id</th>\n",
              "      <th></th>\n",
              "      <th></th>\n",
              "    </tr>\n",
              "  </thead>\n",
              "  <tbody>\n",
              "    <tr>\n",
              "      <th>1</th>\n",
              "      <td>-0.407823</td>\n",
              "      <td>1.039061</td>\n",
              "    </tr>\n",
              "    <tr>\n",
              "      <th>2</th>\n",
              "      <td>-0.407823</td>\n",
              "      <td>1.039061</td>\n",
              "    </tr>\n",
              "    <tr>\n",
              "      <th>3</th>\n",
              "      <td>0.858234</td>\n",
              "      <td>-0.962408</td>\n",
              "    </tr>\n",
              "    <tr>\n",
              "      <th>4</th>\n",
              "      <td>-0.724338</td>\n",
              "      <td>1.039061</td>\n",
              "    </tr>\n",
              "    <tr>\n",
              "      <th>5</th>\n",
              "      <td>0.858234</td>\n",
              "      <td>-0.962408</td>\n",
              "    </tr>\n",
              "  </tbody>\n",
              "</table>\n",
              "</div>\n",
              "      <button class=\"colab-df-convert\" onclick=\"convertToInteractive('df-6a3e40e4-97ef-410f-a0b2-7dde5433039c')\"\n",
              "              title=\"Convert this dataframe to an interactive table.\"\n",
              "              style=\"display:none;\">\n",
              "        \n",
              "  <svg xmlns=\"http://www.w3.org/2000/svg\" height=\"24px\"viewBox=\"0 0 24 24\"\n",
              "       width=\"24px\">\n",
              "    <path d=\"M0 0h24v24H0V0z\" fill=\"none\"/>\n",
              "    <path d=\"M18.56 5.44l.94 2.06.94-2.06 2.06-.94-2.06-.94-.94-2.06-.94 2.06-2.06.94zm-11 1L8.5 8.5l.94-2.06 2.06-.94-2.06-.94L8.5 2.5l-.94 2.06-2.06.94zm10 10l.94 2.06.94-2.06 2.06-.94-2.06-.94-.94-2.06-.94 2.06-2.06.94z\"/><path d=\"M17.41 7.96l-1.37-1.37c-.4-.4-.92-.59-1.43-.59-.52 0-1.04.2-1.43.59L10.3 9.45l-7.72 7.72c-.78.78-.78 2.05 0 2.83L4 21.41c.39.39.9.59 1.41.59.51 0 1.02-.2 1.41-.59l7.78-7.78 2.81-2.81c.8-.78.8-2.07 0-2.86zM5.41 20L4 18.59l7.72-7.72 1.47 1.35L5.41 20z\"/>\n",
              "  </svg>\n",
              "      </button>\n",
              "      \n",
              "  <style>\n",
              "    .colab-df-container {\n",
              "      display:flex;\n",
              "      flex-wrap:wrap;\n",
              "      gap: 12px;\n",
              "    }\n",
              "\n",
              "    .colab-df-convert {\n",
              "      background-color: #E8F0FE;\n",
              "      border: none;\n",
              "      border-radius: 50%;\n",
              "      cursor: pointer;\n",
              "      display: none;\n",
              "      fill: #1967D2;\n",
              "      height: 32px;\n",
              "      padding: 0 0 0 0;\n",
              "      width: 32px;\n",
              "    }\n",
              "\n",
              "    .colab-df-convert:hover {\n",
              "      background-color: #E2EBFA;\n",
              "      box-shadow: 0px 1px 2px rgba(60, 64, 67, 0.3), 0px 1px 3px 1px rgba(60, 64, 67, 0.15);\n",
              "      fill: #174EA6;\n",
              "    }\n",
              "\n",
              "    [theme=dark] .colab-df-convert {\n",
              "      background-color: #3B4455;\n",
              "      fill: #D2E3FC;\n",
              "    }\n",
              "\n",
              "    [theme=dark] .colab-df-convert:hover {\n",
              "      background-color: #434B5C;\n",
              "      box-shadow: 0px 1px 3px 1px rgba(0, 0, 0, 0.15);\n",
              "      filter: drop-shadow(0px 1px 2px rgba(0, 0, 0, 0.3));\n",
              "      fill: #FFFFFF;\n",
              "    }\n",
              "  </style>\n",
              "\n",
              "      <script>\n",
              "        const buttonEl =\n",
              "          document.querySelector('#df-6a3e40e4-97ef-410f-a0b2-7dde5433039c button.colab-df-convert');\n",
              "        buttonEl.style.display =\n",
              "          google.colab.kernel.accessAllowed ? 'block' : 'none';\n",
              "\n",
              "        async function convertToInteractive(key) {\n",
              "          const element = document.querySelector('#df-6a3e40e4-97ef-410f-a0b2-7dde5433039c');\n",
              "          const dataTable =\n",
              "            await google.colab.kernel.invokeFunction('convertToInteractive',\n",
              "                                                     [key], {});\n",
              "          if (!dataTable) return;\n",
              "\n",
              "          const docLinkHtml = 'Like what you see? Visit the ' +\n",
              "            '<a target=\"_blank\" href=https://colab.research.google.com/notebooks/data_table.ipynb>data table notebook</a>'\n",
              "            + ' to learn more about interactive tables.';\n",
              "          element.innerHTML = '';\n",
              "          dataTable['output_type'] = 'display_data';\n",
              "          await google.colab.output.renderOutput(dataTable, element);\n",
              "          const docLink = document.createElement('div');\n",
              "          docLink.innerHTML = docLinkHtml;\n",
              "          element.appendChild(docLink);\n",
              "        }\n",
              "      </script>\n",
              "    </div>\n",
              "  </div>\n",
              "  "
            ]
          },
          "metadata": {},
          "execution_count": 87
        }
      ]
    },
    {
      "cell_type": "code",
      "source": [
        "pd.concat([new_feat_train, y_train], axis = 1).query('target == 1')"
      ],
      "metadata": {
        "colab": {
          "base_uri": "https://localhost:8080/",
          "height": 455
        },
        "id": "GHm0rN-6wrxe",
        "outputId": "c68da757-2d9e-492c-b01c-9bcc22213391"
      },
      "execution_count": null,
      "outputs": [
        {
          "output_type": "execute_result",
          "data": {
            "text/plain": [
              "            start_hour   morning  target\n",
              "session_id                              \n",
              "251175        1.174749 -0.962408       1\n",
              "196388        1.174749 -0.962408       1\n",
              "172448        1.174749 -0.962408       1\n",
              "70129         1.174749 -0.962408       1\n",
              "206254        1.174749 -0.962408       1\n",
              "...                ...       ...     ...\n",
              "188473        1.491263 -0.962408       1\n",
              "40139         1.491263 -0.962408       1\n",
              "205622        1.491263 -0.962408       1\n",
              "60720         1.807777 -0.962408       1\n",
              "244233        1.807777 -0.962408       1\n",
              "\n",
              "[2297 rows x 3 columns]"
            ],
            "text/html": [
              "\n",
              "  <div id=\"df-5dcd38c7-f53d-49a3-8747-36b48dab1f59\">\n",
              "    <div class=\"colab-df-container\">\n",
              "      <div>\n",
              "<style scoped>\n",
              "    .dataframe tbody tr th:only-of-type {\n",
              "        vertical-align: middle;\n",
              "    }\n",
              "\n",
              "    .dataframe tbody tr th {\n",
              "        vertical-align: top;\n",
              "    }\n",
              "\n",
              "    .dataframe thead th {\n",
              "        text-align: right;\n",
              "    }\n",
              "</style>\n",
              "<table border=\"1\" class=\"dataframe\">\n",
              "  <thead>\n",
              "    <tr style=\"text-align: right;\">\n",
              "      <th></th>\n",
              "      <th>start_hour</th>\n",
              "      <th>morning</th>\n",
              "      <th>target</th>\n",
              "    </tr>\n",
              "    <tr>\n",
              "      <th>session_id</th>\n",
              "      <th></th>\n",
              "      <th></th>\n",
              "      <th></th>\n",
              "    </tr>\n",
              "  </thead>\n",
              "  <tbody>\n",
              "    <tr>\n",
              "      <th>251175</th>\n",
              "      <td>1.174749</td>\n",
              "      <td>-0.962408</td>\n",
              "      <td>1</td>\n",
              "    </tr>\n",
              "    <tr>\n",
              "      <th>196388</th>\n",
              "      <td>1.174749</td>\n",
              "      <td>-0.962408</td>\n",
              "      <td>1</td>\n",
              "    </tr>\n",
              "    <tr>\n",
              "      <th>172448</th>\n",
              "      <td>1.174749</td>\n",
              "      <td>-0.962408</td>\n",
              "      <td>1</td>\n",
              "    </tr>\n",
              "    <tr>\n",
              "      <th>70129</th>\n",
              "      <td>1.174749</td>\n",
              "      <td>-0.962408</td>\n",
              "      <td>1</td>\n",
              "    </tr>\n",
              "    <tr>\n",
              "      <th>206254</th>\n",
              "      <td>1.174749</td>\n",
              "      <td>-0.962408</td>\n",
              "      <td>1</td>\n",
              "    </tr>\n",
              "    <tr>\n",
              "      <th>...</th>\n",
              "      <td>...</td>\n",
              "      <td>...</td>\n",
              "      <td>...</td>\n",
              "    </tr>\n",
              "    <tr>\n",
              "      <th>188473</th>\n",
              "      <td>1.491263</td>\n",
              "      <td>-0.962408</td>\n",
              "      <td>1</td>\n",
              "    </tr>\n",
              "    <tr>\n",
              "      <th>40139</th>\n",
              "      <td>1.491263</td>\n",
              "      <td>-0.962408</td>\n",
              "      <td>1</td>\n",
              "    </tr>\n",
              "    <tr>\n",
              "      <th>205622</th>\n",
              "      <td>1.491263</td>\n",
              "      <td>-0.962408</td>\n",
              "      <td>1</td>\n",
              "    </tr>\n",
              "    <tr>\n",
              "      <th>60720</th>\n",
              "      <td>1.807777</td>\n",
              "      <td>-0.962408</td>\n",
              "      <td>1</td>\n",
              "    </tr>\n",
              "    <tr>\n",
              "      <th>244233</th>\n",
              "      <td>1.807777</td>\n",
              "      <td>-0.962408</td>\n",
              "      <td>1</td>\n",
              "    </tr>\n",
              "  </tbody>\n",
              "</table>\n",
              "<p>2297 rows × 3 columns</p>\n",
              "</div>\n",
              "      <button class=\"colab-df-convert\" onclick=\"convertToInteractive('df-5dcd38c7-f53d-49a3-8747-36b48dab1f59')\"\n",
              "              title=\"Convert this dataframe to an interactive table.\"\n",
              "              style=\"display:none;\">\n",
              "        \n",
              "  <svg xmlns=\"http://www.w3.org/2000/svg\" height=\"24px\"viewBox=\"0 0 24 24\"\n",
              "       width=\"24px\">\n",
              "    <path d=\"M0 0h24v24H0V0z\" fill=\"none\"/>\n",
              "    <path d=\"M18.56 5.44l.94 2.06.94-2.06 2.06-.94-2.06-.94-.94-2.06-.94 2.06-2.06.94zm-11 1L8.5 8.5l.94-2.06 2.06-.94-2.06-.94L8.5 2.5l-.94 2.06-2.06.94zm10 10l.94 2.06.94-2.06 2.06-.94-2.06-.94-.94-2.06-.94 2.06-2.06.94z\"/><path d=\"M17.41 7.96l-1.37-1.37c-.4-.4-.92-.59-1.43-.59-.52 0-1.04.2-1.43.59L10.3 9.45l-7.72 7.72c-.78.78-.78 2.05 0 2.83L4 21.41c.39.39.9.59 1.41.59.51 0 1.02-.2 1.41-.59l7.78-7.78 2.81-2.81c.8-.78.8-2.07 0-2.86zM5.41 20L4 18.59l7.72-7.72 1.47 1.35L5.41 20z\"/>\n",
              "  </svg>\n",
              "      </button>\n",
              "      \n",
              "  <style>\n",
              "    .colab-df-container {\n",
              "      display:flex;\n",
              "      flex-wrap:wrap;\n",
              "      gap: 12px;\n",
              "    }\n",
              "\n",
              "    .colab-df-convert {\n",
              "      background-color: #E8F0FE;\n",
              "      border: none;\n",
              "      border-radius: 50%;\n",
              "      cursor: pointer;\n",
              "      display: none;\n",
              "      fill: #1967D2;\n",
              "      height: 32px;\n",
              "      padding: 0 0 0 0;\n",
              "      width: 32px;\n",
              "    }\n",
              "\n",
              "    .colab-df-convert:hover {\n",
              "      background-color: #E2EBFA;\n",
              "      box-shadow: 0px 1px 2px rgba(60, 64, 67, 0.3), 0px 1px 3px 1px rgba(60, 64, 67, 0.15);\n",
              "      fill: #174EA6;\n",
              "    }\n",
              "\n",
              "    [theme=dark] .colab-df-convert {\n",
              "      background-color: #3B4455;\n",
              "      fill: #D2E3FC;\n",
              "    }\n",
              "\n",
              "    [theme=dark] .colab-df-convert:hover {\n",
              "      background-color: #434B5C;\n",
              "      box-shadow: 0px 1px 3px 1px rgba(0, 0, 0, 0.15);\n",
              "      filter: drop-shadow(0px 1px 2px rgba(0, 0, 0, 0.3));\n",
              "      fill: #FFFFFF;\n",
              "    }\n",
              "  </style>\n",
              "\n",
              "      <script>\n",
              "        const buttonEl =\n",
              "          document.querySelector('#df-5dcd38c7-f53d-49a3-8747-36b48dab1f59 button.colab-df-convert');\n",
              "        buttonEl.style.display =\n",
              "          google.colab.kernel.accessAllowed ? 'block' : 'none';\n",
              "\n",
              "        async function convertToInteractive(key) {\n",
              "          const element = document.querySelector('#df-5dcd38c7-f53d-49a3-8747-36b48dab1f59');\n",
              "          const dataTable =\n",
              "            await google.colab.kernel.invokeFunction('convertToInteractive',\n",
              "                                                     [key], {});\n",
              "          if (!dataTable) return;\n",
              "\n",
              "          const docLinkHtml = 'Like what you see? Visit the ' +\n",
              "            '<a target=\"_blank\" href=https://colab.research.google.com/notebooks/data_table.ipynb>data table notebook</a>'\n",
              "            + ' to learn more about interactive tables.';\n",
              "          element.innerHTML = '';\n",
              "          dataTable['output_type'] = 'display_data';\n",
              "          await google.colab.output.renderOutput(dataTable, element);\n",
              "          const docLink = document.createElement('div');\n",
              "          docLink.innerHTML = docLinkHtml;\n",
              "          element.appendChild(docLink);\n",
              "        }\n",
              "      </script>\n",
              "    </div>\n",
              "  </div>\n",
              "  "
            ]
          },
          "metadata": {},
          "execution_count": 92
        }
      ]
    },
    {
      "cell_type": "code",
      "source": [
        "sns.countplot(pd.concat([new_feat_train, y_train], axis = 1).query('target == 1').start_hour);\n",
        "plt.xticks(rotation=60);"
      ],
      "metadata": {
        "colab": {
          "base_uri": "https://localhost:8080/",
          "height": 436
        },
        "id": "7XKZfa6cwr0Q",
        "outputId": "c0e25cb2-b320-45c8-a066-40d57f7f24da"
      },
      "execution_count": null,
      "outputs": [
        {
          "output_type": "stream",
          "name": "stderr",
          "text": [
            "/usr/local/lib/python3.7/dist-packages/seaborn/_decorators.py:43: FutureWarning: Pass the following variable as a keyword arg: x. From version 0.12, the only valid positional argument will be `data`, and passing other arguments without an explicit keyword will result in an error or misinterpretation.\n",
            "  FutureWarning\n"
          ]
        },
        {
          "output_type": "display_data",
          "data": {
            "text/plain": [
              "<Figure size 432x288 with 1 Axes>"
            ],
            "image/png": "[encoded data removed]"
          },
          "metadata": {
            "needs_background": "light"
          }
        }
      ]
    },
    {
      "cell_type": "markdown",
      "source": [
        "Можно заметить, что ALice соответсвуют определённые часы старта сессий, попробуем добавить эту фичу"
      ],
      "metadata": {
        "id": "H2QuBzVow_j-"
      }
    },
    {
      "cell_type": "code",
      "source": [
        "X_train_sparse_new_1 = csr_matrix(hstack([X_train_sparse_new, \\\n",
        "                      new_feat_train['start_hour'].values.reshape(-1, 1)]))"
      ],
      "metadata": {
        "id": "Li_RgtHmwr3R"
      },
      "execution_count": null,
      "outputs": []
    },
    {
      "cell_type": "code",
      "source": [],
      "metadata": {
        "id": "Cb2Eysd4wr55"
      },
      "execution_count": null,
      "outputs": []
    },
    {
      "cell_type": "code",
      "source": [],
      "metadata": {
        "id": "79t27Jz_wr8f"
      },
      "execution_count": null,
      "outputs": []
    },
    {
      "cell_type": "code",
      "source": [
        "new_feat_train.start_hour.value_counts(), new_feat_test.start_hour.value_counts()"
      ],
      "metadata": {
        "id": "CdyFcylHx3mD",
        "colab": {
          "base_uri": "https://localhost:8080/"
        },
        "outputId": "3e070ca7-c66c-44a0-8355-286c82c90709"
      },
      "execution_count": null,
      "outputs": [
        {
          "output_type": "execute_result",
          "data": {
            "text/plain": [
              "(-0.724338    33676\n",
              " -1.040852    31741\n",
              " -0.407823    30798\n",
              "  0.541720    27306\n",
              " -1.357366    25369\n",
              "  0.225205    22552\n",
              "  0.858234    21640\n",
              "  1.174749    18739\n",
              " -0.091309    17420\n",
              "  1.491263    12830\n",
              "  1.807777     3898\n",
              "  2.757320     1705\n",
              "  2.124292     1540\n",
              "  3.073835     1467\n",
              "  3.390349     1339\n",
              "  2.440806     1200\n",
              " -1.673881      341\n",
              " Name: start_hour, dtype: int64, -0.724338    11114\n",
              " -0.407823    10677\n",
              "  0.541720     9597\n",
              " -1.040852     9170\n",
              "  0.225205     7840\n",
              "  0.858234     7436\n",
              " -1.357366     6297\n",
              "  1.174749     6263\n",
              " -0.091309     5187\n",
              "  1.491263     4808\n",
              "  1.807777     1891\n",
              "  2.124292      767\n",
              "  2.440806      593\n",
              "  2.757320      424\n",
              "  3.073835      290\n",
              " -1.673881      259\n",
              "  3.390349      184\n",
              " Name: start_hour, dtype: int64)"
            ]
          },
          "metadata": {},
          "execution_count": 62
        }
      ]
    },
    {
      "cell_type": "code",
      "source": [],
      "metadata": {
        "id": "Qd7UwDW6wqZP"
      },
      "execution_count": null,
      "outputs": []
    },
    {
      "cell_type": "code",
      "source": [],
      "metadata": {
        "id": "3veWf8YEwqd3"
      },
      "execution_count": null,
      "outputs": []
    },
    {
      "cell_type": "code",
      "source": [
        "X_train_sparse_new_1 = csr_matrix(hstack([X_train_sparse_new, \\\n",
        "                      new_feat_train['start_hour'].values.reshape(-1, 1)]))"
      ],
      "metadata": {
        "id": "nZmX0AFWx3tj"
      },
      "execution_count": null,
      "outputs": []
    },
    {
      "cell_type": "code",
      "source": [
        "X_train_sparse_new_1.shape, y_train.shape"
      ],
      "metadata": {
        "colab": {
          "base_uri": "https://localhost:8080/"
        },
        "id": "5xtGwPQaod_t",
        "outputId": "a62c5d6d-8750-4db7-d3bd-65d68c3e0f90"
      },
      "execution_count": null,
      "outputs": [
        {
          "output_type": "execute_result",
          "data": {
            "text/plain": [
              "((253561, 48373), (253561,))"
            ]
          },
          "metadata": {},
          "execution_count": 64
        }
      ]
    },
    {
      "cell_type": "code",
      "source": [
        "get_auc_lr_valid_proba(X_train_sparse_new_1, y_train)"
      ],
      "metadata": {
        "colab": {
          "base_uri": "https://localhost:8080/",
          "height": 72
        },
        "id": "gKywtc6ioeCs",
        "outputId": "fb406171-44a6-44a8-c830-be3694201a82"
      },
      "execution_count": null,
      "outputs": [
        {
          "output_type": "stream",
          "name": "stderr",
          "text": [
            "[Parallel(n_jobs=-1)]: Using backend LokyBackend with 2 concurrent workers.\n",
            "[Parallel(n_jobs=-1)]: Done   1 out of   1 | elapsed:    3.6s finished\n"
          ]
        },
        {
          "output_type": "execute_result",
          "data": {
            "text/plain": [
              "'roc_auc_score: 0.9824974156646709'"
            ],
            "application/vnd.google.colaboratory.intrinsic+json": {
              "type": "string"
            }
          },
          "metadata": {},
          "execution_count": 65
        }
      ]
    },
    {
      "cell_type": "code",
      "source": [
        "X_train_sparse_new_2 = csr_matrix(hstack([X_train_sparse_new, \\\n",
        "                      new_feat_train['morning'].values.reshape(-1, 1)]))"
      ],
      "metadata": {
        "id": "ezkAys59oeFj"
      },
      "execution_count": null,
      "outputs": []
    },
    {
      "cell_type": "code",
      "source": [
        "X_train_sparse_new_2.shape, y_train.shape"
      ],
      "metadata": {
        "colab": {
          "base_uri": "https://localhost:8080/"
        },
        "id": "xBtik22NoeIW",
        "outputId": "95da625b-ce48-40dc-f393-7f4440453874"
      },
      "execution_count": null,
      "outputs": [
        {
          "output_type": "execute_result",
          "data": {
            "text/plain": [
              "((253561, 48373), (253561,))"
            ]
          },
          "metadata": {},
          "execution_count": 67
        }
      ]
    },
    {
      "cell_type": "code",
      "source": [
        "get_auc_lr_valid_proba(X_train_sparse_new_2, y_train)"
      ],
      "metadata": {
        "id": "siEJ8bKQx3v7",
        "colab": {
          "base_uri": "https://localhost:8080/",
          "height": 72
        },
        "outputId": "636c2426-91d0-46dc-989d-a55fff260aab"
      },
      "execution_count": null,
      "outputs": [
        {
          "output_type": "stream",
          "name": "stderr",
          "text": [
            "[Parallel(n_jobs=-1)]: Using backend LokyBackend with 2 concurrent workers.\n",
            "[Parallel(n_jobs=-1)]: Done   1 out of   1 | elapsed:    3.5s finished\n"
          ]
        },
        {
          "output_type": "execute_result",
          "data": {
            "text/plain": [
              "'roc_auc_score: 0.9830665792682096'"
            ],
            "application/vnd.google.colaboratory.intrinsic+json": {
              "type": "string"
            }
          },
          "metadata": {},
          "execution_count": 68
        }
      ]
    },
    {
      "cell_type": "code",
      "source": [
        "X_train_sparse_new_3 = csr_matrix(hstack([X_train_sparse_new_1, \\\n",
        "                      new_feat_train['morning'].values.reshape(-1, 1)]))"
      ],
      "metadata": {
        "id": "Ioa13enxp3o0"
      },
      "execution_count": null,
      "outputs": []
    },
    {
      "cell_type": "code",
      "source": [
        "X_train_sparse_new_3.shape, y_train.shape"
      ],
      "metadata": {
        "colab": {
          "base_uri": "https://localhost:8080/"
        },
        "id": "VvESLu4rp3rc",
        "outputId": "9b3a0f0a-ff74-4876-a80d-14cf971bbb89"
      },
      "execution_count": null,
      "outputs": [
        {
          "output_type": "execute_result",
          "data": {
            "text/plain": [
              "((253561, 48374), (253561,))"
            ]
          },
          "metadata": {},
          "execution_count": 70
        }
      ]
    },
    {
      "cell_type": "code",
      "source": [
        "get_auc_lr_valid_proba(X_train_sparse_new_3, y_train)"
      ],
      "metadata": {
        "colab": {
          "base_uri": "https://localhost:8080/",
          "height": 72
        },
        "id": "uhIgCgVcp3t4",
        "outputId": "26449c60-d9f7-4401-acb1-d086758a0c9e"
      },
      "execution_count": null,
      "outputs": [
        {
          "output_type": "stream",
          "name": "stderr",
          "text": [
            "[Parallel(n_jobs=-1)]: Using backend LokyBackend with 2 concurrent workers.\n",
            "[Parallel(n_jobs=-1)]: Done   1 out of   1 | elapsed:    3.5s finished\n"
          ]
        },
        {
          "output_type": "execute_result",
          "data": {
            "text/plain": [
              "'roc_auc_score: 0.9851939560426339'"
            ],
            "application/vnd.google.colaboratory.intrinsic+json": {
              "type": "string"
            }
          },
          "metadata": {},
          "execution_count": 71
        }
      ]
    },
    {
      "cell_type": "code",
      "source": [
        "%%time \n",
        "logit = LogisticRegression(n_jobs = -1, random_state = 17, max_iter = 300)\n",
        "logit.fit(X_train_sparse_new_3, y_train)"
      ],
      "metadata": {
        "colab": {
          "base_uri": "https://localhost:8080/"
        },
        "id": "FCogekF6p3wT",
        "outputId": "ef88f439-59c0-417a-e44d-2e87c3b21e43"
      },
      "execution_count": null,
      "outputs": [
        {
          "output_type": "stream",
          "name": "stdout",
          "text": [
            "CPU times: user 107 ms, sys: 23.6 ms, total: 131 ms\n",
            "Wall time: 11.2 s\n"
          ]
        },
        {
          "output_type": "execute_result",
          "data": {
            "text/plain": [
              "LogisticRegression(max_iter=300, n_jobs=-1, random_state=17)"
            ]
          },
          "metadata": {},
          "execution_count": 72
        }
      ]
    },
    {
      "cell_type": "code",
      "source": [
        "X_test_sparse_1 = csr_matrix(hstack([X_test_sparse_new, \\\n",
        "                      new_feat_test['start_hour'].values.reshape(-1, 1)]))\n",
        "X_test_sparse_3 = csr_matrix(hstack([X_test_sparse_1, \\\n",
        "                      new_feat_test['morning'].values.reshape(-1, 1)]))"
      ],
      "metadata": {
        "id": "sIMiLCQ2qvCd"
      },
      "execution_count": null,
      "outputs": []
    },
    {
      "cell_type": "code",
      "source": [
        "X_test_sparse_3.shape"
      ],
      "metadata": {
        "colab": {
          "base_uri": "https://localhost:8080/"
        },
        "id": "ZPb_9SM3rIKc",
        "outputId": "cf6ccc35-acbc-4434-966e-6931d8a78bfb"
      },
      "execution_count": null,
      "outputs": [
        {
          "output_type": "execute_result",
          "data": {
            "text/plain": [
              "(82797, 48374)"
            ]
          },
          "metadata": {},
          "execution_count": 74
        }
      ]
    },
    {
      "cell_type": "code",
      "source": [
        "%%time\n",
        "test_pred = logit.predict_proba(X_test_sparse_3)[:, 1]\n",
        "test_pred"
      ],
      "metadata": {
        "colab": {
          "base_uri": "https://localhost:8080/"
        },
        "id": "FF8T24peqP91",
        "outputId": "87c50b57-7e24-4ff8-ceb3-9d3e3f7ff047"
      },
      "execution_count": null,
      "outputs": [
        {
          "output_type": "stream",
          "name": "stdout",
          "text": [
            "CPU times: user 9.54 ms, sys: 0 ns, total: 9.54 ms\n",
            "Wall time: 8.2 ms\n"
          ]
        },
        {
          "output_type": "execute_result",
          "data": {
            "text/plain": [
              "array([4.62006539e-05, 1.20073929e-07, 8.14770274e-09, ...,\n",
              "       1.93281480e-04, 6.35830521e-06, 4.23876331e-07])"
            ]
          },
          "metadata": {},
          "execution_count": 75
        }
      ]
    },
    {
      "cell_type": "code",
      "source": [
        "write_to_submission_file(test_pred, '/content/submission.csv')"
      ],
      "metadata": {
        "id": "1hoEATv_qQEd"
      },
      "execution_count": null,
      "outputs": []
    },
    {
      "cell_type": "markdown",
      "source": [
        "#4. Подбор коэффицициента регуляризации\n",
        "##Итак, мы ввели признаки, которые улучшают качество нашей модели по сравнению с первым бейслайном. Можем ли мы добиться большего значения метрики? После того, как мы сформировали обучающую и тестовую выборки, почти всегда имеет смысл подобрать оптимальные гиперпараметры -- характеристики модели, которые не изменяются во время обучения. Например, на 3 неделе вы проходили решающие деревья, глубина дерева это гиперпараметр, а признак, по которому происходит ветвление и его значение -- нет. В используемой нами логистической регрессии веса каждого признака изменяются и во время обучения находится их оптимальные значения, а коэффициент регуляризации остается постоянным. Это тот гиперпараметр, который мы сейчас будем оптимизировать.\n",
        "\n",
        "<br>Посчитайте качество на отложенной выборке с коэффициентом регуляризации, который по умолчанию C=1:"
      ],
      "metadata": {
        "id": "ks-WYdSZx32c"
      }
    },
    {
      "cell_type": "code",
      "source": [
        "a = get_auc_lr_valid_proba(X_train_sparse_new_3, y_train, C = 1)"
      ],
      "metadata": {
        "id": "s20zz7Pix5A0",
        "colab": {
          "base_uri": "https://localhost:8080/"
        },
        "outputId": "9352bf61-8352-4c83-d85f-e2c61e9b0625"
      },
      "execution_count": null,
      "outputs": [
        {
          "output_type": "stream",
          "name": "stderr",
          "text": [
            "[Parallel(n_jobs=-1)]: Using backend LokyBackend with 2 concurrent workers.\n",
            "[Parallel(n_jobs=-1)]: Done   1 out of   1 | elapsed:    3.7s finished\n"
          ]
        }
      ]
    },
    {
      "cell_type": "code",
      "source": [
        "round(float(a[15:]),10)"
      ],
      "metadata": {
        "colab": {
          "base_uri": "https://localhost:8080/"
        },
        "id": "jmf3zPSNtyg8",
        "outputId": "397c42e6-8443-48a0-c1a4-7aee306b3777"
      },
      "execution_count": null,
      "outputs": [
        {
          "output_type": "execute_result",
          "data": {
            "text/plain": [
              "0.985193956"
            ]
          },
          "metadata": {},
          "execution_count": 78
        }
      ]
    },
    {
      "cell_type": "markdown",
      "source": [
        "Постараемся побить этот результат за счет оптимизации коэффициента регуляризации. Возьмем набор возможных значений C и для каждого из них посчитаем значение метрики на отложенной выборке.\n",
        "\n",
        "Найдите C из np.logspace(-3, 1, 10), при котором ROC AUC на отложенной выборке максимален."
      ],
      "metadata": {
        "id": "Ok6fVBTIx8m8"
      }
    },
    {
      "cell_type": "code",
      "source": [
        "dict = {}\n",
        "for key in np.logspace(-3, 1, 10):\n",
        "    a = get_auc_lr_valid_proba(X_train_sparse_new_3, y_train, C = key)\n",
        "    print(round(float(a[15:]),10))\n",
        "    dict[key] = round(float(a[15:]),10)\n",
        "print(dict)"
      ],
      "metadata": {
        "colab": {
          "base_uri": "https://localhost:8080/"
        },
        "id": "3UHxjQ-hu0OF",
        "outputId": "ac31595d-c520-4142-ca50-c73ba8fc163a"
      },
      "execution_count": null,
      "outputs": [
        {
          "output_type": "stream",
          "name": "stderr",
          "text": [
            "[Parallel(n_jobs=-1)]: Using backend LokyBackend with 2 concurrent workers.\n",
            "[Parallel(n_jobs=-1)]: Done   1 out of   1 | elapsed:    0.8s finished\n"
          ]
        },
        {
          "output_type": "stream",
          "name": "stdout",
          "text": [
            "0.9101293605\n"
          ]
        },
        {
          "output_type": "stream",
          "name": "stderr",
          "text": [
            "[Parallel(n_jobs=-1)]: Using backend LokyBackend with 2 concurrent workers.\n",
            "[Parallel(n_jobs=-1)]: Done   1 out of   1 | elapsed:    1.0s finished\n"
          ]
        },
        {
          "output_type": "stream",
          "name": "stdout",
          "text": [
            "0.9315144261\n"
          ]
        },
        {
          "output_type": "stream",
          "name": "stderr",
          "text": [
            "[Parallel(n_jobs=-1)]: Using backend LokyBackend with 2 concurrent workers.\n",
            "[Parallel(n_jobs=-1)]: Done   1 out of   1 | elapsed:    1.3s finished\n"
          ]
        },
        {
          "output_type": "stream",
          "name": "stdout",
          "text": [
            "0.9506347743\n"
          ]
        },
        {
          "output_type": "stream",
          "name": "stderr",
          "text": [
            "[Parallel(n_jobs=-1)]: Using backend LokyBackend with 2 concurrent workers.\n",
            "[Parallel(n_jobs=-1)]: Done   1 out of   1 | elapsed:    2.0s finished\n"
          ]
        },
        {
          "output_type": "stream",
          "name": "stdout",
          "text": [
            "0.9655716954\n"
          ]
        },
        {
          "output_type": "stream",
          "name": "stderr",
          "text": [
            "[Parallel(n_jobs=-1)]: Using backend LokyBackend with 2 concurrent workers.\n",
            "[Parallel(n_jobs=-1)]: Done   1 out of   1 | elapsed:    2.9s finished\n"
          ]
        },
        {
          "output_type": "stream",
          "name": "stdout",
          "text": [
            "0.9753090638\n"
          ]
        },
        {
          "output_type": "stream",
          "name": "stderr",
          "text": [
            "[Parallel(n_jobs=-1)]: Using backend LokyBackend with 2 concurrent workers.\n",
            "[Parallel(n_jobs=-1)]: Done   1 out of   1 | elapsed:    3.6s finished\n"
          ]
        },
        {
          "output_type": "stream",
          "name": "stdout",
          "text": [
            "0.9811235563\n"
          ]
        },
        {
          "output_type": "stream",
          "name": "stderr",
          "text": [
            "[Parallel(n_jobs=-1)]: Using backend LokyBackend with 2 concurrent workers.\n",
            "[Parallel(n_jobs=-1)]: Done   1 out of   1 | elapsed:    3.6s finished\n"
          ]
        },
        {
          "output_type": "stream",
          "name": "stdout",
          "text": [
            "0.9840491642\n"
          ]
        },
        {
          "output_type": "stream",
          "name": "stderr",
          "text": [
            "[Parallel(n_jobs=-1)]: Using backend LokyBackend with 2 concurrent workers.\n",
            "[Parallel(n_jobs=-1)]: Done   1 out of   1 | elapsed:    3.7s finished\n"
          ]
        },
        {
          "output_type": "stream",
          "name": "stdout",
          "text": [
            "0.9855381322\n"
          ]
        },
        {
          "output_type": "stream",
          "name": "stderr",
          "text": [
            "[Parallel(n_jobs=-1)]: Using backend LokyBackend with 2 concurrent workers.\n",
            "[Parallel(n_jobs=-1)]: Done   1 out of   1 | elapsed:    3.5s finished\n"
          ]
        },
        {
          "output_type": "stream",
          "name": "stdout",
          "text": [
            "0.9859927766\n"
          ]
        },
        {
          "output_type": "stream",
          "name": "stderr",
          "text": [
            "[Parallel(n_jobs=-1)]: Using backend LokyBackend with 2 concurrent workers.\n",
            "[Parallel(n_jobs=-1)]: Done   1 out of   1 | elapsed:    3.6s finished\n"
          ]
        },
        {
          "output_type": "stream",
          "name": "stdout",
          "text": [
            "0.9861005232\n",
            "{0.001: 0.9101293605, 0.0027825594022071257: 0.9315144261, 0.007742636826811269: 0.9506347743, 0.021544346900318832: 0.9655716954, 0.05994842503189409: 0.9753090638, 0.1668100537200059: 0.9811235563, 0.46415888336127775: 0.9840491642, 1.2915496650148828: 0.9855381322, 3.593813663804626: 0.9859927766, 10.0: 0.9861005232}\n"
          ]
        }
      ]
    },
    {
      "cell_type": "code",
      "source": [
        "dict"
      ],
      "metadata": {
        "colab": {
          "base_uri": "https://localhost:8080/"
        },
        "id": "Vu30MnLUtk8M",
        "outputId": "bfeeebdc-33be-4e86-8c6c-07b510b57024"
      },
      "execution_count": null,
      "outputs": [
        {
          "output_type": "execute_result",
          "data": {
            "text/plain": [
              "{0.001: 0.9101293605,\n",
              " 0.0027825594022071257: 0.9315144261,\n",
              " 0.007742636826811269: 0.9506347743,\n",
              " 0.021544346900318832: 0.9655716954,\n",
              " 0.05994842503189409: 0.9753090638,\n",
              " 0.1668100537200059: 0.9811235563,\n",
              " 0.46415888336127775: 0.9840491642,\n",
              " 1.2915496650148828: 0.9855381322,\n",
              " 3.593813663804626: 0.9859927766,\n",
              " 10.0: 0.9861005232}"
            ]
          },
          "metadata": {},
          "execution_count": 80
        }
      ]
    },
    {
      "cell_type": "markdown",
      "source": [
        "Наконец, обучите модель с найденным оптимальным значением коэффициента регуляризации и с построенными признаками start_hour, start_month и morning. Если вы все сделали правильно и загрузите это решение, то повторите второй бенчмарк соревнования."
      ],
      "metadata": {
        "id": "0VfG47VCx-iM"
      }
    },
    {
      "cell_type": "code",
      "source": [
        "get_auc_lr_valid_proba(X_train_sparse_new_3, y_train, C = 10)"
      ],
      "metadata": {
        "id": "0iyTs69Sx7lE",
        "colab": {
          "base_uri": "https://localhost:8080/",
          "height": 72
        },
        "outputId": "7e618bb9-d39f-4180-e152-44e42014fdaf"
      },
      "execution_count": null,
      "outputs": [
        {
          "output_type": "stream",
          "name": "stderr",
          "text": [
            "[Parallel(n_jobs=-1)]: Using backend LokyBackend with 2 concurrent workers.\n",
            "[Parallel(n_jobs=-1)]: Done   1 out of   1 | elapsed:    3.7s finished\n"
          ]
        },
        {
          "output_type": "execute_result",
          "data": {
            "text/plain": [
              "'roc_auc_score: 0.9861005231584663'"
            ],
            "application/vnd.google.colaboratory.intrinsic+json": {
              "type": "string"
            }
          },
          "metadata": {},
          "execution_count": 81
        }
      ]
    },
    {
      "cell_type": "code",
      "source": [
        "%%time \n",
        "logit = LogisticRegression(n_jobs = -1, random_state = 17, max_iter = 300, C = 10)\n",
        "logit.fit(X_train_sparse_new_3, y_train)"
      ],
      "metadata": {
        "colab": {
          "base_uri": "https://localhost:8080/"
        },
        "id": "Fe3I3Gj3zhHM",
        "outputId": "6aebf53b-2a91-48e9-c0a8-394c34125c8b"
      },
      "execution_count": null,
      "outputs": [
        {
          "output_type": "stream",
          "name": "stdout",
          "text": [
            "CPU times: user 105 ms, sys: 18.3 ms, total: 123 ms\n",
            "Wall time: 12.7 s\n"
          ]
        },
        {
          "output_type": "execute_result",
          "data": {
            "text/plain": [
              "LogisticRegression(C=10, max_iter=300, n_jobs=-1, random_state=17)"
            ]
          },
          "metadata": {},
          "execution_count": 82
        }
      ]
    },
    {
      "cell_type": "code",
      "source": [
        "%%time\n",
        "test_pred = logit.predict_proba(X_test_sparse_3)[:, 1]\n",
        "test_pred"
      ],
      "metadata": {
        "colab": {
          "base_uri": "https://localhost:8080/"
        },
        "id": "7a7s5LWQzLz8",
        "outputId": "152a7351-e9f9-4f31-d2c4-8c998cf7c494"
      },
      "execution_count": null,
      "outputs": [
        {
          "output_type": "stream",
          "name": "stdout",
          "text": [
            "CPU times: user 10.5 ms, sys: 0 ns, total: 10.5 ms\n",
            "Wall time: 8.01 ms\n"
          ]
        },
        {
          "output_type": "execute_result",
          "data": {
            "text/plain": [
              "array([2.37586235e-06, 3.29046196e-10, 2.63842122e-12, ...,\n",
              "       4.70084802e-05, 1.25255096e-07, 2.84661350e-09])"
            ]
          },
          "metadata": {},
          "execution_count": 83
        }
      ]
    },
    {
      "cell_type": "code",
      "source": [
        "write_to_submission_file(test_pred, '/content/submission.csv')"
      ],
      "metadata": {
        "id": "dLCbiThIzL21"
      },
      "execution_count": null,
      "outputs": []
    },
    {
      "cell_type": "code",
      "source": [],
      "metadata": {
        "id": "SHDd3-HUzL5c"
      },
      "execution_count": null,
      "outputs": []
    }
  ]
}