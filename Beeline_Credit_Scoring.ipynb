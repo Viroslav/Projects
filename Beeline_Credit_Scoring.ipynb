{
  "nbformat": 4,
  "nbformat_minor": 0,
  "metadata": {
    "colab": {
      "provenance": [],
      "collapsed_sections": [],
      "authorship_tag": "ABX9TyOC5vBZBgxQrYB7lmH3NfgN",
      "include_colab_link": true
    },
    "kernelspec": {
      "name": "python3",
      "display_name": "Python 3"
    },
    "language_info": {
      "name": "python"
    },
    "gpuClass": "standard"
  },
  "cells": [
    {
      "cell_type": "markdown",
      "metadata": {
        "id": "view-in-github",
        "colab_type": "text"
      },
      "source": [
        "<a href=\"https://colab.research.google.com/github/Viroslav/Projects/blob/main/Beeline_Credit_Scoring.ipynb\" target=\"_parent\"><img src=\"https://colab.research.google.com/assets/colab-badge.svg\" alt=\"Open In Colab\"/></a>"
      ]
    },
    {
      "cell_type": "code",
      "execution_count": null,
      "metadata": {
        "id": "q668AlCpjGno"
      },
      "outputs": [],
      "source": [
        "import numpy as np\n",
        "import pandas as pd\n",
        "from sklearn.ensemble import RandomForestClassifier\n",
        "from sklearn.metrics import roc_auc_score\n",
        "from sklearn.model_selection import GridSearchCV\n",
        "from sklearn.tree import DecisionTreeClassifier\n",
        "\n",
        "%matplotlib inline\n",
        "import matplotlib.pyplot as plt\n",
        "import seaborn as sns\n",
        "\n",
        "sns.set()"
      ]
    },
    {
      "cell_type": "code",
      "source": [
        "df_train = pd.read_csv('https://raw.githubusercontent.com/rsouza/mlcourse_open/master/data/credit_scoring_train.csv', sep = ',')\n",
        "df_test = pd.read_csv('https://raw.githubusercontent.com/rsouza/mlcourse_open/master/data/credit_scoring_test.csv', sep = ',')\n",
        "df_sample = pd.read_csv(\"https://raw.githubusercontent.com/rsouza/mlcourse_open/master/data/credit_scoring_sample.csv\", sep = ';')"
      ],
      "metadata": {
        "id": "t1IwlPFgkPFd"
      },
      "execution_count": null,
      "outputs": []
    },
    {
      "cell_type": "code",
      "source": [
        "df_train.head()"
      ],
      "metadata": {
        "colab": {
          "base_uri": "https://localhost:8080/",
          "height": 287
        },
        "id": "4FSHLPrekjwJ",
        "outputId": "c7256344-ac49-4f57-cb51-b2404e8899c6"
      },
      "execution_count": null,
      "outputs": [
        {
          "output_type": "execute_result",
          "data": {
            "text/plain": [
              "   client_id          DIR   Age  NumLoans  NumRealEstateLoans  NumDependents  \\\n",
              "0          0     0.496289  49.1        13                   0            0.0   \n",
              "1          1     0.433567  48.0         9                   2            2.0   \n",
              "2          2  2206.731199  55.5        21                   1            NaN   \n",
              "3          3   886.132793  55.3         3                   0            0.0   \n",
              "4          4     0.000000  52.3         1                   0            0.0   \n",
              "\n",
              "   Num30-59Delinquencies  Num60-89Delinquencies       Income  \\\n",
              "0                      2                      0  5298.360639   \n",
              "1                      1                      0  6008.056256   \n",
              "2                      1                      0          NaN   \n",
              "3                      0                      0          NaN   \n",
              "4                      0                      0  2504.613105   \n",
              "\n",
              "   BalanceToCreditLimit  Delinquent90  \n",
              "0              0.387028             0  \n",
              "1              0.234679             0  \n",
              "2              0.348227             0  \n",
              "3              0.971930             0  \n",
              "4              1.004350             0  "
            ],
            "text/html": [
              "\n",
              "  <div id=\"df-14bea6d4-bee1-463b-a966-e2b01bd8b623\">\n",
              "    <div class=\"colab-df-container\">\n",
              "      <div>\n",
              "<style scoped>\n",
              "    .dataframe tbody tr th:only-of-type {\n",
              "        vertical-align: middle;\n",
              "    }\n",
              "\n",
              "    .dataframe tbody tr th {\n",
              "        vertical-align: top;\n",
              "    }\n",
              "\n",
              "    .dataframe thead th {\n",
              "        text-align: right;\n",
              "    }\n",
              "</style>\n",
              "<table border=\"1\" class=\"dataframe\">\n",
              "  <thead>\n",
              "    <tr style=\"text-align: right;\">\n",
              "      <th></th>\n",
              "      <th>client_id</th>\n",
              "      <th>DIR</th>\n",
              "      <th>Age</th>\n",
              "      <th>NumLoans</th>\n",
              "      <th>NumRealEstateLoans</th>\n",
              "      <th>NumDependents</th>\n",
              "      <th>Num30-59Delinquencies</th>\n",
              "      <th>Num60-89Delinquencies</th>\n",
              "      <th>Income</th>\n",
              "      <th>BalanceToCreditLimit</th>\n",
              "      <th>Delinquent90</th>\n",
              "    </tr>\n",
              "  </thead>\n",
              "  <tbody>\n",
              "    <tr>\n",
              "      <th>0</th>\n",
              "      <td>0</td>\n",
              "      <td>0.496289</td>\n",
              "      <td>49.1</td>\n",
              "      <td>13</td>\n",
              "      <td>0</td>\n",
              "      <td>0.0</td>\n",
              "      <td>2</td>\n",
              "      <td>0</td>\n",
              "      <td>5298.360639</td>\n",
              "      <td>0.387028</td>\n",
              "      <td>0</td>\n",
              "    </tr>\n",
              "    <tr>\n",
              "      <th>1</th>\n",
              "      <td>1</td>\n",
              "      <td>0.433567</td>\n",
              "      <td>48.0</td>\n",
              "      <td>9</td>\n",
              "      <td>2</td>\n",
              "      <td>2.0</td>\n",
              "      <td>1</td>\n",
              "      <td>0</td>\n",
              "      <td>6008.056256</td>\n",
              "      <td>0.234679</td>\n",
              "      <td>0</td>\n",
              "    </tr>\n",
              "    <tr>\n",
              "      <th>2</th>\n",
              "      <td>2</td>\n",
              "      <td>2206.731199</td>\n",
              "      <td>55.5</td>\n",
              "      <td>21</td>\n",
              "      <td>1</td>\n",
              "      <td>NaN</td>\n",
              "      <td>1</td>\n",
              "      <td>0</td>\n",
              "      <td>NaN</td>\n",
              "      <td>0.348227</td>\n",
              "      <td>0</td>\n",
              "    </tr>\n",
              "    <tr>\n",
              "      <th>3</th>\n",
              "      <td>3</td>\n",
              "      <td>886.132793</td>\n",
              "      <td>55.3</td>\n",
              "      <td>3</td>\n",
              "      <td>0</td>\n",
              "      <td>0.0</td>\n",
              "      <td>0</td>\n",
              "      <td>0</td>\n",
              "      <td>NaN</td>\n",
              "      <td>0.971930</td>\n",
              "      <td>0</td>\n",
              "    </tr>\n",
              "    <tr>\n",
              "      <th>4</th>\n",
              "      <td>4</td>\n",
              "      <td>0.000000</td>\n",
              "      <td>52.3</td>\n",
              "      <td>1</td>\n",
              "      <td>0</td>\n",
              "      <td>0.0</td>\n",
              "      <td>0</td>\n",
              "      <td>0</td>\n",
              "      <td>2504.613105</td>\n",
              "      <td>1.004350</td>\n",
              "      <td>0</td>\n",
              "    </tr>\n",
              "  </tbody>\n",
              "</table>\n",
              "</div>\n",
              "      <button class=\"colab-df-convert\" onclick=\"convertToInteractive('df-14bea6d4-bee1-463b-a966-e2b01bd8b623')\"\n",
              "              title=\"Convert this dataframe to an interactive table.\"\n",
              "              style=\"display:none;\">\n",
              "        \n",
              "  <svg xmlns=\"http://www.w3.org/2000/svg\" height=\"24px\"viewBox=\"0 0 24 24\"\n",
              "       width=\"24px\">\n",
              "    <path d=\"M0 0h24v24H0V0z\" fill=\"none\"/>\n",
              "    <path d=\"M18.56 5.44l.94 2.06.94-2.06 2.06-.94-2.06-.94-.94-2.06-.94 2.06-2.06.94zm-11 1L8.5 8.5l.94-2.06 2.06-.94-2.06-.94L8.5 2.5l-.94 2.06-2.06.94zm10 10l.94 2.06.94-2.06 2.06-.94-2.06-.94-.94-2.06-.94 2.06-2.06.94z\"/><path d=\"M17.41 7.96l-1.37-1.37c-.4-.4-.92-.59-1.43-.59-.52 0-1.04.2-1.43.59L10.3 9.45l-7.72 7.72c-.78.78-.78 2.05 0 2.83L4 21.41c.39.39.9.59 1.41.59.51 0 1.02-.2 1.41-.59l7.78-7.78 2.81-2.81c.8-.78.8-2.07 0-2.86zM5.41 20L4 18.59l7.72-7.72 1.47 1.35L5.41 20z\"/>\n",
              "  </svg>\n",
              "      </button>\n",
              "      \n",
              "  <style>\n",
              "    .colab-df-container {\n",
              "      display:flex;\n",
              "      flex-wrap:wrap;\n",
              "      gap: 12px;\n",
              "    }\n",
              "\n",
              "    .colab-df-convert {\n",
              "      background-color: #E8F0FE;\n",
              "      border: none;\n",
              "      border-radius: 50%;\n",
              "      cursor: pointer;\n",
              "      display: none;\n",
              "      fill: #1967D2;\n",
              "      height: 32px;\n",
              "      padding: 0 0 0 0;\n",
              "      width: 32px;\n",
              "    }\n",
              "\n",
              "    .colab-df-convert:hover {\n",
              "      background-color: #E2EBFA;\n",
              "      box-shadow: 0px 1px 2px rgba(60, 64, 67, 0.3), 0px 1px 3px 1px rgba(60, 64, 67, 0.15);\n",
              "      fill: #174EA6;\n",
              "    }\n",
              "\n",
              "    [theme=dark] .colab-df-convert {\n",
              "      background-color: #3B4455;\n",
              "      fill: #D2E3FC;\n",
              "    }\n",
              "\n",
              "    [theme=dark] .colab-df-convert:hover {\n",
              "      background-color: #434B5C;\n",
              "      box-shadow: 0px 1px 3px 1px rgba(0, 0, 0, 0.15);\n",
              "      filter: drop-shadow(0px 1px 2px rgba(0, 0, 0, 0.3));\n",
              "      fill: #FFFFFF;\n",
              "    }\n",
              "  </style>\n",
              "\n",
              "      <script>\n",
              "        const buttonEl =\n",
              "          document.querySelector('#df-14bea6d4-bee1-463b-a966-e2b01bd8b623 button.colab-df-convert');\n",
              "        buttonEl.style.display =\n",
              "          google.colab.kernel.accessAllowed ? 'block' : 'none';\n",
              "\n",
              "        async function convertToInteractive(key) {\n",
              "          const element = document.querySelector('#df-14bea6d4-bee1-463b-a966-e2b01bd8b623');\n",
              "          const dataTable =\n",
              "            await google.colab.kernel.invokeFunction('convertToInteractive',\n",
              "                                                     [key], {});\n",
              "          if (!dataTable) return;\n",
              "\n",
              "          const docLinkHtml = 'Like what you see? Visit the ' +\n",
              "            '<a target=\"_blank\" href=https://colab.research.google.com/notebooks/data_table.ipynb>data table notebook</a>'\n",
              "            + ' to learn more about interactive tables.';\n",
              "          element.innerHTML = '';\n",
              "          dataTable['output_type'] = 'display_data';\n",
              "          await google.colab.output.renderOutput(dataTable, element);\n",
              "          const docLink = document.createElement('div');\n",
              "          docLink.innerHTML = docLinkHtml;\n",
              "          element.appendChild(docLink);\n",
              "        }\n",
              "      </script>\n",
              "    </div>\n",
              "  </div>\n",
              "  "
            ]
          },
          "metadata": {},
          "execution_count": 33
        }
      ]
    },
    {
      "cell_type": "code",
      "source": [
        "df_test.head()"
      ],
      "metadata": {
        "colab": {
          "base_uri": "https://localhost:8080/",
          "height": 287
        },
        "id": "rnfPIGWJkmRm",
        "outputId": "42abe80f-e947-4967-8f73-86257f2a95c3"
      },
      "execution_count": null,
      "outputs": [
        {
          "output_type": "execute_result",
          "data": {
            "text/plain": [
              "   client_id          DIR   Age  NumLoans  NumRealEstateLoans  NumDependents  \\\n",
              "0      75000     0.488558  39.2         7                   2            2.0   \n",
              "1      75001     0.132810  42.3         8                   0            1.0   \n",
              "2      75002  1784.812905  51.5         5                   1            0.0   \n",
              "3      75003     0.538571  57.1        30                   2            0.0   \n",
              "4      75004     0.098539  70.1         3                   0            0.0   \n",
              "\n",
              "   Num30-59Delinquencies  Num60-89Delinquencies       Income  \\\n",
              "0                      0                      0  2866.926559   \n",
              "1                      4                      0  4303.412944   \n",
              "2                      0                      0          NaN   \n",
              "3                      0                      0  7672.294930   \n",
              "4                      0                      0  4507.010360   \n",
              "\n",
              "   BalanceToCreditLimit  \n",
              "0              0.369443  \n",
              "1              1.028329  \n",
              "2              0.081461  \n",
              "3              0.485850  \n",
              "4              0.004258  "
            ],
            "text/html": [
              "\n",
              "  <div id=\"df-6eb03ca5-f11f-4d6c-ba5c-2719178cde26\">\n",
              "    <div class=\"colab-df-container\">\n",
              "      <div>\n",
              "<style scoped>\n",
              "    .dataframe tbody tr th:only-of-type {\n",
              "        vertical-align: middle;\n",
              "    }\n",
              "\n",
              "    .dataframe tbody tr th {\n",
              "        vertical-align: top;\n",
              "    }\n",
              "\n",
              "    .dataframe thead th {\n",
              "        text-align: right;\n",
              "    }\n",
              "</style>\n",
              "<table border=\"1\" class=\"dataframe\">\n",
              "  <thead>\n",
              "    <tr style=\"text-align: right;\">\n",
              "      <th></th>\n",
              "      <th>client_id</th>\n",
              "      <th>DIR</th>\n",
              "      <th>Age</th>\n",
              "      <th>NumLoans</th>\n",
              "      <th>NumRealEstateLoans</th>\n",
              "      <th>NumDependents</th>\n",
              "      <th>Num30-59Delinquencies</th>\n",
              "      <th>Num60-89Delinquencies</th>\n",
              "      <th>Income</th>\n",
              "      <th>BalanceToCreditLimit</th>\n",
              "    </tr>\n",
              "  </thead>\n",
              "  <tbody>\n",
              "    <tr>\n",
              "      <th>0</th>\n",
              "      <td>75000</td>\n",
              "      <td>0.488558</td>\n",
              "      <td>39.2</td>\n",
              "      <td>7</td>\n",
              "      <td>2</td>\n",
              "      <td>2.0</td>\n",
              "      <td>0</td>\n",
              "      <td>0</td>\n",
              "      <td>2866.926559</td>\n",
              "      <td>0.369443</td>\n",
              "    </tr>\n",
              "    <tr>\n",
              "      <th>1</th>\n",
              "      <td>75001</td>\n",
              "      <td>0.132810</td>\n",
              "      <td>42.3</td>\n",
              "      <td>8</td>\n",
              "      <td>0</td>\n",
              "      <td>1.0</td>\n",
              "      <td>4</td>\n",
              "      <td>0</td>\n",
              "      <td>4303.412944</td>\n",
              "      <td>1.028329</td>\n",
              "    </tr>\n",
              "    <tr>\n",
              "      <th>2</th>\n",
              "      <td>75002</td>\n",
              "      <td>1784.812905</td>\n",
              "      <td>51.5</td>\n",
              "      <td>5</td>\n",
              "      <td>1</td>\n",
              "      <td>0.0</td>\n",
              "      <td>0</td>\n",
              "      <td>0</td>\n",
              "      <td>NaN</td>\n",
              "      <td>0.081461</td>\n",
              "    </tr>\n",
              "    <tr>\n",
              "      <th>3</th>\n",
              "      <td>75003</td>\n",
              "      <td>0.538571</td>\n",
              "      <td>57.1</td>\n",
              "      <td>30</td>\n",
              "      <td>2</td>\n",
              "      <td>0.0</td>\n",
              "      <td>0</td>\n",
              "      <td>0</td>\n",
              "      <td>7672.294930</td>\n",
              "      <td>0.485850</td>\n",
              "    </tr>\n",
              "    <tr>\n",
              "      <th>4</th>\n",
              "      <td>75004</td>\n",
              "      <td>0.098539</td>\n",
              "      <td>70.1</td>\n",
              "      <td>3</td>\n",
              "      <td>0</td>\n",
              "      <td>0.0</td>\n",
              "      <td>0</td>\n",
              "      <td>0</td>\n",
              "      <td>4507.010360</td>\n",
              "      <td>0.004258</td>\n",
              "    </tr>\n",
              "  </tbody>\n",
              "</table>\n",
              "</div>\n",
              "      <button class=\"colab-df-convert\" onclick=\"convertToInteractive('df-6eb03ca5-f11f-4d6c-ba5c-2719178cde26')\"\n",
              "              title=\"Convert this dataframe to an interactive table.\"\n",
              "              style=\"display:none;\">\n",
              "        \n",
              "  <svg xmlns=\"http://www.w3.org/2000/svg\" height=\"24px\"viewBox=\"0 0 24 24\"\n",
              "       width=\"24px\">\n",
              "    <path d=\"M0 0h24v24H0V0z\" fill=\"none\"/>\n",
              "    <path d=\"M18.56 5.44l.94 2.06.94-2.06 2.06-.94-2.06-.94-.94-2.06-.94 2.06-2.06.94zm-11 1L8.5 8.5l.94-2.06 2.06-.94-2.06-.94L8.5 2.5l-.94 2.06-2.06.94zm10 10l.94 2.06.94-2.06 2.06-.94-2.06-.94-.94-2.06-.94 2.06-2.06.94z\"/><path d=\"M17.41 7.96l-1.37-1.37c-.4-.4-.92-.59-1.43-.59-.52 0-1.04.2-1.43.59L10.3 9.45l-7.72 7.72c-.78.78-.78 2.05 0 2.83L4 21.41c.39.39.9.59 1.41.59.51 0 1.02-.2 1.41-.59l7.78-7.78 2.81-2.81c.8-.78.8-2.07 0-2.86zM5.41 20L4 18.59l7.72-7.72 1.47 1.35L5.41 20z\"/>\n",
              "  </svg>\n",
              "      </button>\n",
              "      \n",
              "  <style>\n",
              "    .colab-df-container {\n",
              "      display:flex;\n",
              "      flex-wrap:wrap;\n",
              "      gap: 12px;\n",
              "    }\n",
              "\n",
              "    .colab-df-convert {\n",
              "      background-color: #E8F0FE;\n",
              "      border: none;\n",
              "      border-radius: 50%;\n",
              "      cursor: pointer;\n",
              "      display: none;\n",
              "      fill: #1967D2;\n",
              "      height: 32px;\n",
              "      padding: 0 0 0 0;\n",
              "      width: 32px;\n",
              "    }\n",
              "\n",
              "    .colab-df-convert:hover {\n",
              "      background-color: #E2EBFA;\n",
              "      box-shadow: 0px 1px 2px rgba(60, 64, 67, 0.3), 0px 1px 3px 1px rgba(60, 64, 67, 0.15);\n",
              "      fill: #174EA6;\n",
              "    }\n",
              "\n",
              "    [theme=dark] .colab-df-convert {\n",
              "      background-color: #3B4455;\n",
              "      fill: #D2E3FC;\n",
              "    }\n",
              "\n",
              "    [theme=dark] .colab-df-convert:hover {\n",
              "      background-color: #434B5C;\n",
              "      box-shadow: 0px 1px 3px 1px rgba(0, 0, 0, 0.15);\n",
              "      filter: drop-shadow(0px 1px 2px rgba(0, 0, 0, 0.3));\n",
              "      fill: #FFFFFF;\n",
              "    }\n",
              "  </style>\n",
              "\n",
              "      <script>\n",
              "        const buttonEl =\n",
              "          document.querySelector('#df-6eb03ca5-f11f-4d6c-ba5c-2719178cde26 button.colab-df-convert');\n",
              "        buttonEl.style.display =\n",
              "          google.colab.kernel.accessAllowed ? 'block' : 'none';\n",
              "\n",
              "        async function convertToInteractive(key) {\n",
              "          const element = document.querySelector('#df-6eb03ca5-f11f-4d6c-ba5c-2719178cde26');\n",
              "          const dataTable =\n",
              "            await google.colab.kernel.invokeFunction('convertToInteractive',\n",
              "                                                     [key], {});\n",
              "          if (!dataTable) return;\n",
              "\n",
              "          const docLinkHtml = 'Like what you see? Visit the ' +\n",
              "            '<a target=\"_blank\" href=https://colab.research.google.com/notebooks/data_table.ipynb>data table notebook</a>'\n",
              "            + ' to learn more about interactive tables.';\n",
              "          element.innerHTML = '';\n",
              "          dataTable['output_type'] = 'display_data';\n",
              "          await google.colab.output.renderOutput(dataTable, element);\n",
              "          const docLink = document.createElement('div');\n",
              "          docLink.innerHTML = docLinkHtml;\n",
              "          element.appendChild(docLink);\n",
              "        }\n",
              "      </script>\n",
              "    </div>\n",
              "  </div>\n",
              "  "
            ]
          },
          "metadata": {},
          "execution_count": 34
        }
      ]
    },
    {
      "cell_type": "markdown",
      "source": [
        "Признаки клиентов банка:\n",
        "<br>\n",
        "<br>client_id - ID клиента (неотрицательное целое число)\n",
        "<br>Age - возраст (вещественный)\n",
        "<br>Income - месячный доход (вещественный)\n",
        "<br>BalanceToCreditLimit - отношение баланса на кредитной карте к лимту по кредиту (вещественный)\n",
        "<br>DIR - Debt-to-income Ratio (вещественный)\n",
        "<br>NumLoans - число заемов и кредитных линий\n",
        "<br>NumRealEstateLoans - число ипотек и заемов, связанных с недвижимостью (натуральное число)\n",
        "<br>NumDependents - число членов семьи, которых содержит клиент, исключая самого клиента (натуральное число)\n",
        "<br>Num30-59Delinquencies - число просрочек выплат по кредиту от 30 до 59 дней (натуральное число)\n",
        "<br>Num60-89Delinquencies - число просрочек выплат по кредиту от 60 до 89 дней (натуральное число)\n",
        "<br>Delinquent90 - были ли просрочки выплат по кредиту более 90 дней (бинарный) - имеется только в обучающей выборке"
      ],
      "metadata": {
        "id": "Q-Bx8aOSlIQ_"
      }
    },
    {
      "cell_type": "code",
      "source": [
        "df_train.describe().T"
      ],
      "metadata": {
        "colab": {
          "base_uri": "https://localhost:8080/",
          "height": 394
        },
        "id": "lL6a7EpSlm1V",
        "outputId": "5dcf79f9-c5f3-4880-906f-5df4c53826ca"
      },
      "execution_count": null,
      "outputs": [
        {
          "output_type": "execute_result",
          "data": {
            "text/plain": [
              "                         count          mean           std   min  \\\n",
              "client_id              75000.0  37499.500000  21650.779432   0.0   \n",
              "DIR                    75000.0    353.260293   2117.237432   0.0   \n",
              "Age                    75000.0     52.595605     14.869729  21.0   \n",
              "NumLoans               75000.0      8.449760      5.156440   0.0   \n",
              "NumRealEstateLoans     75000.0      1.016693      1.124019   0.0   \n",
              "NumDependents          73084.0      0.755966      1.108119   0.0   \n",
              "Num30-59Delinquencies  75000.0      0.428320      4.276439   0.0   \n",
              "Num60-89Delinquencies  75000.0      0.248000      4.239486   0.0   \n",
              "Income                 60153.0   6740.059287  14228.754880   0.0   \n",
              "BalanceToCreditLimit   75000.0      6.276196    267.743321   0.0   \n",
              "Delinquent90           75000.0      0.066840      0.249746   0.0   \n",
              "\n",
              "                                25%           50%           75%           max  \n",
              "client_id              18749.750000  37499.500000  56249.250000  7.499900e+04  \n",
              "DIR                        0.176022      0.366848      0.862650  3.326003e+05  \n",
              "Age                       41.300000     52.200000     63.100000  1.098000e+02  \n",
              "NumLoans                   5.000000      8.000000     11.000000  5.600000e+01  \n",
              "NumRealEstateLoans         0.000000      1.000000      2.000000  3.200000e+01  \n",
              "NumDependents              0.000000      0.000000      1.000000  2.000000e+01  \n",
              "Num30-59Delinquencies      0.000000      0.000000      0.000000  9.800000e+01  \n",
              "Num60-89Delinquencies      0.000000      0.000000      0.000000  9.800000e+01  \n",
              "Income                  3421.353782   5424.552473   8291.517816  1.805573e+06  \n",
              "BalanceToCreditLimit       0.029703      0.153720      0.560638  5.087387e+04  \n",
              "Delinquent90               0.000000      0.000000      0.000000  1.000000e+00  "
            ],
            "text/html": [
              "\n",
              "  <div id=\"df-9bf4cda5-4179-4bee-8180-8c1fcb583d71\">\n",
              "    <div class=\"colab-df-container\">\n",
              "      <div>\n",
              "<style scoped>\n",
              "    .dataframe tbody tr th:only-of-type {\n",
              "        vertical-align: middle;\n",
              "    }\n",
              "\n",
              "    .dataframe tbody tr th {\n",
              "        vertical-align: top;\n",
              "    }\n",
              "\n",
              "    .dataframe thead th {\n",
              "        text-align: right;\n",
              "    }\n",
              "</style>\n",
              "<table border=\"1\" class=\"dataframe\">\n",
              "  <thead>\n",
              "    <tr style=\"text-align: right;\">\n",
              "      <th></th>\n",
              "      <th>count</th>\n",
              "      <th>mean</th>\n",
              "      <th>std</th>\n",
              "      <th>min</th>\n",
              "      <th>25%</th>\n",
              "      <th>50%</th>\n",
              "      <th>75%</th>\n",
              "      <th>max</th>\n",
              "    </tr>\n",
              "  </thead>\n",
              "  <tbody>\n",
              "    <tr>\n",
              "      <th>client_id</th>\n",
              "      <td>75000.0</td>\n",
              "      <td>37499.500000</td>\n",
              "      <td>21650.779432</td>\n",
              "      <td>0.0</td>\n",
              "      <td>18749.750000</td>\n",
              "      <td>37499.500000</td>\n",
              "      <td>56249.250000</td>\n",
              "      <td>7.499900e+04</td>\n",
              "    </tr>\n",
              "    <tr>\n",
              "      <th>DIR</th>\n",
              "      <td>75000.0</td>\n",
              "      <td>353.260293</td>\n",
              "      <td>2117.237432</td>\n",
              "      <td>0.0</td>\n",
              "      <td>0.176022</td>\n",
              "      <td>0.366848</td>\n",
              "      <td>0.862650</td>\n",
              "      <td>3.326003e+05</td>\n",
              "    </tr>\n",
              "    <tr>\n",
              "      <th>Age</th>\n",
              "      <td>75000.0</td>\n",
              "      <td>52.595605</td>\n",
              "      <td>14.869729</td>\n",
              "      <td>21.0</td>\n",
              "      <td>41.300000</td>\n",
              "      <td>52.200000</td>\n",
              "      <td>63.100000</td>\n",
              "      <td>1.098000e+02</td>\n",
              "    </tr>\n",
              "    <tr>\n",
              "      <th>NumLoans</th>\n",
              "      <td>75000.0</td>\n",
              "      <td>8.449760</td>\n",
              "      <td>5.156440</td>\n",
              "      <td>0.0</td>\n",
              "      <td>5.000000</td>\n",
              "      <td>8.000000</td>\n",
              "      <td>11.000000</td>\n",
              "      <td>5.600000e+01</td>\n",
              "    </tr>\n",
              "    <tr>\n",
              "      <th>NumRealEstateLoans</th>\n",
              "      <td>75000.0</td>\n",
              "      <td>1.016693</td>\n",
              "      <td>1.124019</td>\n",
              "      <td>0.0</td>\n",
              "      <td>0.000000</td>\n",
              "      <td>1.000000</td>\n",
              "      <td>2.000000</td>\n",
              "      <td>3.200000e+01</td>\n",
              "    </tr>\n",
              "    <tr>\n",
              "      <th>NumDependents</th>\n",
              "      <td>73084.0</td>\n",
              "      <td>0.755966</td>\n",
              "      <td>1.108119</td>\n",
              "      <td>0.0</td>\n",
              "      <td>0.000000</td>\n",
              "      <td>0.000000</td>\n",
              "      <td>1.000000</td>\n",
              "      <td>2.000000e+01</td>\n",
              "    </tr>\n",
              "    <tr>\n",
              "      <th>Num30-59Delinquencies</th>\n",
              "      <td>75000.0</td>\n",
              "      <td>0.428320</td>\n",
              "      <td>4.276439</td>\n",
              "      <td>0.0</td>\n",
              "      <td>0.000000</td>\n",
              "      <td>0.000000</td>\n",
              "      <td>0.000000</td>\n",
              "      <td>9.800000e+01</td>\n",
              "    </tr>\n",
              "    <tr>\n",
              "      <th>Num60-89Delinquencies</th>\n",
              "      <td>75000.0</td>\n",
              "      <td>0.248000</td>\n",
              "      <td>4.239486</td>\n",
              "      <td>0.0</td>\n",
              "      <td>0.000000</td>\n",
              "      <td>0.000000</td>\n",
              "      <td>0.000000</td>\n",
              "      <td>9.800000e+01</td>\n",
              "    </tr>\n",
              "    <tr>\n",
              "      <th>Income</th>\n",
              "      <td>60153.0</td>\n",
              "      <td>6740.059287</td>\n",
              "      <td>14228.754880</td>\n",
              "      <td>0.0</td>\n",
              "      <td>3421.353782</td>\n",
              "      <td>5424.552473</td>\n",
              "      <td>8291.517816</td>\n",
              "      <td>1.805573e+06</td>\n",
              "    </tr>\n",
              "    <tr>\n",
              "      <th>BalanceToCreditLimit</th>\n",
              "      <td>75000.0</td>\n",
              "      <td>6.276196</td>\n",
              "      <td>267.743321</td>\n",
              "      <td>0.0</td>\n",
              "      <td>0.029703</td>\n",
              "      <td>0.153720</td>\n",
              "      <td>0.560638</td>\n",
              "      <td>5.087387e+04</td>\n",
              "    </tr>\n",
              "    <tr>\n",
              "      <th>Delinquent90</th>\n",
              "      <td>75000.0</td>\n",
              "      <td>0.066840</td>\n",
              "      <td>0.249746</td>\n",
              "      <td>0.0</td>\n",
              "      <td>0.000000</td>\n",
              "      <td>0.000000</td>\n",
              "      <td>0.000000</td>\n",
              "      <td>1.000000e+00</td>\n",
              "    </tr>\n",
              "  </tbody>\n",
              "</table>\n",
              "</div>\n",
              "      <button class=\"colab-df-convert\" onclick=\"convertToInteractive('df-9bf4cda5-4179-4bee-8180-8c1fcb583d71')\"\n",
              "              title=\"Convert this dataframe to an interactive table.\"\n",
              "              style=\"display:none;\">\n",
              "        \n",
              "  <svg xmlns=\"http://www.w3.org/2000/svg\" height=\"24px\"viewBox=\"0 0 24 24\"\n",
              "       width=\"24px\">\n",
              "    <path d=\"M0 0h24v24H0V0z\" fill=\"none\"/>\n",
              "    <path d=\"M18.56 5.44l.94 2.06.94-2.06 2.06-.94-2.06-.94-.94-2.06-.94 2.06-2.06.94zm-11 1L8.5 8.5l.94-2.06 2.06-.94-2.06-.94L8.5 2.5l-.94 2.06-2.06.94zm10 10l.94 2.06.94-2.06 2.06-.94-2.06-.94-.94-2.06-.94 2.06-2.06.94z\"/><path d=\"M17.41 7.96l-1.37-1.37c-.4-.4-.92-.59-1.43-.59-.52 0-1.04.2-1.43.59L10.3 9.45l-7.72 7.72c-.78.78-.78 2.05 0 2.83L4 21.41c.39.39.9.59 1.41.59.51 0 1.02-.2 1.41-.59l7.78-7.78 2.81-2.81c.8-.78.8-2.07 0-2.86zM5.41 20L4 18.59l7.72-7.72 1.47 1.35L5.41 20z\"/>\n",
              "  </svg>\n",
              "      </button>\n",
              "      \n",
              "  <style>\n",
              "    .colab-df-container {\n",
              "      display:flex;\n",
              "      flex-wrap:wrap;\n",
              "      gap: 12px;\n",
              "    }\n",
              "\n",
              "    .colab-df-convert {\n",
              "      background-color: #E8F0FE;\n",
              "      border: none;\n",
              "      border-radius: 50%;\n",
              "      cursor: pointer;\n",
              "      display: none;\n",
              "      fill: #1967D2;\n",
              "      height: 32px;\n",
              "      padding: 0 0 0 0;\n",
              "      width: 32px;\n",
              "    }\n",
              "\n",
              "    .colab-df-convert:hover {\n",
              "      background-color: #E2EBFA;\n",
              "      box-shadow: 0px 1px 2px rgba(60, 64, 67, 0.3), 0px 1px 3px 1px rgba(60, 64, 67, 0.15);\n",
              "      fill: #174EA6;\n",
              "    }\n",
              "\n",
              "    [theme=dark] .colab-df-convert {\n",
              "      background-color: #3B4455;\n",
              "      fill: #D2E3FC;\n",
              "    }\n",
              "\n",
              "    [theme=dark] .colab-df-convert:hover {\n",
              "      background-color: #434B5C;\n",
              "      box-shadow: 0px 1px 3px 1px rgba(0, 0, 0, 0.15);\n",
              "      filter: drop-shadow(0px 1px 2px rgba(0, 0, 0, 0.3));\n",
              "      fill: #FFFFFF;\n",
              "    }\n",
              "  </style>\n",
              "\n",
              "      <script>\n",
              "        const buttonEl =\n",
              "          document.querySelector('#df-9bf4cda5-4179-4bee-8180-8c1fcb583d71 button.colab-df-convert');\n",
              "        buttonEl.style.display =\n",
              "          google.colab.kernel.accessAllowed ? 'block' : 'none';\n",
              "\n",
              "        async function convertToInteractive(key) {\n",
              "          const element = document.querySelector('#df-9bf4cda5-4179-4bee-8180-8c1fcb583d71');\n",
              "          const dataTable =\n",
              "            await google.colab.kernel.invokeFunction('convertToInteractive',\n",
              "                                                     [key], {});\n",
              "          if (!dataTable) return;\n",
              "\n",
              "          const docLinkHtml = 'Like what you see? Visit the ' +\n",
              "            '<a target=\"_blank\" href=https://colab.research.google.com/notebooks/data_table.ipynb>data table notebook</a>'\n",
              "            + ' to learn more about interactive tables.';\n",
              "          element.innerHTML = '';\n",
              "          dataTable['output_type'] = 'display_data';\n",
              "          await google.colab.output.renderOutput(dataTable, element);\n",
              "          const docLink = document.createElement('div');\n",
              "          docLink.innerHTML = docLinkHtml;\n",
              "          element.appendChild(docLink);\n",
              "        }\n",
              "      </script>\n",
              "    </div>\n",
              "  </div>\n",
              "  "
            ]
          },
          "metadata": {},
          "execution_count": 35
        }
      ]
    },
    {
      "cell_type": "code",
      "source": [
        "df_train.isna().sum()"
      ],
      "metadata": {
        "colab": {
          "base_uri": "https://localhost:8080/"
        },
        "id": "xZvC3JSmlCFG",
        "outputId": "81ab0341-05af-4420-d4ac-66c22b01a837"
      },
      "execution_count": null,
      "outputs": [
        {
          "output_type": "execute_result",
          "data": {
            "text/plain": [
              "client_id                    0\n",
              "DIR                          0\n",
              "Age                          0\n",
              "NumLoans                     0\n",
              "NumRealEstateLoans           0\n",
              "NumDependents             1916\n",
              "Num30-59Delinquencies        0\n",
              "Num60-89Delinquencies        0\n",
              "Income                   14847\n",
              "BalanceToCreditLimit         0\n",
              "Delinquent90                 0\n",
              "dtype: int64"
            ]
          },
          "metadata": {},
          "execution_count": 36
        }
      ]
    },
    {
      "cell_type": "code",
      "source": [
        "df_test.isna().sum()"
      ],
      "metadata": {
        "colab": {
          "base_uri": "https://localhost:8080/"
        },
        "id": "HNCI6Adrlf9N",
        "outputId": "6eac5ae5-d66f-41ad-e7b2-e03d27795ce9"
      },
      "execution_count": null,
      "outputs": [
        {
          "output_type": "execute_result",
          "data": {
            "text/plain": [
              "client_id                    0\n",
              "DIR                          0\n",
              "Age                          0\n",
              "NumLoans                     0\n",
              "NumRealEstateLoans           0\n",
              "NumDependents             2008\n",
              "Num30-59Delinquencies        0\n",
              "Num60-89Delinquencies        0\n",
              "Income                   14884\n",
              "BalanceToCreditLimit         0\n",
              "dtype: int64"
            ]
          },
          "metadata": {},
          "execution_count": 37
        }
      ]
    },
    {
      "cell_type": "code",
      "source": [
        "df_train['NumDependents'].fillna(df_train['NumDependents'].median(), inplace = True)\n",
        "df_train['Income'].fillna(df_train['Income'].median(), inplace = True)\n",
        "\n",
        "df_test['NumDependents'].fillna(df_test['NumDependents'].median(), inplace = True)\n",
        "df_test['Income'].fillna(df_test['Income'].median(), inplace = True)"
      ],
      "metadata": {
        "id": "XZbENNsTlf_V"
      },
      "execution_count": null,
      "outputs": []
    },
    {
      "cell_type": "code",
      "source": [
        "#sns.pairplot(df_train)"
      ],
      "metadata": {
        "id": "okh942HClgEk"
      },
      "execution_count": null,
      "outputs": []
    },
    {
      "cell_type": "code",
      "source": [
        "sns.heatmap(df_train.corr())"
      ],
      "metadata": {
        "colab": {
          "base_uri": "https://localhost:8080/",
          "height": 416
        },
        "id": "ireZIiQglgHE",
        "outputId": "e748475c-d2d5-4e3c-8f11-4cc117209917"
      },
      "execution_count": null,
      "outputs": [
        {
          "output_type": "execute_result",
          "data": {
            "text/plain": [
              "<matplotlib.axes._subplots.AxesSubplot at 0x7f98816f63d0>"
            ]
          },
          "metadata": {},
          "execution_count": 40
        },
        {
          "output_type": "display_data",
          "data": {
            "text/plain": [
              "<Figure size 432x288 with 2 Axes>"
            ],
            "image/png": "[encoded data removed]"
          },
          "metadata": {}
        }
      ]
    },
    {
      "cell_type": "code",
      "source": [
        "f\"Кол-во объёктов класса 1: {df_train.query('Delinquent90 == 1').shape[0]}, Кол-во объёктов класса 0: {df_train.query('Delinquent90 == 0').shape[0]}\""
      ],
      "metadata": {
        "colab": {
          "base_uri": "https://localhost:8080/",
          "height": 36
        },
        "id": "dhSLP0cSlgJ0",
        "outputId": "5d08b6d6-8dfe-4627-bf54-742ee02b6b76"
      },
      "execution_count": null,
      "outputs": [
        {
          "output_type": "execute_result",
          "data": {
            "text/plain": [
              "'Кол-во объёктов класса 1: 5013, Кол-во объёктов класса 0: 69987'"
            ],
            "application/vnd.google.colaboratory.intrinsic+json": {
              "type": "string"
            }
          },
          "metadata": {},
          "execution_count": 41
        }
      ]
    },
    {
      "cell_type": "markdown",
      "source": [
        "Дисбаланс классов, также есть некоторые корреляции"
      ],
      "metadata": {
        "id": "MqB25Q4apqBu"
      }
    },
    {
      "cell_type": "markdown",
      "source": [
        "Обучите дерево решений максимальной глубины 3, используйте параметр random_state=17 для воспроизводимости результатов."
      ],
      "metadata": {
        "id": "ONTVtLOcpzCO"
      }
    },
    {
      "cell_type": "code",
      "source": [
        "X_train = df_train.drop(['Delinquent90'], axis = 1)\n",
        "y_train = df_train.Delinquent90\n",
        "\n",
        "X_test = df_test"
      ],
      "metadata": {
        "id": "32H8RT3Up_he"
      },
      "execution_count": null,
      "outputs": []
    },
    {
      "cell_type": "code",
      "source": [
        "tree = DecisionTreeClassifier(max_depth = 3, random_state = 17)"
      ],
      "metadata": {
        "id": "lQ1YeBEJogSV"
      },
      "execution_count": null,
      "outputs": []
    },
    {
      "cell_type": "code",
      "source": [
        "tree.fit(X_train, y_train)"
      ],
      "metadata": {
        "colab": {
          "base_uri": "https://localhost:8080/"
        },
        "id": "E-o7hcslogVF",
        "outputId": "6f50541b-3edf-4ddb-915d-1a36e960f08d"
      },
      "execution_count": null,
      "outputs": [
        {
          "output_type": "execute_result",
          "data": {
            "text/plain": [
              "DecisionTreeClassifier(max_depth=3, random_state=17)"
            ]
          },
          "metadata": {},
          "execution_count": 44
        }
      ]
    },
    {
      "cell_type": "code",
      "source": [
        "def write_to_submission_file(predicted_labels, out_file,\n",
        "                             target='Delinquent90', index_label=\"client_id\"):\n",
        "    # turn predictions into data frame and save as csv file\n",
        "    predicted_df = pd.DataFrame(predicted_labels,\n",
        "                                index = np.arange(75000, \n",
        "                                                  predicted_labels.shape[0] + 75000),\n",
        "                                columns=[target])\n",
        "    predicted_df.to_csv(out_file, index_label=index_label)"
      ],
      "metadata": {
        "id": "B5-fDz6OogXi"
      },
      "execution_count": null,
      "outputs": []
    },
    {
      "cell_type": "code",
      "source": [
        "\n",
        "write_to_submission_file(tree.predict(X_test), 'credit_scoring_first_tree.csv')"
      ],
      "metadata": {
        "id": "1yUB735YqXVa"
      },
      "execution_count": null,
      "outputs": []
    },
    {
      "cell_type": "markdown",
      "source": [
        "Если предсказывать вероятности дефолта для клиентов тестовой выборки, результат будет намного лучше."
      ],
      "metadata": {
        "id": "dHvBY_L0qiuV"
      }
    },
    {
      "cell_type": "code",
      "source": [
        "tree_pred_probs = tree.predict_proba(X_test)[:, 1]"
      ],
      "metadata": {
        "id": "0ulOJr9ZqX71"
      },
      "execution_count": null,
      "outputs": []
    },
    {
      "cell_type": "code",
      "source": [
        "write_to_submission_file(tree_pred_probs, 'credit_scoring_first_tree.csv')"
      ],
      "metadata": {
        "id": "UZGFjLd5qX-m"
      },
      "execution_count": null,
      "outputs": []
    },
    {
      "cell_type": "markdown",
      "source": [
        "GridSearchCV"
      ],
      "metadata": {
        "id": "w7qXy409sHqW"
      }
    },
    {
      "cell_type": "code",
      "source": [
        "tree_params = {'max_depth': list(range(3, 8)), \n",
        "               'min_samples_leaf': list(range(5, 13))}\n",
        "\n",
        "locally_best_tree = GridSearchCV(tree, param_grid=tree_params, n_jobs=-1, cv =5, verbose=1, return_train_score=True)\n",
        "locally_best_tree.fit(X_train, y_train)"
      ],
      "metadata": {
        "colab": {
          "base_uri": "https://localhost:8080/"
        },
        "id": "w8PBjS7LqYBN",
        "outputId": "196004af-ee22-4693-cc3f-928f85775c84"
      },
      "execution_count": null,
      "outputs": [
        {
          "output_type": "stream",
          "name": "stdout",
          "text": [
            "Fitting 5 folds for each of 40 candidates, totalling 200 fits\n"
          ]
        },
        {
          "output_type": "execute_result",
          "data": {
            "text/plain": [
              "GridSearchCV(cv=5,\n",
              "             estimator=DecisionTreeClassifier(max_depth=3, random_state=17),\n",
              "             n_jobs=-1,\n",
              "             param_grid={'max_depth': [3, 4, 5, 6, 7],\n",
              "                         'min_samples_leaf': [5, 6, 7, 8, 9, 10, 11, 12]},\n",
              "             return_train_score=True, verbose=1)"
            ]
          },
          "metadata": {},
          "execution_count": 49
        }
      ]
    },
    {
      "cell_type": "code",
      "source": [
        "locally_best_tree.best_params_, locally_best_tree.best_score_"
      ],
      "metadata": {
        "colab": {
          "base_uri": "https://localhost:8080/"
        },
        "id": "UxsnXg20qYEN",
        "outputId": "c4ce4409-0a18-415a-e902-fd1c9f79959d"
      },
      "execution_count": null,
      "outputs": [
        {
          "output_type": "execute_result",
          "data": {
            "text/plain": [
              "({'max_depth': 3, 'min_samples_leaf': 5}, 0.7877333333333333)"
            ]
          },
          "metadata": {},
          "execution_count": 50
        }
      ]
    },
    {
      "cell_type": "code",
      "source": [
        "tuned_tree_pred_probs = locally_best_tree.predict_proba(X_test)[:, 1]\n",
        "write_to_submission_file(tuned_tree_pred_probs, 'credit_scoring_first_tree.csv')"
      ],
      "metadata": {
        "id": "ov3e0NCVqYHV"
      },
      "execution_count": null,
      "outputs": []
    },
    {
      "cell_type": "markdown",
      "source": [
        "RandomForest"
      ],
      "metadata": {
        "id": "G5IlGC1wvFQ2"
      }
    },
    {
      "cell_type": "code",
      "source": [
        "rf = RandomForestClassifier(random_state=17)\n",
        "rf.fit(X_train, y_train)"
      ],
      "metadata": {
        "colab": {
          "base_uri": "https://localhost:8080/"
        },
        "id": "_-hHB-85tFDE",
        "outputId": "86c12252-d35d-44ef-b42d-04aed3857fd0"
      },
      "execution_count": null,
      "outputs": [
        {
          "output_type": "execute_result",
          "data": {
            "text/plain": [
              "RandomForestClassifier(random_state=17)"
            ]
          },
          "metadata": {},
          "execution_count": 52
        }
      ]
    },
    {
      "cell_type": "code",
      "source": [
        "rf_pred_probs = rf.predict_proba(X_test)[:, 1]\n",
        "write_to_submission_file(rf_pred_probs, 'credit_scoring_first_tree.csv')"
      ],
      "metadata": {
        "id": "B85RKcyQvQCj"
      },
      "execution_count": null,
      "outputs": []
    },
    {
      "cell_type": "code",
      "source": [
        "forest_params = {'max_features': np.linspace(.3, 1, 7)}\n",
        "\n",
        "locally_best_rf = GridSearchCV(rf, param_grid=forest_params, n_jobs=-1, cv =5, verbose=1)"
      ],
      "metadata": {
        "id": "sNG0KaagvXx9"
      },
      "execution_count": null,
      "outputs": []
    },
    {
      "cell_type": "code",
      "source": [
        "locally_best_rf.fit(X_train, y_train)"
      ],
      "metadata": {
        "colab": {
          "base_uri": "https://localhost:8080/"
        },
        "id": "zxrg4AfX4sXH",
        "outputId": "736d2a31-0650-4443-c4b2-6127bbae93cb"
      },
      "execution_count": null,
      "outputs": [
        {
          "output_type": "stream",
          "name": "stdout",
          "text": [
            "Fitting 5 folds for each of 7 candidates, totalling 35 fits\n"
          ]
        },
        {
          "output_type": "execute_result",
          "data": {
            "text/plain": [
              "GridSearchCV(cv=5, estimator=RandomForestClassifier(random_state=17), n_jobs=-1,\n",
              "             param_grid={'max_features': array([0.3       , 0.41666667, 0.53333333, 0.65      , 0.76666667,\n",
              "       0.88333333, 1.        ])},\n",
              "             verbose=1)"
            ]
          },
          "metadata": {},
          "execution_count": 81
        }
      ]
    },
    {
      "cell_type": "code",
      "source": [
        "locally_best_rf.best_params_, round(locally_best_rf.best_score_, 3)"
      ],
      "metadata": {
        "id": "CGknGcFYv8yV",
        "colab": {
          "base_uri": "https://localhost:8080/"
        },
        "outputId": "2b8a012a-a096-43b4-b212-7a1c290239fa"
      },
      "execution_count": null,
      "outputs": [
        {
          "output_type": "execute_result",
          "data": {
            "text/plain": [
              "({'max_features': 1.0}, 0.761)"
            ]
          },
          "metadata": {},
          "execution_count": 83
        }
      ]
    },
    {
      "cell_type": "code",
      "source": [
        "tuned_forest_pred = locally_best_rf.predict_proba(X_test)[:,1]\n",
        "write_to_submission_file(tuned_forest_pred, 'credit_scoring_first_tree.csv')"
      ],
      "metadata": {
        "id": "8qfk88L1v81V"
      },
      "execution_count": null,
      "outputs": []
    },
    {
      "cell_type": "code",
      "source": [
        "locally_best_rf.best_estimator_.feature_importances_"
      ],
      "metadata": {
        "id": "yqRuF0uaxhz3",
        "colab": {
          "base_uri": "https://localhost:8080/"
        },
        "outputId": "e35ba79d-6e2a-4231-a8d6-0c0386f7125e"
      },
      "execution_count": null,
      "outputs": [
        {
          "output_type": "execute_result",
          "data": {
            "text/plain": [
              "array([0.14914234, 0.14287138, 0.12709936, 0.06909651, 0.02664968,\n",
              "       0.03204808, 0.04084582, 0.08041147, 0.12803739, 0.20379796])"
            ]
          },
          "metadata": {},
          "execution_count": 85
        }
      ]
    },
    {
      "cell_type": "code",
      "source": [
        "pd.DataFrame(locally_best_rf.best_estimator_.feature_importances_, index = X_train.columns) \\\n",
        ".sort_values(by=0, ascending = False)"
      ],
      "metadata": {
        "id": "aUJbjExVv84N",
        "colab": {
          "base_uri": "https://localhost:8080/",
          "height": 363
        },
        "outputId": "bd527c9f-db51-4d55-8db2-96aa3d23be84"
      },
      "execution_count": null,
      "outputs": [
        {
          "output_type": "execute_result",
          "data": {
            "text/plain": [
              "                              0\n",
              "BalanceToCreditLimit   0.203798\n",
              "client_id              0.149142\n",
              "DIR                    0.142871\n",
              "Income                 0.128037\n",
              "Age                    0.127099\n",
              "Num60-89Delinquencies  0.080411\n",
              "NumLoans               0.069097\n",
              "Num30-59Delinquencies  0.040846\n",
              "NumDependents          0.032048\n",
              "NumRealEstateLoans     0.026650"
            ],
            "text/html": [
              "\n",
              "  <div id=\"df-b88c2d06-63b4-4900-bf76-8b8ee28d05de\">\n",
              "    <div class=\"colab-df-container\">\n",
              "      <div>\n",
              "<style scoped>\n",
              "    .dataframe tbody tr th:only-of-type {\n",
              "        vertical-align: middle;\n",
              "    }\n",
              "\n",
              "    .dataframe tbody tr th {\n",
              "        vertical-align: top;\n",
              "    }\n",
              "\n",
              "    .dataframe thead th {\n",
              "        text-align: right;\n",
              "    }\n",
              "</style>\n",
              "<table border=\"1\" class=\"dataframe\">\n",
              "  <thead>\n",
              "    <tr style=\"text-align: right;\">\n",
              "      <th></th>\n",
              "      <th>0</th>\n",
              "    </tr>\n",
              "  </thead>\n",
              "  <tbody>\n",
              "    <tr>\n",
              "      <th>BalanceToCreditLimit</th>\n",
              "      <td>0.203798</td>\n",
              "    </tr>\n",
              "    <tr>\n",
              "      <th>client_id</th>\n",
              "      <td>0.149142</td>\n",
              "    </tr>\n",
              "    <tr>\n",
              "      <th>DIR</th>\n",
              "      <td>0.142871</td>\n",
              "    </tr>\n",
              "    <tr>\n",
              "      <th>Income</th>\n",
              "      <td>0.128037</td>\n",
              "    </tr>\n",
              "    <tr>\n",
              "      <th>Age</th>\n",
              "      <td>0.127099</td>\n",
              "    </tr>\n",
              "    <tr>\n",
              "      <th>Num60-89Delinquencies</th>\n",
              "      <td>0.080411</td>\n",
              "    </tr>\n",
              "    <tr>\n",
              "      <th>NumLoans</th>\n",
              "      <td>0.069097</td>\n",
              "    </tr>\n",
              "    <tr>\n",
              "      <th>Num30-59Delinquencies</th>\n",
              "      <td>0.040846</td>\n",
              "    </tr>\n",
              "    <tr>\n",
              "      <th>NumDependents</th>\n",
              "      <td>0.032048</td>\n",
              "    </tr>\n",
              "    <tr>\n",
              "      <th>NumRealEstateLoans</th>\n",
              "      <td>0.026650</td>\n",
              "    </tr>\n",
              "  </tbody>\n",
              "</table>\n",
              "</div>\n",
              "      <button class=\"colab-df-convert\" onclick=\"convertToInteractive('df-b88c2d06-63b4-4900-bf76-8b8ee28d05de')\"\n",
              "              title=\"Convert this dataframe to an interactive table.\"\n",
              "              style=\"display:none;\">\n",
              "        \n",
              "  <svg xmlns=\"http://www.w3.org/2000/svg\" height=\"24px\"viewBox=\"0 0 24 24\"\n",
              "       width=\"24px\">\n",
              "    <path d=\"M0 0h24v24H0V0z\" fill=\"none\"/>\n",
              "    <path d=\"M18.56 5.44l.94 2.06.94-2.06 2.06-.94-2.06-.94-.94-2.06-.94 2.06-2.06.94zm-11 1L8.5 8.5l.94-2.06 2.06-.94-2.06-.94L8.5 2.5l-.94 2.06-2.06.94zm10 10l.94 2.06.94-2.06 2.06-.94-2.06-.94-.94-2.06-.94 2.06-2.06.94z\"/><path d=\"M17.41 7.96l-1.37-1.37c-.4-.4-.92-.59-1.43-.59-.52 0-1.04.2-1.43.59L10.3 9.45l-7.72 7.72c-.78.78-.78 2.05 0 2.83L4 21.41c.39.39.9.59 1.41.59.51 0 1.02-.2 1.41-.59l7.78-7.78 2.81-2.81c.8-.78.8-2.07 0-2.86zM5.41 20L4 18.59l7.72-7.72 1.47 1.35L5.41 20z\"/>\n",
              "  </svg>\n",
              "      </button>\n",
              "      \n",
              "  <style>\n",
              "    .colab-df-container {\n",
              "      display:flex;\n",
              "      flex-wrap:wrap;\n",
              "      gap: 12px;\n",
              "    }\n",
              "\n",
              "    .colab-df-convert {\n",
              "      background-color: #E8F0FE;\n",
              "      border: none;\n",
              "      border-radius: 50%;\n",
              "      cursor: pointer;\n",
              "      display: none;\n",
              "      fill: #1967D2;\n",
              "      height: 32px;\n",
              "      padding: 0 0 0 0;\n",
              "      width: 32px;\n",
              "    }\n",
              "\n",
              "    .colab-df-convert:hover {\n",
              "      background-color: #E2EBFA;\n",
              "      box-shadow: 0px 1px 2px rgba(60, 64, 67, 0.3), 0px 1px 3px 1px rgba(60, 64, 67, 0.15);\n",
              "      fill: #174EA6;\n",
              "    }\n",
              "\n",
              "    [theme=dark] .colab-df-convert {\n",
              "      background-color: #3B4455;\n",
              "      fill: #D2E3FC;\n",
              "    }\n",
              "\n",
              "    [theme=dark] .colab-df-convert:hover {\n",
              "      background-color: #434B5C;\n",
              "      box-shadow: 0px 1px 3px 1px rgba(0, 0, 0, 0.15);\n",
              "      filter: drop-shadow(0px 1px 2px rgba(0, 0, 0, 0.3));\n",
              "      fill: #FFFFFF;\n",
              "    }\n",
              "  </style>\n",
              "\n",
              "      <script>\n",
              "        const buttonEl =\n",
              "          document.querySelector('#df-b88c2d06-63b4-4900-bf76-8b8ee28d05de button.colab-df-convert');\n",
              "        buttonEl.style.display =\n",
              "          google.colab.kernel.accessAllowed ? 'block' : 'none';\n",
              "\n",
              "        async function convertToInteractive(key) {\n",
              "          const element = document.querySelector('#df-b88c2d06-63b4-4900-bf76-8b8ee28d05de');\n",
              "          const dataTable =\n",
              "            await google.colab.kernel.invokeFunction('convertToInteractive',\n",
              "                                                     [key], {});\n",
              "          if (!dataTable) return;\n",
              "\n",
              "          const docLinkHtml = 'Like what you see? Visit the ' +\n",
              "            '<a target=\"_blank\" href=https://colab.research.google.com/notebooks/data_table.ipynb>data table notebook</a>'\n",
              "            + ' to learn more about interactive tables.';\n",
              "          element.innerHTML = '';\n",
              "          dataTable['output_type'] = 'display_data';\n",
              "          await google.colab.output.renderOutput(dataTable, element);\n",
              "          const docLink = document.createElement('div');\n",
              "          docLink.innerHTML = docLinkHtml;\n",
              "          element.appendChild(docLink);\n",
              "        }\n",
              "      </script>\n",
              "    </div>\n",
              "  </div>\n",
              "  "
            ]
          },
          "metadata": {},
          "execution_count": 86
        }
      ]
    },
    {
      "cell_type": "code",
      "source": [
        "df_train.columns"
      ],
      "metadata": {
        "colab": {
          "base_uri": "https://localhost:8080/"
        },
        "id": "blD1d0_n8Zcv",
        "outputId": "76cad319-833b-4e28-b794-51516ea68693"
      },
      "execution_count": null,
      "outputs": [
        {
          "output_type": "execute_result",
          "data": {
            "text/plain": [
              "Index(['client_id', 'DIR', 'Age', 'NumLoans', 'NumRealEstateLoans',\n",
              "       'NumDependents', 'Num30-59Delinquencies', 'Num60-89Delinquencies',\n",
              "       'Income', 'BalanceToCreditLimit', 'Delinquent90'],\n",
              "      dtype='object')"
            ]
          },
          "metadata": {},
          "execution_count": 71
        }
      ]
    },
    {
      "cell_type": "markdown",
      "source": [
        "Обычно увеличение количества деревьев только улучшает результат. Так что напоследок обучите случайный лес из 300 деревьев с найденными лучшими параметрами. Это может занять несколько минут."
      ],
      "metadata": {
        "id": "iHyQ1hHhxtUu"
      }
    },
    {
      "cell_type": "code",
      "source": [
        "final_forest = RandomForestClassifier(n_estimators=300, random_state = 17, max_features = 1.0)\n",
        "final_forest.fit(X_train, y_train)\n",
        "final_forest_pred = final_forest.predict_proba(X_train)[:, 1]\n"
      ],
      "metadata": {
        "id": "dP0Hd1Dyv8-F"
      },
      "execution_count": null,
      "outputs": []
    },
    {
      "cell_type": "code",
      "source": [
        "write_to_submission_file(final_forest_pred, 'credit_scoring_final_forest.csv')"
      ],
      "metadata": {
        "id": "zHuiiKy50zgz"
      },
      "execution_count": null,
      "outputs": []
    },
    {
      "cell_type": "code",
      "source": [],
      "metadata": {
        "id": "qGG42qZ96Cwt"
      },
      "execution_count": null,
      "outputs": []
    }
  ]
}