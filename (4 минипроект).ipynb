{
 "cells": [
  {
   "cell_type": "markdown",
   "id": "0eb3ad3f",
   "metadata": {},
   "source": [
    "На этот раз данные имеют следующую структуру:\n",
    "- записываются для каждого пользователя, совершившего покупки, каждый день\n",
    "- для каждой даты есть своя папка, внутри неё – папки для каждого пользователя\n",
    "- внутри каждой папки есть файл data.csv, где и хранятся данные\n",
    "\n",
    "Схематично выглядит так:\n",
    "\n",
    "└── data\n",
    "<br>----├── 2020-12-30\n",
    "<br>--------│  ├── FirstName_LastName\n",
    "<br>------------│  │   └── data.csv\n",
    "<br>----------------│  ├── FirstName_LastName2\n",
    "<br>--------------------│  │   └── data.csv\n",
    "<br>------------------------│  └── FirstName_LastName3\n",
    "<br>----------------------------│      └── data.csv\n",
    "<br>--------------------------------└── 2020-12-31\n",
    "<br>------------------------------------├── FirstName_LastName1\n",
    "<br>----------------------------------------│   └── data.csv\n",
    "<br>--------------------------------------------└── FirstName_LastName5\n",
    "<br>------------------------------------------------└── data.csv\n",
    "\n",
    "Например, 30 декабря три покупателя сделали покупки, 31 – два (папки 2020-12-30 и 2020-12-31 соответственно). Поскольку клиент FirstName_LastName1 купил товары в оба дня, для него имеется папка в папке для каждой из дат. Для других клиентов – по одной.\n",
    "Note: данные в задании покрывают другой временной период, имена тоже другие."
   ]
  },
  {
   "cell_type": "markdown",
   "id": "d3d10578",
   "metadata": {},
   "source": [
    "Соберите все данные из папки data в один датафрэйм, имеющий следующие столбцы: колонки из самих файлов (product_id, quantity), а также имя пользователя (name), и дата этих покупок (date, соответствует названию папки, где лежит папка с пользователем)"
   ]
  },
  {
   "cell_type": "code",
   "execution_count": 49,
   "id": "ff58eae8",
   "metadata": {},
   "outputs": [],
   "source": [
    "import os\n",
    "import pandas as pd\n",
    "import seaborn as sns\n",
    "import matplotlib.pyplot as plt"
   ]
  },
  {
   "cell_type": "code",
   "execution_count": 3,
   "id": "fe1c1fca",
   "metadata": {},
   "outputs": [
    {
     "data": {
      "text/plain": [
       "'C:\\\\Users\\\\Nikolay\\\\jupyter_notebooks\\\\Karpov'"
      ]
     },
     "execution_count": 3,
     "metadata": {},
     "output_type": "execute_result"
    }
   ],
   "source": [
    "os.getcwd()  # current working directory"
   ]
  },
  {
   "cell_type": "code",
   "execution_count": 4,
   "id": "95ca0646",
   "metadata": {},
   "outputs": [
    {
     "data": {
      "text/plain": [
       "['2020-12-03',\n",
       " '2020-12-04',\n",
       " '2020-12-05',\n",
       " '2020-12-06',\n",
       " '2020-12-07',\n",
       " '2020-12-08',\n",
       " '2020-12-09']"
      ]
     },
     "execution_count": 4,
     "metadata": {},
     "output_type": "execute_result"
    }
   ],
   "source": [
    "os.listdir('C://123/usr/Karpov/Data_Analytics/4/Задания/Минипроект/data/')"
   ]
  },
  {
   "cell_type": "code",
   "execution_count": 5,
   "id": "950d527f",
   "metadata": {},
   "outputs": [
    {
     "data": {
      "text/plain": [
       "['data.csv']"
      ]
     },
     "execution_count": 5,
     "metadata": {},
     "output_type": "execute_result"
    }
   ],
   "source": [
    "os.listdir('C://123/usr/Karpov/Data_Analytics/4/Задания/Минипроект/data/2020-12-08/Alexey_Fedorov/')"
   ]
  },
  {
   "cell_type": "code",
   "execution_count": 6,
   "id": "0a7b14f1",
   "metadata": {},
   "outputs": [
    {
     "data": {
      "text/html": [
       "<div>\n",
       "<style scoped>\n",
       "    .dataframe tbody tr th:only-of-type {\n",
       "        vertical-align: middle;\n",
       "    }\n",
       "\n",
       "    .dataframe tbody tr th {\n",
       "        vertical-align: top;\n",
       "    }\n",
       "\n",
       "    .dataframe thead th {\n",
       "        text-align: right;\n",
       "    }\n",
       "</style>\n",
       "<table border=\"1\" class=\"dataframe\">\n",
       "  <thead>\n",
       "    <tr style=\"text-align: right;\">\n",
       "      <th></th>\n",
       "      <th>Unnamed: 0</th>\n",
       "      <th>product_id</th>\n",
       "      <th>quantity</th>\n",
       "    </tr>\n",
       "  </thead>\n",
       "  <tbody>\n",
       "    <tr>\n",
       "      <th>0</th>\n",
       "      <td>0</td>\n",
       "      <td>73</td>\n",
       "      <td>5</td>\n",
       "    </tr>\n",
       "    <tr>\n",
       "      <th>1</th>\n",
       "      <td>1</td>\n",
       "      <td>34</td>\n",
       "      <td>1</td>\n",
       "    </tr>\n",
       "    <tr>\n",
       "      <th>2</th>\n",
       "      <td>2</td>\n",
       "      <td>71</td>\n",
       "      <td>1</td>\n",
       "    </tr>\n",
       "    <tr>\n",
       "      <th>3</th>\n",
       "      <td>3</td>\n",
       "      <td>18</td>\n",
       "      <td>2</td>\n",
       "    </tr>\n",
       "    <tr>\n",
       "      <th>4</th>\n",
       "      <td>4</td>\n",
       "      <td>67</td>\n",
       "      <td>2</td>\n",
       "    </tr>\n",
       "  </tbody>\n",
       "</table>\n",
       "</div>"
      ],
      "text/plain": [
       "   Unnamed: 0  product_id  quantity\n",
       "0           0          73         5\n",
       "1           1          34         1\n",
       "2           2          71         1\n",
       "3           3          18         2\n",
       "4           4          67         2"
      ]
     },
     "execution_count": 6,
     "metadata": {},
     "output_type": "execute_result"
    }
   ],
   "source": [
    "pd.read_csv(\"C://123/usr/Karpov/Data_Analytics/4/Задания/Минипроект/data/2020-12-08/Alexey_Fedorov/data.csv\")"
   ]
  },
  {
   "cell_type": "markdown",
   "id": "8c3d0975",
   "metadata": {},
   "source": [
    "необходимо их собрать воедино, будем обходить все папки"
   ]
  },
  {
   "cell_type": "code",
   "execution_count": 7,
   "id": "0594452b",
   "metadata": {},
   "outputs": [],
   "source": [
    "path = \"C://123/usr/Karpov/Data_Analytics/4/Задания/Минипроект/data\""
   ]
  },
  {
   "cell_type": "code",
   "execution_count": 8,
   "id": "a363aa30",
   "metadata": {},
   "outputs": [
    {
     "data": {
      "text/plain": [
       "<generator object _walk at 0x0000010681497CA0>"
      ]
     },
     "execution_count": 8,
     "metadata": {},
     "output_type": "execute_result"
    }
   ],
   "source": [
    "os.walk(path)"
   ]
  },
  {
   "cell_type": "code",
   "execution_count": 9,
   "id": "3bf9caed",
   "metadata": {},
   "outputs": [
    {
     "data": {
      "text/plain": [
       "[('C://123/usr/Karpov/Data_Analytics/4/Задания/Минипроект/data',\n",
       "  ['2020-12-03',\n",
       "   '2020-12-04',\n",
       "   '2020-12-05',\n",
       "   '2020-12-06',\n",
       "   '2020-12-07',\n",
       "   '2020-12-08',\n",
       "   '2020-12-09'],\n",
       "  []),\n",
       " ('C://123/usr/Karpov/Data_Analytics/4/Задания/Минипроект/data\\\\2020-12-03',\n",
       "  ['Alexey_Smirnov',\n",
       "   'Anton_Petrov',\n",
       "   'Kirill_Petrov',\n",
       "   'Petr_Fedorov',\n",
       "   'Vasiliy_Ivanov',\n",
       "   'Vasiliy_Petrov'],\n",
       "  []),\n",
       " ('C://123/usr/Karpov/Data_Analytics/4/Задания/Минипроект/data\\\\2020-12-03\\\\Alexey_Smirnov',\n",
       "  [],\n",
       "  ['data.csv']),\n",
       " ('C://123/usr/Karpov/Data_Analytics/4/Задания/Минипроект/data\\\\2020-12-03\\\\Anton_Petrov',\n",
       "  [],\n",
       "  ['data.csv']),\n",
       " ('C://123/usr/Karpov/Data_Analytics/4/Задания/Минипроект/data\\\\2020-12-03\\\\Kirill_Petrov',\n",
       "  [],\n",
       "  ['data.csv']),\n",
       " ('C://123/usr/Karpov/Data_Analytics/4/Задания/Минипроект/data\\\\2020-12-03\\\\Petr_Fedorov',\n",
       "  [],\n",
       "  ['data.csv']),\n",
       " ('C://123/usr/Karpov/Data_Analytics/4/Задания/Минипроект/data\\\\2020-12-03\\\\Vasiliy_Ivanov',\n",
       "  [],\n",
       "  ['data.csv']),\n",
       " ('C://123/usr/Karpov/Data_Analytics/4/Задания/Минипроект/data\\\\2020-12-03\\\\Vasiliy_Petrov',\n",
       "  [],\n",
       "  ['data.csv']),\n",
       " ('C://123/usr/Karpov/Data_Analytics/4/Задания/Минипроект/data\\\\2020-12-04',\n",
       "  ['Alexey_Smirnov',\n",
       "   'Kirill_Fedorov',\n",
       "   'Petr_Fedorov',\n",
       "   'Petr_Ivanov',\n",
       "   'Petr_Smirnov',\n",
       "   'Rostislav_Fedorov',\n",
       "   'Rostislav_Ivanov',\n",
       "   'Rostislav_Smirnov',\n",
       "   'Vasiliy_Ivanov'],\n",
       "  []),\n",
       " ('C://123/usr/Karpov/Data_Analytics/4/Задания/Минипроект/data\\\\2020-12-04\\\\Alexey_Smirnov',\n",
       "  [],\n",
       "  ['data.csv']),\n",
       " ('C://123/usr/Karpov/Data_Analytics/4/Задания/Минипроект/data\\\\2020-12-04\\\\Kirill_Fedorov',\n",
       "  [],\n",
       "  ['data.csv']),\n",
       " ('C://123/usr/Karpov/Data_Analytics/4/Задания/Минипроект/data\\\\2020-12-04\\\\Petr_Fedorov',\n",
       "  [],\n",
       "  ['data.csv']),\n",
       " ('C://123/usr/Karpov/Data_Analytics/4/Задания/Минипроект/data\\\\2020-12-04\\\\Petr_Ivanov',\n",
       "  [],\n",
       "  ['data.csv']),\n",
       " ('C://123/usr/Karpov/Data_Analytics/4/Задания/Минипроект/data\\\\2020-12-04\\\\Petr_Smirnov',\n",
       "  [],\n",
       "  ['data.csv']),\n",
       " ('C://123/usr/Karpov/Data_Analytics/4/Задания/Минипроект/data\\\\2020-12-04\\\\Rostislav_Fedorov',\n",
       "  [],\n",
       "  ['data.csv']),\n",
       " ('C://123/usr/Karpov/Data_Analytics/4/Задания/Минипроект/data\\\\2020-12-04\\\\Rostislav_Ivanov',\n",
       "  [],\n",
       "  ['data.csv']),\n",
       " ('C://123/usr/Karpov/Data_Analytics/4/Задания/Минипроект/data\\\\2020-12-04\\\\Rostislav_Smirnov',\n",
       "  [],\n",
       "  ['data.csv']),\n",
       " ('C://123/usr/Karpov/Data_Analytics/4/Задания/Минипроект/data\\\\2020-12-04\\\\Vasiliy_Ivanov',\n",
       "  [],\n",
       "  ['data.csv']),\n",
       " ('C://123/usr/Karpov/Data_Analytics/4/Задания/Минипроект/data\\\\2020-12-05',\n",
       "  ['Alexey_Fedorov',\n",
       "   'Alexey_Petrov',\n",
       "   'Kirill_Smirnov',\n",
       "   'Petr_Ivanov',\n",
       "   'Petr_Smirnov',\n",
       "   'Rostislav_Smirnov'],\n",
       "  []),\n",
       " ('C://123/usr/Karpov/Data_Analytics/4/Задания/Минипроект/data\\\\2020-12-05\\\\Alexey_Fedorov',\n",
       "  [],\n",
       "  ['data.csv']),\n",
       " ('C://123/usr/Karpov/Data_Analytics/4/Задания/Минипроект/data\\\\2020-12-05\\\\Alexey_Petrov',\n",
       "  [],\n",
       "  ['data.csv']),\n",
       " ('C://123/usr/Karpov/Data_Analytics/4/Задания/Минипроект/data\\\\2020-12-05\\\\Kirill_Smirnov',\n",
       "  [],\n",
       "  ['data.csv']),\n",
       " ('C://123/usr/Karpov/Data_Analytics/4/Задания/Минипроект/data\\\\2020-12-05\\\\Petr_Ivanov',\n",
       "  [],\n",
       "  ['data.csv']),\n",
       " ('C://123/usr/Karpov/Data_Analytics/4/Задания/Минипроект/data\\\\2020-12-05\\\\Petr_Smirnov',\n",
       "  [],\n",
       "  ['data.csv']),\n",
       " ('C://123/usr/Karpov/Data_Analytics/4/Задания/Минипроект/data\\\\2020-12-05\\\\Rostislav_Smirnov',\n",
       "  [],\n",
       "  ['data.csv']),\n",
       " ('C://123/usr/Karpov/Data_Analytics/4/Задания/Минипроект/data\\\\2020-12-06',\n",
       "  ['Vasiliy_Fedorov'],\n",
       "  []),\n",
       " ('C://123/usr/Karpov/Data_Analytics/4/Задания/Минипроект/data\\\\2020-12-06\\\\Vasiliy_Fedorov',\n",
       "  [],\n",
       "  ['data.csv']),\n",
       " ('C://123/usr/Karpov/Data_Analytics/4/Задания/Минипроект/data\\\\2020-12-07',\n",
       "  ['Alexey_Fedorov',\n",
       "   'Alexey_Ivanov',\n",
       "   'Alexey_Smirnov',\n",
       "   'Anton_Ivanov',\n",
       "   'Anton_Smirnov',\n",
       "   'Kirill_Fedorov',\n",
       "   'Petr_Fedorov',\n",
       "   'Petr_Smirnov',\n",
       "   'Rostislav_Fedorov',\n",
       "   'Vasiliy_Ivanov'],\n",
       "  []),\n",
       " ('C://123/usr/Karpov/Data_Analytics/4/Задания/Минипроект/data\\\\2020-12-07\\\\Alexey_Fedorov',\n",
       "  [],\n",
       "  ['data.csv']),\n",
       " ('C://123/usr/Karpov/Data_Analytics/4/Задания/Минипроект/data\\\\2020-12-07\\\\Alexey_Ivanov',\n",
       "  [],\n",
       "  ['data.csv']),\n",
       " ('C://123/usr/Karpov/Data_Analytics/4/Задания/Минипроект/data\\\\2020-12-07\\\\Alexey_Smirnov',\n",
       "  [],\n",
       "  ['data.csv']),\n",
       " ('C://123/usr/Karpov/Data_Analytics/4/Задания/Минипроект/data\\\\2020-12-07\\\\Anton_Ivanov',\n",
       "  [],\n",
       "  ['data.csv']),\n",
       " ('C://123/usr/Karpov/Data_Analytics/4/Задания/Минипроект/data\\\\2020-12-07\\\\Anton_Smirnov',\n",
       "  [],\n",
       "  ['data.csv']),\n",
       " ('C://123/usr/Karpov/Data_Analytics/4/Задания/Минипроект/data\\\\2020-12-07\\\\Kirill_Fedorov',\n",
       "  [],\n",
       "  ['data.csv']),\n",
       " ('C://123/usr/Karpov/Data_Analytics/4/Задания/Минипроект/data\\\\2020-12-07\\\\Petr_Fedorov',\n",
       "  [],\n",
       "  ['data.csv']),\n",
       " ('C://123/usr/Karpov/Data_Analytics/4/Задания/Минипроект/data\\\\2020-12-07\\\\Petr_Smirnov',\n",
       "  [],\n",
       "  ['data.csv']),\n",
       " ('C://123/usr/Karpov/Data_Analytics/4/Задания/Минипроект/data\\\\2020-12-07\\\\Rostislav_Fedorov',\n",
       "  [],\n",
       "  ['data.csv']),\n",
       " ('C://123/usr/Karpov/Data_Analytics/4/Задания/Минипроект/data\\\\2020-12-07\\\\Vasiliy_Ivanov',\n",
       "  [],\n",
       "  ['data.csv']),\n",
       " ('C://123/usr/Karpov/Data_Analytics/4/Задания/Минипроект/data\\\\2020-12-08',\n",
       "  ['Alexey_Fedorov',\n",
       "   'Anton_Smirnov',\n",
       "   'Kirill_Smirnov',\n",
       "   'Petr_Petrov',\n",
       "   'Rostislav_Petrov'],\n",
       "  []),\n",
       " ('C://123/usr/Karpov/Data_Analytics/4/Задания/Минипроект/data\\\\2020-12-08\\\\Alexey_Fedorov',\n",
       "  [],\n",
       "  ['data.csv']),\n",
       " ('C://123/usr/Karpov/Data_Analytics/4/Задания/Минипроект/data\\\\2020-12-08\\\\Anton_Smirnov',\n",
       "  [],\n",
       "  ['data.csv']),\n",
       " ('C://123/usr/Karpov/Data_Analytics/4/Задания/Минипроект/data\\\\2020-12-08\\\\Kirill_Smirnov',\n",
       "  [],\n",
       "  ['data.csv']),\n",
       " ('C://123/usr/Karpov/Data_Analytics/4/Задания/Минипроект/data\\\\2020-12-08\\\\Petr_Petrov',\n",
       "  [],\n",
       "  ['data.csv']),\n",
       " ('C://123/usr/Karpov/Data_Analytics/4/Задания/Минипроект/data\\\\2020-12-08\\\\Rostislav_Petrov',\n",
       "  [],\n",
       "  ['data.csv']),\n",
       " ('C://123/usr/Karpov/Data_Analytics/4/Задания/Минипроект/data\\\\2020-12-09',\n",
       "  ['Alexey_Smirnov',\n",
       "   'Anton_Ivanov',\n",
       "   'Anton_Petrov',\n",
       "   'Anton_Smirnov',\n",
       "   'Petr_Fedorov',\n",
       "   'Rostislav_Petrov',\n",
       "   'Vasiliy_Ivanov'],\n",
       "  []),\n",
       " ('C://123/usr/Karpov/Data_Analytics/4/Задания/Минипроект/data\\\\2020-12-09\\\\Alexey_Smirnov',\n",
       "  [],\n",
       "  ['data.csv']),\n",
       " ('C://123/usr/Karpov/Data_Analytics/4/Задания/Минипроект/data\\\\2020-12-09\\\\Anton_Ivanov',\n",
       "  [],\n",
       "  ['data.csv']),\n",
       " ('C://123/usr/Karpov/Data_Analytics/4/Задания/Минипроект/data\\\\2020-12-09\\\\Anton_Petrov',\n",
       "  [],\n",
       "  ['data.csv']),\n",
       " ('C://123/usr/Karpov/Data_Analytics/4/Задания/Минипроект/data\\\\2020-12-09\\\\Anton_Smirnov',\n",
       "  [],\n",
       "  ['data.csv']),\n",
       " ('C://123/usr/Karpov/Data_Analytics/4/Задания/Минипроект/data\\\\2020-12-09\\\\Petr_Fedorov',\n",
       "  [],\n",
       "  ['data.csv']),\n",
       " ('C://123/usr/Karpov/Data_Analytics/4/Задания/Минипроект/data\\\\2020-12-09\\\\Rostislav_Petrov',\n",
       "  [],\n",
       "  ['data.csv']),\n",
       " ('C://123/usr/Karpov/Data_Analytics/4/Задания/Минипроект/data\\\\2020-12-09\\\\Vasiliy_Ivanov',\n",
       "  [],\n",
       "  ['data.csv'])]"
      ]
     },
     "execution_count": 9,
     "metadata": {},
     "output_type": "execute_result"
    }
   ],
   "source": [
    "list(os.walk(path))"
   ]
  },
  {
   "cell_type": "code",
   "execution_count": 10,
   "id": "fd5882c3",
   "metadata": {},
   "outputs": [
    {
     "name": "stdout",
     "output_type": "stream",
     "text": [
      "('C://123/usr/Karpov/Data_Analytics/4/Задания/Минипроект/data', ['2020-12-03', '2020-12-04', '2020-12-05', '2020-12-06', '2020-12-07', '2020-12-08', '2020-12-09'], [])\n"
     ]
    }
   ],
   "source": [
    "for i in os.walk(path):\n",
    "    print(i)\n",
    "    break"
   ]
  },
  {
   "cell_type": "code",
   "execution_count": 11,
   "id": "0b5ae418",
   "metadata": {},
   "outputs": [
    {
     "name": "stdout",
     "output_type": "stream",
     "text": [
      "('C://123/usr/Karpov/Data_Analytics/4/Задания/Минипроект/data/2020-12-03/Alexey_Smirnov', [], ['data.csv'])\n"
     ]
    }
   ],
   "source": [
    "for i in os.walk(path + '/2020-12-03/Alexey_Smirnov'):\n",
    "    print(i)\n",
    "    break   # сначала у нас путь к текущей папке, потом подпапки, если они есть и файлы "
   ]
  },
  {
   "cell_type": "code",
   "execution_count": 12,
   "id": "6430096d",
   "metadata": {},
   "outputs": [
    {
     "name": "stdout",
     "output_type": "stream",
     "text": [
      "('C://123/usr/Karpov/Data_Analytics/4/Задания/Минипроект/data/2020-12-03', ['Alexey_Smirnov', 'Anton_Petrov', 'Kirill_Petrov', 'Petr_Fedorov', 'Vasiliy_Ivanov', 'Vasiliy_Petrov'], [])\n"
     ]
    }
   ],
   "source": [
    "for i in os.walk(path + '/2020-12-03'):\n",
    "    print(i)\n",
    "    break   # сначала у нас путь к текущей папке, потом подпапки, если они есть и файлы если они есть в папке "
   ]
  },
  {
   "cell_type": "code",
   "execution_count": 13,
   "id": "78f93081",
   "metadata": {},
   "outputs": [
    {
     "name": "stdout",
     "output_type": "stream",
     "text": [
      "C://123/usr/Karpov/Data_Analytics/4/Задания/Минипроект/data/2020-12-03 []\n",
      "C://123/usr/Karpov/Data_Analytics/4/Задания/Минипроект/data/2020-12-03\\Alexey_Smirnov ['data.csv']\n",
      "C://123/usr/Karpov/Data_Analytics/4/Задания/Минипроект/data/2020-12-03\\Anton_Petrov ['data.csv']\n",
      "C://123/usr/Karpov/Data_Analytics/4/Задания/Минипроект/data/2020-12-03\\Kirill_Petrov ['data.csv']\n",
      "C://123/usr/Karpov/Data_Analytics/4/Задания/Минипроект/data/2020-12-03\\Petr_Fedorov ['data.csv']\n",
      "C://123/usr/Karpov/Data_Analytics/4/Задания/Минипроект/data/2020-12-03\\Vasiliy_Ivanov ['data.csv']\n",
      "C://123/usr/Karpov/Data_Analytics/4/Задания/Минипроект/data/2020-12-03\\Vasiliy_Petrov ['data.csv']\n"
     ]
    }
   ],
   "source": [
    "for triple in os.walk(path + '/2020-12-03'):  # разбивая тройку на 3 отдельных элемента\n",
    "    current_path = triple[0]    # путь текущий\n",
    "    dirs = triple[1]            # директории в этом пути\n",
    "    files = triple[2]           # файлы в этом пути\n",
    "    print(current_path, files)"
   ]
  },
  {
   "cell_type": "code",
   "execution_count": 14,
   "id": "36423b4a",
   "metadata": {},
   "outputs": [
    {
     "name": "stdout",
     "output_type": "stream",
     "text": [
      "C://123/usr/Karpov/Data_Analytics/4/Задания/Минипроект/data/2020-12-03 []\n",
      "C://123/usr/Karpov/Data_Analytics/4/Задания/Минипроект/data/2020-12-03\\Alexey_Smirnov ['data.csv']\n",
      "C://123/usr/Karpov/Data_Analytics/4/Задания/Минипроект/data/2020-12-03\\Anton_Petrov ['data.csv']\n",
      "C://123/usr/Karpov/Data_Analytics/4/Задания/Минипроект/data/2020-12-03\\Kirill_Petrov ['data.csv']\n",
      "C://123/usr/Karpov/Data_Analytics/4/Задания/Минипроект/data/2020-12-03\\Petr_Fedorov ['data.csv']\n",
      "C://123/usr/Karpov/Data_Analytics/4/Задания/Минипроект/data/2020-12-03\\Vasiliy_Ivanov ['data.csv']\n",
      "C://123/usr/Karpov/Data_Analytics/4/Задания/Минипроект/data/2020-12-03\\Vasiliy_Petrov ['data.csv']\n"
     ]
    }
   ],
   "source": [
    "for current_path, dirs, files  in os.walk(path + '/2020-12-03'):  # это называется распаковка\n",
    "    \n",
    "    print(current_path, files)"
   ]
  },
  {
   "cell_type": "code",
   "execution_count": 15,
   "id": "0e649f84",
   "metadata": {},
   "outputs": [
    {
     "name": "stdout",
     "output_type": "stream",
     "text": [
      "   Unnamed: 0  product_id  quantity\n",
      "0           0          47         1\n",
      "1           1          57         1\n",
      "2           2          14         2\n",
      "   Unnamed: 0  product_id  quantity\n",
      "0           0          56         5\n",
      "1           1          27         3\n",
      "2           2          82         1\n",
      "   Unnamed: 0  product_id  quantity\n",
      "0           0          77         1\n",
      "1           1          10         3\n",
      "2           2          83         2\n",
      "   Unnamed: 0  product_id  quantity\n",
      "0           0          94         4\n",
      "1           1           7         2\n",
      "2           2          16         4\n",
      "   Unnamed: 0  product_id  quantity\n",
      "0           0           0         4\n",
      "1           1           4         2\n",
      "   Unnamed: 0  product_id  quantity\n",
      "0           0          78         4\n",
      "1           1          27         3\n"
     ]
    }
   ],
   "source": [
    "for current_path, dirs, files  in os.walk(path + '/2020-12-03'):  # это называется распаковка\n",
    "    for file in files:\n",
    "        data_path = f'{current_path}/{file}'\n",
    "        df = pd.read_csv(data_path)   # указывается путь к файлу\n",
    "        print(df.head(3))\n",
    "        \n",
    "    # print(current_path, files)  # мы на каждой итерации перезаписываем df, нужно их склеивать для одних дней"
   ]
  },
  {
   "cell_type": "code",
   "execution_count": 16,
   "id": "bdd22666",
   "metadata": {},
   "outputs": [
    {
     "name": "stdout",
     "output_type": "stream",
     "text": [
      "(2, 3)\n",
      "(5, 3)\n",
      "(11, 3)\n",
      "(16, 3)\n",
      "(20, 3)\n",
      "(23, 3)\n"
     ]
    }
   ],
   "source": [
    "#create df for all_data\n",
    "df = pd.DataFrame()\n",
    "\n",
    "#Read data from all files to general df\n",
    "for current_path, dirs, files  in os.walk(path + '/2020-12-05'):  # это называется распаковка\n",
    "    for file in files:\n",
    "        data_path = f'{current_path}/{file}'\n",
    "        \n",
    "        temp_df = pd.read_csv(data_path)   # указывается путь к файлу\n",
    "        \n",
    "        df = pd.concat((df, temp_df))\n",
    "        print(df.shape)"
   ]
  },
  {
   "cell_type": "code",
   "execution_count": 17,
   "id": "ee2ecebc",
   "metadata": {},
   "outputs": [
    {
     "name": "stdout",
     "output_type": "stream",
     "text": [
      "(6, 5)\n",
      "(11, 5)\n",
      "(15, 5)\n",
      "(18, 5)\n",
      "(20, 5)\n",
      "(22, 5)\n",
      "(27, 5)\n",
      "(33, 5)\n",
      "(39, 5)\n",
      "(42, 5)\n",
      "(48, 5)\n",
      "(50, 5)\n",
      "(53, 5)\n",
      "(55, 5)\n",
      "(57, 5)\n",
      "(59, 5)\n",
      "(62, 5)\n",
      "(68, 5)\n",
      "(73, 5)\n",
      "(77, 5)\n",
      "(80, 5)\n",
      "(84, 5)\n",
      "(88, 5)\n",
      "(94, 5)\n",
      "(96, 5)\n",
      "(97, 5)\n",
      "(101, 5)\n",
      "(103, 5)\n",
      "(105, 5)\n",
      "(109, 5)\n",
      "(112, 5)\n",
      "(115, 5)\n",
      "(120, 5)\n",
      "(126, 5)\n",
      "(127, 5)\n",
      "(132, 5)\n",
      "(138, 5)\n",
      "(143, 5)\n",
      "(149, 5)\n",
      "(150, 5)\n",
      "(154, 5)\n",
      "(155, 5)\n",
      "(158, 5)\n",
      "(161, 5)\n"
     ]
    }
   ],
   "source": [
    "#create df for all_data\n",
    "df = pd.DataFrame()\n",
    "\n",
    "#Read data from all files and add it to general df\n",
    "for current_path, dirs, files  in os.walk(path):  # распакова кортежа из трёх файлов в три файла\n",
    "    for file in files:\n",
    "        \n",
    "        #constract path to file\n",
    "        data_path = f'{current_path}/{file}'\n",
    "        \n",
    "        # read data into temp_df\n",
    "        temp_df = pd.read_csv(data_path)   # указывается именно абсолютный путь к файлу\n",
    "        \n",
    "        # name, date extraction\n",
    "        path_parts = current_path.split('\\\\')  # в винде \\\\ дробят, хз почему\n",
    "        \n",
    "        date = path_parts[-2]\n",
    "        name = path_parts[-1]\n",
    "        \n",
    "        #add columns\n",
    "        temp_df['date'] = date\n",
    "        temp_df['name'] = name\n",
    "        \n",
    "        #concat dfs\n",
    "        df = pd.concat((df, temp_df))\n",
    "        print(df.shape)"
   ]
  },
  {
   "cell_type": "code",
   "execution_count": 18,
   "id": "3783927e",
   "metadata": {},
   "outputs": [
    {
     "name": "stdout",
     "output_type": "stream",
     "text": [
      "2020-12-03 Alexey_Smirnov\n"
     ]
    }
   ],
   "source": [
    "path_parts = 'C://123/usr/Karpov/Data_Analytics/4/Задания/Минипроект/data/2020-12-03/Alexey_Smirnov'.split('/')\n",
    "date = path_parts[-2]\n",
    "name = path_parts[-1]\n",
    "print(date, name)"
   ]
  },
  {
   "cell_type": "code",
   "execution_count": 19,
   "id": "5e59a071",
   "metadata": {},
   "outputs": [],
   "source": [
    "df.drop(columns=['Unnamed: 0'], inplace = True)"
   ]
  },
  {
   "cell_type": "code",
   "execution_count": 20,
   "id": "d8dd2b5b",
   "metadata": {},
   "outputs": [
    {
     "data": {
      "text/html": [
       "<div>\n",
       "<style scoped>\n",
       "    .dataframe tbody tr th:only-of-type {\n",
       "        vertical-align: middle;\n",
       "    }\n",
       "\n",
       "    .dataframe tbody tr th {\n",
       "        vertical-align: top;\n",
       "    }\n",
       "\n",
       "    .dataframe thead th {\n",
       "        text-align: right;\n",
       "    }\n",
       "</style>\n",
       "<table border=\"1\" class=\"dataframe\">\n",
       "  <thead>\n",
       "    <tr style=\"text-align: right;\">\n",
       "      <th></th>\n",
       "      <th>index</th>\n",
       "      <th>product_id</th>\n",
       "      <th>quantity</th>\n",
       "      <th>date</th>\n",
       "      <th>name</th>\n",
       "    </tr>\n",
       "  </thead>\n",
       "  <tbody>\n",
       "    <tr>\n",
       "      <th>0</th>\n",
       "      <td>0</td>\n",
       "      <td>47</td>\n",
       "      <td>1</td>\n",
       "      <td>2020-12-03</td>\n",
       "      <td>Alexey_Smirnov</td>\n",
       "    </tr>\n",
       "    <tr>\n",
       "      <th>1</th>\n",
       "      <td>1</td>\n",
       "      <td>57</td>\n",
       "      <td>1</td>\n",
       "      <td>2020-12-03</td>\n",
       "      <td>Alexey_Smirnov</td>\n",
       "    </tr>\n",
       "    <tr>\n",
       "      <th>2</th>\n",
       "      <td>2</td>\n",
       "      <td>14</td>\n",
       "      <td>2</td>\n",
       "      <td>2020-12-03</td>\n",
       "      <td>Alexey_Smirnov</td>\n",
       "    </tr>\n",
       "    <tr>\n",
       "      <th>3</th>\n",
       "      <td>3</td>\n",
       "      <td>52</td>\n",
       "      <td>1</td>\n",
       "      <td>2020-12-03</td>\n",
       "      <td>Alexey_Smirnov</td>\n",
       "    </tr>\n",
       "    <tr>\n",
       "      <th>4</th>\n",
       "      <td>4</td>\n",
       "      <td>1</td>\n",
       "      <td>4</td>\n",
       "      <td>2020-12-03</td>\n",
       "      <td>Alexey_Smirnov</td>\n",
       "    </tr>\n",
       "    <tr>\n",
       "      <th>...</th>\n",
       "      <td>...</td>\n",
       "      <td>...</td>\n",
       "      <td>...</td>\n",
       "      <td>...</td>\n",
       "      <td>...</td>\n",
       "    </tr>\n",
       "    <tr>\n",
       "      <th>156</th>\n",
       "      <td>1</td>\n",
       "      <td>66</td>\n",
       "      <td>4</td>\n",
       "      <td>2020-12-09</td>\n",
       "      <td>Rostislav_Petrov</td>\n",
       "    </tr>\n",
       "    <tr>\n",
       "      <th>157</th>\n",
       "      <td>2</td>\n",
       "      <td>39</td>\n",
       "      <td>2</td>\n",
       "      <td>2020-12-09</td>\n",
       "      <td>Rostislav_Petrov</td>\n",
       "    </tr>\n",
       "    <tr>\n",
       "      <th>158</th>\n",
       "      <td>0</td>\n",
       "      <td>82</td>\n",
       "      <td>4</td>\n",
       "      <td>2020-12-09</td>\n",
       "      <td>Vasiliy_Ivanov</td>\n",
       "    </tr>\n",
       "    <tr>\n",
       "      <th>159</th>\n",
       "      <td>1</td>\n",
       "      <td>74</td>\n",
       "      <td>2</td>\n",
       "      <td>2020-12-09</td>\n",
       "      <td>Vasiliy_Ivanov</td>\n",
       "    </tr>\n",
       "    <tr>\n",
       "      <th>160</th>\n",
       "      <td>2</td>\n",
       "      <td>54</td>\n",
       "      <td>3</td>\n",
       "      <td>2020-12-09</td>\n",
       "      <td>Vasiliy_Ivanov</td>\n",
       "    </tr>\n",
       "  </tbody>\n",
       "</table>\n",
       "<p>161 rows × 5 columns</p>\n",
       "</div>"
      ],
      "text/plain": [
       "     index  product_id  quantity        date              name\n",
       "0        0          47         1  2020-12-03    Alexey_Smirnov\n",
       "1        1          57         1  2020-12-03    Alexey_Smirnov\n",
       "2        2          14         2  2020-12-03    Alexey_Smirnov\n",
       "3        3          52         1  2020-12-03    Alexey_Smirnov\n",
       "4        4           1         4  2020-12-03    Alexey_Smirnov\n",
       "..     ...         ...       ...         ...               ...\n",
       "156      1          66         4  2020-12-09  Rostislav_Petrov\n",
       "157      2          39         2  2020-12-09  Rostislav_Petrov\n",
       "158      0          82         4  2020-12-09    Vasiliy_Ivanov\n",
       "159      1          74         2  2020-12-09    Vasiliy_Ivanov\n",
       "160      2          54         3  2020-12-09    Vasiliy_Ivanov\n",
       "\n",
       "[161 rows x 5 columns]"
      ]
     },
     "execution_count": 20,
     "metadata": {},
     "output_type": "execute_result"
    }
   ],
   "source": [
    "df.reset_index()    # убрать индексы потому что они дублируются"
   ]
  },
  {
   "cell_type": "code",
   "execution_count": 21,
   "id": "93f0e3b9",
   "metadata": {},
   "outputs": [],
   "source": [
    "df.reset_index(drop = True, inplace = True) "
   ]
  },
  {
   "cell_type": "code",
   "execution_count": 22,
   "id": "295bdeca",
   "metadata": {},
   "outputs": [
    {
     "data": {
      "text/html": [
       "<div>\n",
       "<style scoped>\n",
       "    .dataframe tbody tr th:only-of-type {\n",
       "        vertical-align: middle;\n",
       "    }\n",
       "\n",
       "    .dataframe tbody tr th {\n",
       "        vertical-align: top;\n",
       "    }\n",
       "\n",
       "    .dataframe thead th {\n",
       "        text-align: right;\n",
       "    }\n",
       "</style>\n",
       "<table border=\"1\" class=\"dataframe\">\n",
       "  <thead>\n",
       "    <tr style=\"text-align: right;\">\n",
       "      <th></th>\n",
       "      <th>product_id</th>\n",
       "      <th>quantity</th>\n",
       "      <th>date</th>\n",
       "      <th>name</th>\n",
       "    </tr>\n",
       "  </thead>\n",
       "  <tbody>\n",
       "    <tr>\n",
       "      <th>0</th>\n",
       "      <td>47</td>\n",
       "      <td>1</td>\n",
       "      <td>2020-12-03</td>\n",
       "      <td>Alexey_Smirnov</td>\n",
       "    </tr>\n",
       "    <tr>\n",
       "      <th>1</th>\n",
       "      <td>57</td>\n",
       "      <td>1</td>\n",
       "      <td>2020-12-03</td>\n",
       "      <td>Alexey_Smirnov</td>\n",
       "    </tr>\n",
       "    <tr>\n",
       "      <th>2</th>\n",
       "      <td>14</td>\n",
       "      <td>2</td>\n",
       "      <td>2020-12-03</td>\n",
       "      <td>Alexey_Smirnov</td>\n",
       "    </tr>\n",
       "    <tr>\n",
       "      <th>3</th>\n",
       "      <td>52</td>\n",
       "      <td>1</td>\n",
       "      <td>2020-12-03</td>\n",
       "      <td>Alexey_Smirnov</td>\n",
       "    </tr>\n",
       "    <tr>\n",
       "      <th>4</th>\n",
       "      <td>1</td>\n",
       "      <td>4</td>\n",
       "      <td>2020-12-03</td>\n",
       "      <td>Alexey_Smirnov</td>\n",
       "    </tr>\n",
       "    <tr>\n",
       "      <th>...</th>\n",
       "      <td>...</td>\n",
       "      <td>...</td>\n",
       "      <td>...</td>\n",
       "      <td>...</td>\n",
       "    </tr>\n",
       "    <tr>\n",
       "      <th>156</th>\n",
       "      <td>66</td>\n",
       "      <td>4</td>\n",
       "      <td>2020-12-09</td>\n",
       "      <td>Rostislav_Petrov</td>\n",
       "    </tr>\n",
       "    <tr>\n",
       "      <th>157</th>\n",
       "      <td>39</td>\n",
       "      <td>2</td>\n",
       "      <td>2020-12-09</td>\n",
       "      <td>Rostislav_Petrov</td>\n",
       "    </tr>\n",
       "    <tr>\n",
       "      <th>158</th>\n",
       "      <td>82</td>\n",
       "      <td>4</td>\n",
       "      <td>2020-12-09</td>\n",
       "      <td>Vasiliy_Ivanov</td>\n",
       "    </tr>\n",
       "    <tr>\n",
       "      <th>159</th>\n",
       "      <td>74</td>\n",
       "      <td>2</td>\n",
       "      <td>2020-12-09</td>\n",
       "      <td>Vasiliy_Ivanov</td>\n",
       "    </tr>\n",
       "    <tr>\n",
       "      <th>160</th>\n",
       "      <td>54</td>\n",
       "      <td>3</td>\n",
       "      <td>2020-12-09</td>\n",
       "      <td>Vasiliy_Ivanov</td>\n",
       "    </tr>\n",
       "  </tbody>\n",
       "</table>\n",
       "<p>161 rows × 4 columns</p>\n",
       "</div>"
      ],
      "text/plain": [
       "     product_id  quantity        date              name\n",
       "0            47         1  2020-12-03    Alexey_Smirnov\n",
       "1            57         1  2020-12-03    Alexey_Smirnov\n",
       "2            14         2  2020-12-03    Alexey_Smirnov\n",
       "3            52         1  2020-12-03    Alexey_Smirnov\n",
       "4             1         4  2020-12-03    Alexey_Smirnov\n",
       "..          ...       ...         ...               ...\n",
       "156          66         4  2020-12-09  Rostislav_Petrov\n",
       "157          39         2  2020-12-09  Rostislav_Petrov\n",
       "158          82         4  2020-12-09    Vasiliy_Ivanov\n",
       "159          74         2  2020-12-09    Vasiliy_Ivanov\n",
       "160          54         3  2020-12-09    Vasiliy_Ivanov\n",
       "\n",
       "[161 rows x 4 columns]"
      ]
     },
     "execution_count": 22,
     "metadata": {},
     "output_type": "execute_result"
    }
   ],
   "source": [
    "df"
   ]
  },
  {
   "cell_type": "code",
   "execution_count": 23,
   "id": "42aeb255",
   "metadata": {},
   "outputs": [
    {
     "data": {
      "text/plain": [
       "product_id     int64\n",
       "quantity       int64\n",
       "date          object\n",
       "name          object\n",
       "dtype: object"
      ]
     },
     "execution_count": 23,
     "metadata": {},
     "output_type": "execute_result"
    }
   ],
   "source": [
    "df.dtypes"
   ]
  },
  {
   "cell_type": "code",
   "execution_count": 24,
   "id": "131619e6",
   "metadata": {},
   "outputs": [
    {
     "data": {
      "text/plain": [
       "480"
      ]
     },
     "execution_count": 24,
     "metadata": {},
     "output_type": "execute_result"
    }
   ],
   "source": [
    "df.quantity.sum()"
   ]
  },
  {
   "cell_type": "code",
   "execution_count": 25,
   "id": "dcf464d9",
   "metadata": {},
   "outputs": [],
   "source": [
    "df['date'] = pd.to_datetime(df.date)"
   ]
  },
  {
   "cell_type": "code",
   "execution_count": 26,
   "id": "c15645ea",
   "metadata": {},
   "outputs": [
    {
     "data": {
      "text/plain": [
       "product_id             int64\n",
       "quantity               int64\n",
       "date          datetime64[ns]\n",
       "name                  object\n",
       "dtype: object"
      ]
     },
     "execution_count": 26,
     "metadata": {},
     "output_type": "execute_result"
    }
   ],
   "source": [
    "df.dtypes"
   ]
  },
  {
   "cell_type": "markdown",
   "id": "0f74a955",
   "metadata": {},
   "source": [
    "Выясните, какой пользователь купил больше всего товаров. Если их несколько, то перечислите имена через запятую с пробелом и в алфавитном порядке."
   ]
  },
  {
   "cell_type": "code",
   "execution_count": 27,
   "id": "fabc3961",
   "metadata": {},
   "outputs": [
    {
     "data": {
      "text/html": [
       "<div>\n",
       "<style scoped>\n",
       "    .dataframe tbody tr th:only-of-type {\n",
       "        vertical-align: middle;\n",
       "    }\n",
       "\n",
       "    .dataframe tbody tr th {\n",
       "        vertical-align: top;\n",
       "    }\n",
       "\n",
       "    .dataframe thead th {\n",
       "        text-align: right;\n",
       "    }\n",
       "</style>\n",
       "<table border=\"1\" class=\"dataframe\">\n",
       "  <thead>\n",
       "    <tr style=\"text-align: right;\">\n",
       "      <th></th>\n",
       "      <th>quantity</th>\n",
       "    </tr>\n",
       "    <tr>\n",
       "      <th>name</th>\n",
       "      <th></th>\n",
       "    </tr>\n",
       "  </thead>\n",
       "  <tbody>\n",
       "    <tr>\n",
       "      <th>Alexey_Smirnov</th>\n",
       "      <td>52</td>\n",
       "    </tr>\n",
       "    <tr>\n",
       "      <th>Petr_Smirnov</th>\n",
       "      <td>52</td>\n",
       "    </tr>\n",
       "    <tr>\n",
       "      <th>Anton_Smirnov</th>\n",
       "      <td>45</td>\n",
       "    </tr>\n",
       "    <tr>\n",
       "      <th>Petr_Fedorov</th>\n",
       "      <td>34</td>\n",
       "    </tr>\n",
       "    <tr>\n",
       "      <th>Kirill_Fedorov</th>\n",
       "      <td>28</td>\n",
       "    </tr>\n",
       "    <tr>\n",
       "      <th>Rostislav_Petrov</th>\n",
       "      <td>28</td>\n",
       "    </tr>\n",
       "    <tr>\n",
       "      <th>Vasiliy_Ivanov</th>\n",
       "      <td>27</td>\n",
       "    </tr>\n",
       "    <tr>\n",
       "      <th>Alexey_Fedorov</th>\n",
       "      <td>24</td>\n",
       "    </tr>\n",
       "    <tr>\n",
       "      <th>Anton_Ivanov</th>\n",
       "      <td>23</td>\n",
       "    </tr>\n",
       "    <tr>\n",
       "      <th>Petr_Ivanov</th>\n",
       "      <td>21</td>\n",
       "    </tr>\n",
       "    <tr>\n",
       "      <th>Anton_Petrov</th>\n",
       "      <td>18</td>\n",
       "    </tr>\n",
       "    <tr>\n",
       "      <th>Kirill_Smirnov</th>\n",
       "      <td>17</td>\n",
       "    </tr>\n",
       "    <tr>\n",
       "      <th>Alexey_Ivanov</th>\n",
       "      <td>17</td>\n",
       "    </tr>\n",
       "    <tr>\n",
       "      <th>Rostislav_Smirnov</th>\n",
       "      <td>17</td>\n",
       "    </tr>\n",
       "    <tr>\n",
       "      <th>Rostislav_Fedorov</th>\n",
       "      <td>16</td>\n",
       "    </tr>\n",
       "    <tr>\n",
       "      <th>Vasiliy_Fedorov</th>\n",
       "      <td>15</td>\n",
       "    </tr>\n",
       "    <tr>\n",
       "      <th>Petr_Petrov</th>\n",
       "      <td>14</td>\n",
       "    </tr>\n",
       "    <tr>\n",
       "      <th>Kirill_Petrov</th>\n",
       "      <td>9</td>\n",
       "    </tr>\n",
       "    <tr>\n",
       "      <th>Rostislav_Ivanov</th>\n",
       "      <td>9</td>\n",
       "    </tr>\n",
       "    <tr>\n",
       "      <th>Alexey_Petrov</th>\n",
       "      <td>7</td>\n",
       "    </tr>\n",
       "    <tr>\n",
       "      <th>Vasiliy_Petrov</th>\n",
       "      <td>7</td>\n",
       "    </tr>\n",
       "  </tbody>\n",
       "</table>\n",
       "</div>"
      ],
      "text/plain": [
       "                   quantity\n",
       "name                       \n",
       "Alexey_Smirnov           52\n",
       "Petr_Smirnov             52\n",
       "Anton_Smirnov            45\n",
       "Petr_Fedorov             34\n",
       "Kirill_Fedorov           28\n",
       "Rostislav_Petrov         28\n",
       "Vasiliy_Ivanov           27\n",
       "Alexey_Fedorov           24\n",
       "Anton_Ivanov             23\n",
       "Petr_Ivanov              21\n",
       "Anton_Petrov             18\n",
       "Kirill_Smirnov           17\n",
       "Alexey_Ivanov            17\n",
       "Rostislav_Smirnov        17\n",
       "Rostislav_Fedorov        16\n",
       "Vasiliy_Fedorov          15\n",
       "Petr_Petrov              14\n",
       "Kirill_Petrov             9\n",
       "Rostislav_Ivanov          9\n",
       "Alexey_Petrov             7\n",
       "Vasiliy_Petrov            7"
      ]
     },
     "execution_count": 27,
     "metadata": {},
     "output_type": "execute_result"
    }
   ],
   "source": [
    "df.groupby('name').agg({'quantity':'sum'}).sort_values(by=['quantity'], ascending = False)"
   ]
  },
  {
   "cell_type": "code",
   "execution_count": 28,
   "id": "c7a629e1",
   "metadata": {},
   "outputs": [
    {
     "data": {
      "text/plain": [
       "21"
      ]
     },
     "execution_count": 28,
     "metadata": {},
     "output_type": "execute_result"
    }
   ],
   "source": [
    "df.name.nunique()"
   ]
  },
  {
   "cell_type": "markdown",
   "id": "1634c61c",
   "metadata": {},
   "source": [
    "Найдите топ-10 товаров по числу проданных единиц за всё время и постройте барплот. Сколько было продано единиц товара с product_id==56?\n"
   ]
  },
  {
   "cell_type": "code",
   "execution_count": 45,
   "id": "91902209",
   "metadata": {},
   "outputs": [
    {
     "data": {
      "text/html": [
       "<div>\n",
       "<style scoped>\n",
       "    .dataframe tbody tr th:only-of-type {\n",
       "        vertical-align: middle;\n",
       "    }\n",
       "\n",
       "    .dataframe tbody tr th {\n",
       "        vertical-align: top;\n",
       "    }\n",
       "\n",
       "    .dataframe thead th {\n",
       "        text-align: right;\n",
       "    }\n",
       "</style>\n",
       "<table border=\"1\" class=\"dataframe\">\n",
       "  <thead>\n",
       "    <tr style=\"text-align: right;\">\n",
       "      <th></th>\n",
       "      <th>product_id</th>\n",
       "      <th>quantity</th>\n",
       "    </tr>\n",
       "  </thead>\n",
       "  <tbody>\n",
       "    <tr>\n",
       "      <th>22</th>\n",
       "      <td>27</td>\n",
       "      <td>20</td>\n",
       "    </tr>\n",
       "    <tr>\n",
       "      <th>42</th>\n",
       "      <td>56</td>\n",
       "      <td>18</td>\n",
       "    </tr>\n",
       "    <tr>\n",
       "      <th>21</th>\n",
       "      <td>24</td>\n",
       "      <td>15</td>\n",
       "    </tr>\n",
       "    <tr>\n",
       "      <th>51</th>\n",
       "      <td>74</td>\n",
       "      <td>15</td>\n",
       "    </tr>\n",
       "    <tr>\n",
       "      <th>32</th>\n",
       "      <td>41</td>\n",
       "      <td>14</td>\n",
       "    </tr>\n",
       "    <tr>\n",
       "      <th>...</th>\n",
       "      <td>...</td>\n",
       "      <td>...</td>\n",
       "    </tr>\n",
       "    <tr>\n",
       "      <th>52</th>\n",
       "      <td>75</td>\n",
       "      <td>2</td>\n",
       "    </tr>\n",
       "    <tr>\n",
       "      <th>39</th>\n",
       "      <td>52</td>\n",
       "      <td>1</td>\n",
       "    </tr>\n",
       "    <tr>\n",
       "      <th>56</th>\n",
       "      <td>80</td>\n",
       "      <td>1</td>\n",
       "    </tr>\n",
       "    <tr>\n",
       "      <th>43</th>\n",
       "      <td>57</td>\n",
       "      <td>1</td>\n",
       "    </tr>\n",
       "    <tr>\n",
       "      <th>18</th>\n",
       "      <td>21</td>\n",
       "      <td>1</td>\n",
       "    </tr>\n",
       "  </tbody>\n",
       "</table>\n",
       "<p>71 rows × 2 columns</p>\n",
       "</div>"
      ],
      "text/plain": [
       "    product_id  quantity\n",
       "22          27        20\n",
       "42          56        18\n",
       "21          24        15\n",
       "51          74        15\n",
       "32          41        14\n",
       "..         ...       ...\n",
       "52          75         2\n",
       "39          52         1\n",
       "56          80         1\n",
       "43          57         1\n",
       "18          21         1\n",
       "\n",
       "[71 rows x 2 columns]"
      ]
     },
     "execution_count": 45,
     "metadata": {},
     "output_type": "execute_result"
    }
   ],
   "source": [
    "df.groupby('product_id', as_index = False).agg({\"quantity\":'sum'}).sort_values(by=['quantity'], ascending = False)"
   ]
  },
  {
   "cell_type": "code",
   "execution_count": 42,
   "id": "d785ff5e",
   "metadata": {},
   "outputs": [],
   "source": [
    "df_for_barplot = df.groupby('product_id', as_index = False).agg({\"quantity\":'sum'}).sort_values(by=['quantity'], ascending = False)"
   ]
  },
  {
   "cell_type": "code",
   "execution_count": 60,
   "id": "957a67c0",
   "metadata": {},
   "outputs": [
    {
     "data": {
      "text/html": [
       "<div>\n",
       "<style scoped>\n",
       "    .dataframe tbody tr th:only-of-type {\n",
       "        vertical-align: middle;\n",
       "    }\n",
       "\n",
       "    .dataframe tbody tr th {\n",
       "        vertical-align: top;\n",
       "    }\n",
       "\n",
       "    .dataframe thead th {\n",
       "        text-align: right;\n",
       "    }\n",
       "</style>\n",
       "<table border=\"1\" class=\"dataframe\">\n",
       "  <thead>\n",
       "    <tr style=\"text-align: right;\">\n",
       "      <th></th>\n",
       "      <th>product_id</th>\n",
       "      <th>quantity</th>\n",
       "    </tr>\n",
       "  </thead>\n",
       "  <tbody>\n",
       "    <tr>\n",
       "      <th>22</th>\n",
       "      <td>27</td>\n",
       "      <td>20</td>\n",
       "    </tr>\n",
       "    <tr>\n",
       "      <th>42</th>\n",
       "      <td>56</td>\n",
       "      <td>18</td>\n",
       "    </tr>\n",
       "    <tr>\n",
       "      <th>21</th>\n",
       "      <td>24</td>\n",
       "      <td>15</td>\n",
       "    </tr>\n",
       "    <tr>\n",
       "      <th>51</th>\n",
       "      <td>74</td>\n",
       "      <td>15</td>\n",
       "    </tr>\n",
       "    <tr>\n",
       "      <th>32</th>\n",
       "      <td>41</td>\n",
       "      <td>14</td>\n",
       "    </tr>\n",
       "    <tr>\n",
       "      <th>...</th>\n",
       "      <td>...</td>\n",
       "      <td>...</td>\n",
       "    </tr>\n",
       "    <tr>\n",
       "      <th>52</th>\n",
       "      <td>75</td>\n",
       "      <td>2</td>\n",
       "    </tr>\n",
       "    <tr>\n",
       "      <th>39</th>\n",
       "      <td>52</td>\n",
       "      <td>1</td>\n",
       "    </tr>\n",
       "    <tr>\n",
       "      <th>56</th>\n",
       "      <td>80</td>\n",
       "      <td>1</td>\n",
       "    </tr>\n",
       "    <tr>\n",
       "      <th>43</th>\n",
       "      <td>57</td>\n",
       "      <td>1</td>\n",
       "    </tr>\n",
       "    <tr>\n",
       "      <th>18</th>\n",
       "      <td>21</td>\n",
       "      <td>1</td>\n",
       "    </tr>\n",
       "  </tbody>\n",
       "</table>\n",
       "<p>71 rows × 2 columns</p>\n",
       "</div>"
      ],
      "text/plain": [
       "    product_id  quantity\n",
       "22          27        20\n",
       "42          56        18\n",
       "21          24        15\n",
       "51          74        15\n",
       "32          41        14\n",
       "..         ...       ...\n",
       "52          75         2\n",
       "39          52         1\n",
       "56          80         1\n",
       "43          57         1\n",
       "18          21         1\n",
       "\n",
       "[71 rows x 2 columns]"
      ]
     },
     "execution_count": 60,
     "metadata": {},
     "output_type": "execute_result"
    }
   ],
   "source": [
    "df_for_barplot"
   ]
  },
  {
   "cell_type": "code",
   "execution_count": 61,
   "id": "ea8a4913",
   "metadata": {},
   "outputs": [
    {
     "data": {
      "image/png": "[encoded data removed]",
      "text/plain": [
       "<Figure size 1008x576 with 1 Axes>"
      ]
     },
     "metadata": {
      "needs_background": "light"
     },
     "output_type": "display_data"
    }
   ],
   "source": [
    "plt.figure(figsize = (14,8))\n",
    "sns.barplot(data = df_for_barplot.head(10), x = 'product_id', y = 'quantity')\n",
    "sns.despine()  # убрать боковые рамки"
   ]
  },
  {
   "cell_type": "code",
   "execution_count": 66,
   "id": "5292a8a9",
   "metadata": {},
   "outputs": [
    {
     "ename": "NameError",
     "evalue": "name 'loc' is not defined",
     "output_type": "error",
     "traceback": [
      "\u001b[1;31m---------------------------------------------------------------------------\u001b[0m",
      "\u001b[1;31mNameError\u001b[0m                                 Traceback (most recent call last)",
      "Input \u001b[1;32mIn [66]\u001b[0m, in \u001b[0;36m<cell line: 1>\u001b[1;34m()\u001b[0m\n\u001b[1;32m----> 1\u001b[0m \u001b[43mloc\u001b[49m[row_label, column_label]\n\u001b[0;32m      2\u001b[0m iloc[row_position, column_position]\n",
      "\u001b[1;31mNameError\u001b[0m: name 'loc' is not defined"
     ]
    }
   ],
   "source": [
    "loc[row_label, column_label]\n",
    "iloc[row_position, column_position]"
   ]
  },
  {
   "cell_type": "code",
   "execution_count": 110,
   "id": "29d86901",
   "metadata": {},
   "outputs": [
    {
     "data": {
      "text/plain": [
       "18"
      ]
     },
     "execution_count": 110,
     "metadata": {},
     "output_type": "execute_result"
    }
   ],
   "source": [
    "df.groupby('product_id', as_index = True) \\\n",
    "    .agg({\"quantity\":'sum'}) \\\n",
    "    .sort_values(by=['quantity'], ascending = True) \\\n",
    "    .loc[56, 'quantity']"
   ]
  },
  {
   "cell_type": "markdown",
   "id": "62b696bd",
   "metadata": {},
   "source": [
    "Визуализируйте продажи по дням.\n"
   ]
  },
  {
   "cell_type": "code",
   "execution_count": 118,
   "id": "737a90e7",
   "metadata": {},
   "outputs": [
    {
     "data": {
      "text/html": [
       "<div>\n",
       "<style scoped>\n",
       "    .dataframe tbody tr th:only-of-type {\n",
       "        vertical-align: middle;\n",
       "    }\n",
       "\n",
       "    .dataframe tbody tr th {\n",
       "        vertical-align: top;\n",
       "    }\n",
       "\n",
       "    .dataframe thead th {\n",
       "        text-align: right;\n",
       "    }\n",
       "</style>\n",
       "<table border=\"1\" class=\"dataframe\">\n",
       "  <thead>\n",
       "    <tr style=\"text-align: right;\">\n",
       "      <th></th>\n",
       "      <th>date</th>\n",
       "      <th>quantity</th>\n",
       "    </tr>\n",
       "  </thead>\n",
       "  <tbody>\n",
       "    <tr>\n",
       "      <th>0</th>\n",
       "      <td>2020-12-03</td>\n",
       "      <td>60</td>\n",
       "    </tr>\n",
       "    <tr>\n",
       "      <th>1</th>\n",
       "      <td>2020-12-04</td>\n",
       "      <td>113</td>\n",
       "    </tr>\n",
       "    <tr>\n",
       "      <th>2</th>\n",
       "      <td>2020-12-05</td>\n",
       "      <td>61</td>\n",
       "    </tr>\n",
       "    <tr>\n",
       "      <th>3</th>\n",
       "      <td>2020-12-06</td>\n",
       "      <td>15</td>\n",
       "    </tr>\n",
       "    <tr>\n",
       "      <th>4</th>\n",
       "      <td>2020-12-07</td>\n",
       "      <td>94</td>\n",
       "    </tr>\n",
       "    <tr>\n",
       "      <th>5</th>\n",
       "      <td>2020-12-08</td>\n",
       "      <td>68</td>\n",
       "    </tr>\n",
       "    <tr>\n",
       "      <th>6</th>\n",
       "      <td>2020-12-09</td>\n",
       "      <td>69</td>\n",
       "    </tr>\n",
       "  </tbody>\n",
       "</table>\n",
       "</div>"
      ],
      "text/plain": [
       "        date  quantity\n",
       "0 2020-12-03        60\n",
       "1 2020-12-04       113\n",
       "2 2020-12-05        61\n",
       "3 2020-12-06        15\n",
       "4 2020-12-07        94\n",
       "5 2020-12-08        68\n",
       "6 2020-12-09        69"
      ]
     },
     "execution_count": 118,
     "metadata": {},
     "output_type": "execute_result"
    }
   ],
   "source": [
    "df_for_plt = df.groupby('date', as_index = False) \\\n",
    "    .agg({'quantity':'sum'})\n",
    "\n",
    "\n",
    "df_for_plt"
   ]
  },
  {
   "cell_type": "code",
   "execution_count": 119,
   "id": "0b4de801",
   "metadata": {},
   "outputs": [
    {
     "data": {
      "text/plain": [
       "<AxesSubplot:xlabel='date'>"
      ]
     },
     "execution_count": 119,
     "metadata": {},
     "output_type": "execute_result"
    },
    {
     "data": {
      "image/png": "[encoded data removed]",
      "text/plain": [
       "<Figure size 432x288 with 1 Axes>"
      ]
     },
     "metadata": {
      "needs_background": "light"
     },
     "output_type": "display_data"
    }
   ],
   "source": [
    "df.groupby('date', as_index = True) \\\n",
    "    .agg({'quantity':'sum'}).plot(kind = 'bar')   # можно так, но выглядит не очень"
   ]
  },
  {
   "cell_type": "code",
   "execution_count": 120,
   "id": "54f6bbf5",
   "metadata": {},
   "outputs": [
    {
     "data": {
      "text/plain": [
       "<AxesSubplot:xlabel='date', ylabel='quantity'>"
      ]
     },
     "execution_count": 120,
     "metadata": {},
     "output_type": "execute_result"
    },
    {
     "data": {
      "image/png": "[encoded data removed]",
      "text/plain": [
       "<Figure size 432x288 with 1 Axes>"
      ]
     },
     "metadata": {
      "needs_background": "light"
     },
     "output_type": "display_data"
    }
   ],
   "source": [
    "sns.barplot(y = 'quantity', x = 'date', data = df_for_plt) # не читабельно"
   ]
  },
  {
   "cell_type": "code",
   "execution_count": 121,
   "id": "ef444d9a",
   "metadata": {},
   "outputs": [
    {
     "data": {
      "text/html": [
       "<div>\n",
       "<style scoped>\n",
       "    .dataframe tbody tr th:only-of-type {\n",
       "        vertical-align: middle;\n",
       "    }\n",
       "\n",
       "    .dataframe tbody tr th {\n",
       "        vertical-align: top;\n",
       "    }\n",
       "\n",
       "    .dataframe thead th {\n",
       "        text-align: right;\n",
       "    }\n",
       "</style>\n",
       "<table border=\"1\" class=\"dataframe\">\n",
       "  <thead>\n",
       "    <tr style=\"text-align: right;\">\n",
       "      <th></th>\n",
       "      <th>date</th>\n",
       "      <th>quantity</th>\n",
       "    </tr>\n",
       "  </thead>\n",
       "  <tbody>\n",
       "    <tr>\n",
       "      <th>0</th>\n",
       "      <td>3</td>\n",
       "      <td>60</td>\n",
       "    </tr>\n",
       "    <tr>\n",
       "      <th>1</th>\n",
       "      <td>4</td>\n",
       "      <td>113</td>\n",
       "    </tr>\n",
       "    <tr>\n",
       "      <th>2</th>\n",
       "      <td>5</td>\n",
       "      <td>61</td>\n",
       "    </tr>\n",
       "    <tr>\n",
       "      <th>3</th>\n",
       "      <td>6</td>\n",
       "      <td>15</td>\n",
       "    </tr>\n",
       "    <tr>\n",
       "      <th>4</th>\n",
       "      <td>7</td>\n",
       "      <td>94</td>\n",
       "    </tr>\n",
       "    <tr>\n",
       "      <th>5</th>\n",
       "      <td>8</td>\n",
       "      <td>68</td>\n",
       "    </tr>\n",
       "    <tr>\n",
       "      <th>6</th>\n",
       "      <td>9</td>\n",
       "      <td>69</td>\n",
       "    </tr>\n",
       "  </tbody>\n",
       "</table>\n",
       "</div>"
      ],
      "text/plain": [
       "   date  quantity\n",
       "0     3        60\n",
       "1     4       113\n",
       "2     5        61\n",
       "3     6        15\n",
       "4     7        94\n",
       "5     8        68\n",
       "6     9        69"
      ]
     },
     "execution_count": 121,
     "metadata": {},
     "output_type": "execute_result"
    }
   ],
   "source": [
    "df_for_plt['date'] = df_for_plt.date.dt.day\n",
    "df_for_plt"
   ]
  },
  {
   "cell_type": "code",
   "execution_count": 122,
   "id": "6be2f19e",
   "metadata": {},
   "outputs": [
    {
     "data": {
      "text/plain": [
       "<AxesSubplot:xlabel='date', ylabel='quantity'>"
      ]
     },
     "execution_count": 122,
     "metadata": {},
     "output_type": "execute_result"
    },
    {
     "data": {
      "image/png": "[encoded data removed]",
      "text/plain": [
       "<Figure size 432x288 with 1 Axes>"
      ]
     },
     "metadata": {
      "needs_background": "light"
     },
     "output_type": "display_data"
    }
   ],
   "source": [
    "sns.barplot(y = 'quantity', x = 'date', data = df_for_plt)"
   ]
  },
  {
   "cell_type": "markdown",
   "id": "85a9cc35",
   "metadata": {},
   "source": [
    "Сколько пользователей приобрели какой-либо товар повторно (более 1 раза)? Повтором будем считать покупку товара с одинаковым product_id, совершенную в разные дни. "
   ]
  },
  {
   "cell_type": "code",
   "execution_count": 132,
   "id": "a3c07f0c",
   "metadata": {},
   "outputs": [
    {
     "data": {
      "text/html": [
       "<div>\n",
       "<style scoped>\n",
       "    .dataframe tbody tr th:only-of-type {\n",
       "        vertical-align: middle;\n",
       "    }\n",
       "\n",
       "    .dataframe tbody tr th {\n",
       "        vertical-align: top;\n",
       "    }\n",
       "\n",
       "    .dataframe thead th {\n",
       "        text-align: right;\n",
       "    }\n",
       "</style>\n",
       "<table border=\"1\" class=\"dataframe\">\n",
       "  <thead>\n",
       "    <tr style=\"text-align: right;\">\n",
       "      <th></th>\n",
       "      <th>name</th>\n",
       "      <th>product_id</th>\n",
       "      <th>quantity</th>\n",
       "    </tr>\n",
       "  </thead>\n",
       "  <tbody>\n",
       "    <tr>\n",
       "      <th>30</th>\n",
       "      <td>Alexey_Smirnov</td>\n",
       "      <td>55</td>\n",
       "      <td>2</td>\n",
       "    </tr>\n",
       "    <tr>\n",
       "      <th>92</th>\n",
       "      <td>Petr_Fedorov</td>\n",
       "      <td>94</td>\n",
       "      <td>2</td>\n",
       "    </tr>\n",
       "    <tr>\n",
       "      <th>37</th>\n",
       "      <td>Anton_Ivanov</td>\n",
       "      <td>15</td>\n",
       "      <td>2</td>\n",
       "    </tr>\n",
       "  </tbody>\n",
       "</table>\n",
       "</div>"
      ],
      "text/plain": [
       "              name  product_id  quantity\n",
       "30  Alexey_Smirnov          55         2\n",
       "92    Petr_Fedorov          94         2\n",
       "37    Anton_Ivanov          15         2"
      ]
     },
     "execution_count": 132,
     "metadata": {},
     "output_type": "execute_result"
    }
   ],
   "source": [
    "df.groupby(['name', 'product_id'], as_index = False) \\\n",
    "    .agg({'quantity':'count'}) \\\n",
    "    .sort_values(by=['quantity']) \\\n",
    "    .query('quantity > 1')    # тут не учитывается, что в разные дни"
   ]
  },
  {
   "cell_type": "code",
   "execution_count": 135,
   "id": "6c2d6890",
   "metadata": {},
   "outputs": [
    {
     "data": {
      "text/html": [
       "<div>\n",
       "<style scoped>\n",
       "    .dataframe tbody tr th:only-of-type {\n",
       "        vertical-align: middle;\n",
       "    }\n",
       "\n",
       "    .dataframe tbody tr th {\n",
       "        vertical-align: top;\n",
       "    }\n",
       "\n",
       "    .dataframe thead th {\n",
       "        text-align: right;\n",
       "    }\n",
       "</style>\n",
       "<table border=\"1\" class=\"dataframe\">\n",
       "  <thead>\n",
       "    <tr style=\"text-align: right;\">\n",
       "      <th></th>\n",
       "      <th></th>\n",
       "      <th>date</th>\n",
       "    </tr>\n",
       "    <tr>\n",
       "      <th>name</th>\n",
       "      <th>product_id</th>\n",
       "      <th></th>\n",
       "    </tr>\n",
       "  </thead>\n",
       "  <tbody>\n",
       "    <tr>\n",
       "      <th>Anton_Ivanov</th>\n",
       "      <th>15</th>\n",
       "      <td>2</td>\n",
       "    </tr>\n",
       "    <tr>\n",
       "      <th>Petr_Fedorov</th>\n",
       "      <th>94</th>\n",
       "      <td>2</td>\n",
       "    </tr>\n",
       "  </tbody>\n",
       "</table>\n",
       "</div>"
      ],
      "text/plain": [
       "                         date\n",
       "name         product_id      \n",
       "Anton_Ivanov 15             2\n",
       "Petr_Fedorov 94             2"
      ]
     },
     "execution_count": 135,
     "metadata": {},
     "output_type": "execute_result"
    }
   ],
   "source": [
    "df.groupby(['name', 'product_id']) \\\n",
    "   .agg({'date':pd.Series.nunique}) \\\n",
    "    .query('date > 1')"
   ]
  },
  {
   "cell_type": "code",
   "execution_count": null,
   "id": "70276f7d",
   "metadata": {},
   "outputs": [],
   "source": []
  }
 ],
 "metadata": {
  "kernelspec": {
   "display_name": "Python 3 (ipykernel)",
   "language": "python",
   "name": "python3"
  },
  "language_info": {
   "codemirror_mode": {
    "name": "ipython",
    "version": 3
   },
   "file_extension": ".py",
   "mimetype": "text/x-python",
   "name": "python",
   "nbconvert_exporter": "python",
   "pygments_lexer": "ipython3",
   "version": "3.10.4"
  }
 },
 "nbformat": 4,
 "nbformat_minor": 5
}
