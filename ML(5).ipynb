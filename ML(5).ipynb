{
  "nbformat": 4,
  "nbformat_minor": 0,
  "metadata": {
    "colab": {
      "provenance": [],
      "authorship_tag": "ABX9TyMQDQ0Pty+dwey9qokOAt61",
      "include_colab_link": true
    },
    "kernelspec": {
      "name": "python3",
      "display_name": "Python 3"
    },
    "language_info": {
      "name": "python"
    }
  },
  "cells": [
    {
      "cell_type": "markdown",
      "metadata": {
        "id": "view-in-github",
        "colab_type": "text"
      },
      "source": [
        "<a href=\"https://colab.research.google.com/github/Viroslav/Projects/blob/main/ML(5).ipynb\" target=\"_parent\"><img src=\"https://colab.research.google.com/assets/colab-badge.svg\" alt=\"Open In Colab\"/></a>"
      ]
    },
    {
      "cell_type": "code",
      "execution_count": null,
      "metadata": {
        "id": "xCJYXSJweRKP"
      },
      "outputs": [],
      "source": [
        "# Disable warnings in Anaconda\n",
        "import warnings\n",
        "\n",
        "warnings.filterwarnings(\"ignore\")\n",
        "\n",
        "import numpy as np\n",
        "import pandas as pd\n",
        "\n",
        "%matplotlib inline\n",
        "import matplotlib.pyplot as plt\n",
        "import seaborn as sns\n",
        "\n",
        "sns.set()"
      ]
    },
    {
      "cell_type": "code",
      "source": [],
      "metadata": {
        "id": "g4k8A63TODAC"
      },
      "execution_count": null,
      "outputs": []
    },
    {
      "cell_type": "code",
      "source": [
        "def fill_nan(table):\n",
        "    for col in table.columns:\n",
        "        table[col] = table[col].fillna(table[col].median())\n",
        "    return table"
      ],
      "metadata": {
        "id": "rBpS55Ize_pL"
      },
      "execution_count": null,
      "outputs": []
    },
    {
      "cell_type": "code",
      "source": [
        "DATA_PATH = \"https://raw.githubusercontent.com/Yorko/mlcourse.ai/master/data/\""
      ],
      "metadata": {
        "id": "5cE3fP3NfAJ-"
      },
      "execution_count": null,
      "outputs": []
    },
    {
      "cell_type": "code",
      "source": [
        "data = pd.read_csv(DATA_PATH + \"credit_scoring_sample.csv\", sep=\";\")\n",
        "data.head()"
      ],
      "metadata": {
        "colab": {
          "base_uri": "https://localhost:8080/",
          "height": 206
        },
        "id": "I7dyKNlbfAMu",
        "outputId": "2b4ef2ac-29e5-4288-ec83-0a231d9c3a4a"
      },
      "execution_count": null,
      "outputs": [
        {
          "output_type": "execute_result",
          "data": {
            "text/plain": [
              "   SeriousDlqin2yrs  age  NumberOfTime30-59DaysPastDueNotWorse    DebtRatio  \\\n",
              "0                 0   64                                     0     0.249908   \n",
              "1                 0   58                                     0  3870.000000   \n",
              "2                 0   41                                     0     0.456127   \n",
              "3                 0   43                                     0     0.000190   \n",
              "4                 1   49                                     0     0.271820   \n",
              "\n",
              "   NumberOfTimes90DaysLate  NumberOfTime60-89DaysPastDueNotWorse  \\\n",
              "0                        0                                     0   \n",
              "1                        0                                     0   \n",
              "2                        0                                     0   \n",
              "3                        0                                     0   \n",
              "4                        0                                     0   \n",
              "\n",
              "   MonthlyIncome  NumberOfDependents  \n",
              "0         8158.0                 0.0  \n",
              "1            NaN                 0.0  \n",
              "2         6666.0                 0.0  \n",
              "3        10500.0                 2.0  \n",
              "4          400.0                 0.0  "
            ],
            "text/html": [
              "\n",
              "  <div id=\"df-fd8321f2-8ed1-463f-8a4c-fa391024d801\">\n",
              "    <div class=\"colab-df-container\">\n",
              "      <div>\n",
              "<style scoped>\n",
              "    .dataframe tbody tr th:only-of-type {\n",
              "        vertical-align: middle;\n",
              "    }\n",
              "\n",
              "    .dataframe tbody tr th {\n",
              "        vertical-align: top;\n",
              "    }\n",
              "\n",
              "    .dataframe thead th {\n",
              "        text-align: right;\n",
              "    }\n",
              "</style>\n",
              "<table border=\"1\" class=\"dataframe\">\n",
              "  <thead>\n",
              "    <tr style=\"text-align: right;\">\n",
              "      <th></th>\n",
              "      <th>SeriousDlqin2yrs</th>\n",
              "      <th>age</th>\n",
              "      <th>NumberOfTime30-59DaysPastDueNotWorse</th>\n",
              "      <th>DebtRatio</th>\n",
              "      <th>NumberOfTimes90DaysLate</th>\n",
              "      <th>NumberOfTime60-89DaysPastDueNotWorse</th>\n",
              "      <th>MonthlyIncome</th>\n",
              "      <th>NumberOfDependents</th>\n",
              "    </tr>\n",
              "  </thead>\n",
              "  <tbody>\n",
              "    <tr>\n",
              "      <th>0</th>\n",
              "      <td>0</td>\n",
              "      <td>64</td>\n",
              "      <td>0</td>\n",
              "      <td>0.249908</td>\n",
              "      <td>0</td>\n",
              "      <td>0</td>\n",
              "      <td>8158.0</td>\n",
              "      <td>0.0</td>\n",
              "    </tr>\n",
              "    <tr>\n",
              "      <th>1</th>\n",
              "      <td>0</td>\n",
              "      <td>58</td>\n",
              "      <td>0</td>\n",
              "      <td>3870.000000</td>\n",
              "      <td>0</td>\n",
              "      <td>0</td>\n",
              "      <td>NaN</td>\n",
              "      <td>0.0</td>\n",
              "    </tr>\n",
              "    <tr>\n",
              "      <th>2</th>\n",
              "      <td>0</td>\n",
              "      <td>41</td>\n",
              "      <td>0</td>\n",
              "      <td>0.456127</td>\n",
              "      <td>0</td>\n",
              "      <td>0</td>\n",
              "      <td>6666.0</td>\n",
              "      <td>0.0</td>\n",
              "    </tr>\n",
              "    <tr>\n",
              "      <th>3</th>\n",
              "      <td>0</td>\n",
              "      <td>43</td>\n",
              "      <td>0</td>\n",
              "      <td>0.000190</td>\n",
              "      <td>0</td>\n",
              "      <td>0</td>\n",
              "      <td>10500.0</td>\n",
              "      <td>2.0</td>\n",
              "    </tr>\n",
              "    <tr>\n",
              "      <th>4</th>\n",
              "      <td>1</td>\n",
              "      <td>49</td>\n",
              "      <td>0</td>\n",
              "      <td>0.271820</td>\n",
              "      <td>0</td>\n",
              "      <td>0</td>\n",
              "      <td>400.0</td>\n",
              "      <td>0.0</td>\n",
              "    </tr>\n",
              "  </tbody>\n",
              "</table>\n",
              "</div>\n",
              "      <button class=\"colab-df-convert\" onclick=\"convertToInteractive('df-fd8321f2-8ed1-463f-8a4c-fa391024d801')\"\n",
              "              title=\"Convert this dataframe to an interactive table.\"\n",
              "              style=\"display:none;\">\n",
              "        \n",
              "  <svg xmlns=\"http://www.w3.org/2000/svg\" height=\"24px\"viewBox=\"0 0 24 24\"\n",
              "       width=\"24px\">\n",
              "    <path d=\"M0 0h24v24H0V0z\" fill=\"none\"/>\n",
              "    <path d=\"M18.56 5.44l.94 2.06.94-2.06 2.06-.94-2.06-.94-.94-2.06-.94 2.06-2.06.94zm-11 1L8.5 8.5l.94-2.06 2.06-.94-2.06-.94L8.5 2.5l-.94 2.06-2.06.94zm10 10l.94 2.06.94-2.06 2.06-.94-2.06-.94-.94-2.06-.94 2.06-2.06.94z\"/><path d=\"M17.41 7.96l-1.37-1.37c-.4-.4-.92-.59-1.43-.59-.52 0-1.04.2-1.43.59L10.3 9.45l-7.72 7.72c-.78.78-.78 2.05 0 2.83L4 21.41c.39.39.9.59 1.41.59.51 0 1.02-.2 1.41-.59l7.78-7.78 2.81-2.81c.8-.78.8-2.07 0-2.86zM5.41 20L4 18.59l7.72-7.72 1.47 1.35L5.41 20z\"/>\n",
              "  </svg>\n",
              "      </button>\n",
              "      \n",
              "  <style>\n",
              "    .colab-df-container {\n",
              "      display:flex;\n",
              "      flex-wrap:wrap;\n",
              "      gap: 12px;\n",
              "    }\n",
              "\n",
              "    .colab-df-convert {\n",
              "      background-color: #E8F0FE;\n",
              "      border: none;\n",
              "      border-radius: 50%;\n",
              "      cursor: pointer;\n",
              "      display: none;\n",
              "      fill: #1967D2;\n",
              "      height: 32px;\n",
              "      padding: 0 0 0 0;\n",
              "      width: 32px;\n",
              "    }\n",
              "\n",
              "    .colab-df-convert:hover {\n",
              "      background-color: #E2EBFA;\n",
              "      box-shadow: 0px 1px 2px rgba(60, 64, 67, 0.3), 0px 1px 3px 1px rgba(60, 64, 67, 0.15);\n",
              "      fill: #174EA6;\n",
              "    }\n",
              "\n",
              "    [theme=dark] .colab-df-convert {\n",
              "      background-color: #3B4455;\n",
              "      fill: #D2E3FC;\n",
              "    }\n",
              "\n",
              "    [theme=dark] .colab-df-convert:hover {\n",
              "      background-color: #434B5C;\n",
              "      box-shadow: 0px 1px 3px 1px rgba(0, 0, 0, 0.15);\n",
              "      filter: drop-shadow(0px 1px 2px rgba(0, 0, 0, 0.3));\n",
              "      fill: #FFFFFF;\n",
              "    }\n",
              "  </style>\n",
              "\n",
              "      <script>\n",
              "        const buttonEl =\n",
              "          document.querySelector('#df-fd8321f2-8ed1-463f-8a4c-fa391024d801 button.colab-df-convert');\n",
              "        buttonEl.style.display =\n",
              "          google.colab.kernel.accessAllowed ? 'block' : 'none';\n",
              "\n",
              "        async function convertToInteractive(key) {\n",
              "          const element = document.querySelector('#df-fd8321f2-8ed1-463f-8a4c-fa391024d801');\n",
              "          const dataTable =\n",
              "            await google.colab.kernel.invokeFunction('convertToInteractive',\n",
              "                                                     [key], {});\n",
              "          if (!dataTable) return;\n",
              "\n",
              "          const docLinkHtml = 'Like what you see? Visit the ' +\n",
              "            '<a target=\"_blank\" href=https://colab.research.google.com/notebooks/data_table.ipynb>data table notebook</a>'\n",
              "            + ' to learn more about interactive tables.';\n",
              "          element.innerHTML = '';\n",
              "          dataTable['output_type'] = 'display_data';\n",
              "          await google.colab.output.renderOutput(dataTable, element);\n",
              "          const docLink = document.createElement('div');\n",
              "          docLink.innerHTML = docLinkHtml;\n",
              "          element.appendChild(docLink);\n",
              "        }\n",
              "      </script>\n",
              "    </div>\n",
              "  </div>\n",
              "  "
            ]
          },
          "metadata": {},
          "execution_count": 3
        }
      ]
    },
    {
      "cell_type": "code",
      "source": [
        "data.dtypes"
      ],
      "metadata": {
        "colab": {
          "base_uri": "https://localhost:8080/"
        },
        "id": "AVffveiofAPO",
        "outputId": "cec80c21-84c0-4ee0-fcc3-4c946fe1625e"
      },
      "execution_count": null,
      "outputs": [
        {
          "output_type": "execute_result",
          "data": {
            "text/plain": [
              "SeriousDlqin2yrs                          int64\n",
              "age                                       int64\n",
              "NumberOfTime30-59DaysPastDueNotWorse      int64\n",
              "DebtRatio                               float64\n",
              "NumberOfTimes90DaysLate                   int64\n",
              "NumberOfTime60-89DaysPastDueNotWorse      int64\n",
              "MonthlyIncome                           float64\n",
              "NumberOfDependents                      float64\n",
              "dtype: object"
            ]
          },
          "metadata": {},
          "execution_count": 4
        }
      ]
    },
    {
      "cell_type": "code",
      "source": [
        "data.isna().sum()"
      ],
      "metadata": {
        "colab": {
          "base_uri": "https://localhost:8080/"
        },
        "id": "MdrPUV3VfAR2",
        "outputId": "c224daed-247a-427e-adab-8d6a281d49bc"
      },
      "execution_count": null,
      "outputs": [
        {
          "output_type": "execute_result",
          "data": {
            "text/plain": [
              "SeriousDlqin2yrs                           0\n",
              "age                                        0\n",
              "NumberOfTime30-59DaysPastDueNotWorse       0\n",
              "DebtRatio                                  0\n",
              "NumberOfTimes90DaysLate                    0\n",
              "NumberOfTime60-89DaysPastDueNotWorse       0\n",
              "MonthlyIncome                           8643\n",
              "NumberOfDependents                      1117\n",
              "dtype: int64"
            ]
          },
          "metadata": {},
          "execution_count": 5
        }
      ]
    },
    {
      "cell_type": "code",
      "source": [
        "ax = data[\"SeriousDlqin2yrs\"].hist(orientation=\"horizontal\", color=\"red\")\n",
        "ax.set_xlabel(\"number_of_observations\")\n",
        "ax.set_ylabel(\"unique_value\")\n",
        "ax.set_title(\"Target distribution\")\n",
        "\n",
        "print(\"Distribution of the target:\")\n",
        "data[\"SeriousDlqin2yrs\"].value_counts() / data.shape[0]"
      ],
      "metadata": {
        "colab": {
          "base_uri": "https://localhost:8080/",
          "height": 375
        },
        "id": "3icIfccYfAUd",
        "outputId": "4204cbef-d44d-45a1-d820-49b585baf7c3"
      },
      "execution_count": null,
      "outputs": [
        {
          "output_type": "stream",
          "name": "stdout",
          "text": [
            "Distribution of the target:\n"
          ]
        },
        {
          "output_type": "execute_result",
          "data": {
            "text/plain": [
              "0    0.777511\n",
              "1    0.222489\n",
              "Name: SeriousDlqin2yrs, dtype: float64"
            ]
          },
          "metadata": {},
          "execution_count": 6
        },
        {
          "output_type": "display_data",
          "data": {
            "text/plain": [
              "<Figure size 432x288 with 1 Axes>"
            ],
            "image/png": "[encoded data removed]"
          },
          "metadata": {}
        }
      ]
    },
    {
      "cell_type": "code",
      "source": [
        "independent_columns_names = [x for x in data if x != \"SeriousDlqin2yrs\"]\n",
        "independent_columns_names"
      ],
      "metadata": {
        "colab": {
          "base_uri": "https://localhost:8080/"
        },
        "id": "4H4eLbnlfAXG",
        "outputId": "88c8d11d-0892-4119-bf63-ee8fe603fed2"
      },
      "execution_count": null,
      "outputs": [
        {
          "output_type": "execute_result",
          "data": {
            "text/plain": [
              "['age',\n",
              " 'NumberOfTime30-59DaysPastDueNotWorse',\n",
              " 'DebtRatio',\n",
              " 'NumberOfTimes90DaysLate',\n",
              " 'NumberOfTime60-89DaysPastDueNotWorse',\n",
              " 'MonthlyIncome',\n",
              " 'NumberOfDependents']"
            ]
          },
          "metadata": {},
          "execution_count": 7
        }
      ]
    },
    {
      "cell_type": "code",
      "source": [
        "def fill_nan(table):\n",
        "    for col in table.columns:\n",
        "        table[col] = table[col].fillna(table[col].median())\n",
        "    return table"
      ],
      "metadata": {
        "id": "wM-szpLafn-P"
      },
      "execution_count": null,
      "outputs": []
    },
    {
      "cell_type": "code",
      "source": [
        "table = fill_nan(data)"
      ],
      "metadata": {
        "id": "mh67FxIWfAZ3"
      },
      "execution_count": null,
      "outputs": []
    },
    {
      "cell_type": "code",
      "source": [
        "X = table[independent_columns_names]\n",
        "y = table[\"SeriousDlqin2yrs\"]"
      ],
      "metadata": {
        "id": "AogG47bHfAcW"
      },
      "execution_count": null,
      "outputs": []
    },
    {
      "cell_type": "markdown",
      "source": [
        "Question 2. Make an interval estimate of the average age for the customers who delayed repayment at the 90% confidence level. Use the example from the article as reference, if needed. Also, use np.random.seed(0) as before. What is the resulting interval estimate?"
      ],
      "metadata": {
        "id": "f8a_FBrtftM-"
      }
    },
    {
      "cell_type": "code",
      "source": [
        "def get_bootstrap_samples(data, n_samples):\n",
        "    \"\"\"Generate samples using bootstrapping.\"\"\"\n",
        "    indices = np.random.randint(0, len(data), (n_samples, len(data)))\n",
        "    samples = data[indices]\n",
        "    return samples\n",
        "\n",
        "\n",
        "def stat_intervals(stat, alpha):\n",
        "    \"\"\"Make an interval estimate.\"\"\"\n",
        "    boundaries = np.percentile(stat, [100 * alpha / 2.0, 100 * (1 - alpha / 2.0)])\n",
        "    return boundaries\n",
        "\n",
        "\n",
        "# Save the ages of those who let a delay\n",
        "churn = data[data[\"SeriousDlqin2yrs\"] == 1][\"age\"].values\n",
        "\n",
        "# Set the random seed for reproducibility\n",
        "np.random.seed(0)\n",
        "\n",
        "# Generate bootstrap samples and calculate the mean for each sample\n",
        "churn_mean_scores = [np.mean(sample) for sample in get_bootstrap_samples(churn, 1000)]\n",
        "\n",
        "# Print the interval estimate for the sample means\n",
        "print(\"Mean interval\", stat_intervals(churn_mean_scores, 0.1))"
      ],
      "metadata": {
        "colab": {
          "base_uri": "https://localhost:8080/"
        },
        "id": "YSomWAMofAh3",
        "outputId": "1c588db9-36c5-43f8-f147-b3905b02332c"
      },
      "execution_count": null,
      "outputs": [
        {
          "output_type": "stream",
          "name": "stdout",
          "text": [
            "Mean interval [45.71379414 46.12700479]\n"
          ]
        }
      ]
    },
    {
      "cell_type": "markdown",
      "source": [
        "# Logistic regression"
      ],
      "metadata": {
        "id": "rt5eif-igTjG"
      }
    },
    {
      "cell_type": "code",
      "source": [
        "from sklearn.linear_model import LogisticRegression\n",
        "from sklearn.model_selection import GridSearchCV, StratifiedKFold"
      ],
      "metadata": {
        "id": "jBqsCGiifAk2"
      },
      "execution_count": null,
      "outputs": []
    },
    {
      "cell_type": "code",
      "source": [
        "lr = LogisticRegression(random_state=5, class_weight=\"balanced\")"
      ],
      "metadata": {
        "id": "EhxxYtLggWdW"
      },
      "execution_count": null,
      "outputs": []
    },
    {
      "cell_type": "code",
      "source": [
        "parameters = {\"C\": (0.0001, 0.001, 0.01, 0.1, 1, 10)}"
      ],
      "metadata": {
        "id": "y2y4xgSRgWgu"
      },
      "execution_count": null,
      "outputs": []
    },
    {
      "cell_type": "code",
      "source": [
        "skf = StratifiedKFold(n_splits=5, shuffle=True, random_state=5)"
      ],
      "metadata": {
        "id": "bO-YETihgWje"
      },
      "execution_count": null,
      "outputs": []
    },
    {
      "cell_type": "code",
      "source": [
        "best_lr = GridSearchCV(lr, param_grid = parameters, scoring = 'roc_auc', cv = skf, verbose =1, n_jobs = -1)"
      ],
      "metadata": {
        "id": "NzYTBEWhgWme"
      },
      "execution_count": null,
      "outputs": []
    },
    {
      "cell_type": "code",
      "source": [
        "best_lr.fit(X, y)"
      ],
      "metadata": {
        "colab": {
          "base_uri": "https://localhost:8080/"
        },
        "id": "kNZz_HTEgWpV",
        "outputId": "2e221a93-29b4-4c19-87c7-940ae677e60d"
      },
      "execution_count": null,
      "outputs": [
        {
          "output_type": "stream",
          "name": "stdout",
          "text": [
            "Fitting 5 folds for each of 6 candidates, totalling 30 fits\n"
          ]
        },
        {
          "output_type": "execute_result",
          "data": {
            "text/plain": [
              "GridSearchCV(cv=StratifiedKFold(n_splits=5, random_state=5, shuffle=True),\n",
              "             estimator=LogisticRegression(class_weight='balanced',\n",
              "                                          random_state=5),\n",
              "             n_jobs=-1, param_grid={'C': (0.0001, 0.001, 0.01, 0.1, 1, 10)},\n",
              "             scoring='roc_auc', verbose=1)"
            ]
          },
          "metadata": {},
          "execution_count": 26
        }
      ]
    },
    {
      "cell_type": "code",
      "source": [
        "best_lr.best_params_, best_lr.best_score_"
      ],
      "metadata": {
        "colab": {
          "base_uri": "https://localhost:8080/"
        },
        "id": "U0ItlAuqgWsG",
        "outputId": "eedad2a8-6e0d-45e1-f7a2-66b85e1428dd"
      },
      "execution_count": null,
      "outputs": [
        {
          "output_type": "execute_result",
          "data": {
            "text/plain": [
              "({'C': 0.001}, 0.8089120626797153)"
            ]
          },
          "metadata": {},
          "execution_count": 35
        }
      ]
    },
    {
      "cell_type": "code",
      "source": [
        " best_lr.best_estimator_"
      ],
      "metadata": {
        "colab": {
          "base_uri": "https://localhost:8080/"
        },
        "id": "PJyTVzccgWvI",
        "outputId": "28e7cfb1-50f1-42ce-a864-5bb8d13e2d71"
      },
      "execution_count": null,
      "outputs": [
        {
          "output_type": "execute_result",
          "data": {
            "text/plain": [
              "LogisticRegression(C=0.001, class_weight='balanced', random_state=5)"
            ]
          },
          "metadata": {},
          "execution_count": 36
        }
      ]
    },
    {
      "cell_type": "markdown",
      "source": [
        "Question 4. Can we consider the best model stable? The model is stable if the standard deviation on validation is less than 0.5%. Save the ROC AUC value of the best model, it will be useful for the following tasks."
      ],
      "metadata": {
        "id": "mz7pr70Rk3I_"
      }
    },
    {
      "cell_type": "code",
      "source": [
        "best_lr.cv_results_"
      ],
      "metadata": {
        "colab": {
          "base_uri": "https://localhost:8080/"
        },
        "id": "J2k92Rv6gWx-",
        "outputId": "b1ed823d-7750-4c8e-e31e-fef5bed4249a"
      },
      "execution_count": null,
      "outputs": [
        {
          "output_type": "execute_result",
          "data": {
            "text/plain": [
              "{'mean_fit_time': array([0.48956676, 0.39278016, 0.44878016, 0.54215512, 0.60834646,\n",
              "        0.51790543]),\n",
              " 'std_fit_time': array([0.07231617, 0.06413131, 0.13409264, 0.12815941, 0.1436813 ,\n",
              "        0.1289339 ]),\n",
              " 'mean_score_time': array([0.0094615 , 0.00888801, 0.00858436, 0.00872464, 0.00859704,\n",
              "        0.00801301]),\n",
              " 'std_score_time': array([0.00123713, 0.00062183, 0.00010878, 0.00039778, 0.00013851,\n",
              "        0.00113463]),\n",
              " 'param_C': masked_array(data=[0.0001, 0.001, 0.01, 0.1, 1, 10],\n",
              "              mask=[False, False, False, False, False, False],\n",
              "        fill_value='?',\n",
              "             dtype=object),\n",
              " 'params': [{'C': 0.0001},\n",
              "  {'C': 0.001},\n",
              "  {'C': 0.01},\n",
              "  {'C': 0.1},\n",
              "  {'C': 1},\n",
              "  {'C': 10}],\n",
              " 'split0_test_score': array([0.77984662, 0.80917719, 0.80929853, 0.79170083, 0.78384333,\n",
              "        0.79174075]),\n",
              " 'split1_test_score': array([0.78759234, 0.8179555 , 0.79419876, 0.79394974, 0.79514694,\n",
              "        0.80495945]),\n",
              " 'split2_test_score': array([0.78635422, 0.79530418, 0.79821275, 0.79856591, 0.79860049,\n",
              "        0.79860397]),\n",
              " 'split3_test_score': array([0.80209847, 0.80582584, 0.80622402, 0.80626381, 0.80626886,\n",
              "        0.80626929]),\n",
              " 'split4_test_score': array([0.79036279, 0.8162976 , 0.81655349, 0.80100167, 0.79241346,\n",
              "        0.80103427]),\n",
              " 'mean_test_score': array([0.78925089, 0.80891206, 0.80489751, 0.79829639, 0.79525462,\n",
              "        0.80052155]),\n",
              " 'std_test_score': array([0.00729217, 0.00813756, 0.0079516 , 0.00516267, 0.00735948,\n",
              "        0.0051725 ]),\n",
              " 'rank_test_score': array([6, 1, 2, 4, 5, 3], dtype=int32)}"
            ]
          },
          "metadata": {},
          "execution_count": 37
        }
      ]
    },
    {
      "cell_type": "code",
      "source": [
        "best_lr.cv_results_[\"std_test_score\"]*100  #so, the deviation on valid is bigger than 0.5%"
      ],
      "metadata": {
        "colab": {
          "base_uri": "https://localhost:8080/"
        },
        "id": "wAsqmQJbfAne",
        "outputId": "934394cf-cc86-457e-be77-eb0bd45b6d80"
      },
      "execution_count": null,
      "outputs": [
        {
          "output_type": "execute_result",
          "data": {
            "text/plain": [
              "array([0.72921669, 0.81375592, 0.79515992, 0.51626703, 0.73594795,\n",
              "       0.51725023])"
            ]
          },
          "metadata": {},
          "execution_count": 40
        }
      ]
    },
    {
      "cell_type": "markdown",
      "source": [
        "Question 5. Feature importance is defined by the absolute value of its corresponding coefficient. First, you need to normalize all of the feature values so that it will be valid to compare them. What is the most important feature for the best logistic regression model?\n",
        "\n"
      ],
      "metadata": {
        "id": "bA8yNfpElBUO"
      }
    },
    {
      "cell_type": "code",
      "source": [
        "from sklearn.preprocessing import StandardScaler"
      ],
      "metadata": {
        "id": "EUxmfKwVklQ_"
      },
      "execution_count": null,
      "outputs": []
    },
    {
      "cell_type": "code",
      "source": [
        "scaler = StandardScaler()"
      ],
      "metadata": {
        "id": "kamxQHJeklTm"
      },
      "execution_count": null,
      "outputs": []
    },
    {
      "cell_type": "code",
      "source": [
        "scaler = scaler.fit(X)"
      ],
      "metadata": {
        "id": "9ZVjrScMoZCm"
      },
      "execution_count": null,
      "outputs": []
    },
    {
      "cell_type": "code",
      "source": [
        "scaler.fit_transform(X)"
      ],
      "metadata": {
        "colab": {
          "base_uri": "https://localhost:8080/"
        },
        "id": "qH7cDunQlUII",
        "outputId": "8dc40bee-5d15-4a4d-fb7c-85fcea4aca58"
      },
      "execution_count": null,
      "outputs": [
        {
          "output_type": "execute_result",
          "data": {
            "text/plain": [
              "array([[ 0.87289113, -0.12143243, -0.14257696, ..., -0.08220789,\n",
              "         0.17167558, -0.68545299],\n",
              "       [ 0.46337311, -0.12143243,  1.4256924 , ..., -0.08220789,\n",
              "        -0.09140726, -0.68545299],\n",
              "       [-0.69692794, -0.12143243, -0.14249339, ..., -0.08220789,\n",
              "         0.04048588, -0.68545299],\n",
              "       ...,\n",
              "       [-0.90168695, -0.12143243, -0.1424854 , ..., -0.08220789,\n",
              "        -0.28186095,  1.09481664],\n",
              "       [-0.28740992,  0.04026338, -0.14248161, ..., -0.08220789,\n",
              "         0.48487781,  3.76522109],\n",
              "       [-0.42391593,  0.20195918, -0.14235282, ..., -0.08220789,\n",
              "         0.25626305,  1.09481664]])"
            ]
          },
          "metadata": {},
          "execution_count": 77
        }
      ]
    },
    {
      "cell_type": "code",
      "source": [
        "X_scaled = scaler.transform(X)\n",
        "X_scaled"
      ],
      "metadata": {
        "colab": {
          "base_uri": "https://localhost:8080/"
        },
        "id": "bf2Y_J3alUK3",
        "outputId": "7835ad12-4017-4822-dbb6-8e107444abe9"
      },
      "execution_count": null,
      "outputs": [
        {
          "output_type": "execute_result",
          "data": {
            "text/plain": [
              "array([[ 0.87289113, -0.12143243, -0.14257696, ..., -0.08220789,\n",
              "         0.17167558, -0.68545299],\n",
              "       [ 0.46337311, -0.12143243,  1.4256924 , ..., -0.08220789,\n",
              "        -0.09140726, -0.68545299],\n",
              "       [-0.69692794, -0.12143243, -0.14249339, ..., -0.08220789,\n",
              "         0.04048588, -0.68545299],\n",
              "       ...,\n",
              "       [-0.90168695, -0.12143243, -0.1424854 , ..., -0.08220789,\n",
              "        -0.28186095,  1.09481664],\n",
              "       [-0.28740992,  0.04026338, -0.14248161, ..., -0.08220789,\n",
              "         0.48487781,  3.76522109],\n",
              "       [-0.42391593,  0.20195918, -0.14235282, ..., -0.08220789,\n",
              "         0.25626305,  1.09481664]])"
            ]
          },
          "metadata": {},
          "execution_count": 79
        }
      ]
    },
    {
      "cell_type": "code",
      "source": [
        "lr = LogisticRegression(random_state=5, class_weight=\"balanced\", C = 0.001)"
      ],
      "metadata": {
        "id": "1Kzk3FtplUN4"
      },
      "execution_count": null,
      "outputs": []
    },
    {
      "cell_type": "code",
      "source": [
        "lr.fit(X_scaled, y)"
      ],
      "metadata": {
        "colab": {
          "base_uri": "https://localhost:8080/"
        },
        "id": "q9xVNzuqlUQ3",
        "outputId": "f98e75f5-c414-4160-f88a-ce691f2874a2"
      },
      "execution_count": null,
      "outputs": [
        {
          "output_type": "execute_result",
          "data": {
            "text/plain": [
              "LogisticRegression(C=0.001, class_weight='balanced', random_state=5)"
            ]
          },
          "metadata": {},
          "execution_count": 102
        }
      ]
    },
    {
      "cell_type": "code",
      "source": [
        "lr.coef_"
      ],
      "metadata": {
        "colab": {
          "base_uri": "https://localhost:8080/"
        },
        "id": "nsLB1RbcklWo",
        "outputId": "d3954e9b-f24d-48f5-faa1-aa66573ed69d"
      },
      "execution_count": null,
      "outputs": [
        {
          "output_type": "execute_result",
          "data": {
            "text/plain": [
              "array([[-0.41670229,  0.72342698, -0.02409605,  0.51678764,  0.19355764,\n",
              "        -0.16314632,  0.1014432 ]])"
            ]
          },
          "metadata": {},
          "execution_count": 103
        }
      ]
    },
    {
      "cell_type": "code",
      "source": [
        "feat_imp = pd.DataFrame({'feature_imp': lr.coef_.flatten()}, index = X.columns).sort_values(by='feature_imp', ascending = False)\n",
        "feat_imp"
      ],
      "metadata": {
        "colab": {
          "base_uri": "https://localhost:8080/",
          "height": 269
        },
        "id": "FQ-CAnb5mvsX",
        "outputId": "85a884e8-6464-4904-d40f-b3c8b63444be"
      },
      "execution_count": null,
      "outputs": [
        {
          "output_type": "execute_result",
          "data": {
            "text/plain": [
              "                                      feature_imp\n",
              "NumberOfTime30-59DaysPastDueNotWorse     0.723427\n",
              "NumberOfTimes90DaysLate                  0.516788\n",
              "NumberOfTime60-89DaysPastDueNotWorse     0.193558\n",
              "NumberOfDependents                       0.101443\n",
              "DebtRatio                               -0.024096\n",
              "MonthlyIncome                           -0.163146\n",
              "age                                     -0.416702"
            ],
            "text/html": [
              "\n",
              "  <div id=\"df-f992bd91-891c-4657-818f-43cb679f3071\">\n",
              "    <div class=\"colab-df-container\">\n",
              "      <div>\n",
              "<style scoped>\n",
              "    .dataframe tbody tr th:only-of-type {\n",
              "        vertical-align: middle;\n",
              "    }\n",
              "\n",
              "    .dataframe tbody tr th {\n",
              "        vertical-align: top;\n",
              "    }\n",
              "\n",
              "    .dataframe thead th {\n",
              "        text-align: right;\n",
              "    }\n",
              "</style>\n",
              "<table border=\"1\" class=\"dataframe\">\n",
              "  <thead>\n",
              "    <tr style=\"text-align: right;\">\n",
              "      <th></th>\n",
              "      <th>feature_imp</th>\n",
              "    </tr>\n",
              "  </thead>\n",
              "  <tbody>\n",
              "    <tr>\n",
              "      <th>NumberOfTime30-59DaysPastDueNotWorse</th>\n",
              "      <td>0.723427</td>\n",
              "    </tr>\n",
              "    <tr>\n",
              "      <th>NumberOfTimes90DaysLate</th>\n",
              "      <td>0.516788</td>\n",
              "    </tr>\n",
              "    <tr>\n",
              "      <th>NumberOfTime60-89DaysPastDueNotWorse</th>\n",
              "      <td>0.193558</td>\n",
              "    </tr>\n",
              "    <tr>\n",
              "      <th>NumberOfDependents</th>\n",
              "      <td>0.101443</td>\n",
              "    </tr>\n",
              "    <tr>\n",
              "      <th>DebtRatio</th>\n",
              "      <td>-0.024096</td>\n",
              "    </tr>\n",
              "    <tr>\n",
              "      <th>MonthlyIncome</th>\n",
              "      <td>-0.163146</td>\n",
              "    </tr>\n",
              "    <tr>\n",
              "      <th>age</th>\n",
              "      <td>-0.416702</td>\n",
              "    </tr>\n",
              "  </tbody>\n",
              "</table>\n",
              "</div>\n",
              "      <button class=\"colab-df-convert\" onclick=\"convertToInteractive('df-f992bd91-891c-4657-818f-43cb679f3071')\"\n",
              "              title=\"Convert this dataframe to an interactive table.\"\n",
              "              style=\"display:none;\">\n",
              "        \n",
              "  <svg xmlns=\"http://www.w3.org/2000/svg\" height=\"24px\"viewBox=\"0 0 24 24\"\n",
              "       width=\"24px\">\n",
              "    <path d=\"M0 0h24v24H0V0z\" fill=\"none\"/>\n",
              "    <path d=\"M18.56 5.44l.94 2.06.94-2.06 2.06-.94-2.06-.94-.94-2.06-.94 2.06-2.06.94zm-11 1L8.5 8.5l.94-2.06 2.06-.94-2.06-.94L8.5 2.5l-.94 2.06-2.06.94zm10 10l.94 2.06.94-2.06 2.06-.94-2.06-.94-.94-2.06-.94 2.06-2.06.94z\"/><path d=\"M17.41 7.96l-1.37-1.37c-.4-.4-.92-.59-1.43-.59-.52 0-1.04.2-1.43.59L10.3 9.45l-7.72 7.72c-.78.78-.78 2.05 0 2.83L4 21.41c.39.39.9.59 1.41.59.51 0 1.02-.2 1.41-.59l7.78-7.78 2.81-2.81c.8-.78.8-2.07 0-2.86zM5.41 20L4 18.59l7.72-7.72 1.47 1.35L5.41 20z\"/>\n",
              "  </svg>\n",
              "      </button>\n",
              "      \n",
              "  <style>\n",
              "    .colab-df-container {\n",
              "      display:flex;\n",
              "      flex-wrap:wrap;\n",
              "      gap: 12px;\n",
              "    }\n",
              "\n",
              "    .colab-df-convert {\n",
              "      background-color: #E8F0FE;\n",
              "      border: none;\n",
              "      border-radius: 50%;\n",
              "      cursor: pointer;\n",
              "      display: none;\n",
              "      fill: #1967D2;\n",
              "      height: 32px;\n",
              "      padding: 0 0 0 0;\n",
              "      width: 32px;\n",
              "    }\n",
              "\n",
              "    .colab-df-convert:hover {\n",
              "      background-color: #E2EBFA;\n",
              "      box-shadow: 0px 1px 2px rgba(60, 64, 67, 0.3), 0px 1px 3px 1px rgba(60, 64, 67, 0.15);\n",
              "      fill: #174EA6;\n",
              "    }\n",
              "\n",
              "    [theme=dark] .colab-df-convert {\n",
              "      background-color: #3B4455;\n",
              "      fill: #D2E3FC;\n",
              "    }\n",
              "\n",
              "    [theme=dark] .colab-df-convert:hover {\n",
              "      background-color: #434B5C;\n",
              "      box-shadow: 0px 1px 3px 1px rgba(0, 0, 0, 0.15);\n",
              "      filter: drop-shadow(0px 1px 2px rgba(0, 0, 0, 0.3));\n",
              "      fill: #FFFFFF;\n",
              "    }\n",
              "  </style>\n",
              "\n",
              "      <script>\n",
              "        const buttonEl =\n",
              "          document.querySelector('#df-f992bd91-891c-4657-818f-43cb679f3071 button.colab-df-convert');\n",
              "        buttonEl.style.display =\n",
              "          google.colab.kernel.accessAllowed ? 'block' : 'none';\n",
              "\n",
              "        async function convertToInteractive(key) {\n",
              "          const element = document.querySelector('#df-f992bd91-891c-4657-818f-43cb679f3071');\n",
              "          const dataTable =\n",
              "            await google.colab.kernel.invokeFunction('convertToInteractive',\n",
              "                                                     [key], {});\n",
              "          if (!dataTable) return;\n",
              "\n",
              "          const docLinkHtml = 'Like what you see? Visit the ' +\n",
              "            '<a target=\"_blank\" href=https://colab.research.google.com/notebooks/data_table.ipynb>data table notebook</a>'\n",
              "            + ' to learn more about interactive tables.';\n",
              "          element.innerHTML = '';\n",
              "          dataTable['output_type'] = 'display_data';\n",
              "          await google.colab.output.renderOutput(dataTable, element);\n",
              "          const docLink = document.createElement('div');\n",
              "          docLink.innerHTML = docLinkHtml;\n",
              "          element.appendChild(docLink);\n",
              "        }\n",
              "      </script>\n",
              "    </div>\n",
              "  </div>\n",
              "  "
            ]
          },
          "metadata": {},
          "execution_count": 104
        }
      ]
    },
    {
      "cell_type": "markdown",
      "source": [
        "Question 6. Calculate how much DebtRatio affects the prediction using the softmax function. What is its value?"
      ],
      "metadata": {
        "id": "K7vGWG0bn0Af"
      }
    },
    {
      "cell_type": "code",
      "source": [
        "feat_imp.loc['DebtRatio']['feature_imp']"
      ],
      "metadata": {
        "colab": {
          "base_uri": "https://localhost:8080/"
        },
        "id": "efZOCRKQmvu3",
        "outputId": "af0ecadf-3616-4fa9-b9be-c9e24f3ea6b2"
      },
      "execution_count": null,
      "outputs": [
        {
          "output_type": "execute_result",
          "data": {
            "text/plain": [
              "-0.02409605224751083"
            ]
          },
          "metadata": {},
          "execution_count": 105
        }
      ]
    },
    {
      "cell_type": "code",
      "source": [
        "print((np.exp(lr.coef_[0]) / np.sum(np.exp(lr.coef_[0])))[2])"
      ],
      "metadata": {
        "colab": {
          "base_uri": "https://localhost:8080/"
        },
        "id": "FEJ4pqP6mvz3",
        "outputId": "24e8449c-47ff-4767-c61e-db73ff08ee9a"
      },
      "execution_count": null,
      "outputs": [
        {
          "output_type": "stream",
          "name": "stdout",
          "text": [
            "0.11426375283065268\n"
          ]
        }
      ]
    },
    {
      "cell_type": "code",
      "source": [
        "lr.coef_[0][2]"
      ],
      "metadata": {
        "colab": {
          "base_uri": "https://localhost:8080/"
        },
        "id": "iKoziHG7qSUn",
        "outputId": "73b830da-7955-4e8d-bdbe-fe37bbe6914a"
      },
      "execution_count": null,
      "outputs": [
        {
          "output_type": "execute_result",
          "data": {
            "text/plain": [
              "-0.02409605224751083"
            ]
          },
          "metadata": {},
          "execution_count": 110
        }
      ]
    },
    {
      "cell_type": "code",
      "source": [
        "(np.exp(lr.coef_[0]))"
      ],
      "metadata": {
        "colab": {
          "base_uri": "https://localhost:8080/"
        },
        "id": "h6LPzesbo9tj",
        "outputId": "54103b37-a3d6-4a47-f3a1-dc667cd96e5a"
      },
      "execution_count": null,
      "outputs": [
        {
          "output_type": "execute_result",
          "data": {
            "text/plain": [
              "array([0.65921714, 2.06148579, 0.97619194, 1.67663304, 1.21355933,\n",
              "       0.84946689, 1.10676705])"
            ]
          },
          "metadata": {},
          "execution_count": 111
        }
      ]
    },
    {
      "cell_type": "code",
      "source": [
        "np.sum(np.exp(lr.coef_[0]))"
      ],
      "metadata": {
        "colab": {
          "base_uri": "https://localhost:8080/"
        },
        "id": "y4CztErTpDzN",
        "outputId": "7c7c4e97-e692-46d6-d41f-11ee6aa14fa4"
      },
      "execution_count": null,
      "outputs": [
        {
          "output_type": "execute_result",
          "data": {
            "text/plain": [
              "8.543321181403357"
            ]
          },
          "metadata": {},
          "execution_count": 112
        }
      ]
    },
    {
      "cell_type": "code",
      "source": [
        "(np.exp(lr.coef_[0])) / np.sum(np.exp(lr.coef_[0]))"
      ],
      "metadata": {
        "colab": {
          "base_uri": "https://localhost:8080/"
        },
        "id": "RYXntsxGpVAu",
        "outputId": "1936eeb8-dcdf-4979-d41d-18481ad3d288"
      },
      "execution_count": null,
      "outputs": [
        {
          "output_type": "execute_result",
          "data": {
            "text/plain": [
              "array([0.0771617 , 0.24129794, 0.11426375, 0.19625073, 0.14204772,\n",
              "       0.09943052, 0.12954763])"
            ]
          },
          "metadata": {},
          "execution_count": 113
        }
      ]
    },
    {
      "cell_type": "code",
      "source": [
        "((np.exp(lr.coef_[0])) / np.sum(np.exp(lr.coef_[0])))[2]"
      ],
      "metadata": {
        "colab": {
          "base_uri": "https://localhost:8080/"
        },
        "id": "iK56N4uip4gR",
        "outputId": "245e2370-f6c8-4c59-81df-6f5cabc021a9"
      },
      "execution_count": null,
      "outputs": [
        {
          "output_type": "execute_result",
          "data": {
            "text/plain": [
              "0.11426375283065268"
            ]
          },
          "metadata": {},
          "execution_count": 116
        }
      ]
    },
    {
      "cell_type": "markdown",
      "source": [
        "Question 7. Let’s see how we can interpret the impact of our features. For this, recalculate the logistic regression with absolute values, that is without scaling. Next, modify the customer’s age by adding 20 years, keeping the other features unchanged. How many times will the chance that the customer will not repay their debt increase? You can find an example of the theoretical calculation here.\n",
        "\n"
      ],
      "metadata": {
        "id": "N7kM-enkqmXY"
      }
    },
    {
      "cell_type": "code",
      "source": [
        "lr = LogisticRegression(random_state=5, class_weight=\"balanced\", C = 0.001)"
      ],
      "metadata": {
        "id": "x3qVSWSRqZSZ"
      },
      "execution_count": null,
      "outputs": []
    },
    {
      "cell_type": "code",
      "source": [
        "lr.fit(X, y)"
      ],
      "metadata": {
        "colab": {
          "base_uri": "https://localhost:8080/"
        },
        "id": "Dw3cY67EqjLm",
        "outputId": "0cbcb675-edf5-44ab-c232-b7bafa16bd73"
      },
      "execution_count": null,
      "outputs": [
        {
          "output_type": "execute_result",
          "data": {
            "text/plain": [
              "LogisticRegression(C=0.001, class_weight='balanced', random_state=5)"
            ]
          },
          "metadata": {},
          "execution_count": 118
        }
      ]
    },
    {
      "cell_type": "code",
      "source": [
        "feat_imp = pd.DataFrame({'feature_imp': lr.coef_.flatten()}, index = X.columns).sort_values(by='feature_imp', ascending = False)\n",
        "feat_imp"
      ],
      "metadata": {
        "colab": {
          "base_uri": "https://localhost:8080/",
          "height": 269
        },
        "id": "rHuHgzUmqjOX",
        "outputId": "b975ebeb-52c9-4f12-ae1b-b64115f5c2b2"
      },
      "execution_count": null,
      "outputs": [
        {
          "output_type": "execute_result",
          "data": {
            "text/plain": [
              "                                      feature_imp\n",
              "NumberOfTime30-59DaysPastDueNotWorse     0.446832\n",
              "NumberOfTimes90DaysLate                  0.390381\n",
              "NumberOfTime60-89DaysPastDueNotWorse     0.216038\n",
              "NumberOfDependents                       0.191726\n",
              "DebtRatio                               -0.000006\n",
              "MonthlyIncome                           -0.000011\n",
              "age                                     -0.013656"
            ],
            "text/html": [
              "\n",
              "  <div id=\"df-6e518630-1c13-4164-958a-e91b0f0e07ba\">\n",
              "    <div class=\"colab-df-container\">\n",
              "      <div>\n",
              "<style scoped>\n",
              "    .dataframe tbody tr th:only-of-type {\n",
              "        vertical-align: middle;\n",
              "    }\n",
              "\n",
              "    .dataframe tbody tr th {\n",
              "        vertical-align: top;\n",
              "    }\n",
              "\n",
              "    .dataframe thead th {\n",
              "        text-align: right;\n",
              "    }\n",
              "</style>\n",
              "<table border=\"1\" class=\"dataframe\">\n",
              "  <thead>\n",
              "    <tr style=\"text-align: right;\">\n",
              "      <th></th>\n",
              "      <th>feature_imp</th>\n",
              "    </tr>\n",
              "  </thead>\n",
              "  <tbody>\n",
              "    <tr>\n",
              "      <th>NumberOfTime30-59DaysPastDueNotWorse</th>\n",
              "      <td>0.446832</td>\n",
              "    </tr>\n",
              "    <tr>\n",
              "      <th>NumberOfTimes90DaysLate</th>\n",
              "      <td>0.390381</td>\n",
              "    </tr>\n",
              "    <tr>\n",
              "      <th>NumberOfTime60-89DaysPastDueNotWorse</th>\n",
              "      <td>0.216038</td>\n",
              "    </tr>\n",
              "    <tr>\n",
              "      <th>NumberOfDependents</th>\n",
              "      <td>0.191726</td>\n",
              "    </tr>\n",
              "    <tr>\n",
              "      <th>DebtRatio</th>\n",
              "      <td>-0.000006</td>\n",
              "    </tr>\n",
              "    <tr>\n",
              "      <th>MonthlyIncome</th>\n",
              "      <td>-0.000011</td>\n",
              "    </tr>\n",
              "    <tr>\n",
              "      <th>age</th>\n",
              "      <td>-0.013656</td>\n",
              "    </tr>\n",
              "  </tbody>\n",
              "</table>\n",
              "</div>\n",
              "      <button class=\"colab-df-convert\" onclick=\"convertToInteractive('df-6e518630-1c13-4164-958a-e91b0f0e07ba')\"\n",
              "              title=\"Convert this dataframe to an interactive table.\"\n",
              "              style=\"display:none;\">\n",
              "        \n",
              "  <svg xmlns=\"http://www.w3.org/2000/svg\" height=\"24px\"viewBox=\"0 0 24 24\"\n",
              "       width=\"24px\">\n",
              "    <path d=\"M0 0h24v24H0V0z\" fill=\"none\"/>\n",
              "    <path d=\"M18.56 5.44l.94 2.06.94-2.06 2.06-.94-2.06-.94-.94-2.06-.94 2.06-2.06.94zm-11 1L8.5 8.5l.94-2.06 2.06-.94-2.06-.94L8.5 2.5l-.94 2.06-2.06.94zm10 10l.94 2.06.94-2.06 2.06-.94-2.06-.94-.94-2.06-.94 2.06-2.06.94z\"/><path d=\"M17.41 7.96l-1.37-1.37c-.4-.4-.92-.59-1.43-.59-.52 0-1.04.2-1.43.59L10.3 9.45l-7.72 7.72c-.78.78-.78 2.05 0 2.83L4 21.41c.39.39.9.59 1.41.59.51 0 1.02-.2 1.41-.59l7.78-7.78 2.81-2.81c.8-.78.8-2.07 0-2.86zM5.41 20L4 18.59l7.72-7.72 1.47 1.35L5.41 20z\"/>\n",
              "  </svg>\n",
              "      </button>\n",
              "      \n",
              "  <style>\n",
              "    .colab-df-container {\n",
              "      display:flex;\n",
              "      flex-wrap:wrap;\n",
              "      gap: 12px;\n",
              "    }\n",
              "\n",
              "    .colab-df-convert {\n",
              "      background-color: #E8F0FE;\n",
              "      border: none;\n",
              "      border-radius: 50%;\n",
              "      cursor: pointer;\n",
              "      display: none;\n",
              "      fill: #1967D2;\n",
              "      height: 32px;\n",
              "      padding: 0 0 0 0;\n",
              "      width: 32px;\n",
              "    }\n",
              "\n",
              "    .colab-df-convert:hover {\n",
              "      background-color: #E2EBFA;\n",
              "      box-shadow: 0px 1px 2px rgba(60, 64, 67, 0.3), 0px 1px 3px 1px rgba(60, 64, 67, 0.15);\n",
              "      fill: #174EA6;\n",
              "    }\n",
              "\n",
              "    [theme=dark] .colab-df-convert {\n",
              "      background-color: #3B4455;\n",
              "      fill: #D2E3FC;\n",
              "    }\n",
              "\n",
              "    [theme=dark] .colab-df-convert:hover {\n",
              "      background-color: #434B5C;\n",
              "      box-shadow: 0px 1px 3px 1px rgba(0, 0, 0, 0.15);\n",
              "      filter: drop-shadow(0px 1px 2px rgba(0, 0, 0, 0.3));\n",
              "      fill: #FFFFFF;\n",
              "    }\n",
              "  </style>\n",
              "\n",
              "      <script>\n",
              "        const buttonEl =\n",
              "          document.querySelector('#df-6e518630-1c13-4164-958a-e91b0f0e07ba button.colab-df-convert');\n",
              "        buttonEl.style.display =\n",
              "          google.colab.kernel.accessAllowed ? 'block' : 'none';\n",
              "\n",
              "        async function convertToInteractive(key) {\n",
              "          const element = document.querySelector('#df-6e518630-1c13-4164-958a-e91b0f0e07ba');\n",
              "          const dataTable =\n",
              "            await google.colab.kernel.invokeFunction('convertToInteractive',\n",
              "                                                     [key], {});\n",
              "          if (!dataTable) return;\n",
              "\n",
              "          const docLinkHtml = 'Like what you see? Visit the ' +\n",
              "            '<a target=\"_blank\" href=https://colab.research.google.com/notebooks/data_table.ipynb>data table notebook</a>'\n",
              "            + ' to learn more about interactive tables.';\n",
              "          element.innerHTML = '';\n",
              "          dataTable['output_type'] = 'display_data';\n",
              "          await google.colab.output.renderOutput(dataTable, element);\n",
              "          const docLink = document.createElement('div');\n",
              "          docLink.innerHTML = docLinkHtml;\n",
              "          element.appendChild(docLink);\n",
              "        }\n",
              "      </script>\n",
              "    </div>\n",
              "  </div>\n",
              "  "
            ]
          },
          "metadata": {},
          "execution_count": 120
        }
      ]
    },
    {
      "cell_type": "code",
      "source": [
        "np.exp(lr.coef_[0][0] * 20)"
      ],
      "metadata": {
        "colab": {
          "base_uri": "https://localhost:8080/"
        },
        "id": "voRkTbwbqjQ-",
        "outputId": "2ac0c843-9ede-4c61-c0fe-f05bbe2a982a"
      },
      "execution_count": null,
      "outputs": [
        {
          "output_type": "execute_result",
          "data": {
            "text/plain": [
              "0.7610086991667803"
            ]
          },
          "metadata": {},
          "execution_count": 121
        }
      ]
    },
    {
      "cell_type": "markdown",
      "source": [
        "![photo_2022-09-01_18-31-30.jpg](data:image/jpeg;base64,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)"
      ],
      "metadata": {
        "id": "aamtrTEMreif"
      }
    },
    {
      "cell_type": "markdown",
      "source": [
        "## Random Forest"
      ],
      "metadata": {
        "id": "BVTna2Vqr9Av"
      }
    },
    {
      "cell_type": "code",
      "source": [
        "from sklearn.ensemble import RandomForestClassifier"
      ],
      "metadata": {
        "id": "5KXsVpctqjT3"
      },
      "execution_count": null,
      "outputs": []
    },
    {
      "cell_type": "code",
      "source": [
        "rf = RandomForestClassifier(\n",
        "    n_estimators=100, n_jobs=-1, random_state=42, class_weight=\"balanced\"\n",
        ")"
      ],
      "metadata": {
        "id": "Klhi-wDlqjWo"
      },
      "execution_count": null,
      "outputs": []
    },
    {
      "cell_type": "code",
      "source": [
        "parameters = {\n",
        "    \"max_features\": [1, 2, 4],\n",
        "    \"min_samples_leaf\": [3, 5, 7, 9],\n",
        "    \"max_depth\": [5, 10, 15],\n",
        "}"
      ],
      "metadata": {
        "id": "gKFDS2ttqjZg"
      },
      "execution_count": null,
      "outputs": []
    },
    {
      "cell_type": "code",
      "source": [
        "%%time\n",
        "rf_grid_search = GridSearchCV(\n",
        "    rf, parameters, n_jobs=-1, scoring=\"roc_auc\", cv=skf, verbose=True\n",
        ")\n",
        "rf_grid_search = rf_grid_search.fit(X, y)\n",
        "print(rf_grid_search.best_score_ - best_lr.best_score_)"
      ],
      "metadata": {
        "colab": {
          "base_uri": "https://localhost:8080/"
        },
        "id": "LpcBDQsvsBh_",
        "outputId": "7444ca1d-3d08-44f3-9533-f4d562fe5ca9"
      },
      "execution_count": null,
      "outputs": [
        {
          "output_type": "stream",
          "name": "stdout",
          "text": [
            "Fitting 5 folds for each of 36 candidates, totalling 180 fits\n",
            "0.04782313714144015\n",
            "CPU times: user 8.62 s, sys: 536 ms, total: 9.15 s\n",
            "Wall time: 7min 44s\n"
          ]
        }
      ]
    },
    {
      "cell_type": "code",
      "source": [
        "independent_columns_names[\n",
        "    np.argmin(rf_grid_search.best_estimator_.feature_importances_)\n",
        "]"
      ],
      "metadata": {
        "colab": {
          "base_uri": "https://localhost:8080/",
          "height": 36
        },
        "id": "Np-MQCjjsw7H",
        "outputId": "763d295b-9d23-4203-d186-f32818146361"
      },
      "execution_count": null,
      "outputs": [
        {
          "output_type": "execute_result",
          "data": {
            "text/plain": [
              "'NumberOfDependents'"
            ],
            "application/vnd.google.colaboratory.intrinsic+json": {
              "type": "string"
            }
          },
          "metadata": {},
          "execution_count": 127
        }
      ]
    },
    {
      "cell_type": "code",
      "source": [
        "pd.DataFrame(\n",
        "    {\n",
        "        \"feat\": independent_columns_names,\n",
        "        \"coef\": rf_grid_search.best_estimator_.feature_importances_,\n",
        "    }\n",
        ").sort_values(by=\"coef\", ascending=False)"
      ],
      "metadata": {
        "colab": {
          "base_uri": "https://localhost:8080/",
          "height": 269
        },
        "id": "iAcdIDdUsw9u",
        "outputId": "a059ce3d-2233-480e-ef73-ec2b30d47ffa"
      },
      "execution_count": null,
      "outputs": [
        {
          "output_type": "execute_result",
          "data": {
            "text/plain": [
              "                                   feat      coef\n",
              "1  NumberOfTime30-59DaysPastDueNotWorse  0.300290\n",
              "3               NumberOfTimes90DaysLate  0.278749\n",
              "4  NumberOfTime60-89DaysPastDueNotWorse  0.156534\n",
              "0                                   age  0.115860\n",
              "2                             DebtRatio  0.076082\n",
              "5                         MonthlyIncome  0.057994\n",
              "6                    NumberOfDependents  0.014491"
            ],
            "text/html": [
              "\n",
              "  <div id=\"df-e40cd6ca-546f-42b9-991c-087b90e6eb72\">\n",
              "    <div class=\"colab-df-container\">\n",
              "      <div>\n",
              "<style scoped>\n",
              "    .dataframe tbody tr th:only-of-type {\n",
              "        vertical-align: middle;\n",
              "    }\n",
              "\n",
              "    .dataframe tbody tr th {\n",
              "        vertical-align: top;\n",
              "    }\n",
              "\n",
              "    .dataframe thead th {\n",
              "        text-align: right;\n",
              "    }\n",
              "</style>\n",
              "<table border=\"1\" class=\"dataframe\">\n",
              "  <thead>\n",
              "    <tr style=\"text-align: right;\">\n",
              "      <th></th>\n",
              "      <th>feat</th>\n",
              "      <th>coef</th>\n",
              "    </tr>\n",
              "  </thead>\n",
              "  <tbody>\n",
              "    <tr>\n",
              "      <th>1</th>\n",
              "      <td>NumberOfTime30-59DaysPastDueNotWorse</td>\n",
              "      <td>0.300290</td>\n",
              "    </tr>\n",
              "    <tr>\n",
              "      <th>3</th>\n",
              "      <td>NumberOfTimes90DaysLate</td>\n",
              "      <td>0.278749</td>\n",
              "    </tr>\n",
              "    <tr>\n",
              "      <th>4</th>\n",
              "      <td>NumberOfTime60-89DaysPastDueNotWorse</td>\n",
              "      <td>0.156534</td>\n",
              "    </tr>\n",
              "    <tr>\n",
              "      <th>0</th>\n",
              "      <td>age</td>\n",
              "      <td>0.115860</td>\n",
              "    </tr>\n",
              "    <tr>\n",
              "      <th>2</th>\n",
              "      <td>DebtRatio</td>\n",
              "      <td>0.076082</td>\n",
              "    </tr>\n",
              "    <tr>\n",
              "      <th>5</th>\n",
              "      <td>MonthlyIncome</td>\n",
              "      <td>0.057994</td>\n",
              "    </tr>\n",
              "    <tr>\n",
              "      <th>6</th>\n",
              "      <td>NumberOfDependents</td>\n",
              "      <td>0.014491</td>\n",
              "    </tr>\n",
              "  </tbody>\n",
              "</table>\n",
              "</div>\n",
              "      <button class=\"colab-df-convert\" onclick=\"convertToInteractive('df-e40cd6ca-546f-42b9-991c-087b90e6eb72')\"\n",
              "              title=\"Convert this dataframe to an interactive table.\"\n",
              "              style=\"display:none;\">\n",
              "        \n",
              "  <svg xmlns=\"http://www.w3.org/2000/svg\" height=\"24px\"viewBox=\"0 0 24 24\"\n",
              "       width=\"24px\">\n",
              "    <path d=\"M0 0h24v24H0V0z\" fill=\"none\"/>\n",
              "    <path d=\"M18.56 5.44l.94 2.06.94-2.06 2.06-.94-2.06-.94-.94-2.06-.94 2.06-2.06.94zm-11 1L8.5 8.5l.94-2.06 2.06-.94-2.06-.94L8.5 2.5l-.94 2.06-2.06.94zm10 10l.94 2.06.94-2.06 2.06-.94-2.06-.94-.94-2.06-.94 2.06-2.06.94z\"/><path d=\"M17.41 7.96l-1.37-1.37c-.4-.4-.92-.59-1.43-.59-.52 0-1.04.2-1.43.59L10.3 9.45l-7.72 7.72c-.78.78-.78 2.05 0 2.83L4 21.41c.39.39.9.59 1.41.59.51 0 1.02-.2 1.41-.59l7.78-7.78 2.81-2.81c.8-.78.8-2.07 0-2.86zM5.41 20L4 18.59l7.72-7.72 1.47 1.35L5.41 20z\"/>\n",
              "  </svg>\n",
              "      </button>\n",
              "      \n",
              "  <style>\n",
              "    .colab-df-container {\n",
              "      display:flex;\n",
              "      flex-wrap:wrap;\n",
              "      gap: 12px;\n",
              "    }\n",
              "\n",
              "    .colab-df-convert {\n",
              "      background-color: #E8F0FE;\n",
              "      border: none;\n",
              "      border-radius: 50%;\n",
              "      cursor: pointer;\n",
              "      display: none;\n",
              "      fill: #1967D2;\n",
              "      height: 32px;\n",
              "      padding: 0 0 0 0;\n",
              "      width: 32px;\n",
              "    }\n",
              "\n",
              "    .colab-df-convert:hover {\n",
              "      background-color: #E2EBFA;\n",
              "      box-shadow: 0px 1px 2px rgba(60, 64, 67, 0.3), 0px 1px 3px 1px rgba(60, 64, 67, 0.15);\n",
              "      fill: #174EA6;\n",
              "    }\n",
              "\n",
              "    [theme=dark] .colab-df-convert {\n",
              "      background-color: #3B4455;\n",
              "      fill: #D2E3FC;\n",
              "    }\n",
              "\n",
              "    [theme=dark] .colab-df-convert:hover {\n",
              "      background-color: #434B5C;\n",
              "      box-shadow: 0px 1px 3px 1px rgba(0, 0, 0, 0.15);\n",
              "      filter: drop-shadow(0px 1px 2px rgba(0, 0, 0, 0.3));\n",
              "      fill: #FFFFFF;\n",
              "    }\n",
              "  </style>\n",
              "\n",
              "      <script>\n",
              "        const buttonEl =\n",
              "          document.querySelector('#df-e40cd6ca-546f-42b9-991c-087b90e6eb72 button.colab-df-convert');\n",
              "        buttonEl.style.display =\n",
              "          google.colab.kernel.accessAllowed ? 'block' : 'none';\n",
              "\n",
              "        async function convertToInteractive(key) {\n",
              "          const element = document.querySelector('#df-e40cd6ca-546f-42b9-991c-087b90e6eb72');\n",
              "          const dataTable =\n",
              "            await google.colab.kernel.invokeFunction('convertToInteractive',\n",
              "                                                     [key], {});\n",
              "          if (!dataTable) return;\n",
              "\n",
              "          const docLinkHtml = 'Like what you see? Visit the ' +\n",
              "            '<a target=\"_blank\" href=https://colab.research.google.com/notebooks/data_table.ipynb>data table notebook</a>'\n",
              "            + ' to learn more about interactive tables.';\n",
              "          element.innerHTML = '';\n",
              "          dataTable['output_type'] = 'display_data';\n",
              "          await google.colab.output.renderOutput(dataTable, element);\n",
              "          const docLink = document.createElement('div');\n",
              "          docLink.innerHTML = docLinkHtml;\n",
              "          element.appendChild(docLink);\n",
              "        }\n",
              "      </script>\n",
              "    </div>\n",
              "  </div>\n",
              "  "
            ]
          },
          "metadata": {},
          "execution_count": 128
        }
      ]
    },
    {
      "cell_type": "code",
      "source": [
        "from sklearn.ensemble import BaggingClassifier\n",
        "from sklearn.model_selection import RandomizedSearchCV, cross_val_score\n",
        "\n",
        "parameters = {\n",
        "    \"max_features\": [2, 3, 4],\n",
        "    \"max_samples\": [0.5, 0.7, 0.9],\n",
        "    \"base_estimator__C\": [0.0001, 0.001, 0.01, 1, 10, 100],\n",
        "}"
      ],
      "metadata": {
        "id": "7CvuIA4wsxA5"
      },
      "execution_count": null,
      "outputs": []
    },
    {
      "cell_type": "markdown",
      "source": [
        "Question 11. Fit a bagging classifier with random_state=42. For the base classifiers, use 100 logistic regressors and use RandomizedSearchCV instead of GridSearchCV. It will take a lot of time to iterate over all 54 variants, so set the maximum number of iterations for RandomizedSearchCV to 20. Don’t forget to set the parameters cv and random_state=1. What is the best ROC AUC you achieve?"
      ],
      "metadata": {
        "id": "nQWYGFGps8YY"
      }
    },
    {
      "cell_type": "code",
      "source": [
        "bg = BaggingClassifier(\n",
        "    LogisticRegression(class_weight=\"balanced\"),\n",
        "    n_estimators=100,\n",
        "    n_jobs=-1,\n",
        "    random_state=42,\n",
        ")\n",
        "r_grid_search = RandomizedSearchCV(\n",
        "    bg,\n",
        "    parameters,\n",
        "    n_jobs=-1,\n",
        "    scoring=\"roc_auc\",\n",
        "    cv=skf,\n",
        "    n_iter=20,\n",
        "    random_state=1,\n",
        "    verbose=True,\n",
        ")\n",
        "r_grid_search = r_grid_search.fit(X, y)"
      ],
      "metadata": {
        "colab": {
          "base_uri": "https://localhost:8080/"
        },
        "id": "tCe2WaC6sxGW",
        "outputId": "36a39f40-8e2a-48ca-a54c-bb7efb1bda19"
      },
      "execution_count": null,
      "outputs": [
        {
          "output_type": "stream",
          "name": "stdout",
          "text": [
            "Fitting 5 folds for each of 20 candidates, totalling 100 fits\n"
          ]
        }
      ]
    },
    {
      "cell_type": "code",
      "source": [
        "r_grid_search.best_score_"
      ],
      "metadata": {
        "colab": {
          "base_uri": "https://localhost:8080/"
        },
        "id": "Fc97mtvJsGaN",
        "outputId": "c02a261c-0752-4a86-d03b-33b37365a7aa"
      },
      "execution_count": null,
      "outputs": [
        {
          "output_type": "execute_result",
          "data": {
            "text/plain": [
              "0.8087951623513827"
            ]
          },
          "metadata": {},
          "execution_count": 131
        }
      ]
    },
    {
      "cell_type": "code",
      "source": [],
      "metadata": {
        "id": "T67k4tuT1gRi"
      },
      "execution_count": null,
      "outputs": []
    }
  ]
}